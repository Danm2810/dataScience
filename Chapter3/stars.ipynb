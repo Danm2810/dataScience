{
 "cells": [
  {
   "cell_type": "code",
   "execution_count": 2,
   "id": "b215546c-8108-4e57-9a51-332b3c1f1abf",
   "metadata": {
    "deletable": false,
    "editable": false,
    "nbgrader": {
     "cell_type": "code",
     "checksum": "d5b93e6f822c150cc5ed9dbbfff0d613",
     "grade": false,
     "grade_id": "cell-efb540b4996d939c",
     "locked": true,
     "schema_version": 3,
     "solution": false,
     "task": false
    },
    "tags": []
   },
   "outputs": [],
   "source": [
    "import warnings\n",
    "warnings.simplefilter(action='ignore', category=FutureWarning)\n",
    "warnings.simplefilter(action='ignore', category=DeprecationWarning)\n",
    "\n",
    "import numpy as np\n",
    "import pandas as pd\n",
    "import seaborn as sns"
   ]
  },
  {
   "cell_type": "markdown",
   "id": "70b4f2b7-7b4b-47e7-a16c-665eb2deac98",
   "metadata": {
    "deletable": false,
    "editable": false,
    "nbgrader": {
     "cell_type": "markdown",
     "checksum": "5c8a4fc63f78d4db44a96524056d7ab2",
     "grade": false,
     "grade_id": "cell-ad114a468b2207c0",
     "locked": true,
     "schema_version": 3,
     "solution": false,
     "task": false
    },
    "tags": []
   },
   "source": [
    "In this notebook you will work with astronomical observation data used to classify celestial objects. (Some missing values are given as $-9999$, and those are removed here.)"
   ]
  },
  {
   "cell_type": "code",
   "execution_count": 3,
   "id": "622a6494-82f7-4143-b768-f80094560963",
   "metadata": {
    "deletable": false,
    "editable": false,
    "nbgrader": {
     "cell_type": "code",
     "checksum": "ce16d807edaeb4d8bec86b39b96bec88",
     "grade": false,
     "grade_id": "cell-86a6e543c95c46cd",
     "locked": true,
     "schema_version": 3,
     "solution": false,
     "task": false
    },
    "tags": []
   },
   "outputs": [
    {
     "data": {
      "text/html": [
       "<div>\n",
       "<style scoped>\n",
       "    .dataframe tbody tr th:only-of-type {\n",
       "        vertical-align: middle;\n",
       "    }\n",
       "\n",
       "    .dataframe tbody tr th {\n",
       "        vertical-align: top;\n",
       "    }\n",
       "\n",
       "    .dataframe thead th {\n",
       "        text-align: right;\n",
       "    }\n",
       "</style>\n",
       "<table border=\"1\" class=\"dataframe\">\n",
       "  <thead>\n",
       "    <tr style=\"text-align: right;\">\n",
       "      <th></th>\n",
       "      <th>obj_ID</th>\n",
       "      <th>alpha</th>\n",
       "      <th>delta</th>\n",
       "      <th>u</th>\n",
       "      <th>g</th>\n",
       "      <th>r</th>\n",
       "      <th>i</th>\n",
       "      <th>z</th>\n",
       "      <th>run_ID</th>\n",
       "      <th>rerun_ID</th>\n",
       "      <th>cam_col</th>\n",
       "      <th>field_ID</th>\n",
       "      <th>spec_obj_ID</th>\n",
       "      <th>class</th>\n",
       "      <th>redshift</th>\n",
       "      <th>plate</th>\n",
       "      <th>MJD</th>\n",
       "      <th>fiber_ID</th>\n",
       "    </tr>\n",
       "  </thead>\n",
       "  <tbody>\n",
       "    <tr>\n",
       "      <th>0</th>\n",
       "      <td>1.237661e+18</td>\n",
       "      <td>135.689107</td>\n",
       "      <td>32.494632</td>\n",
       "      <td>23.87882</td>\n",
       "      <td>22.27530</td>\n",
       "      <td>20.39501</td>\n",
       "      <td>19.16573</td>\n",
       "      <td>18.79371</td>\n",
       "      <td>3606</td>\n",
       "      <td>301</td>\n",
       "      <td>2</td>\n",
       "      <td>79</td>\n",
       "      <td>6.543777e+18</td>\n",
       "      <td>GALAXY</td>\n",
       "      <td>0.634794</td>\n",
       "      <td>5812</td>\n",
       "      <td>56354</td>\n",
       "      <td>171</td>\n",
       "    </tr>\n",
       "    <tr>\n",
       "      <th>1</th>\n",
       "      <td>1.237665e+18</td>\n",
       "      <td>144.826101</td>\n",
       "      <td>31.274185</td>\n",
       "      <td>24.77759</td>\n",
       "      <td>22.83188</td>\n",
       "      <td>22.58444</td>\n",
       "      <td>21.16812</td>\n",
       "      <td>21.61427</td>\n",
       "      <td>4518</td>\n",
       "      <td>301</td>\n",
       "      <td>5</td>\n",
       "      <td>119</td>\n",
       "      <td>1.176014e+19</td>\n",
       "      <td>GALAXY</td>\n",
       "      <td>0.779136</td>\n",
       "      <td>10445</td>\n",
       "      <td>58158</td>\n",
       "      <td>427</td>\n",
       "    </tr>\n",
       "    <tr>\n",
       "      <th>2</th>\n",
       "      <td>1.237661e+18</td>\n",
       "      <td>142.188790</td>\n",
       "      <td>35.582444</td>\n",
       "      <td>25.26307</td>\n",
       "      <td>22.66389</td>\n",
       "      <td>20.60976</td>\n",
       "      <td>19.34857</td>\n",
       "      <td>18.94827</td>\n",
       "      <td>3606</td>\n",
       "      <td>301</td>\n",
       "      <td>2</td>\n",
       "      <td>120</td>\n",
       "      <td>5.152200e+18</td>\n",
       "      <td>GALAXY</td>\n",
       "      <td>0.644195</td>\n",
       "      <td>4576</td>\n",
       "      <td>55592</td>\n",
       "      <td>299</td>\n",
       "    </tr>\n",
       "    <tr>\n",
       "      <th>3</th>\n",
       "      <td>1.237663e+18</td>\n",
       "      <td>338.741038</td>\n",
       "      <td>-0.402828</td>\n",
       "      <td>22.13682</td>\n",
       "      <td>23.77656</td>\n",
       "      <td>21.61162</td>\n",
       "      <td>20.50454</td>\n",
       "      <td>19.25010</td>\n",
       "      <td>4192</td>\n",
       "      <td>301</td>\n",
       "      <td>3</td>\n",
       "      <td>214</td>\n",
       "      <td>1.030107e+19</td>\n",
       "      <td>GALAXY</td>\n",
       "      <td>0.932346</td>\n",
       "      <td>9149</td>\n",
       "      <td>58039</td>\n",
       "      <td>775</td>\n",
       "    </tr>\n",
       "    <tr>\n",
       "      <th>4</th>\n",
       "      <td>1.237680e+18</td>\n",
       "      <td>345.282593</td>\n",
       "      <td>21.183866</td>\n",
       "      <td>19.43718</td>\n",
       "      <td>17.58028</td>\n",
       "      <td>16.49747</td>\n",
       "      <td>15.97711</td>\n",
       "      <td>15.54461</td>\n",
       "      <td>8102</td>\n",
       "      <td>301</td>\n",
       "      <td>3</td>\n",
       "      <td>137</td>\n",
       "      <td>6.891865e+18</td>\n",
       "      <td>GALAXY</td>\n",
       "      <td>0.116123</td>\n",
       "      <td>6121</td>\n",
       "      <td>56187</td>\n",
       "      <td>842</td>\n",
       "    </tr>\n",
       "  </tbody>\n",
       "</table>\n",
       "</div>"
      ],
      "text/plain": [
       "         obj_ID       alpha      delta         u         g         r  \\\n",
       "0  1.237661e+18  135.689107  32.494632  23.87882  22.27530  20.39501   \n",
       "1  1.237665e+18  144.826101  31.274185  24.77759  22.83188  22.58444   \n",
       "2  1.237661e+18  142.188790  35.582444  25.26307  22.66389  20.60976   \n",
       "3  1.237663e+18  338.741038  -0.402828  22.13682  23.77656  21.61162   \n",
       "4  1.237680e+18  345.282593  21.183866  19.43718  17.58028  16.49747   \n",
       "\n",
       "          i         z  run_ID  rerun_ID  cam_col  field_ID   spec_obj_ID  \\\n",
       "0  19.16573  18.79371    3606       301        2        79  6.543777e+18   \n",
       "1  21.16812  21.61427    4518       301        5       119  1.176014e+19   \n",
       "2  19.34857  18.94827    3606       301        2       120  5.152200e+18   \n",
       "3  20.50454  19.25010    4192       301        3       214  1.030107e+19   \n",
       "4  15.97711  15.54461    8102       301        3       137  6.891865e+18   \n",
       "\n",
       "    class  redshift  plate    MJD  fiber_ID  \n",
       "0  GALAXY  0.634794   5812  56354       171  \n",
       "1  GALAXY  0.779136  10445  58158       427  \n",
       "2  GALAXY  0.644195   4576  55592       299  \n",
       "3  GALAXY  0.932346   9149  58039       775  \n",
       "4  GALAXY  0.116123   6121  56187       842  "
      ]
     },
     "execution_count": 3,
     "metadata": {},
     "output_type": "execute_result"
    }
   ],
   "source": [
    "astro = pd.read_csv(\"star_classification.csv\")\n",
    "astro.replace(-9999, np.nan, inplace=True)\n",
    "astro.dropna(inplace=True)\n",
    "astro.head()"
   ]
  },
  {
   "cell_type": "markdown",
   "id": "4334b355-0d0a-4a5a-bcc2-6a30e8545102",
   "metadata": {
    "deletable": false,
    "editable": false,
    "nbgrader": {
     "cell_type": "markdown",
     "checksum": "bb68a226fcad88e557e28b505e061280",
     "grade": false,
     "grade_id": "cell-82a99053d82c35d1",
     "locked": true,
     "schema_version": 3,
     "solution": false,
     "task": false
    }
   },
   "source": [
    "## 1.\n",
    "(3.1) Determine how many instances are in the frame for each different label in the *class* column."
   ]
  },
  {
   "cell_type": "code",
   "execution_count": null,
   "id": "c3440299-5fc6-47ba-8e00-3d8ae69dbeec",
   "metadata": {
    "deletable": false,
    "nbgrader": {
     "cell_type": "code",
     "checksum": "1860d52b7ce3c6f2aa0f125bb61246c4",
     "grade": false,
     "grade_id": "counts-answer",
     "locked": false,
     "schema_version": 3,
     "solution": true,
     "task": false
    },
    "tags": []
   },
   "outputs": [
    {
     "name": "stdout",
     "output_type": "stream",
     "text": [
      "class\n",
      "GALAXY    59445\n",
      "STAR      21593\n",
      "QSO       18961\n",
      "Name: count, dtype: int64\n"
     ]
    }
   ],
   "source": [
    "class_counts = None\n",
    "class_counts = astro['class'].value_counts()"
   ]
  },
  {
   "cell_type": "code",
   "execution_count": 6,
   "id": "5c26fd5e-4694-4170-8785-cb57997bfdcb",
   "metadata": {
    "tags": []
   },
   "outputs": [
    {
     "name": "stdout",
     "output_type": "stream",
     "text": [
      "class\n",
      "GALAXY    59445\n",
      "STAR      21593\n",
      "QSO       18961\n",
      "Name: count, dtype: int64\n"
     ]
    }
   ],
   "source": [
    "print(class_counts)"
   ]
  },
  {
   "cell_type": "code",
   "execution_count": 7,
   "id": "a1409320-5042-4a4b-a2a5-0fa5d254ff15",
   "metadata": {
    "deletable": false,
    "editable": false,
    "nbgrader": {
     "cell_type": "code",
     "checksum": "704e0277cbe4dba5518c885637b77030",
     "grade": true,
     "grade_id": "counts-test",
     "locked": true,
     "points": 2,
     "schema_version": 3,
     "solution": false,
     "task": false
    },
    "tags": []
   },
   "outputs": [
    {
     "name": "stdout",
     "output_type": "stream",
     "text": [
      "OK\n"
     ]
    }
   ],
   "source": [
    "# TESTS\n",
    "assert type(class_counts) == pd.Series, \"result must be a series\"\n",
    "assert len(class_counts) == 3, \"wrong length\"\n",
    "assert class_counts.sum() == len(astro[\"class\"]), \"wrong values\"\n",
    "print(\"OK\")"
   ]
  },
  {
   "cell_type": "code",
   "execution_count": null,
   "id": "06e38a46-5ccd-483d-9db5-38b46dbc0ab8",
   "metadata": {
    "deletable": false,
    "editable": false,
    "nbgrader": {
     "cell_type": "code",
     "checksum": "dd4e09207fbd9c69cece0e838e37107b",
     "grade": true,
     "grade_id": "counts-grade",
     "locked": true,
     "points": 2,
     "schema_version": 3,
     "solution": false,
     "task": false
    }
   },
   "outputs": [],
   "source": [
    "# Intentionally left blank--do not delete"
   ]
  },
  {
   "cell_type": "markdown",
   "id": "7629ebce-05cb-4fdd-b076-1a120bb2c69d",
   "metadata": {
    "deletable": false,
    "editable": false,
    "nbgrader": {
     "cell_type": "markdown",
     "checksum": "cb455c393a44927670fab690faf0f085",
     "grade": false,
     "grade_id": "cell-f102c2aa65cc94fe",
     "locked": true,
     "schema_version": 3,
     "solution": false,
     "task": false
    }
   },
   "source": [
    "## 2.\n",
    "(3.1) Let `X` be a subset frame with the columns named *u*, *g*, *r*, *i*, *z*. Let `y` be the column *class*."
   ]
  },
  {
   "cell_type": "code",
   "execution_count": 10,
   "id": "ac43e13a-e12c-4986-8f0a-32f23441aa88",
   "metadata": {
    "deletable": false,
    "nbgrader": {
     "cell_type": "code",
     "checksum": "3bf02f4d5a0b643f2381a5f3d568e867",
     "grade": false,
     "grade_id": "xy-answer",
     "locked": false,
     "schema_version": 3,
     "solution": true,
     "task": false
    },
    "tags": []
   },
   "outputs": [],
   "source": [
    "X = None\n",
    "y = None\n",
    "\n",
    "features = [\"u\", \"g\", \"r\", \"i\", \"z\"]\n",
    "\n",
    "X = astro[features]\n",
    "y = astro[\"class\"]\n"
   ]
  },
  {
   "cell_type": "code",
   "execution_count": 15,
   "id": "7c697e91-5fef-4825-91b9-52bfe821a40e",
   "metadata": {
    "tags": []
   },
   "outputs": [
    {
     "data": {
      "text/html": [
       "<div>\n",
       "<style scoped>\n",
       "    .dataframe tbody tr th:only-of-type {\n",
       "        vertical-align: middle;\n",
       "    }\n",
       "\n",
       "    .dataframe tbody tr th {\n",
       "        vertical-align: top;\n",
       "    }\n",
       "\n",
       "    .dataframe thead th {\n",
       "        text-align: right;\n",
       "    }\n",
       "</style>\n",
       "<table border=\"1\" class=\"dataframe\">\n",
       "  <thead>\n",
       "    <tr style=\"text-align: right;\">\n",
       "      <th></th>\n",
       "      <th>u</th>\n",
       "      <th>g</th>\n",
       "      <th>r</th>\n",
       "      <th>i</th>\n",
       "      <th>z</th>\n",
       "    </tr>\n",
       "  </thead>\n",
       "  <tbody>\n",
       "    <tr>\n",
       "      <th>0</th>\n",
       "      <td>23.87882</td>\n",
       "      <td>22.27530</td>\n",
       "      <td>20.39501</td>\n",
       "      <td>19.16573</td>\n",
       "      <td>18.79371</td>\n",
       "    </tr>\n",
       "    <tr>\n",
       "      <th>1</th>\n",
       "      <td>24.77759</td>\n",
       "      <td>22.83188</td>\n",
       "      <td>22.58444</td>\n",
       "      <td>21.16812</td>\n",
       "      <td>21.61427</td>\n",
       "    </tr>\n",
       "    <tr>\n",
       "      <th>2</th>\n",
       "      <td>25.26307</td>\n",
       "      <td>22.66389</td>\n",
       "      <td>20.60976</td>\n",
       "      <td>19.34857</td>\n",
       "      <td>18.94827</td>\n",
       "    </tr>\n",
       "    <tr>\n",
       "      <th>3</th>\n",
       "      <td>22.13682</td>\n",
       "      <td>23.77656</td>\n",
       "      <td>21.61162</td>\n",
       "      <td>20.50454</td>\n",
       "      <td>19.25010</td>\n",
       "    </tr>\n",
       "    <tr>\n",
       "      <th>4</th>\n",
       "      <td>19.43718</td>\n",
       "      <td>17.58028</td>\n",
       "      <td>16.49747</td>\n",
       "      <td>15.97711</td>\n",
       "      <td>15.54461</td>\n",
       "    </tr>\n",
       "    <tr>\n",
       "      <th>5</th>\n",
       "      <td>23.48827</td>\n",
       "      <td>23.33776</td>\n",
       "      <td>21.32195</td>\n",
       "      <td>20.25615</td>\n",
       "      <td>19.54544</td>\n",
       "    </tr>\n",
       "    <tr>\n",
       "      <th>6</th>\n",
       "      <td>21.46973</td>\n",
       "      <td>21.17624</td>\n",
       "      <td>20.92829</td>\n",
       "      <td>20.60826</td>\n",
       "      <td>20.42573</td>\n",
       "    </tr>\n",
       "  </tbody>\n",
       "</table>\n",
       "</div>"
      ],
      "text/plain": [
       "          u         g         r         i         z\n",
       "0  23.87882  22.27530  20.39501  19.16573  18.79371\n",
       "1  24.77759  22.83188  22.58444  21.16812  21.61427\n",
       "2  25.26307  22.66389  20.60976  19.34857  18.94827\n",
       "3  22.13682  23.77656  21.61162  20.50454  19.25010\n",
       "4  19.43718  17.58028  16.49747  15.97711  15.54461\n",
       "5  23.48827  23.33776  21.32195  20.25615  19.54544\n",
       "6  21.46973  21.17624  20.92829  20.60826  20.42573"
      ]
     },
     "execution_count": 15,
     "metadata": {},
     "output_type": "execute_result"
    }
   ],
   "source": [
    "X.head(7)"
   ]
  },
  {
   "cell_type": "code",
   "execution_count": 12,
   "id": "f25de055-fd8e-4468-a9ee-ae13af5b91c7",
   "metadata": {
    "tags": []
   },
   "outputs": [
    {
     "data": {
      "text/plain": [
       "0    GALAXY\n",
       "1    GALAXY\n",
       "2    GALAXY\n",
       "3    GALAXY\n",
       "4    GALAXY\n",
       "5       QSO\n",
       "6       QSO\n",
       "Name: class, dtype: object"
      ]
     },
     "execution_count": 12,
     "metadata": {},
     "output_type": "execute_result"
    }
   ],
   "source": [
    "y.head(7)"
   ]
  },
  {
   "cell_type": "code",
   "execution_count": 16,
   "id": "204c81c9-5424-49bc-91a0-a26e80316b49",
   "metadata": {
    "deletable": false,
    "editable": false,
    "nbgrader": {
     "cell_type": "code",
     "checksum": "9cff4da4ea175d24ff6d03674c5a0b46",
     "grade": true,
     "grade_id": "xy-test",
     "locked": true,
     "points": 0,
     "schema_version": 3,
     "solution": false,
     "task": false
    },
    "tags": []
   },
   "outputs": [
    {
     "name": "stdout",
     "output_type": "stream",
     "text": [
      "OK\n"
     ]
    }
   ],
   "source": [
    "# TESTS\n",
    "assert type(X)==pd.DataFrame, \"result must be a frame\"\n",
    "assert X.shape[1]==5, \"result must have 5 columns\"\n",
    "print(\"OK\")"
   ]
  },
  {
   "cell_type": "code",
   "execution_count": null,
   "id": "ef2f4162-297b-4aea-b54f-a8d8c3f78654",
   "metadata": {
    "deletable": false,
    "editable": false,
    "nbgrader": {
     "cell_type": "code",
     "checksum": "50176d2e270532273b8694e4ddbdc5aa",
     "grade": true,
     "grade_id": "xy-grade",
     "locked": true,
     "points": 2,
     "schema_version": 3,
     "solution": false,
     "task": false
    }
   },
   "outputs": [],
   "source": [
    "# Intentionally left blank--do not delete"
   ]
  },
  {
   "cell_type": "markdown",
   "id": "584e024c-f64f-44bc-be86-18e106b1ab1e",
   "metadata": {
    "deletable": false,
    "editable": false,
    "nbgrader": {
     "cell_type": "markdown",
     "checksum": "2cef2e95a4d0dec40de8fe2c47af9e8e",
     "grade": false,
     "grade_id": "cell-da034a2f7c8904ce",
     "locked": true,
     "schema_version": 3,
     "solution": false,
     "task": false
    }
   },
   "source": [
    "## 3.\n",
    "(3.4) Each row of `X` is a 5-dimensional vector. Let `v` be the difference between the second row and the first row of `X`. Find the 1-norm and 2-norm of `v`."
   ]
  },
  {
   "cell_type": "code",
   "execution_count": 17,
   "id": "080d2604-84a8-48ba-b01d-9a87c45c3eef",
   "metadata": {
    "deletable": false,
    "nbgrader": {
     "cell_type": "code",
     "checksum": "2aa9f862a5fc4accb45fa234bcf1c728",
     "grade": false,
     "grade_id": "norm-answer",
     "locked": false,
     "schema_version": 3,
     "solution": true,
     "task": false
    },
    "tags": []
   },
   "outputs": [
    {
     "name": "stdout",
     "output_type": "stream",
     "text": [
      "8.46773\n",
      "4.228037010233\n"
     ]
    }
   ],
   "source": [
    "one_norm, two_norm = None, None\n",
    "\n",
    "v = x.iloc[1]-x.iloc[0] \n",
    "\n",
    "v_norm_1 = np.linalg.norm(v, ord=1)\n",
    "v_norm_2 = np.linalg.norm(v, ord=2)\n",
    "\n",
    "one_norm = v_norm_1\n",
    "two_norm = v_norm_2\n",
    "\n",
    "\n",
    "print(one_norm)\n",
    "print(two_norm)"
   ]
  },
  {
   "cell_type": "code",
   "execution_count": 19,
   "id": "44e67993-c699-495d-9aec-31dc9d28c69c",
   "metadata": {
    "tags": []
   },
   "outputs": [
    {
     "name": "stdout",
     "output_type": "stream",
     "text": [
      "Vector has 2-norm 4.22804 and 1-norm 8.46773.\n"
     ]
    }
   ],
   "source": [
    "print(f\"Vector has 2-norm {two_norm:.5f} and 1-norm {one_norm:.5f}.\")"
   ]
  },
  {
   "cell_type": "code",
   "execution_count": 18,
   "id": "b21a6fde-82e2-4965-bd98-c6369cde75ef",
   "metadata": {
    "deletable": false,
    "editable": false,
    "nbgrader": {
     "cell_type": "code",
     "checksum": "b3efae3f5472f3c5a0e9d33fc51fa62f",
     "grade": true,
     "grade_id": "norm-test",
     "locked": true,
     "points": 1,
     "schema_version": 3,
     "solution": false,
     "task": false
    },
    "tags": []
   },
   "outputs": [
    {
     "name": "stdout",
     "output_type": "stream",
     "text": [
      "OK\n"
     ]
    }
   ],
   "source": [
    "# TESTS\n",
    "assert 4 < two_norm < 5, \"wrong value\"\n",
    "assert 8 < one_norm < 9, \"wrong value\"\n",
    "print(\"OK\")"
   ]
  },
  {
   "cell_type": "markdown",
   "id": "9b039e7b-3056-413f-ae9f-f1fea53686e0",
   "metadata": {
    "deletable": false,
    "editable": false,
    "nbgrader": {
     "cell_type": "markdown",
     "checksum": "0b88a8a1c1b46f496159b616bd0915a3",
     "grade": false,
     "grade_id": "cell-23f4c6f4dc90848e",
     "locked": true,
     "schema_version": 3,
     "solution": false,
     "task": false
    }
   },
   "source": [
    "## 4.\n",
    "(3.2) Split the data into training set `X_train,y_train` with 80% of the data, and `X_test,y_test` for testing. \n",
    "\n",
    "**IMPORTANT**: Make sure the split order is randomized starting from random state 3383."
   ]
  },
  {
   "cell_type": "code",
   "execution_count": 21,
   "id": "8132307e-f69d-44a2-aa52-cf1909cc6f49",
   "metadata": {
    "deletable": false,
    "nbgrader": {
     "cell_type": "code",
     "checksum": "ecb513a9bdc2305a065de2068b30cf62",
     "grade": false,
     "grade_id": "split-answer",
     "locked": false,
     "schema_version": 3,
     "solution": true,
     "task": false
    },
    "tags": []
   },
   "outputs": [],
   "source": [
    "X_train, y_train, X_test, y_test = None,None,None,None\n",
    "\n",
    "from sklearn.model_selection import train_test_split\n",
    "\n",
    "X_train, X_test, y_train, y_test = train_test_split(X, y, test_size=0.2, shuffle=True, random_state=3383)"
   ]
  },
  {
   "cell_type": "code",
   "execution_count": 22,
   "id": "ac2c76a2-08d6-4706-8b34-65a81abc1813",
   "metadata": {
    "tags": []
   },
   "outputs": [
    {
     "data": {
      "text/html": [
       "<div>\n",
       "<style scoped>\n",
       "    .dataframe tbody tr th:only-of-type {\n",
       "        vertical-align: middle;\n",
       "    }\n",
       "\n",
       "    .dataframe tbody tr th {\n",
       "        vertical-align: top;\n",
       "    }\n",
       "\n",
       "    .dataframe thead th {\n",
       "        text-align: right;\n",
       "    }\n",
       "</style>\n",
       "<table border=\"1\" class=\"dataframe\">\n",
       "  <thead>\n",
       "    <tr style=\"text-align: right;\">\n",
       "      <th></th>\n",
       "      <th>u</th>\n",
       "      <th>g</th>\n",
       "      <th>r</th>\n",
       "      <th>i</th>\n",
       "      <th>z</th>\n",
       "    </tr>\n",
       "  </thead>\n",
       "  <tbody>\n",
       "    <tr>\n",
       "      <th>75246</th>\n",
       "      <td>22.41440</td>\n",
       "      <td>21.55760</td>\n",
       "      <td>20.49684</td>\n",
       "      <td>19.65604</td>\n",
       "      <td>19.20274</td>\n",
       "    </tr>\n",
       "    <tr>\n",
       "      <th>67673</th>\n",
       "      <td>24.40962</td>\n",
       "      <td>22.67290</td>\n",
       "      <td>21.06712</td>\n",
       "      <td>19.67476</td>\n",
       "      <td>19.13970</td>\n",
       "    </tr>\n",
       "    <tr>\n",
       "      <th>42686</th>\n",
       "      <td>23.00664</td>\n",
       "      <td>23.84709</td>\n",
       "      <td>21.80138</td>\n",
       "      <td>20.43518</td>\n",
       "      <td>19.78358</td>\n",
       "    </tr>\n",
       "    <tr>\n",
       "      <th>84920</th>\n",
       "      <td>26.65251</td>\n",
       "      <td>22.74168</td>\n",
       "      <td>21.02623</td>\n",
       "      <td>19.81380</td>\n",
       "      <td>19.29055</td>\n",
       "    </tr>\n",
       "    <tr>\n",
       "      <th>41494</th>\n",
       "      <td>20.44297</td>\n",
       "      <td>18.69604</td>\n",
       "      <td>17.53594</td>\n",
       "      <td>17.07274</td>\n",
       "      <td>16.71922</td>\n",
       "    </tr>\n",
       "  </tbody>\n",
       "</table>\n",
       "</div>"
      ],
      "text/plain": [
       "              u         g         r         i         z\n",
       "75246  22.41440  21.55760  20.49684  19.65604  19.20274\n",
       "67673  24.40962  22.67290  21.06712  19.67476  19.13970\n",
       "42686  23.00664  23.84709  21.80138  20.43518  19.78358\n",
       "84920  26.65251  22.74168  21.02623  19.81380  19.29055\n",
       "41494  20.44297  18.69604  17.53594  17.07274  16.71922"
      ]
     },
     "execution_count": 22,
     "metadata": {},
     "output_type": "execute_result"
    }
   ],
   "source": [
    "X_train.head()"
   ]
  },
  {
   "cell_type": "code",
   "execution_count": 23,
   "id": "cff0aff0-8de9-41fb-950a-55289c838289",
   "metadata": {
    "tags": []
   },
   "outputs": [
    {
     "data": {
      "text/html": [
       "<div>\n",
       "<style scoped>\n",
       "    .dataframe tbody tr th:only-of-type {\n",
       "        vertical-align: middle;\n",
       "    }\n",
       "\n",
       "    .dataframe tbody tr th {\n",
       "        vertical-align: top;\n",
       "    }\n",
       "\n",
       "    .dataframe thead th {\n",
       "        text-align: right;\n",
       "    }\n",
       "</style>\n",
       "<table border=\"1\" class=\"dataframe\">\n",
       "  <thead>\n",
       "    <tr style=\"text-align: right;\">\n",
       "      <th></th>\n",
       "      <th>u</th>\n",
       "      <th>g</th>\n",
       "      <th>r</th>\n",
       "      <th>i</th>\n",
       "      <th>z</th>\n",
       "    </tr>\n",
       "  </thead>\n",
       "  <tbody>\n",
       "    <tr>\n",
       "      <th>83377</th>\n",
       "      <td>23.42178</td>\n",
       "      <td>21.41524</td>\n",
       "      <td>20.14865</td>\n",
       "      <td>18.87432</td>\n",
       "      <td>18.21298</td>\n",
       "    </tr>\n",
       "    <tr>\n",
       "      <th>9869</th>\n",
       "      <td>22.26999</td>\n",
       "      <td>22.35811</td>\n",
       "      <td>21.58266</td>\n",
       "      <td>21.64061</td>\n",
       "      <td>22.07717</td>\n",
       "    </tr>\n",
       "    <tr>\n",
       "      <th>92816</th>\n",
       "      <td>21.89207</td>\n",
       "      <td>19.80794</td>\n",
       "      <td>19.44393</td>\n",
       "      <td>19.32646</td>\n",
       "      <td>19.24478</td>\n",
       "    </tr>\n",
       "    <tr>\n",
       "      <th>64068</th>\n",
       "      <td>22.40285</td>\n",
       "      <td>22.10943</td>\n",
       "      <td>22.04930</td>\n",
       "      <td>21.72133</td>\n",
       "      <td>21.52669</td>\n",
       "    </tr>\n",
       "    <tr>\n",
       "      <th>75158</th>\n",
       "      <td>25.13951</td>\n",
       "      <td>22.50673</td>\n",
       "      <td>20.70473</td>\n",
       "      <td>19.73078</td>\n",
       "      <td>19.31687</td>\n",
       "    </tr>\n",
       "  </tbody>\n",
       "</table>\n",
       "</div>"
      ],
      "text/plain": [
       "              u         g         r         i         z\n",
       "83377  23.42178  21.41524  20.14865  18.87432  18.21298\n",
       "9869   22.26999  22.35811  21.58266  21.64061  22.07717\n",
       "92816  21.89207  19.80794  19.44393  19.32646  19.24478\n",
       "64068  22.40285  22.10943  22.04930  21.72133  21.52669\n",
       "75158  25.13951  22.50673  20.70473  19.73078  19.31687"
      ]
     },
     "execution_count": 23,
     "metadata": {},
     "output_type": "execute_result"
    }
   ],
   "source": [
    "X_test.head()"
   ]
  },
  {
   "cell_type": "code",
   "execution_count": 25,
   "id": "bfa8115c-5942-481c-b79a-71b5d53eebf1",
   "metadata": {
    "deletable": false,
    "editable": false,
    "nbgrader": {
     "cell_type": "code",
     "checksum": "45d8b07244449ee43880b4ff8ac14da1",
     "grade": true,
     "grade_id": "split-points",
     "locked": true,
     "points": 2,
     "schema_version": 3,
     "solution": false,
     "task": false
    },
    "tags": []
   },
   "outputs": [
    {
     "name": "stdout",
     "output_type": "stream",
     "text": [
      "OK\n"
     ]
    }
   ],
   "source": [
    "# TESTS\n",
    "assert np.isclose( X_train[\"u\"].sum(), 1766124 ), \"wrong rows in training features\"\n",
    "assert (y_test==\"GALAXY\").sum() == 11999, \"wrong rows in test labels\"\n",
    "print(\"OK\")"
   ]
  },
  {
   "cell_type": "markdown",
   "id": "7a15f99f-e305-4765-9c5e-22b86edc0d3e",
   "metadata": {
    "deletable": false,
    "editable": false,
    "nbgrader": {
     "cell_type": "markdown",
     "checksum": "2589dec8fd989e66949271154225e403",
     "grade": false,
     "grade_id": "cell-ea9c35c2b927d772",
     "locked": true,
     "schema_version": 3,
     "solution": false,
     "task": false
    }
   },
   "source": [
    "## 5.\n",
    "(3.4) Train a kNN classifier with $k=11$ neighbors on the training set. Find its $F_1$ score on the test set using `\"macro\"` averaging."
   ]
  },
  {
   "cell_type": "code",
   "execution_count": null,
   "id": "980c199d-c308-4ae2-bb82-13f41d6472c5",
   "metadata": {
    "deletable": false,
    "nbgrader": {
     "cell_type": "code",
     "checksum": "9187a19739adcfc8d0721928f18215d8",
     "grade": false,
     "grade_id": "knn-answer",
     "locked": false,
     "schema_version": 3,
     "solution": true,
     "task": false
    },
    "tags": []
   },
   "outputs": [
    {
     "name": "stdout",
     "output_type": "stream",
     "text": [
      "0.8301724266568452\n"
     ]
    }
   ],
   "source": [
    "from sklearn.neighbors import KNeighborsClassifier\n",
    "from sklearn.metrics import f1_score\n",
    "\n",
    "knn = KNeighborsClassifier(n_neighbors=11)\n",
    "\n",
    "knn.fit(X_train, y_train)\n",
    "\n",
    "yhat = knn.predict(X_test)\n",
    "\n",
    "knn_f1 = f1_score(y_test, yhat, average=\"macro\")\n",
    "\n",
    "print(knn_f1)\n"
   ]
  },
  {
   "cell_type": "code",
   "execution_count": 28,
   "id": "6ef13d7e-dce9-499b-ad19-676865994dce",
   "metadata": {
    "tags": []
   },
   "outputs": [
    {
     "name": "stdout",
     "output_type": "stream",
     "text": [
      "F1 score for knn = 0.830172\n"
     ]
    }
   ],
   "source": [
    "print(f\"F1 score for knn = {knn_f1:.6f}\")"
   ]
  },
  {
   "cell_type": "code",
   "execution_count": 27,
   "id": "4c422bb4-a3b0-4567-afe5-f08345c065eb",
   "metadata": {
    "deletable": false,
    "editable": false,
    "nbgrader": {
     "cell_type": "code",
     "checksum": "31a50ccb9bda6eb03960bf9fa5b35316",
     "grade": true,
     "grade_id": "knn-test",
     "locked": true,
     "points": 1,
     "schema_version": 3,
     "solution": false,
     "task": false
    },
    "tags": []
   },
   "outputs": [
    {
     "name": "stdout",
     "output_type": "stream",
     "text": [
      "OK\n"
     ]
    }
   ],
   "source": [
    "# TESTS\n",
    "assert 0.77 < knn_f1 < 0.85, \"wrong value\"\n",
    "print(\"OK\")"
   ]
  },
  {
   "cell_type": "code",
   "execution_count": null,
   "id": "3528cd3c-460b-4c3c-819d-e74e0e6ad727",
   "metadata": {
    "deletable": false,
    "editable": false,
    "nbgrader": {
     "cell_type": "code",
     "checksum": "1f6f6c684517595623859b8b17bd3e39",
     "grade": true,
     "grade_id": "knn-grade",
     "locked": true,
     "points": 3,
     "schema_version": 3,
     "solution": false,
     "task": false
    }
   },
   "outputs": [],
   "source": [
    "# Intentionally left blank--do not delete"
   ]
  },
  {
   "cell_type": "markdown",
   "id": "bddfcc56-9e60-4fc5-b2ec-fb84ff203942",
   "metadata": {
    "deletable": false,
    "editable": false,
    "nbgrader": {
     "cell_type": "markdown",
     "checksum": "09ad1dd9af07ec243060d6842fba77a6",
     "grade": false,
     "grade_id": "cell-32c272f74ced31bd",
     "locked": true,
     "schema_version": 3,
     "solution": false,
     "task": false
    }
   },
   "source": [
    "## 6.\n",
    "(3.4) Display (as a plot) the confusion matrix on the test set for the classifier trained in step 5."
   ]
  },
  {
   "cell_type": "code",
   "execution_count": null,
   "id": "fb788a2e-f15b-4e67-bab6-c70d1b36628c",
   "metadata": {
    "deletable": false,
    "nbgrader": {
     "cell_type": "code",
     "checksum": "7691267643b9d7674b3cf316af876ce5",
     "grade": true,
     "grade_id": "confusion-manual",
     "locked": false,
     "points": 4,
     "schema_version": 3,
     "solution": true,
     "task": false
    },
    "tags": []
   },
   "outputs": [
    {
     "data": {
      "image/png": "[encoded data removed]",
      "text/plain": [
       "<Figure size 640x480 with 2 Axes>"
      ]
     },
     "metadata": {},
     "output_type": "display_data"
    }
   ],
   "source": [
    "import sklearn\n",
    "from sklearn.metrics import confusion_matrix, ConfusionMatrixDisplay\n",
    "\n",
    "C = confusion_matrix(y_test, yhat)\n",
    "\n",
    "cm_display = ConfusionMatrixDisplay(confusion_matrix=C, display_labels=knn.classes_)\n",
    "\n",
    "cm_display.plot(cmap='Blues', values_format='d')\n",
    "\n",
    "import matplotlib.pyplot as plt\n",
    "plt.show()\n"
   ]
  },
  {
   "cell_type": "markdown",
   "id": "08ee6559-d238-4184-9846-bc25bb3f7bc3",
   "metadata": {
    "deletable": false,
    "editable": false,
    "nbgrader": {
     "cell_type": "markdown",
     "checksum": "04e8f7aa94336b762a2189e7d1cdb873",
     "grade": false,
     "grade_id": "cell-0741bc70803f97ea",
     "locked": true,
     "schema_version": 3,
     "solution": false,
     "task": false
    }
   },
   "source": [
    "## 7. \n",
    "(3.4) Repeat step 5 with a pipeline that adds a standardization scaler before the kNN classifier. (There will not be much change, since the original columns have similar summary statistics.)"
   ]
  },
  {
   "cell_type": "code",
   "execution_count": null,
   "id": "a0e32d55-b4ad-4991-bdb2-71046c3cd67f",
   "metadata": {
    "deletable": false,
    "nbgrader": {
     "cell_type": "code",
     "checksum": "d3c5b8efe43810255e584b1e5e702575",
     "grade": false,
     "grade_id": "pipe-answer",
     "locked": false,
     "schema_version": 3,
     "solution": true,
     "task": false
    },
    "tags": []
   },
   "outputs": [
    {
     "name": "stdout",
     "output_type": "stream",
     "text": [
      "0.8326145891487248\n"
     ]
    }
   ],
   "source": [
    "from sklearn.pipeline import Pipeline\n",
    "from sklearn.preprocessing import StandardScaler\n",
    "from sklearn.neighbors import KNeighborsClassifier\n",
    "from sklearn.metrics import f1_score\n",
    "\n",
    "pipe = Pipeline([\n",
    "    ('scaler', StandardScaler()),  \n",
    "    ('knn', KNeighborsClassifier(n_neighbors=11)) \n",
    "])\n",
    "\n",
    "pipe.fit(X_train, y_train)\n",
    "\n",
    "yhat = pipe.predict(X_test)\n",
    "\n",
    "pipe_f1 = f1_score(y_test, yhat, average=\"macro\")\n",
    "\n",
    "print(pipe_f1)\n"
   ]
  },
  {
   "cell_type": "code",
   "execution_count": 31,
   "id": "0ddb4a39-510b-46f4-b05f-411109d3739c",
   "metadata": {
    "tags": []
   },
   "outputs": [
    {
     "name": "stdout",
     "output_type": "stream",
     "text": [
      "F1 score for pipeline = 0.832615\n"
     ]
    }
   ],
   "source": [
    "print(f\"F1 score for pipeline = {pipe_f1:.6f}\")"
   ]
  },
  {
   "cell_type": "code",
   "execution_count": 32,
   "id": "08eb423b-f3c2-4f83-8a41-91caea6f40cb",
   "metadata": {
    "deletable": false,
    "editable": false,
    "nbgrader": {
     "cell_type": "code",
     "checksum": "e2163c70324faa101967a8e77d472821",
     "grade": true,
     "grade_id": "pipe-test",
     "locked": true,
     "points": 1,
     "schema_version": 3,
     "solution": false,
     "task": false
    },
    "tags": []
   },
   "outputs": [
    {
     "name": "stdout",
     "output_type": "stream",
     "text": [
      "OK\n"
     ]
    }
   ],
   "source": [
    "# TESTS\n",
    "assert 0.8 < pipe_f1 < 0.85, \"wrong value\"\n",
    "print(\"OK\")"
   ]
  },
  {
   "cell_type": "code",
   "execution_count": null,
   "id": "ca087db9-cff2-4faf-9cee-969801735bbb",
   "metadata": {
    "deletable": false,
    "editable": false,
    "nbgrader": {
     "cell_type": "code",
     "checksum": "65bd1a18129e172ca66ba2dc99800b36",
     "grade": true,
     "grade_id": "pipe-grade",
     "locked": true,
     "points": 3,
     "schema_version": 3,
     "solution": false,
     "task": false
    }
   },
   "outputs": [],
   "source": [
    "# Intentionally left blank--do not delete"
   ]
  },
  {
   "cell_type": "markdown",
   "id": "f0520a46-964b-4eec-bb72-f6fd77da5d7b",
   "metadata": {
    "deletable": false,
    "editable": false,
    "nbgrader": {
     "cell_type": "markdown",
     "checksum": "1f1048de1216b345040eea18f57cc24f",
     "grade": false,
     "grade_id": "cell-9057060d6ffec149",
     "locked": true,
     "schema_version": 3,
     "solution": false,
     "task": false
    }
   },
   "source": [
    "## 8. \n",
    "(3.4) Retrain the pipeline from step 7 starting with a feature frame `X` that also includes the *redshift* column. Display the confusion matrix on the test set."
   ]
  },
  {
   "cell_type": "code",
   "execution_count": 38,
   "id": "b1d02c5c-a0c2-4b8f-9a42-ec956184dd3c",
   "metadata": {
    "deletable": false,
    "nbgrader": {
     "cell_type": "code",
     "checksum": "04c586d44880bdab4bb65cb9715610fd",
     "grade": true,
     "grade_id": "retrain-confusion",
     "locked": false,
     "points": 4,
     "schema_version": 3,
     "solution": true,
     "task": false
    },
    "tags": []
   },
   "outputs": [
    {
     "data": {
      "image/png": "[encoded data removed]",
      "text/plain": [
       "<Figure size 640x480 with 2 Axes>"
      ]
     },
     "metadata": {},
     "output_type": "display_data"
    }
   ],
   "source": [
    "from sklearn.pipeline import Pipeline\n",
    "from sklearn.preprocessing import StandardScaler\n",
    "from sklearn.neighbors import KNeighborsClassifier\n",
    "from sklearn.metrics import confusion_matrix, ConfusionMatrixDisplay\n",
    "import matplotlib.pyplot as plt\n",
    "from sklearn.model_selection import train_test_split\n",
    "\n",
    "features_with_redshift = [\"u\", \"g\", \"r\", \"i\", \"z\", \"redshift\"]\n",
    "\n",
    "X_with_redshift = astro[features_with_redshift]\n",
    "\n",
    "y = astro[\"class\"]\n",
    "\n",
    "X_train, X_test, y_train, y_test = train_test_split(X_with_redshift, y, test_size=0.2, shuffle=True, random_state=3383)\n",
    "\n",
    "pipe = Pipeline([\n",
    "    ('scaler', StandardScaler()),  \n",
    "    ('knn', KNeighborsClassifier(n_neighbors=11))  \n",
    "])\n",
    "\n",
    "pipe.fit(X_train, y_train)\n",
    "\n",
    "yhat = pipe.predict(X_test)\n",
    "\n",
    "C = confusion_matrix(y_test, yhat)\n",
    "\n",
    "cm_display = ConfusionMatrixDisplay(confusion_matrix=C, display_labels=pipe.classes_)\n",
    "\n",
    "cm_display.plot(cmap='Blues', values_format='d')\n",
    "\n",
    "plt.show()\n"
   ]
  },
  {
   "cell_type": "code",
   "execution_count": 35,
   "id": "44e156a1",
   "metadata": {},
   "outputs": [
    {
     "name": "stdout",
     "output_type": "stream",
     "text": [
      "Index(['u', 'g', 'r', 'i', 'z'], dtype='object')\n"
     ]
    }
   ],
   "source": [
    "print(X_train.columns)\n"
   ]
  },
  {
   "cell_type": "code",
   "execution_count": 36,
   "id": "81a2e7cf",
   "metadata": {},
   "outputs": [
    {
     "name": "stdout",
     "output_type": "stream",
     "text": [
      "Index(['obj_ID', 'alpha', 'delta', 'u', 'g', 'r', 'i', 'z', 'run_ID',\n",
      "       'rerun_ID', 'cam_col', 'field_ID', 'spec_obj_ID', 'class', 'redshift',\n",
      "       'plate', 'MJD', 'fiber_ID'],\n",
      "      dtype='object')\n"
     ]
    }
   ],
   "source": [
    "print(astro.columns)\n"
   ]
  }
 ],
 "metadata": {
  "kernelspec": {
   "display_name": "Python 3",
   "language": "python",
   "name": "python3"
  },
  "language_info": {
   "codemirror_mode": {
    "name": "ipython",
    "version": 3
   },
   "file_extension": ".py",
   "mimetype": "text/x-python",
   "name": "python",
   "nbconvert_exporter": "python",
   "pygments_lexer": "ipython3",
   "version": "3.12.1"
  }
 },
 "nbformat": 4,
 "nbformat_minor": 5
}
