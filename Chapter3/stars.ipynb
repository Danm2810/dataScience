{
 "cells": [
  {
   "cell_type": "code",
   "execution_count": null,
   "id": "b215546c-8108-4e57-9a51-332b3c1f1abf",
   "metadata": {
    "deletable": false,
    "editable": false,
    "nbgrader": {
     "cell_type": "code",
     "checksum": "d5b93e6f822c150cc5ed9dbbfff0d613",
     "grade": false,
     "grade_id": "cell-efb540b4996d939c",
     "locked": true,
     "schema_version": 3,
     "solution": false,
     "task": false
    },
    "tags": []
   },
   "outputs": [],
   "source": [
    "import warnings\n",
    "warnings.simplefilter(action='ignore', category=FutureWarning)\n",
    "warnings.simplefilter(action='ignore', category=DeprecationWarning)\n",
    "\n",
    "import numpy as np\n",
    "import pandas as pd\n",
    "import seaborn as sns"
   ]
  },
  {
   "cell_type": "markdown",
   "id": "70b4f2b7-7b4b-47e7-a16c-665eb2deac98",
   "metadata": {
    "deletable": false,
    "editable": false,
    "nbgrader": {
     "cell_type": "markdown",
     "checksum": "5c8a4fc63f78d4db44a96524056d7ab2",
     "grade": false,
     "grade_id": "cell-ad114a468b2207c0",
     "locked": true,
     "schema_version": 3,
     "solution": false,
     "task": false
    },
    "tags": []
   },
   "source": [
    "In this notebook you will work with astronomical observation data used to classify celestial objects. (Some missing values are given as $-9999$, and those are removed here.)"
   ]
  },
  {
   "cell_type": "code",
   "execution_count": null,
   "id": "622a6494-82f7-4143-b768-f80094560963",
   "metadata": {
    "deletable": false,
    "editable": false,
    "nbgrader": {
     "cell_type": "code",
     "checksum": "ce16d807edaeb4d8bec86b39b96bec88",
     "grade": false,
     "grade_id": "cell-86a6e543c95c46cd",
     "locked": true,
     "schema_version": 3,
     "solution": false,
     "task": false
    },
    "tags": []
   },
   "outputs": [],
   "source": [
    "astro = pd.read_csv(\"star_classification.csv\")\n",
    "astro.replace(-9999, np.nan, inplace=True)\n",
    "astro.dropna(inplace=True)\n",
    "astro.head()"
   ]
  },
  {
   "cell_type": "markdown",
   "id": "4334b355-0d0a-4a5a-bcc2-6a30e8545102",
   "metadata": {
    "deletable": false,
    "editable": false,
    "nbgrader": {
     "cell_type": "markdown",
     "checksum": "bb68a226fcad88e557e28b505e061280",
     "grade": false,
     "grade_id": "cell-82a99053d82c35d1",
     "locked": true,
     "schema_version": 3,
     "solution": false,
     "task": false
    }
   },
   "source": [
    "## 1.\n",
    "(3.1) Determine how many instances are in the frame for each different label in the *class* column."
   ]
  },
  {
   "cell_type": "code",
   "execution_count": null,
   "id": "c3440299-5fc6-47ba-8e00-3d8ae69dbeec",
   "metadata": {
    "deletable": false,
    "nbgrader": {
     "cell_type": "code",
     "checksum": "1860d52b7ce3c6f2aa0f125bb61246c4",
     "grade": false,
     "grade_id": "counts-answer",
     "locked": false,
     "schema_version": 3,
     "solution": true,
     "task": false
    },
    "tags": []
   },
   "outputs": [],
   "source": [
    "class_counts = None\n",
    "# YOUR CODE HERE\n",
    "raise NotImplementedError()"
   ]
  },
  {
   "cell_type": "code",
   "execution_count": null,
   "id": "5c26fd5e-4694-4170-8785-cb57997bfdcb",
   "metadata": {
    "tags": []
   },
   "outputs": [],
   "source": [
    "print(class_counts)"
   ]
  },
  {
   "cell_type": "code",
   "execution_count": null,
   "id": "a1409320-5042-4a4b-a2a5-0fa5d254ff15",
   "metadata": {
    "deletable": false,
    "editable": false,
    "nbgrader": {
     "cell_type": "code",
     "checksum": "704e0277cbe4dba5518c885637b77030",
     "grade": true,
     "grade_id": "counts-test",
     "locked": true,
     "points": 2,
     "schema_version": 3,
     "solution": false,
     "task": false
    },
    "tags": []
   },
   "outputs": [],
   "source": [
    "# TESTS\n",
    "assert type(class_counts) == pd.Series, \"result must be a series\"\n",
    "assert len(class_counts) == 3, \"wrong length\"\n",
    "assert class_counts.sum() == len(astro[\"class\"]), \"wrong values\"\n",
    "print(\"OK\")"
   ]
  },
  {
   "cell_type": "code",
   "execution_count": null,
   "id": "06e38a46-5ccd-483d-9db5-38b46dbc0ab8",
   "metadata": {
    "deletable": false,
    "editable": false,
    "nbgrader": {
     "cell_type": "code",
     "checksum": "dd4e09207fbd9c69cece0e838e37107b",
     "grade": true,
     "grade_id": "counts-grade",
     "locked": true,
     "points": 2,
     "schema_version": 3,
     "solution": false,
     "task": false
    }
   },
   "outputs": [],
   "source": [
    "# Intentionally left blank--do not delete"
   ]
  },
  {
   "cell_type": "markdown",
   "id": "7629ebce-05cb-4fdd-b076-1a120bb2c69d",
   "metadata": {
    "deletable": false,
    "editable": false,
    "nbgrader": {
     "cell_type": "markdown",
     "checksum": "cb455c393a44927670fab690faf0f085",
     "grade": false,
     "grade_id": "cell-f102c2aa65cc94fe",
     "locked": true,
     "schema_version": 3,
     "solution": false,
     "task": false
    }
   },
   "source": [
    "## 2.\n",
    "(3.1) Let `X` be a subset frame with the columns named *u*, *g*, *r*, *i*, *z*. Let `y` be the column *class*."
   ]
  },
  {
   "cell_type": "code",
   "execution_count": null,
   "id": "ac43e13a-e12c-4986-8f0a-32f23441aa88",
   "metadata": {
    "deletable": false,
    "nbgrader": {
     "cell_type": "code",
     "checksum": "3bf02f4d5a0b643f2381a5f3d568e867",
     "grade": false,
     "grade_id": "xy-answer",
     "locked": false,
     "schema_version": 3,
     "solution": true,
     "task": false
    },
    "tags": []
   },
   "outputs": [],
   "source": [
    "X = None\n",
    "y = None\n",
    "\n",
    "# YOUR CODE HERE\n",
    "raise NotImplementedError()"
   ]
  },
  {
   "cell_type": "code",
   "execution_count": null,
   "id": "7c697e91-5fef-4825-91b9-52bfe821a40e",
   "metadata": {
    "tags": []
   },
   "outputs": [],
   "source": [
    "X.head(7)"
   ]
  },
  {
   "cell_type": "code",
   "execution_count": null,
   "id": "f25de055-fd8e-4468-a9ee-ae13af5b91c7",
   "metadata": {
    "tags": []
   },
   "outputs": [],
   "source": [
    "y.head(7)"
   ]
  },
  {
   "cell_type": "code",
   "execution_count": null,
   "id": "204c81c9-5424-49bc-91a0-a26e80316b49",
   "metadata": {
    "deletable": false,
    "editable": false,
    "nbgrader": {
     "cell_type": "code",
     "checksum": "9cff4da4ea175d24ff6d03674c5a0b46",
     "grade": true,
     "grade_id": "xy-test",
     "locked": true,
     "points": 0,
     "schema_version": 3,
     "solution": false,
     "task": false
    },
    "tags": []
   },
   "outputs": [],
   "source": [
    "# TESTS\n",
    "assert type(X)==pd.DataFrame, \"result must be a frame\"\n",
    "assert X.shape[1]==5, \"result must have 5 columns\"\n",
    "print(\"OK\")"
   ]
  },
  {
   "cell_type": "code",
   "execution_count": null,
   "id": "ef2f4162-297b-4aea-b54f-a8d8c3f78654",
   "metadata": {
    "deletable": false,
    "editable": false,
    "nbgrader": {
     "cell_type": "code",
     "checksum": "50176d2e270532273b8694e4ddbdc5aa",
     "grade": true,
     "grade_id": "xy-grade",
     "locked": true,
     "points": 2,
     "schema_version": 3,
     "solution": false,
     "task": false
    }
   },
   "outputs": [],
   "source": [
    "# Intentionally left blank--do not delete"
   ]
  },
  {
   "cell_type": "markdown",
   "id": "584e024c-f64f-44bc-be86-18e106b1ab1e",
   "metadata": {
    "deletable": false,
    "editable": false,
    "nbgrader": {
     "cell_type": "markdown",
     "checksum": "2cef2e95a4d0dec40de8fe2c47af9e8e",
     "grade": false,
     "grade_id": "cell-da034a2f7c8904ce",
     "locked": true,
     "schema_version": 3,
     "solution": false,
     "task": false
    }
   },
   "source": [
    "## 3.\n",
    "(3.4) Each row of `X` is a 5-dimensional vector. Let `v` be the difference between the second row and the first row of `X`. Find the 1-norm and 2-norm of `v`."
   ]
  },
  {
   "cell_type": "code",
   "execution_count": null,
   "id": "080d2604-84a8-48ba-b01d-9a87c45c3eef",
   "metadata": {
    "deletable": false,
    "nbgrader": {
     "cell_type": "code",
     "checksum": "2aa9f862a5fc4accb45fa234bcf1c728",
     "grade": false,
     "grade_id": "norm-answer",
     "locked": false,
     "schema_version": 3,
     "solution": true,
     "task": false
    },
    "tags": []
   },
   "outputs": [],
   "source": [
    "one_norm, two_norm = None, None\n",
    "\n",
    "# YOUR CODE HERE\n",
    "raise NotImplementedError()"
   ]
  },
  {
   "cell_type": "code",
   "execution_count": null,
   "id": "44e67993-c699-495d-9aec-31dc9d28c69c",
   "metadata": {
    "tags": []
   },
   "outputs": [],
   "source": [
    "print(f\"Vector has 2-norm {two_norm:.5f} and 1-norm {one_norm:.5f}.\")"
   ]
  },
  {
   "cell_type": "code",
   "execution_count": null,
   "id": "b21a6fde-82e2-4965-bd98-c6369cde75ef",
   "metadata": {
    "deletable": false,
    "editable": false,
    "nbgrader": {
     "cell_type": "code",
     "checksum": "b3efae3f5472f3c5a0e9d33fc51fa62f",
     "grade": true,
     "grade_id": "norm-test",
     "locked": true,
     "points": 1,
     "schema_version": 3,
     "solution": false,
     "task": false
    },
    "tags": []
   },
   "outputs": [],
   "source": [
    "# TESTS\n",
    "assert 4 < two_norm < 5, \"wrong value\"\n",
    "assert 8 < one_norm < 9, \"wrong value\"\n",
    "print(\"OK\")"
   ]
  },
  {
   "cell_type": "code",
   "execution_count": null,
   "id": "a789e345-86bf-420a-8e03-06df5ba3a929",
   "metadata": {
    "deletable": false,
    "editable": false,
    "nbgrader": {
     "cell_type": "code",
     "checksum": "978163f20e14799f08264abdd76919f7",
     "grade": true,
     "grade_id": "norm-grade",
     "locked": true,
     "points": 3,
     "schema_version": 3,
     "solution": false,
     "task": false
    }
   },
   "outputs": [],
   "source": []
  },
  {
   "cell_type": "markdown",
   "id": "9b039e7b-3056-413f-ae9f-f1fea53686e0",
   "metadata": {
    "deletable": false,
    "editable": false,
    "nbgrader": {
     "cell_type": "markdown",
     "checksum": "0b88a8a1c1b46f496159b616bd0915a3",
     "grade": false,
     "grade_id": "cell-23f4c6f4dc90848e",
     "locked": true,
     "schema_version": 3,
     "solution": false,
     "task": false
    }
   },
   "source": [
    "## 4.\n",
    "(3.2) Split the data into training set `X_train,y_train` with 80% of the data, and `X_test,y_test` for testing. \n",
    "\n",
    "**IMPORTANT**: Make sure the split order is randomized starting from random state 3383."
   ]
  },
  {
   "cell_type": "code",
   "execution_count": null,
   "id": "8132307e-f69d-44a2-aa52-cf1909cc6f49",
   "metadata": {
    "deletable": false,
    "nbgrader": {
     "cell_type": "code",
     "checksum": "ecb513a9bdc2305a065de2068b30cf62",
     "grade": false,
     "grade_id": "split-answer",
     "locked": false,
     "schema_version": 3,
     "solution": true,
     "task": false
    },
    "tags": []
   },
   "outputs": [],
   "source": [
    "X_train, y_train, X_test, y_test = None,None,None,None\n",
    "\n",
    "# YOUR CODE HERE\n",
    "raise NotImplementedError()"
   ]
  },
  {
   "cell_type": "code",
   "execution_count": null,
   "id": "ac2c76a2-08d6-4706-8b34-65a81abc1813",
   "metadata": {
    "tags": []
   },
   "outputs": [],
   "source": [
    "X_train.head()"
   ]
  },
  {
   "cell_type": "code",
   "execution_count": null,
   "id": "cff0aff0-8de9-41fb-950a-55289c838289",
   "metadata": {
    "tags": []
   },
   "outputs": [],
   "source": [
    "X_test.head()"
   ]
  },
  {
   "cell_type": "code",
   "execution_count": null,
   "id": "bfa8115c-5942-481c-b79a-71b5d53eebf1",
   "metadata": {
    "deletable": false,
    "editable": false,
    "nbgrader": {
     "cell_type": "code",
     "checksum": "45d8b07244449ee43880b4ff8ac14da1",
     "grade": true,
     "grade_id": "split-points",
     "locked": true,
     "points": 2,
     "schema_version": 3,
     "solution": false,
     "task": false
    },
    "tags": []
   },
   "outputs": [],
   "source": [
    "# TESTS\n",
    "assert np.isclose( X_train[\"u\"].sum(), 1766124 ), \"wrong rows in training features\"\n",
    "assert (y_test==\"GALAXY\").sum() == 11999, \"wrong rows in test labels\"\n",
    "print(\"OK\")"
   ]
  },
  {
   "cell_type": "markdown",
   "id": "7a15f99f-e305-4765-9c5e-22b86edc0d3e",
   "metadata": {
    "deletable": false,
    "editable": false,
    "nbgrader": {
     "cell_type": "markdown",
     "checksum": "2589dec8fd989e66949271154225e403",
     "grade": false,
     "grade_id": "cell-ea9c35c2b927d772",
     "locked": true,
     "schema_version": 3,
     "solution": false,
     "task": false
    }
   },
   "source": [
    "## 5.\n",
    "(3.4) Train a kNN classifier with $k=11$ neighbors on the training set. Find its $F_1$ score on the test set using `\"macro\"` averaging."
   ]
  },
  {
   "cell_type": "code",
   "execution_count": null,
   "id": "980c199d-c308-4ae2-bb82-13f41d6472c5",
   "metadata": {
    "deletable": false,
    "nbgrader": {
     "cell_type": "code",
     "checksum": "9187a19739adcfc8d0721928f18215d8",
     "grade": false,
     "grade_id": "knn-answer",
     "locked": false,
     "schema_version": 3,
     "solution": true,
     "task": false
    },
    "tags": []
   },
   "outputs": [],
   "source": [
    "knn_f1 = None\n",
    "\n",
    "# YOUR CODE HERE\n",
    "raise NotImplementedError()"
   ]
  },
  {
   "cell_type": "code",
   "execution_count": null,
   "id": "6ef13d7e-dce9-499b-ad19-676865994dce",
   "metadata": {
    "tags": []
   },
   "outputs": [],
   "source": [
    "print(f\"F1 score for knn = {knn_f1:.6f}\")"
   ]
  },
  {
   "cell_type": "code",
   "execution_count": null,
   "id": "4c422bb4-a3b0-4567-afe5-f08345c065eb",
   "metadata": {
    "deletable": false,
    "editable": false,
    "nbgrader": {
     "cell_type": "code",
     "checksum": "31a50ccb9bda6eb03960bf9fa5b35316",
     "grade": true,
     "grade_id": "knn-test",
     "locked": true,
     "points": 1,
     "schema_version": 3,
     "solution": false,
     "task": false
    },
    "tags": []
   },
   "outputs": [],
   "source": [
    "# TESTS\n",
    "assert 0.77 < knn_f1 < 0.85, \"wrong value\"\n",
    "print(\"OK\")"
   ]
  },
  {
   "cell_type": "code",
   "execution_count": null,
   "id": "3528cd3c-460b-4c3c-819d-e74e0e6ad727",
   "metadata": {
    "deletable": false,
    "editable": false,
    "nbgrader": {
     "cell_type": "code",
     "checksum": "1f6f6c684517595623859b8b17bd3e39",
     "grade": true,
     "grade_id": "knn-grade",
     "locked": true,
     "points": 3,
     "schema_version": 3,
     "solution": false,
     "task": false
    }
   },
   "outputs": [],
   "source": [
    "# Intentionally left blank--do not delete"
   ]
  },
  {
   "cell_type": "markdown",
   "id": "bddfcc56-9e60-4fc5-b2ec-fb84ff203942",
   "metadata": {
    "deletable": false,
    "editable": false,
    "nbgrader": {
     "cell_type": "markdown",
     "checksum": "09ad1dd9af07ec243060d6842fba77a6",
     "grade": false,
     "grade_id": "cell-32c272f74ced31bd",
     "locked": true,
     "schema_version": 3,
     "solution": false,
     "task": false
    }
   },
   "source": [
    "## 6.\n",
    "(3.4) Display (as a plot) the confusion matrix on the test set for the classifier trained in step 5."
   ]
  },
  {
   "cell_type": "code",
   "execution_count": null,
   "id": "fb788a2e-f15b-4e67-bab6-c70d1b36628c",
   "metadata": {
    "deletable": false,
    "nbgrader": {
     "cell_type": "code",
     "checksum": "7691267643b9d7674b3cf316af876ce5",
     "grade": true,
     "grade_id": "confusion-manual",
     "locked": false,
     "points": 4,
     "schema_version": 3,
     "solution": true,
     "task": false
    },
    "tags": []
   },
   "outputs": [],
   "source": [
    "# Result is a plot\n",
    "\n",
    "# YOUR CODE HERE\n",
    "raise NotImplementedError()"
   ]
  },
  {
   "cell_type": "markdown",
   "id": "08ee6559-d238-4184-9846-bc25bb3f7bc3",
   "metadata": {
    "deletable": false,
    "editable": false,
    "nbgrader": {
     "cell_type": "markdown",
     "checksum": "04e8f7aa94336b762a2189e7d1cdb873",
     "grade": false,
     "grade_id": "cell-0741bc70803f97ea",
     "locked": true,
     "schema_version": 3,
     "solution": false,
     "task": false
    }
   },
   "source": [
    "## 7. \n",
    "(3.4) Repeat step 5 with a pipeline that adds a standardization scaler before the kNN classifier. (There will not be much change, since the original columns have similar summary statistics.)"
   ]
  },
  {
   "cell_type": "code",
   "execution_count": null,
   "id": "a0e32d55-b4ad-4991-bdb2-71046c3cd67f",
   "metadata": {
    "deletable": false,
    "nbgrader": {
     "cell_type": "code",
     "checksum": "d3c5b8efe43810255e584b1e5e702575",
     "grade": false,
     "grade_id": "pipe-answer",
     "locked": false,
     "schema_version": 3,
     "solution": true,
     "task": false
    },
    "tags": []
   },
   "outputs": [],
   "source": [
    "pipe_f1 = None\n",
    "\n",
    "# YOUR CODE HERE\n",
    "raise NotImplementedError()"
   ]
  },
  {
   "cell_type": "code",
   "execution_count": null,
   "id": "0ddb4a39-510b-46f4-b05f-411109d3739c",
   "metadata": {
    "tags": []
   },
   "outputs": [],
   "source": [
    "print(f\"F1 score for pipeline = {pipe_f1:.6f}\")"
   ]
  },
  {
   "cell_type": "code",
   "execution_count": null,
   "id": "08eb423b-f3c2-4f83-8a41-91caea6f40cb",
   "metadata": {
    "deletable": false,
    "editable": false,
    "nbgrader": {
     "cell_type": "code",
     "checksum": "e2163c70324faa101967a8e77d472821",
     "grade": true,
     "grade_id": "pipe-test",
     "locked": true,
     "points": 1,
     "schema_version": 3,
     "solution": false,
     "task": false
    },
    "tags": []
   },
   "outputs": [],
   "source": [
    "# TESTS\n",
    "assert 0.8 < pipe_f1 < 0.85, \"wrong value\"\n",
    "print(\"OK\")"
   ]
  },
  {
   "cell_type": "code",
   "execution_count": null,
   "id": "ca087db9-cff2-4faf-9cee-969801735bbb",
   "metadata": {
    "deletable": false,
    "editable": false,
    "nbgrader": {
     "cell_type": "code",
     "checksum": "65bd1a18129e172ca66ba2dc99800b36",
     "grade": true,
     "grade_id": "pipe-grade",
     "locked": true,
     "points": 3,
     "schema_version": 3,
     "solution": false,
     "task": false
    }
   },
   "outputs": [],
   "source": [
    "# Intentionally left blank--do not delete"
   ]
  },
  {
   "cell_type": "markdown",
   "id": "f0520a46-964b-4eec-bb72-f6fd77da5d7b",
   "metadata": {
    "deletable": false,
    "editable": false,
    "nbgrader": {
     "cell_type": "markdown",
     "checksum": "1f1048de1216b345040eea18f57cc24f",
     "grade": false,
     "grade_id": "cell-9057060d6ffec149",
     "locked": true,
     "schema_version": 3,
     "solution": false,
     "task": false
    }
   },
   "source": [
    "## 8. \n",
    "(3.4) Retrain the pipeline from step 7 starting with a feature frame `X` that also includes the *redshift* column. Display the confusion matrix on the test set."
   ]
  },
  {
   "cell_type": "code",
   "execution_count": null,
   "id": "b1d02c5c-a0c2-4b8f-9a42-ec956184dd3c",
   "metadata": {
    "deletable": false,
    "nbgrader": {
     "cell_type": "code",
     "checksum": "04c586d44880bdab4bb65cb9715610fd",
     "grade": true,
     "grade_id": "retrain-confusion",
     "locked": false,
     "points": 4,
     "schema_version": 3,
     "solution": true,
     "task": false
    },
    "tags": []
   },
   "outputs": [],
   "source": [
    "# Result is a plot\n",
    "\n",
    "# YOUR CODE HERE\n",
    "raise NotImplementedError()"
   ]
  }
 ],
 "metadata": {
  "kernelspec": {
   "display_name": "Python 3 (ipykernel)",
   "language": "python",
   "name": "python3"
  },
  "language_info": {
   "codemirror_mode": {
    "name": "ipython",
    "version": 3
   },
   "file_extension": ".py",
   "mimetype": "text/x-python",
   "name": "python",
   "nbconvert_exporter": "python",
   "pygments_lexer": "ipython3",
   "version": "3.12.5"
  }
 },
 "nbformat": 4,
 "nbformat_minor": 5
}
