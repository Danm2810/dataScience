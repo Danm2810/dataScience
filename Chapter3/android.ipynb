{
 "cells": [
  {
   "cell_type": "code",
   "execution_count": null,
   "id": "8b63882b-067b-4b78-8626-185019980b7f",
   "metadata": {
    "deletable": false,
    "editable": false,
    "nbgrader": {
     "cell_type": "code",
     "checksum": "f4b86ff2328d59e9d6a89d28f19dbe8c",
     "grade": false,
     "grade_id": "cell-702e31f8b8870c6c",
     "locked": true,
     "schema_version": 3,
     "solution": false,
     "task": false
    },
    "tags": []
   },
   "outputs": [],
   "source": [
    "import warnings\n",
    "warnings.simplefilter(action='ignore', category=FutureWarning)\n",
    "warnings.simplefilter(action='ignore', category=DeprecationWarning)\n",
    "\n",
    "import numpy as np\n",
    "import pandas as pd\n",
    "import seaborn as sns"
   ]
  },
  {
   "cell_type": "markdown",
   "id": "bbcab66a-67f0-4a8f-8a2b-c2b7e53f1460",
   "metadata": {
    "deletable": false,
    "editable": false,
    "nbgrader": {
     "cell_type": "markdown",
     "checksum": "f0d500d42875bc196a01e7591c841409",
     "grade": false,
     "grade_id": "cell-04606208bd0b138b",
     "locked": true,
     "schema_version": 3,
     "solution": false,
     "task": false
    },
    "tags": []
   },
   "source": [
    "This dataset is a collection of the system permissions of Android apps, with the *Result* column indicating whether the app is malware."
   ]
  },
  {
   "cell_type": "code",
   "execution_count": null,
   "id": "00c68a4d-ad62-4737-89e9-743a1d9f9f91",
   "metadata": {
    "deletable": false,
    "editable": false,
    "nbgrader": {
     "cell_type": "code",
     "checksum": "284e9fcc7fa7f6cac1bb1f86ac754ed5",
     "grade": false,
     "grade_id": "cell-5dcd072c4d472093",
     "locked": true,
     "schema_version": 3,
     "solution": false,
     "task": false
    },
    "tags": []
   },
   "outputs": [],
   "source": [
    "perms = pd.read_csv(\"android_permissions.csv\")\n",
    "perms.head()"
   ]
  },
  {
   "cell_type": "markdown",
   "id": "dde1c6b4-9c32-4c46-814a-0b0762e28d55",
   "metadata": {
    "deletable": false,
    "editable": false,
    "nbgrader": {
     "cell_type": "markdown",
     "checksum": "8156f4850ee245938724d082bb187c1f",
     "grade": false,
     "grade_id": "cell-962d141f58ef58d6",
     "locked": true,
     "schema_version": 3,
     "solution": false,
     "task": false
    }
   },
   "source": [
    "## 1.\n",
    "(3.1)\n",
    "Let `X` be a feature frame found by dropping the *Result* column, and let `y` be the *Result* column."
   ]
  },
  {
   "cell_type": "code",
   "execution_count": null,
   "id": "f9243175-1dcf-4cc3-aa0a-a70b23200e59",
   "metadata": {
    "deletable": false,
    "nbgrader": {
     "cell_type": "code",
     "checksum": "b70b99348ec6470d3d43c927c7ea985a",
     "grade": false,
     "grade_id": "Xy-answer",
     "locked": false,
     "schema_version": 3,
     "solution": true,
     "task": false
    },
    "tags": []
   },
   "outputs": [],
   "source": [
    "X, y = None, None\n",
    "\n",
    "# YOUR CODE HERE\n",
    "raise NotImplementedError()"
   ]
  },
  {
   "cell_type": "code",
   "execution_count": null,
   "id": "578b6b12-7362-48ae-a0a2-ae7e21c71e58",
   "metadata": {
    "tags": []
   },
   "outputs": [],
   "source": [
    "X.head()"
   ]
  },
  {
   "cell_type": "code",
   "execution_count": null,
   "id": "088502f2-8146-49c6-8395-c41e571472a5",
   "metadata": {
    "tags": []
   },
   "outputs": [],
   "source": [
    "y.head()"
   ]
  },
  {
   "cell_type": "code",
   "execution_count": null,
   "id": "cca8b9a7-e0a4-4140-adca-c081e7891378",
   "metadata": {
    "deletable": false,
    "editable": false,
    "nbgrader": {
     "cell_type": "code",
     "checksum": "8b9da1a99bbf4a8ed9bda0d5a9c65cea",
     "grade": true,
     "grade_id": "Xy-tests",
     "locked": true,
     "points": 2,
     "schema_version": 3,
     "solution": false,
     "task": false
    },
    "tags": []
   },
   "outputs": [],
   "source": [
    "# TESTS\n",
    "assert X.shape == (29332, 86), \"X has the wrong shape\"\n",
    "assert y.sum() == 14700, \"y has the wrong values\"\n",
    "assert X[\"android.permission.BLUETOOTH\"].sum() == 1219, \"Something is wrong with the data in X\"\n",
    "print(\"OK\")"
   ]
  },
  {
   "cell_type": "markdown",
   "id": "8ea2a873-dd1f-4aae-95dc-042ce6c20025",
   "metadata": {
    "deletable": false,
    "editable": false,
    "nbgrader": {
     "cell_type": "markdown",
     "checksum": "33a7a3711179208506fa55fc35ec5fb3",
     "grade": false,
     "grade_id": "cell-e6623425fc54e3fb",
     "locked": true,
     "schema_version": 3,
     "solution": false,
     "task": false
    }
   },
   "source": [
    "## 2. \n",
    "\n",
    "(3.2)\n",
    "Split the dataset, reserving 20% of it as `X_test,y_test` for testing and the rest as `X_train,y_train` for training. \n",
    "\n",
    "**IMPORTANT**: Make sure the split order is randomized starting from random state 3383."
   ]
  },
  {
   "cell_type": "code",
   "execution_count": null,
   "id": "2c70fcf6-e7fa-440c-9e44-a6072b51c32e",
   "metadata": {
    "deletable": false,
    "nbgrader": {
     "cell_type": "code",
     "checksum": "d7bd9daea5825c7486e9515a492bd8bc",
     "grade": false,
     "grade_id": "split-answer",
     "locked": false,
     "schema_version": 3,
     "solution": true,
     "task": false
    },
    "tags": []
   },
   "outputs": [],
   "source": [
    "X_train, y_train = None, None\n",
    "X_test, y_test = None, None\n",
    "\n",
    "# YOUR CODE HERE\n",
    "raise NotImplementedError()"
   ]
  },
  {
   "cell_type": "code",
   "execution_count": null,
   "id": "885e267c-0c89-48b1-9502-3019711dc189",
   "metadata": {
    "tags": []
   },
   "outputs": [],
   "source": [
    "X_test.head()"
   ]
  },
  {
   "cell_type": "code",
   "execution_count": null,
   "id": "8ba060f2-2273-4aad-921b-d015cfccb28a",
   "metadata": {
    "deletable": false,
    "editable": false,
    "nbgrader": {
     "cell_type": "code",
     "checksum": "1a9d2204a1a97deb4fda8739d0617403",
     "grade": true,
     "grade_id": "split-tests",
     "locked": true,
     "points": 2,
     "schema_version": 3,
     "solution": false,
     "task": false
    },
    "tags": []
   },
   "outputs": [],
   "source": [
    "# TESTS\n",
    "assert len(X_train) == 23465, \"X_train has the wrong number of rows\"\n",
    "assert X_test.iloc[:, 10].sum() == 67, \"X_test has the wrong rows or columns\"\n",
    "assert y_train.sum() == 11749, \"y_train has the wrong rows\"\n",
    "print(\"OK\")"
   ]
  },
  {
   "cell_type": "markdown",
   "id": "250dd2ce-b51b-4f96-ae4e-862de0d90dae",
   "metadata": {
    "deletable": false,
    "editable": false,
    "nbgrader": {
     "cell_type": "markdown",
     "checksum": "c74192e18ec7350fdbba68447f0b875c",
     "grade": false,
     "grade_id": "cell-e56cb0215eae0148",
     "locked": true,
     "schema_version": 3,
     "solution": false,
     "task": false
    }
   },
   "source": [
    "## 3.\n",
    "\n",
    "(3.3) Train a decision tree classifier with maximum depth 12 on the training set. **Make sure to set its random state equal to 302.** Find the accuracy of the decision tree on the test set."
   ]
  },
  {
   "cell_type": "code",
   "execution_count": null,
   "id": "46e67f3c-cf33-4c88-8e32-0cdaa8aae98b",
   "metadata": {
    "deletable": false,
    "nbgrader": {
     "cell_type": "code",
     "checksum": "6736d4c58457792b5755513a863a55a7",
     "grade": false,
     "grade_id": "acc-answer",
     "locked": false,
     "schema_version": 3,
     "solution": true,
     "task": false
    },
    "tags": []
   },
   "outputs": [],
   "source": [
    "dtree, acc = None, None\n",
    "\n",
    "# YOUR CODE HERE\n",
    "raise NotImplementedError()"
   ]
  },
  {
   "cell_type": "code",
   "execution_count": null,
   "id": "824f4844-cdf8-453b-b22f-50a237bfdfbf",
   "metadata": {
    "tags": []
   },
   "outputs": [],
   "source": [
    "print(f\"Decision tree accuracy is {acc:.3%}\")"
   ]
  },
  {
   "cell_type": "code",
   "execution_count": null,
   "id": "842b5379-69fc-4f0b-ad42-8c0e4d919691",
   "metadata": {
    "deletable": false,
    "editable": false,
    "nbgrader": {
     "cell_type": "code",
     "checksum": "dffc275c606cecd136bf33ad16c1b69d",
     "grade": true,
     "grade_id": "acc-test",
     "locked": true,
     "points": 2,
     "schema_version": 3,
     "solution": false,
     "task": false
    },
    "tags": []
   },
   "outputs": [],
   "source": [
    "# TESTS\n",
    "assert 0.94 < acc < 0.97, \"Incorrect accuracy score\"\n",
    "print(\"OK\")"
   ]
  },
  {
   "cell_type": "code",
   "execution_count": null,
   "id": "348eef13-c6e1-4a63-a85d-8f11031cf0ad",
   "metadata": {
    "deletable": false,
    "editable": false,
    "nbgrader": {
     "cell_type": "code",
     "checksum": "653b047d3ed3c05ed22aa74012792959",
     "grade": true,
     "grade_id": "acc-grade",
     "locked": true,
     "points": 2,
     "schema_version": 3,
     "solution": false,
     "task": false
    },
    "tags": []
   },
   "outputs": [],
   "source": [
    "# Intentionally left blank--do not delete"
   ]
  },
  {
   "cell_type": "markdown",
   "id": "4917e1ad-50c5-4d0e-a762-6fbacdf6ad69",
   "metadata": {
    "deletable": false,
    "editable": false,
    "nbgrader": {
     "cell_type": "markdown",
     "checksum": "c3fdbf3f75cde643bfaa93de842a7ef7",
     "grade": false,
     "grade_id": "cell-ba1ed1f29c2e35e1",
     "locked": true,
     "schema_version": 3,
     "solution": false,
     "task": false
    }
   },
   "source": [
    "## 4.\n",
    "\n",
    "(3.5) Find the probability, according to the decision tree, that the app in the first row of `X_test` is malware."
   ]
  },
  {
   "cell_type": "code",
   "execution_count": null,
   "id": "0b0be398-922b-4609-9bf3-de31d926dec0",
   "metadata": {
    "deletable": false,
    "nbgrader": {
     "cell_type": "code",
     "checksum": "39a5ce249c54c07ca8d4263421439ceb",
     "grade": false,
     "grade_id": "mal-answer",
     "locked": false,
     "schema_version": 3,
     "solution": true,
     "task": false
    },
    "tags": []
   },
   "outputs": [],
   "source": [
    "mal = None\n",
    "\n",
    "# YOUR CODE HERE\n",
    "raise NotImplementedError()"
   ]
  },
  {
   "cell_type": "code",
   "execution_count": null,
   "id": "97d0c398-e2f8-49d4-ad84-5f897101a0c8",
   "metadata": {
    "tags": []
   },
   "outputs": [],
   "source": [
    "print(f\"Probability of malware is {mal:.2%}\")"
   ]
  },
  {
   "cell_type": "code",
   "execution_count": null,
   "id": "df93988a-61a4-448b-82c3-b32b24c6b86d",
   "metadata": {
    "deletable": false,
    "editable": false,
    "nbgrader": {
     "cell_type": "code",
     "checksum": "895c33d9714e9e3d7399b92b5f657622",
     "grade": true,
     "grade_id": "mal-test",
     "locked": true,
     "points": 1,
     "schema_version": 3,
     "solution": false,
     "task": false
    },
    "tags": []
   },
   "outputs": [],
   "source": [
    "# TESTS\n",
    "assert mal > 0.93, \"Prediction is incorrect\"\n",
    "print(\"OK\")"
   ]
  },
  {
   "cell_type": "code",
   "execution_count": null,
   "id": "299d0e01-a7b1-485d-bc76-ceec3e9681e9",
   "metadata": {
    "deletable": false,
    "editable": false,
    "nbgrader": {
     "cell_type": "code",
     "checksum": "978573c14c459de343cf39891f3531ad",
     "grade": true,
     "grade_id": "mal-grade",
     "locked": true,
     "points": 3,
     "schema_version": 3,
     "solution": false,
     "task": false
    }
   },
   "outputs": [],
   "source": [
    "# Intentionally left blank--do not delete"
   ]
  },
  {
   "cell_type": "markdown",
   "id": "9a6c5273-b288-4ea4-96dc-117b2e3c0ad1",
   "metadata": {
    "deletable": false,
    "editable": false,
    "nbgrader": {
     "cell_type": "markdown",
     "checksum": "94c099ba495cb70a36fabbe079cb31b1",
     "grade": false,
     "grade_id": "cell-fb25c86c3eadf14c",
     "locked": true,
     "schema_version": 3,
     "solution": false,
     "task": false
    }
   },
   "source": [
    "## 5.\n",
    "\n",
    "(3.5) Plot the ROC curve over the test set for predicting malware (i.e, when *Result* equals 1)."
   ]
  },
  {
   "cell_type": "code",
   "execution_count": null,
   "id": "5524954d-c599-4955-8e17-4ed9c5606007",
   "metadata": {
    "deletable": false,
    "nbgrader": {
     "cell_type": "code",
     "checksum": "dbe88cb4baaa85df553fbd85bc3bee72",
     "grade": true,
     "grade_id": "roc-manual",
     "locked": false,
     "points": 4,
     "schema_version": 3,
     "solution": true,
     "task": false
    },
    "tags": []
   },
   "outputs": [],
   "source": [
    "# Result is a plot\n",
    "\n",
    "# YOUR CODE HERE\n",
    "raise NotImplementedError()"
   ]
  },
  {
   "cell_type": "markdown",
   "id": "2c97abf1-cc97-4510-b747-9f11f2b35834",
   "metadata": {
    "deletable": false,
    "editable": false,
    "nbgrader": {
     "cell_type": "markdown",
     "checksum": "62af679de5acc9c168bf549097348ec7",
     "grade": false,
     "grade_id": "cell-a6ad45348925e808",
     "locked": true,
     "schema_version": 3,
     "solution": false,
     "task": false
    }
   },
   "source": [
    "## 6. \n",
    "\n",
    "(3.5) Find the AUC score for the ROC curve."
   ]
  },
  {
   "cell_type": "code",
   "execution_count": null,
   "id": "507a10dd-d156-4959-ae71-9eda31d251cc",
   "metadata": {
    "deletable": false,
    "nbgrader": {
     "cell_type": "code",
     "checksum": "e6ad0dea7c1261333106ae13d37a4104",
     "grade": false,
     "grade_id": "auc-answer",
     "locked": false,
     "schema_version": 3,
     "solution": true,
     "task": false
    },
    "tags": []
   },
   "outputs": [],
   "source": [
    "AUC = None\n",
    "\n",
    "# YOUR CODE HERE\n",
    "raise NotImplementedError()"
   ]
  },
  {
   "cell_type": "code",
   "execution_count": null,
   "id": "302c9e26-4840-42c4-b5ab-e65b6e770acf",
   "metadata": {
    "tags": []
   },
   "outputs": [],
   "source": [
    "print(f\"AUC score is {AUC:.5f}\")"
   ]
  },
  {
   "cell_type": "code",
   "execution_count": null,
   "id": "6a7be9cd-8346-4a30-a154-e3fd6c383e57",
   "metadata": {
    "deletable": false,
    "editable": false,
    "nbgrader": {
     "cell_type": "code",
     "checksum": "e9971d91bfed727771fc5f6edd9b1efa",
     "grade": true,
     "grade_id": "auc-test",
     "locked": true,
     "points": 1,
     "schema_version": 3,
     "solution": false,
     "task": false
    },
    "tags": []
   },
   "outputs": [],
   "source": [
    "# TESTS\n",
    "assert 1 > AUC > 0.95, \"AUC is incorrect\"\n",
    "print(\"OK\")"
   ]
  },
  {
   "cell_type": "code",
   "execution_count": null,
   "id": "cc08a459-7944-4da5-ad45-48a7d6857cc3",
   "metadata": {
    "deletable": false,
    "editable": false,
    "nbgrader": {
     "cell_type": "code",
     "checksum": "63ff57f41e2836fdd0945aef8acab323",
     "grade": true,
     "grade_id": "auc-grade",
     "locked": true,
     "points": 1,
     "schema_version": 3,
     "solution": false,
     "task": false
    }
   },
   "outputs": [],
   "source": [
    "# Intentionally left blank--do not delete"
   ]
  }
 ],
 "metadata": {
  "kernelspec": {
   "display_name": "Python 3 (ipykernel)",
   "language": "python",
   "name": "python3"
  },
  "language_info": {
   "codemirror_mode": {
    "name": "ipython",
    "version": 3
   },
   "file_extension": ".py",
   "mimetype": "text/x-python",
   "name": "python",
   "nbconvert_exporter": "python",
   "pygments_lexer": "ipython3",
   "version": "3.12.5"
  }
 },
 "nbformat": 4,
 "nbformat_minor": 5
}
