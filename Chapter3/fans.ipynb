{
 "cells": [
  {
   "cell_type": "code",
   "execution_count": 1,
   "id": "6c20ab04-4ab8-4da0-816e-995486eb86c8",
   "metadata": {
    "deletable": false,
    "editable": false,
    "nbgrader": {
     "cell_type": "code",
     "checksum": "f4b86ff2328d59e9d6a89d28f19dbe8c",
     "grade": false,
     "grade_id": "cell-702e31f8b8870c6c",
     "locked": true,
     "schema_version": 3,
     "solution": false,
     "task": false
    },
    "tags": []
   },
   "outputs": [],
   "source": [
    "import warnings\n",
    "warnings.simplefilter(action='ignore', category=FutureWarning)\n",
    "warnings.simplefilter(action='ignore', category=DeprecationWarning)\n",
    "\n",
    "import numpy as np\n",
    "import pandas as pd\n",
    "import seaborn as sns"
   ]
  },
  {
   "cell_type": "markdown",
   "id": "e03a8338-04da-4481-9e44-37ac49c1b56c",
   "metadata": {
    "deletable": false,
    "editable": false,
    "nbgrader": {
     "cell_type": "markdown",
     "checksum": "5069835bc519157d56e4bd87067fad59",
     "grade": false,
     "grade_id": "cell-e7fd5e2d22a46d98",
     "locked": true,
     "schema_version": 3,
     "solution": false,
     "task": false
    },
    "tags": []
   },
   "source": [
    "This dataset contains, for each U.S. designated market area, the proportions who are fans of 7 different sports leagues, and the proportion who voted for Donald Trump in 2016."
   ]
  },
  {
   "cell_type": "code",
   "execution_count": 2,
   "id": "ce889e1b-7498-4b96-9ca3-afba9041eeaf",
   "metadata": {
    "deletable": false,
    "editable": false,
    "nbgrader": {
     "cell_type": "code",
     "checksum": "4f4131a3edc940e5e83a4154b9500d70",
     "grade": false,
     "grade_id": "cell-4f173454c97ffb4b",
     "locked": true,
     "schema_version": 3,
     "solution": false,
     "task": false
    },
    "tags": []
   },
   "outputs": [
    {
     "data": {
      "text/html": [
       "<div>\n",
       "<style scoped>\n",
       "    .dataframe tbody tr th:only-of-type {\n",
       "        vertical-align: middle;\n",
       "    }\n",
       "\n",
       "    .dataframe tbody tr th {\n",
       "        vertical-align: top;\n",
       "    }\n",
       "\n",
       "    .dataframe thead th {\n",
       "        text-align: right;\n",
       "    }\n",
       "</style>\n",
       "<table border=\"1\" class=\"dataframe\">\n",
       "  <thead>\n",
       "    <tr style=\"text-align: right;\">\n",
       "      <th></th>\n",
       "      <th>NFL</th>\n",
       "      <th>NBA</th>\n",
       "      <th>MLB</th>\n",
       "      <th>NHL</th>\n",
       "      <th>NASCAR</th>\n",
       "      <th>CBB</th>\n",
       "      <th>CFB</th>\n",
       "      <th>Trump 2016 Vote%</th>\n",
       "    </tr>\n",
       "    <tr>\n",
       "      <th>DMA</th>\n",
       "      <th></th>\n",
       "      <th></th>\n",
       "      <th></th>\n",
       "      <th></th>\n",
       "      <th></th>\n",
       "      <th></th>\n",
       "      <th></th>\n",
       "      <th></th>\n",
       "    </tr>\n",
       "  </thead>\n",
       "  <tbody>\n",
       "    <tr>\n",
       "      <th>Abilene-Sweetwater TX</th>\n",
       "      <td>45%</td>\n",
       "      <td>21%</td>\n",
       "      <td>14%</td>\n",
       "      <td>2%</td>\n",
       "      <td>4%</td>\n",
       "      <td>3%</td>\n",
       "      <td>11%</td>\n",
       "      <td>79.13%</td>\n",
       "    </tr>\n",
       "    <tr>\n",
       "      <th>Albany GA</th>\n",
       "      <td>32%</td>\n",
       "      <td>30%</td>\n",
       "      <td>9%</td>\n",
       "      <td>1%</td>\n",
       "      <td>8%</td>\n",
       "      <td>3%</td>\n",
       "      <td>17%</td>\n",
       "      <td>59.12%</td>\n",
       "    </tr>\n",
       "    <tr>\n",
       "      <th>Albany-Schenectady-Troy NY</th>\n",
       "      <td>40%</td>\n",
       "      <td>20%</td>\n",
       "      <td>20%</td>\n",
       "      <td>8%</td>\n",
       "      <td>6%</td>\n",
       "      <td>3%</td>\n",
       "      <td>4%</td>\n",
       "      <td>44.11%</td>\n",
       "    </tr>\n",
       "    <tr>\n",
       "      <th>Albuquerque-Santa Fe NM</th>\n",
       "      <td>53%</td>\n",
       "      <td>21%</td>\n",
       "      <td>11%</td>\n",
       "      <td>3%</td>\n",
       "      <td>3%</td>\n",
       "      <td>4%</td>\n",
       "      <td>6%</td>\n",
       "      <td>39.58%</td>\n",
       "    </tr>\n",
       "    <tr>\n",
       "      <th>Alexandria LA</th>\n",
       "      <td>42%</td>\n",
       "      <td>28%</td>\n",
       "      <td>9%</td>\n",
       "      <td>1%</td>\n",
       "      <td>5%</td>\n",
       "      <td>3%</td>\n",
       "      <td>12%</td>\n",
       "      <td>69.64%</td>\n",
       "    </tr>\n",
       "    <tr>\n",
       "      <th>...</th>\n",
       "      <td>...</td>\n",
       "      <td>...</td>\n",
       "      <td>...</td>\n",
       "      <td>...</td>\n",
       "      <td>...</td>\n",
       "      <td>...</td>\n",
       "      <td>...</td>\n",
       "      <td>...</td>\n",
       "    </tr>\n",
       "    <tr>\n",
       "      <th>Wilmington NC</th>\n",
       "      <td>40%</td>\n",
       "      <td>20%</td>\n",
       "      <td>12%</td>\n",
       "      <td>5%</td>\n",
       "      <td>8%</td>\n",
       "      <td>9%</td>\n",
       "      <td>7%</td>\n",
       "      <td>55.91%</td>\n",
       "    </tr>\n",
       "    <tr>\n",
       "      <th>Yakima-Pasco-Richland-Kennewick WA</th>\n",
       "      <td>52%</td>\n",
       "      <td>19%</td>\n",
       "      <td>11%</td>\n",
       "      <td>3%</td>\n",
       "      <td>3%</td>\n",
       "      <td>4%</td>\n",
       "      <td>7%</td>\n",
       "      <td>55.26%</td>\n",
       "    </tr>\n",
       "    <tr>\n",
       "      <th>Youngstown OH</th>\n",
       "      <td>41%</td>\n",
       "      <td>23%</td>\n",
       "      <td>15%</td>\n",
       "      <td>5%</td>\n",
       "      <td>5%</td>\n",
       "      <td>3%</td>\n",
       "      <td>8%</td>\n",
       "      <td>53.17%</td>\n",
       "    </tr>\n",
       "    <tr>\n",
       "      <th>Yuma AZ-El Centro CA</th>\n",
       "      <td>47%</td>\n",
       "      <td>22%</td>\n",
       "      <td>18%</td>\n",
       "      <td>4%</td>\n",
       "      <td>3%</td>\n",
       "      <td>2%</td>\n",
       "      <td>4%</td>\n",
       "      <td>37.48%</td>\n",
       "    </tr>\n",
       "    <tr>\n",
       "      <th>Zanesville OH</th>\n",
       "      <td>36%</td>\n",
       "      <td>21%</td>\n",
       "      <td>11%</td>\n",
       "      <td>4%</td>\n",
       "      <td>10%</td>\n",
       "      <td>4%</td>\n",
       "      <td>14%</td>\n",
       "      <td>64.59%</td>\n",
       "    </tr>\n",
       "  </tbody>\n",
       "</table>\n",
       "<p>207 rows × 8 columns</p>\n",
       "</div>"
      ],
      "text/plain": [
       "                                    NFL  NBA  MLB NHL NASCAR CBB  CFB  \\\n",
       "DMA                                                                     \n",
       "Abilene-Sweetwater TX               45%  21%  14%  2%     4%  3%  11%   \n",
       "Albany GA                           32%  30%   9%  1%     8%  3%  17%   \n",
       "Albany-Schenectady-Troy NY          40%  20%  20%  8%     6%  3%   4%   \n",
       "Albuquerque-Santa Fe NM             53%  21%  11%  3%     3%  4%   6%   \n",
       "Alexandria LA                       42%  28%   9%  1%     5%  3%  12%   \n",
       "...                                 ...  ...  ...  ..    ...  ..  ...   \n",
       "Wilmington NC                       40%  20%  12%  5%     8%  9%   7%   \n",
       "Yakima-Pasco-Richland-Kennewick WA  52%  19%  11%  3%     3%  4%   7%   \n",
       "Youngstown OH                       41%  23%  15%  5%     5%  3%   8%   \n",
       "Yuma AZ-El Centro CA                47%  22%  18%  4%     3%  2%   4%   \n",
       "Zanesville OH                       36%  21%  11%  4%    10%  4%  14%   \n",
       "\n",
       "                                   Trump 2016 Vote%  \n",
       "DMA                                                  \n",
       "Abilene-Sweetwater TX                        79.13%  \n",
       "Albany GA                                    59.12%  \n",
       "Albany-Schenectady-Troy NY                   44.11%  \n",
       "Albuquerque-Santa Fe NM                      39.58%  \n",
       "Alexandria LA                                69.64%  \n",
       "...                                             ...  \n",
       "Wilmington NC                                55.91%  \n",
       "Yakima-Pasco-Richland-Kennewick WA           55.26%  \n",
       "Youngstown OH                                53.17%  \n",
       "Yuma AZ-El Centro CA                         37.48%  \n",
       "Zanesville OH                                64.59%  \n",
       "\n",
       "[207 rows x 8 columns]"
      ]
     },
     "execution_count": 2,
     "metadata": {},
     "output_type": "execute_result"
    }
   ],
   "source": [
    "fans_raw = pd.read_csv(\"NFL_fandom_data-google_trends.csv\", index_col=0, header=1)\n",
    "fans_raw"
   ]
  },
  {
   "cell_type": "markdown",
   "id": "ce0dd081-f41a-426e-913e-59603d21888d",
   "metadata": {
    "deletable": false,
    "editable": false,
    "nbgrader": {
     "cell_type": "markdown",
     "checksum": "68aec52be491752861700a5a45477b8f",
     "grade": false,
     "grade_id": "cell-5768cb3001fe70bd",
     "locked": true,
     "schema_version": 3,
     "solution": false,
     "task": false
    },
    "tags": []
   },
   "source": [
    "To make this frame useful for numerical work, we strip out the percent sign character `%` from all the columns and convert them to `float` type."
   ]
  },
  {
   "cell_type": "code",
   "execution_count": 3,
   "id": "d2c281b5-e29e-459d-9456-91f556757459",
   "metadata": {
    "deletable": false,
    "editable": false,
    "nbgrader": {
     "cell_type": "code",
     "checksum": "50d11934381486dec007287dccf911e5",
     "grade": false,
     "grade_id": "cell-4a666baeb1a2b654",
     "locked": true,
     "schema_version": 3,
     "solution": false,
     "task": false
    },
    "tags": []
   },
   "outputs": [
    {
     "data": {
      "text/html": [
       "<div>\n",
       "<style scoped>\n",
       "    .dataframe tbody tr th:only-of-type {\n",
       "        vertical-align: middle;\n",
       "    }\n",
       "\n",
       "    .dataframe tbody tr th {\n",
       "        vertical-align: top;\n",
       "    }\n",
       "\n",
       "    .dataframe thead th {\n",
       "        text-align: right;\n",
       "    }\n",
       "</style>\n",
       "<table border=\"1\" class=\"dataframe\">\n",
       "  <thead>\n",
       "    <tr style=\"text-align: right;\">\n",
       "      <th></th>\n",
       "      <th>NFL</th>\n",
       "      <th>NBA</th>\n",
       "      <th>MLB</th>\n",
       "      <th>NHL</th>\n",
       "      <th>NASCAR</th>\n",
       "      <th>CBB</th>\n",
       "      <th>CFB</th>\n",
       "      <th>Trump 2016 Vote%</th>\n",
       "    </tr>\n",
       "    <tr>\n",
       "      <th>DMA</th>\n",
       "      <th></th>\n",
       "      <th></th>\n",
       "      <th></th>\n",
       "      <th></th>\n",
       "      <th></th>\n",
       "      <th></th>\n",
       "      <th></th>\n",
       "      <th></th>\n",
       "    </tr>\n",
       "  </thead>\n",
       "  <tbody>\n",
       "    <tr>\n",
       "      <th>Abilene-Sweetwater TX</th>\n",
       "      <td>45.0</td>\n",
       "      <td>21.0</td>\n",
       "      <td>14.0</td>\n",
       "      <td>2.0</td>\n",
       "      <td>4.0</td>\n",
       "      <td>3.0</td>\n",
       "      <td>11.0</td>\n",
       "      <td>79.13</td>\n",
       "    </tr>\n",
       "    <tr>\n",
       "      <th>Albany GA</th>\n",
       "      <td>32.0</td>\n",
       "      <td>30.0</td>\n",
       "      <td>9.0</td>\n",
       "      <td>1.0</td>\n",
       "      <td>8.0</td>\n",
       "      <td>3.0</td>\n",
       "      <td>17.0</td>\n",
       "      <td>59.12</td>\n",
       "    </tr>\n",
       "    <tr>\n",
       "      <th>Albany-Schenectady-Troy NY</th>\n",
       "      <td>40.0</td>\n",
       "      <td>20.0</td>\n",
       "      <td>20.0</td>\n",
       "      <td>8.0</td>\n",
       "      <td>6.0</td>\n",
       "      <td>3.0</td>\n",
       "      <td>4.0</td>\n",
       "      <td>44.11</td>\n",
       "    </tr>\n",
       "    <tr>\n",
       "      <th>Albuquerque-Santa Fe NM</th>\n",
       "      <td>53.0</td>\n",
       "      <td>21.0</td>\n",
       "      <td>11.0</td>\n",
       "      <td>3.0</td>\n",
       "      <td>3.0</td>\n",
       "      <td>4.0</td>\n",
       "      <td>6.0</td>\n",
       "      <td>39.58</td>\n",
       "    </tr>\n",
       "    <tr>\n",
       "      <th>Alexandria LA</th>\n",
       "      <td>42.0</td>\n",
       "      <td>28.0</td>\n",
       "      <td>9.0</td>\n",
       "      <td>1.0</td>\n",
       "      <td>5.0</td>\n",
       "      <td>3.0</td>\n",
       "      <td>12.0</td>\n",
       "      <td>69.64</td>\n",
       "    </tr>\n",
       "  </tbody>\n",
       "</table>\n",
       "</div>"
      ],
      "text/plain": [
       "                             NFL   NBA   MLB  NHL  NASCAR  CBB   CFB  \\\n",
       "DMA                                                                    \n",
       "Abilene-Sweetwater TX       45.0  21.0  14.0  2.0     4.0  3.0  11.0   \n",
       "Albany GA                   32.0  30.0   9.0  1.0     8.0  3.0  17.0   \n",
       "Albany-Schenectady-Troy NY  40.0  20.0  20.0  8.0     6.0  3.0   4.0   \n",
       "Albuquerque-Santa Fe NM     53.0  21.0  11.0  3.0     3.0  4.0   6.0   \n",
       "Alexandria LA               42.0  28.0   9.0  1.0     5.0  3.0  12.0   \n",
       "\n",
       "                            Trump 2016 Vote%  \n",
       "DMA                                           \n",
       "Abilene-Sweetwater TX                  79.13  \n",
       "Albany GA                              59.12  \n",
       "Albany-Schenectady-Troy NY             44.11  \n",
       "Albuquerque-Santa Fe NM                39.58  \n",
       "Alexandria LA                          69.64  "
      ]
     },
     "execution_count": 3,
     "metadata": {},
     "output_type": "execute_result"
    }
   ],
   "source": [
    "remover = lambda x: x.str.strip(\"%\").astype(float)\n",
    "fans = fans_raw.transform(remover)\n",
    "fans.head()"
   ]
  },
  {
   "cell_type": "markdown",
   "id": "5dc1ecbd-910a-4bf6-a245-a883deecf215",
   "metadata": {
    "deletable": false,
    "editable": false,
    "nbgrader": {
     "cell_type": "markdown",
     "checksum": "f3403292e79deb577d3b4dd6b31e0359",
     "grade": false,
     "grade_id": "cell-6d004119db80e2c3",
     "locked": true,
     "schema_version": 3,
     "solution": false,
     "task": false
    }
   },
   "source": [
    "## 1.\n",
    "(3.1) Create a feature frame called `X` from all the columns of `fans` except the last."
   ]
  },
  {
   "cell_type": "code",
   "execution_count": 4,
   "id": "1981a84e-51d0-4908-b4fa-2bbe9e670943",
   "metadata": {
    "deletable": false,
    "nbgrader": {
     "cell_type": "code",
     "checksum": "5437898cbcfbe9c3e6322fece3726c0e",
     "grade": false,
     "grade_id": "X-answer",
     "locked": false,
     "schema_version": 3,
     "solution": true,
     "task": false
    },
    "tags": []
   },
   "outputs": [],
   "source": [
    "X = None\n",
    "\n",
    "X = fans.iloc[:, :-1]"
   ]
  },
  {
   "cell_type": "code",
   "execution_count": 5,
   "id": "ddd6d893-ff5e-4274-9b66-6aeda64f778e",
   "metadata": {
    "tags": []
   },
   "outputs": [
    {
     "data": {
      "text/html": [
       "<div>\n",
       "<style scoped>\n",
       "    .dataframe tbody tr th:only-of-type {\n",
       "        vertical-align: middle;\n",
       "    }\n",
       "\n",
       "    .dataframe tbody tr th {\n",
       "        vertical-align: top;\n",
       "    }\n",
       "\n",
       "    .dataframe thead th {\n",
       "        text-align: right;\n",
       "    }\n",
       "</style>\n",
       "<table border=\"1\" class=\"dataframe\">\n",
       "  <thead>\n",
       "    <tr style=\"text-align: right;\">\n",
       "      <th></th>\n",
       "      <th>NFL</th>\n",
       "      <th>NBA</th>\n",
       "      <th>MLB</th>\n",
       "      <th>NHL</th>\n",
       "      <th>NASCAR</th>\n",
       "      <th>CBB</th>\n",
       "      <th>CFB</th>\n",
       "    </tr>\n",
       "    <tr>\n",
       "      <th>DMA</th>\n",
       "      <th></th>\n",
       "      <th></th>\n",
       "      <th></th>\n",
       "      <th></th>\n",
       "      <th></th>\n",
       "      <th></th>\n",
       "      <th></th>\n",
       "    </tr>\n",
       "  </thead>\n",
       "  <tbody>\n",
       "    <tr>\n",
       "      <th>Abilene-Sweetwater TX</th>\n",
       "      <td>45.0</td>\n",
       "      <td>21.0</td>\n",
       "      <td>14.0</td>\n",
       "      <td>2.0</td>\n",
       "      <td>4.0</td>\n",
       "      <td>3.0</td>\n",
       "      <td>11.0</td>\n",
       "    </tr>\n",
       "    <tr>\n",
       "      <th>Albany GA</th>\n",
       "      <td>32.0</td>\n",
       "      <td>30.0</td>\n",
       "      <td>9.0</td>\n",
       "      <td>1.0</td>\n",
       "      <td>8.0</td>\n",
       "      <td>3.0</td>\n",
       "      <td>17.0</td>\n",
       "    </tr>\n",
       "    <tr>\n",
       "      <th>Albany-Schenectady-Troy NY</th>\n",
       "      <td>40.0</td>\n",
       "      <td>20.0</td>\n",
       "      <td>20.0</td>\n",
       "      <td>8.0</td>\n",
       "      <td>6.0</td>\n",
       "      <td>3.0</td>\n",
       "      <td>4.0</td>\n",
       "    </tr>\n",
       "    <tr>\n",
       "      <th>Albuquerque-Santa Fe NM</th>\n",
       "      <td>53.0</td>\n",
       "      <td>21.0</td>\n",
       "      <td>11.0</td>\n",
       "      <td>3.0</td>\n",
       "      <td>3.0</td>\n",
       "      <td>4.0</td>\n",
       "      <td>6.0</td>\n",
       "    </tr>\n",
       "    <tr>\n",
       "      <th>Alexandria LA</th>\n",
       "      <td>42.0</td>\n",
       "      <td>28.0</td>\n",
       "      <td>9.0</td>\n",
       "      <td>1.0</td>\n",
       "      <td>5.0</td>\n",
       "      <td>3.0</td>\n",
       "      <td>12.0</td>\n",
       "    </tr>\n",
       "  </tbody>\n",
       "</table>\n",
       "</div>"
      ],
      "text/plain": [
       "                             NFL   NBA   MLB  NHL  NASCAR  CBB   CFB\n",
       "DMA                                                                 \n",
       "Abilene-Sweetwater TX       45.0  21.0  14.0  2.0     4.0  3.0  11.0\n",
       "Albany GA                   32.0  30.0   9.0  1.0     8.0  3.0  17.0\n",
       "Albany-Schenectady-Troy NY  40.0  20.0  20.0  8.0     6.0  3.0   4.0\n",
       "Albuquerque-Santa Fe NM     53.0  21.0  11.0  3.0     3.0  4.0   6.0\n",
       "Alexandria LA               42.0  28.0   9.0  1.0     5.0  3.0  12.0"
      ]
     },
     "execution_count": 5,
     "metadata": {},
     "output_type": "execute_result"
    }
   ],
   "source": [
    "X.head()"
   ]
  },
  {
   "cell_type": "code",
   "execution_count": 6,
   "id": "94852e71-1fd4-4f11-9281-1374f8644d16",
   "metadata": {
    "deletable": false,
    "editable": false,
    "nbgrader": {
     "cell_type": "code",
     "checksum": "0e577bb47cfb5ce47cabb10e22b09e1d",
     "grade": true,
     "grade_id": "X-test",
     "locked": true,
     "points": 1,
     "schema_version": 3,
     "solution": false,
     "task": false
    },
    "tags": []
   },
   "outputs": [
    {
     "name": "stdout",
     "output_type": "stream",
     "text": [
      "OK\n"
     ]
    }
   ],
   "source": [
    "# TESTS\n",
    "assert type(X) == pd.DataFrame, \"X has the wrong type\"\n",
    "assert X.shape == (207,7), \"X has the wrong shape\"\n",
    "assert set(X.columns) == {'CBB', 'CFB', 'MLB', 'NASCAR', 'NBA', 'NFL', 'NHL'}, \"X has the wrong columns\"\n",
    "print(\"OK\")\n"
   ]
  },
  {
   "cell_type": "code",
   "execution_count": null,
   "id": "cbf02bcf-ecd0-4c3f-8712-c3611e0550f6",
   "metadata": {
    "deletable": false,
    "editable": false,
    "nbgrader": {
     "cell_type": "code",
     "checksum": "65ecbf2dc33e81bc325abaa98bc3084a",
     "grade": true,
     "grade_id": "X-grade",
     "locked": true,
     "points": 1,
     "schema_version": 3,
     "solution": false,
     "task": false
    }
   },
   "outputs": [],
   "source": [
    "# Intentionally left blank--do not delete"
   ]
  },
  {
   "cell_type": "markdown",
   "id": "3f96d59e-8541-4098-b7b7-b1cb4babc6f6",
   "metadata": {
    "deletable": false,
    "editable": false,
    "nbgrader": {
     "cell_type": "markdown",
     "checksum": "1dca5b7af42cde52a992aa032eb78eca",
     "grade": false,
     "grade_id": "cell-60bcba9c25410067",
     "locked": true,
     "schema_version": 3,
     "solution": false,
     "task": false
    }
   },
   "source": [
    "## 2.\n",
    "(3.1) Make a Boolean label series called `y` that is `True` in each row where Trump got more than half of the vote."
   ]
  },
  {
   "cell_type": "code",
   "execution_count": 10,
   "id": "608b0c93-8cf0-4f59-8378-9c5d6f43df16",
   "metadata": {
    "deletable": false,
    "nbgrader": {
     "cell_type": "code",
     "checksum": "d41f491dc170c62b854f1bdfa06dfd24",
     "grade": false,
     "grade_id": "label-answer",
     "locked": false,
     "schema_version": 3,
     "solution": true,
     "task": false
    },
    "tags": []
   },
   "outputs": [],
   "source": [
    "y = None\n",
    "\n",
    "y = fans['Trump 2016 Vote%'] > 50"
   ]
  },
  {
   "cell_type": "code",
   "execution_count": 11,
   "id": "bf8f4d02-09d6-4368-9a38-6b45295f35a9",
   "metadata": {
    "tags": []
   },
   "outputs": [
    {
     "data": {
      "text/plain": [
       "DMA\n",
       "Abilene-Sweetwater TX          True\n",
       "Albany GA                      True\n",
       "Albany-Schenectady-Troy NY    False\n",
       "Albuquerque-Santa Fe NM       False\n",
       "Alexandria LA                  True\n",
       "Name: Trump 2016 Vote%, dtype: bool"
      ]
     },
     "execution_count": 11,
     "metadata": {},
     "output_type": "execute_result"
    }
   ],
   "source": [
    "y.head()"
   ]
  },
  {
   "cell_type": "code",
   "execution_count": 12,
   "id": "6bde99a0-9233-405f-a003-bd7a64478202",
   "metadata": {
    "deletable": false,
    "editable": false,
    "nbgrader": {
     "cell_type": "code",
     "checksum": "7a31b7592dbc9a5261b79e7aa7b707b0",
     "grade": true,
     "grade_id": "label-test",
     "locked": true,
     "points": 2,
     "schema_version": 3,
     "solution": false,
     "task": false
    },
    "tags": []
   },
   "outputs": [
    {
     "name": "stdout",
     "output_type": "stream",
     "text": [
      "OK\n"
     ]
    }
   ],
   "source": [
    "# TESTS\n",
    "assert type(y) == pd.Series, \"y has the wrong type\"\n",
    "assert y.dtype == 'bool', \"y has wrong data type\"\n",
    "assert sum(y) == 138, \"y has the wrong values\"\n",
    "print(\"OK\")"
   ]
  },
  {
   "cell_type": "code",
   "execution_count": null,
   "id": "9db1a336-7066-499b-bc38-0e2ef683b27e",
   "metadata": {
    "deletable": false,
    "editable": false,
    "nbgrader": {
     "cell_type": "code",
     "checksum": "e9759d0c8623f3a0bca05b27bc88c9ca",
     "grade": true,
     "grade_id": "label-grade",
     "locked": true,
     "points": 0,
     "schema_version": 3,
     "solution": false,
     "task": false
    }
   },
   "outputs": [],
   "source": [
    "# Intentionally left blank--do not delete"
   ]
  },
  {
   "cell_type": "markdown",
   "id": "f3505db8-c29a-454f-892c-200e7ee1279b",
   "metadata": {
    "deletable": false,
    "editable": false,
    "nbgrader": {
     "cell_type": "markdown",
     "checksum": "41699ba7fad221f7acfe62ae9e72644e",
     "grade": false,
     "grade_id": "cell-da8fe37e0341fd52",
     "locked": true,
     "schema_version": 3,
     "solution": false,
     "task": false
    }
   },
   "source": [
    "## 3.\n",
    "(3.2) Split the dataset, reserving 15% of it as `X_test,y_test` for testing and the rest as `X_train,y_train` for training. \n",
    "\n",
    "**IMPORTANT**: Make sure the split order is randomized starting from random state 3383."
   ]
  },
  {
   "cell_type": "code",
   "execution_count": null,
   "id": "9dafbcd9-4c0d-42df-a3c9-e8a8346dff2b",
   "metadata": {
    "deletable": false,
    "nbgrader": {
     "cell_type": "code",
     "checksum": "d7bd9daea5825c7486e9515a492bd8bc",
     "grade": false,
     "grade_id": "split-answer",
     "locked": false,
     "schema_version": 3,
     "solution": true,
     "task": false
    },
    "tags": []
   },
   "outputs": [],
   "source": [
    "X_train, y_train = None, None\n",
    "X_test, y_test = None, None\n",
    "\n",
    "from sklearn.model_selection import train_test_split\n",
    "\n",
    "X_train, X_test, y_train, y_test = train_test_split(X, y, test_size=0.15, random_state=3383)\n"
   ]
  },
  {
   "cell_type": "code",
   "execution_count": 14,
   "id": "ddd8ba99-fc66-49eb-9880-fed9dc17261b",
   "metadata": {
    "tags": []
   },
   "outputs": [
    {
     "data": {
      "text/html": [
       "<div>\n",
       "<style scoped>\n",
       "    .dataframe tbody tr th:only-of-type {\n",
       "        vertical-align: middle;\n",
       "    }\n",
       "\n",
       "    .dataframe tbody tr th {\n",
       "        vertical-align: top;\n",
       "    }\n",
       "\n",
       "    .dataframe thead th {\n",
       "        text-align: right;\n",
       "    }\n",
       "</style>\n",
       "<table border=\"1\" class=\"dataframe\">\n",
       "  <thead>\n",
       "    <tr style=\"text-align: right;\">\n",
       "      <th></th>\n",
       "      <th>NFL</th>\n",
       "      <th>NBA</th>\n",
       "      <th>MLB</th>\n",
       "      <th>NHL</th>\n",
       "      <th>NASCAR</th>\n",
       "      <th>CBB</th>\n",
       "      <th>CFB</th>\n",
       "    </tr>\n",
       "    <tr>\n",
       "      <th>DMA</th>\n",
       "      <th></th>\n",
       "      <th></th>\n",
       "      <th></th>\n",
       "      <th></th>\n",
       "      <th></th>\n",
       "      <th></th>\n",
       "      <th></th>\n",
       "    </tr>\n",
       "  </thead>\n",
       "  <tbody>\n",
       "    <tr>\n",
       "      <th>Providence RI-New Bedford MA</th>\n",
       "      <td>41.0</td>\n",
       "      <td>24.0</td>\n",
       "      <td>18.0</td>\n",
       "      <td>10.0</td>\n",
       "      <td>3.0</td>\n",
       "      <td>3.0</td>\n",
       "      <td>3.0</td>\n",
       "    </tr>\n",
       "    <tr>\n",
       "      <th>Ft. Smith-Fayetteville-Springdale-Rogers AR</th>\n",
       "      <td>35.0</td>\n",
       "      <td>25.0</td>\n",
       "      <td>12.0</td>\n",
       "      <td>3.0</td>\n",
       "      <td>5.0</td>\n",
       "      <td>5.0</td>\n",
       "      <td>16.0</td>\n",
       "    </tr>\n",
       "    <tr>\n",
       "      <th>Ottumwa IA-Kirksville MO</th>\n",
       "      <td>37.0</td>\n",
       "      <td>16.0</td>\n",
       "      <td>18.0</td>\n",
       "      <td>4.0</td>\n",
       "      <td>11.0</td>\n",
       "      <td>9.0</td>\n",
       "      <td>6.0</td>\n",
       "    </tr>\n",
       "    <tr>\n",
       "      <th>Denver CO</th>\n",
       "      <td>49.0</td>\n",
       "      <td>19.0</td>\n",
       "      <td>13.0</td>\n",
       "      <td>7.0</td>\n",
       "      <td>3.0</td>\n",
       "      <td>3.0</td>\n",
       "      <td>6.0</td>\n",
       "    </tr>\n",
       "    <tr>\n",
       "      <th>Erie PA</th>\n",
       "      <td>44.0</td>\n",
       "      <td>16.0</td>\n",
       "      <td>15.0</td>\n",
       "      <td>12.0</td>\n",
       "      <td>6.0</td>\n",
       "      <td>3.0</td>\n",
       "      <td>5.0</td>\n",
       "    </tr>\n",
       "  </tbody>\n",
       "</table>\n",
       "</div>"
      ],
      "text/plain": [
       "                                              NFL   NBA   MLB   NHL  NASCAR  \\\n",
       "DMA                                                                           \n",
       "Providence RI-New Bedford MA                 41.0  24.0  18.0  10.0     3.0   \n",
       "Ft. Smith-Fayetteville-Springdale-Rogers AR  35.0  25.0  12.0   3.0     5.0   \n",
       "Ottumwa IA-Kirksville MO                     37.0  16.0  18.0   4.0    11.0   \n",
       "Denver CO                                    49.0  19.0  13.0   7.0     3.0   \n",
       "Erie PA                                      44.0  16.0  15.0  12.0     6.0   \n",
       "\n",
       "                                             CBB   CFB  \n",
       "DMA                                                     \n",
       "Providence RI-New Bedford MA                 3.0   3.0  \n",
       "Ft. Smith-Fayetteville-Springdale-Rogers AR  5.0  16.0  \n",
       "Ottumwa IA-Kirksville MO                     9.0   6.0  \n",
       "Denver CO                                    3.0   6.0  \n",
       "Erie PA                                      3.0   5.0  "
      ]
     },
     "execution_count": 14,
     "metadata": {},
     "output_type": "execute_result"
    }
   ],
   "source": [
    "X_train.head()"
   ]
  },
  {
   "cell_type": "code",
   "execution_count": 15,
   "id": "49af4865-5ecf-42f5-9b89-84fbb8c7b4b0",
   "metadata": {
    "deletable": false,
    "editable": false,
    "nbgrader": {
     "cell_type": "code",
     "checksum": "a3a497df150d3780f811e97f225fbf65",
     "grade": true,
     "grade_id": "split-grade",
     "locked": true,
     "points": 2,
     "schema_version": 3,
     "solution": false,
     "task": false
    },
    "tags": []
   },
   "outputs": [
    {
     "name": "stdout",
     "output_type": "stream",
     "text": [
      "OK\n"
     ]
    }
   ],
   "source": [
    "# TESTS\n",
    "assert X_train.shape[0]==175 and X_test.shape[0]==32, \"Wrong numbers of rows in the split\"\n",
    "assert all( np.isclose(X_train.iloc[0,:].values,[41,24,18,10,3,3,3]) ), \"Wrong rows in the split\"\n",
    "print(\"OK\")"
   ]
  },
  {
   "cell_type": "markdown",
   "id": "884e94d9-9cb7-4ddc-9267-8f17e2b36d41",
   "metadata": {
    "deletable": false,
    "editable": false,
    "nbgrader": {
     "cell_type": "markdown",
     "checksum": "17ddd345828e0a7ff3363fbc0723b18c",
     "grade": false,
     "grade_id": "cell-e974504585318b0d",
     "locked": true,
     "schema_version": 3,
     "solution": false,
     "task": false
    }
   },
   "source": [
    "## 4.\n",
    "(3.3) Train a decision tree called `dtree` of maximum depth 4 on the training dataset. Then compute the accuracy of the classifier on the test set, as the value `dtree_acc`.\n",
    "\n",
    "**Important!** The decision tree classifier may randomly break ties in its decisions. In order to make your results reproducible, at the classifier creation set its `random_state` equal to 302."
   ]
  },
  {
   "cell_type": "code",
   "execution_count": 16,
   "id": "c74a1225-7647-4e7d-80bc-79060ea49662",
   "metadata": {
    "deletable": false,
    "nbgrader": {
     "cell_type": "code",
     "checksum": "1191e6564002ac20a784cd3f361ac5c8",
     "grade": false,
     "grade_id": "dtree-answer",
     "locked": false,
     "schema_version": 3,
     "solution": true,
     "task": false
    },
    "tags": []
   },
   "outputs": [],
   "source": [
    "from sklearn.tree import DecisionTreeClassifier\n",
    "from sklearn.metrics import accuracy_score\n",
    "\n",
    "# Create and train the decision tree classifier with max depth 4 and random_state 302\n",
    "dtree = DecisionTreeClassifier(max_depth=4, random_state=302)\n",
    "dtree.fit(X_train, y_train)\n",
    "\n",
    "# Predict on the test set\n",
    "y_pred = dtree.predict(X_test)\n",
    "\n",
    "# Compute accuracy on the test set\n",
    "dtree_acc = accuracy_score(y_test, y_pred)\n"
   ]
  },
  {
   "cell_type": "code",
   "execution_count": 17,
   "id": "ffdc3e2b-3831-4707-9ada-6c23a46323be",
   "metadata": {
    "tags": []
   },
   "outputs": [
    {
     "name": "stdout",
     "output_type": "stream",
     "text": [
      "Decision tree accuracy = 68.7500%\n"
     ]
    }
   ],
   "source": [
    "print(f\"Decision tree accuracy = {dtree_acc:.4%}\")"
   ]
  },
  {
   "cell_type": "code",
   "execution_count": 18,
   "id": "008b33a3-03e0-4b0a-b7df-4dba0f450f56",
   "metadata": {
    "deletable": false,
    "editable": false,
    "nbgrader": {
     "cell_type": "code",
     "checksum": "fbbf543db4e9f8d05c3be68d088be26b",
     "grade": true,
     "grade_id": "dtree-test",
     "locked": true,
     "points": 2,
     "schema_version": 3,
     "solution": false,
     "task": false
    },
    "tags": []
   },
   "outputs": [
    {
     "name": "stdout",
     "output_type": "stream",
     "text": [
      "OK\n"
     ]
    }
   ],
   "source": [
    "# TESTS\n",
    "assert type(dtree)==DecisionTreeClassifier and dtree.max_depth==4, \"Classifier is not set up correctly\"\n",
    "assert 0.6 < dtree_acc < 0.8, \"accuracy score is wrong\"\n",
    "print(\"OK\")"
   ]
  },
  {
   "cell_type": "code",
   "execution_count": null,
   "id": "a79890fe-80f2-4d29-9aca-4442ef26ce04",
   "metadata": {
    "deletable": false,
    "editable": false,
    "nbgrader": {
     "cell_type": "code",
     "checksum": "ee760f71aa490352d5a5e3d2087cf635",
     "grade": true,
     "grade_id": "dtree-grade",
     "locked": true,
     "points": 2,
     "schema_version": 3,
     "solution": false,
     "task": false
    },
    "tags": []
   },
   "outputs": [],
   "source": [
    "# Intentionally left blank--do not delete"
   ]
  },
  {
   "cell_type": "markdown",
   "id": "94f83bcc-de70-4bea-bc32-03a81d71887f",
   "metadata": {
    "deletable": false,
    "editable": false,
    "nbgrader": {
     "cell_type": "markdown",
     "checksum": "7eb9193dc78b94bbfb506f8952e540d9",
     "grade": false,
     "grade_id": "cell-da248cff1e52f813",
     "locked": true,
     "schema_version": 3,
     "solution": false,
     "task": false
    }
   },
   "source": [
    "## 5.\n",
    "(3.3) Considering *Trump 2016 Vote%* to be the \"positive\" case, find the confusion matrix. How many false positives does the classifier have on the test set?"
   ]
  },
  {
   "cell_type": "code",
   "execution_count": null,
   "id": "50dd3a83-e617-4309-8190-fab703e2e7d3",
   "metadata": {
    "deletable": false,
    "nbgrader": {
     "cell_type": "code",
     "checksum": "3951f891fe5f7c962147815cf2e6690e",
     "grade": false,
     "grade_id": "FP-answer",
     "locked": false,
     "schema_version": 3,
     "solution": true,
     "task": false
    },
    "tags": []
   },
   "outputs": [
    {
     "name": "stdout",
     "output_type": "stream",
     "text": [
      "Confusion Matrix:\n",
      " [[ 3  7]\n",
      " [ 3 19]]\n",
      "False Positives: 7\n"
     ]
    }
   ],
   "source": [
    "from sklearn.metrics import confusion_matrix\n",
    "\n",
    "# Compute the confusion matrix\n",
    "Confusion = confusion_matrix(y_test, y_pred)\n",
    "\n",
    "# Extract the number of false positives (FP)\n",
    "FP = Confusion[0, 1]\n",
    "\n",
    "print(\"Confusion Matrix:\\n\", Confusion)\n",
    "print(\"False Positives:\", FP)"
   ]
  },
  {
   "cell_type": "code",
   "execution_count": 26,
   "id": "ba10123c-55f4-441b-a2af-9fb523efc24d",
   "metadata": {
    "tags": []
   },
   "outputs": [
    {
     "name": "stdout",
     "output_type": "stream",
     "text": [
      "Confusion matrix:\n",
      "[[ 3  7]\n",
      " [ 3 19]]\n",
      "There are 7 false positives on the test set.\n"
     ]
    }
   ],
   "source": [
    "print(\"Confusion matrix:\")\n",
    "print(Confusion)\n",
    "print(f\"There are {FP} false positives on the test set.\")"
   ]
  },
  {
   "cell_type": "code",
   "execution_count": 31,
   "id": "46c1b7c0-b56f-4098-b573-4992d2ac5d22",
   "metadata": {
    "deletable": false,
    "editable": false,
    "nbgrader": {
     "cell_type": "code",
     "checksum": "8e4a9ab36278ac7da39a2a317e303609",
     "grade": true,
     "grade_id": "FP-test",
     "locked": true,
     "points": 2,
     "schema_version": 3,
     "solution": false,
     "task": false
    },
    "tags": []
   },
   "outputs": [
    {
     "name": "stdout",
     "output_type": "stream",
     "text": [
      "OK\n"
     ]
    }
   ],
   "source": [
    "# TESTS\n",
    "assert Confusion.shape == (2, 2), \"Confusion matrix is the wrong type or shape\"\n",
    "assert Confusion.sum() == len(y_pred), \"Confusion matrix entries are wrong\"\n",
    "assert 0 <= FP <= len(y_pred), \"FP value is wrong\"\n",
    "print(\"OK\")"
   ]
  },
  {
   "cell_type": "code",
   "execution_count": null,
   "id": "40b5acf1-096c-4ee8-8b90-91874d3b1c6f",
   "metadata": {
    "deletable": false,
    "editable": false,
    "nbgrader": {
     "cell_type": "code",
     "checksum": "b98ced2b1fe922b6766eb2de9d5d7b5f",
     "grade": true,
     "grade_id": "FP-grade",
     "locked": true,
     "points": 2,
     "schema_version": 3,
     "solution": false,
     "task": false
    }
   },
   "outputs": [],
   "source": [
    "# Intentionally left blank--do not delete"
   ]
  },
  {
   "cell_type": "markdown",
   "id": "7dc5e4c5-4496-46df-ad97-1edb9dd7b3db",
   "metadata": {
    "deletable": false,
    "editable": false,
    "nbgrader": {
     "cell_type": "markdown",
     "checksum": "fe415089c5321f3b7c68689fb1b20e2f",
     "grade": false,
     "grade_id": "cell-58d22c604fc302f7",
     "locked": true,
     "schema_version": 3,
     "solution": false,
     "task": false
    }
   },
   "source": [
    "## 6.\n",
    "(3.3) Still considering *Trump 2016 Vote%* to be the \"positive\" case, compute the recall on the test set."
   ]
  },
  {
   "cell_type": "code",
   "execution_count": 32,
   "id": "756b392b-1884-4f47-8bd5-f0a4fccbb9dd",
   "metadata": {
    "deletable": false,
    "nbgrader": {
     "cell_type": "code",
     "checksum": "ae8d8dec733c55a56e11594bb45ea026",
     "grade": false,
     "grade_id": "recall-answer",
     "locked": false,
     "schema_version": 3,
     "solution": true,
     "task": false
    },
    "tags": []
   },
   "outputs": [],
   "source": [
    "from sklearn.metrics import recall_score\n",
    "\n",
    "recall = recall_score(y_test, y_pred, pos_label=True)"
   ]
  },
  {
   "cell_type": "code",
   "execution_count": 33,
   "id": "6d6b3608-34f2-4b15-810c-8f71436bdcd2",
   "metadata": {
    "tags": []
   },
   "outputs": [
    {
     "name": "stdout",
     "output_type": "stream",
     "text": [
      "Recall was 86.36% on the test set.\n"
     ]
    }
   ],
   "source": [
    "print(f\"Recall was {recall:.2%} on the test set.\")"
   ]
  },
  {
   "cell_type": "code",
   "execution_count": 34,
   "id": "c8860d18-6d4a-4fdb-9e3d-9f5a04851c92",
   "metadata": {
    "deletable": false,
    "editable": false,
    "nbgrader": {
     "cell_type": "code",
     "checksum": "da12ed661855a971ce16f8748a88a6b4",
     "grade": true,
     "grade_id": "recall-test",
     "locked": true,
     "points": 1,
     "schema_version": 3,
     "solution": false,
     "task": false
    },
    "tags": []
   },
   "outputs": [
    {
     "name": "stdout",
     "output_type": "stream",
     "text": [
      "OK\n"
     ]
    }
   ],
   "source": [
    "# TESTS\n",
    "assert 0.8 < recall < 0.9\n",
    "print(\"OK\")"
   ]
  },
  {
   "cell_type": "code",
   "execution_count": null,
   "id": "72dd48cd-4cd8-4e17-a37c-868f8d592d1a",
   "metadata": {
    "deletable": false,
    "editable": false,
    "nbgrader": {
     "cell_type": "code",
     "checksum": "252ce03d83e0e604d1ba058c409abf24",
     "grade": true,
     "grade_id": "recall-grade",
     "locked": true,
     "points": 3,
     "schema_version": 3,
     "solution": false,
     "task": false
    }
   },
   "outputs": [],
   "source": [
    "# Intentionally left blank--do not delete"
   ]
  },
  {
   "cell_type": "markdown",
   "id": "ef7c13cf-f101-4223-9934-d21aabb2e81b",
   "metadata": {
    "deletable": false,
    "editable": false,
    "nbgrader": {
     "cell_type": "markdown",
     "checksum": "70073ccf784763210735e4aad9792df3",
     "grade": false,
     "grade_id": "cell-64d023fe80e6fe2f",
     "locked": true,
     "schema_version": 3,
     "solution": false,
     "task": false
    }
   },
   "source": [
    "## 7.\n",
    "(3.3) Which of the sports leagues (i.e., columns) is most important to the classifier? What fraction of the overall impurity reduction does it account for?"
   ]
  },
  {
   "cell_type": "code",
   "execution_count": null,
   "id": "00db7cf8-5b81-4d17-b42b-3c6ab66bbf29",
   "metadata": {
    "deletable": false,
    "nbgrader": {
     "cell_type": "code",
     "checksum": "d4aa312073e39364de72a44523986804",
     "grade": false,
     "grade_id": "importance-answer",
     "locked": false,
     "schema_version": 3,
     "solution": true,
     "task": false
    },
    "tags": []
   },
   "outputs": [
    {
     "name": "stdout",
     "output_type": "stream",
     "text": [
      "Most important feature: NASCAR\n",
      "Fraction of overall impurity reduction: 0.5958104892983503\n"
     ]
    }
   ],
   "source": [
    "most_important = None\n",
    "fraction_reduction = None\n",
    "\n",
    "feature_importances = dtree.feature_importances_\n",
    "\n",
    "most_important_index = np.argmax(feature_importances)\n",
    "\n",
    "most_important = X.columns[most_important_index]\n",
    "\n",
    "fraction_reduction = feature_importances[most_important_index] / feature_importances.sum()\n",
    "\n",
    "print(\"Most important feature:\", most_important)\n",
    "print(\"Fraction of overall impurity reduction:\", fraction_reduction)"
   ]
  },
  {
   "cell_type": "code",
   "execution_count": 36,
   "id": "0805e222-74c6-4649-a96b-8c855059f067",
   "metadata": {
    "tags": []
   },
   "outputs": [
    {
     "name": "stdout",
     "output_type": "stream",
     "text": [
      "NASCAR is most important, accounting for 59.581% of the impurity reduction.\n"
     ]
    }
   ],
   "source": [
    "print(f\"{most_important} is most important, accounting for {fraction_reduction:.3%} of the impurity reduction.\")"
   ]
  },
  {
   "cell_type": "code",
   "execution_count": 37,
   "id": "1e79449b-0e5a-476f-b0ea-e43358eec598",
   "metadata": {
    "deletable": false,
    "editable": false,
    "nbgrader": {
     "cell_type": "code",
     "checksum": "cdd6bb24c06a765f9b96b5852e230434",
     "grade": true,
     "grade_id": "important-test",
     "locked": true,
     "points": 2,
     "schema_version": 3,
     "solution": false,
     "task": false
    },
    "tags": []
   },
   "outputs": [
    {
     "name": "stdout",
     "output_type": "stream",
     "text": [
      "OK\n"
     ]
    }
   ],
   "source": [
    "# TESTS\n",
    "assert type(most_important) == str, \"most_important must be a string\"\n",
    "assert most_important in X.columns, \"most_important must be the name of a column\"\n",
    "assert 0.5 < fraction_reduction < 0.75, \"wrong value\"\n",
    "print(\"OK\")"
   ]
  },
  {
   "cell_type": "code",
   "execution_count": null,
   "id": "dca57168-93cb-4174-a7c3-533662230fa9",
   "metadata": {
    "deletable": false,
    "editable": false,
    "nbgrader": {
     "cell_type": "code",
     "checksum": "5452d51ef71e34d9dd986ced98e8ec48",
     "grade": true,
     "grade_id": "important-grade",
     "locked": true,
     "points": 2,
     "schema_version": 3,
     "solution": false,
     "task": false
    }
   },
   "outputs": [],
   "source": [
    "# Intentionally left blank--do not delete"
   ]
  }
 ],
 "metadata": {
  "kernelspec": {
   "display_name": "Python 3",
   "language": "python",
   "name": "python3"
  },
  "language_info": {
   "codemirror_mode": {
    "name": "ipython",
    "version": 3
   },
   "file_extension": ".py",
   "mimetype": "text/x-python",
   "name": "python",
   "nbconvert_exporter": "python",
   "pygments_lexer": "ipython3",
   "version": "3.12.1"
  }
 },
 "nbformat": 4,
 "nbformat_minor": 5
}
