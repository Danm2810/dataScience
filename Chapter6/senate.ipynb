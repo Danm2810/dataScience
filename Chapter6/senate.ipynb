{
 "cells": [
  {
   "cell_type": "code",
   "execution_count": 1,
   "metadata": {
    "deletable": false,
    "editable": false,
    "nbgrader": {
     "cell_type": "code",
     "checksum": "11440beaf39dfcd7b0bb2265f4edfeca",
     "grade": false,
     "grade_id": "cell-a80a6202c7e71a4d",
     "locked": true,
     "schema_version": 3,
     "solution": false,
     "task": false
    },
    "tags": []
   },
   "outputs": [],
   "source": [
    "import warnings\n",
    "warnings.simplefilter(action='ignore', category=FutureWarning)\n",
    "warnings.simplefilter(action='ignore', category=DeprecationWarning)\n",
    "\n",
    "import numpy as np\n",
    "import pandas as pd\n",
    "import seaborn as sns"
   ]
  },
  {
   "cell_type": "markdown",
   "metadata": {
    "deletable": false,
    "editable": false,
    "nbgrader": {
     "cell_type": "markdown",
     "checksum": "47eaff2ed18e42968d6912feaaebc0ec",
     "grade": false,
     "grade_id": "cell-adb7f16168b55a60",
     "locked": true,
     "schema_version": 3,
     "solution": false,
     "task": false
    },
    "tags": []
   },
   "source": [
    "We load a dataset from [voteview.com](https://voteview.com), which tabulates the roll-call vote of every session of the U.S. Congress. Here, we load all of the votes cast by senators between the 91st and 111th sessions of Congress. "
   ]
  },
  {
   "cell_type": "code",
   "execution_count": 2,
   "metadata": {
    "deletable": false,
    "editable": false,
    "nbgrader": {
     "cell_type": "code",
     "checksum": "c75e760f4528fb38050ce941b02d3285",
     "grade": false,
     "grade_id": "cell-3c19b154afe9dacd",
     "locked": true,
     "schema_version": 3,
     "solution": false,
     "task": false
    },
    "tags": []
   },
   "outputs": [
    {
     "data": {
      "text/html": [
       "<div>\n",
       "<style scoped>\n",
       "    .dataframe tbody tr th:only-of-type {\n",
       "        vertical-align: middle;\n",
       "    }\n",
       "\n",
       "    .dataframe tbody tr th {\n",
       "        vertical-align: top;\n",
       "    }\n",
       "\n",
       "    .dataframe thead th {\n",
       "        text-align: right;\n",
       "    }\n",
       "</style>\n",
       "<table border=\"1\" class=\"dataframe\">\n",
       "  <thead>\n",
       "    <tr style=\"text-align: right;\">\n",
       "      <th></th>\n",
       "      <th>congress</th>\n",
       "      <th>rollnumber</th>\n",
       "      <th>icpsr</th>\n",
       "      <th>cast_code</th>\n",
       "    </tr>\n",
       "  </thead>\n",
       "  <tbody>\n",
       "    <tr>\n",
       "      <th>0</th>\n",
       "      <td>91</td>\n",
       "      <td>1</td>\n",
       "      <td>52</td>\n",
       "      <td>1</td>\n",
       "    </tr>\n",
       "    <tr>\n",
       "      <th>1</th>\n",
       "      <td>91</td>\n",
       "      <td>1</td>\n",
       "      <td>142</td>\n",
       "      <td>6</td>\n",
       "    </tr>\n",
       "    <tr>\n",
       "      <th>2</th>\n",
       "      <td>91</td>\n",
       "      <td>1</td>\n",
       "      <td>165</td>\n",
       "      <td>6</td>\n",
       "    </tr>\n",
       "    <tr>\n",
       "      <th>3</th>\n",
       "      <td>91</td>\n",
       "      <td>1</td>\n",
       "      <td>645</td>\n",
       "      <td>6</td>\n",
       "    </tr>\n",
       "    <tr>\n",
       "      <th>4</th>\n",
       "      <td>91</td>\n",
       "      <td>1</td>\n",
       "      <td>688</td>\n",
       "      <td>6</td>\n",
       "    </tr>\n",
       "    <tr>\n",
       "      <th>...</th>\n",
       "      <td>...</td>\n",
       "      <td>...</td>\n",
       "      <td>...</td>\n",
       "      <td>...</td>\n",
       "    </tr>\n",
       "    <tr>\n",
       "      <th>1703219</th>\n",
       "      <td>111</td>\n",
       "      <td>696</td>\n",
       "      <td>49901</td>\n",
       "      <td>1</td>\n",
       "    </tr>\n",
       "    <tr>\n",
       "      <th>1703220</th>\n",
       "      <td>111</td>\n",
       "      <td>696</td>\n",
       "      <td>49903</td>\n",
       "      <td>1</td>\n",
       "    </tr>\n",
       "    <tr>\n",
       "      <th>1703221</th>\n",
       "      <td>111</td>\n",
       "      <td>696</td>\n",
       "      <td>94659</td>\n",
       "      <td>1</td>\n",
       "    </tr>\n",
       "    <tr>\n",
       "      <th>1703222</th>\n",
       "      <td>111</td>\n",
       "      <td>696</td>\n",
       "      <td>94910</td>\n",
       "      <td>1</td>\n",
       "    </tr>\n",
       "    <tr>\n",
       "      <th>1703223</th>\n",
       "      <td>111</td>\n",
       "      <td>696</td>\n",
       "      <td>99911</td>\n",
       "      <td>1</td>\n",
       "    </tr>\n",
       "  </tbody>\n",
       "</table>\n",
       "<p>1703224 rows × 4 columns</p>\n",
       "</div>"
      ],
      "text/plain": [
       "         congress  rollnumber  icpsr  cast_code\n",
       "0              91           1     52          1\n",
       "1              91           1    142          6\n",
       "2              91           1    165          6\n",
       "3              91           1    645          6\n",
       "4              91           1    688          6\n",
       "...           ...         ...    ...        ...\n",
       "1703219       111         696  49901          1\n",
       "1703220       111         696  49903          1\n",
       "1703221       111         696  94659          1\n",
       "1703222       111         696  94910          1\n",
       "1703223       111         696  99911          1\n",
       "\n",
       "[1703224 rows x 4 columns]"
      ]
     },
     "execution_count": 2,
     "metadata": {},
     "output_type": "execute_result"
    }
   ],
   "source": [
    "senate = pd.read_csv(\"senate_votes.csv\")\n",
    "senate"
   ]
  },
  {
   "cell_type": "markdown",
   "metadata": {
    "deletable": false,
    "editable": false,
    "nbgrader": {
     "cell_type": "markdown",
     "checksum": "4a6ea4aa1659a5d2df697d88cac3b8bc",
     "grade": false,
     "grade_id": "cell-05b4ae7b00cde5c9",
     "locked": true,
     "schema_version": 3,
     "solution": false,
     "task": false
    },
    "tags": []
   },
   "source": [
    "The `rollnumber` is a serial number of the bill or resolution that was voted on, and `icpsr` is a unique identifier for everyone who has ever served in Congress.\n",
    "\n",
    "Without going into parliamentary details, there are three codes that mean a \"yes\" vote and three that mean \"no.\" We will encode these as +1 and -1, respectively, and record anything else as a 0."
   ]
  },
  {
   "cell_type": "code",
   "execution_count": 3,
   "metadata": {
    "deletable": false,
    "editable": false,
    "nbgrader": {
     "cell_type": "code",
     "checksum": "841d939ba61dd0e3cf7021c9855cbde2",
     "grade": false,
     "grade_id": "cell-d457ffa0b7217d47",
     "locked": true,
     "schema_version": 3,
     "solution": false,
     "task": false
    },
    "tags": []
   },
   "outputs": [
    {
     "data": {
      "text/html": [
       "<div>\n",
       "<style scoped>\n",
       "    .dataframe tbody tr th:only-of-type {\n",
       "        vertical-align: middle;\n",
       "    }\n",
       "\n",
       "    .dataframe tbody tr th {\n",
       "        vertical-align: top;\n",
       "    }\n",
       "\n",
       "    .dataframe thead th {\n",
       "        text-align: right;\n",
       "    }\n",
       "</style>\n",
       "<table border=\"1\" class=\"dataframe\">\n",
       "  <thead>\n",
       "    <tr style=\"text-align: right;\">\n",
       "      <th></th>\n",
       "      <th>congress</th>\n",
       "      <th>rollnumber</th>\n",
       "      <th>icpsr</th>\n",
       "      <th>cast_code</th>\n",
       "      <th>vote</th>\n",
       "    </tr>\n",
       "  </thead>\n",
       "  <tbody>\n",
       "    <tr>\n",
       "      <th>0</th>\n",
       "      <td>91</td>\n",
       "      <td>1</td>\n",
       "      <td>52</td>\n",
       "      <td>1</td>\n",
       "      <td>1</td>\n",
       "    </tr>\n",
       "    <tr>\n",
       "      <th>1</th>\n",
       "      <td>91</td>\n",
       "      <td>1</td>\n",
       "      <td>142</td>\n",
       "      <td>6</td>\n",
       "      <td>-1</td>\n",
       "    </tr>\n",
       "    <tr>\n",
       "      <th>2</th>\n",
       "      <td>91</td>\n",
       "      <td>1</td>\n",
       "      <td>165</td>\n",
       "      <td>6</td>\n",
       "      <td>-1</td>\n",
       "    </tr>\n",
       "    <tr>\n",
       "      <th>3</th>\n",
       "      <td>91</td>\n",
       "      <td>1</td>\n",
       "      <td>645</td>\n",
       "      <td>6</td>\n",
       "      <td>-1</td>\n",
       "    </tr>\n",
       "    <tr>\n",
       "      <th>4</th>\n",
       "      <td>91</td>\n",
       "      <td>1</td>\n",
       "      <td>688</td>\n",
       "      <td>6</td>\n",
       "      <td>-1</td>\n",
       "    </tr>\n",
       "    <tr>\n",
       "      <th>5</th>\n",
       "      <td>91</td>\n",
       "      <td>1</td>\n",
       "      <td>823</td>\n",
       "      <td>1</td>\n",
       "      <td>1</td>\n",
       "    </tr>\n",
       "  </tbody>\n",
       "</table>\n",
       "</div>"
      ],
      "text/plain": [
       "   congress  rollnumber  icpsr  cast_code  vote\n",
       "0        91           1     52          1     1\n",
       "1        91           1    142          6    -1\n",
       "2        91           1    165          6    -1\n",
       "3        91           1    645          6    -1\n",
       "4        91           1    688          6    -1\n",
       "5        91           1    823          1     1"
      ]
     },
     "execution_count": 3,
     "metadata": {},
     "output_type": "execute_result"
    }
   ],
   "source": [
    "def vote_type(v):\n",
    "    if v in [1,2,3]: return 1\n",
    "    elif v in [4,5,6]: return -1\n",
    "    else: return 0\n",
    "\n",
    "senate[\"vote\"] = senate[\"cast_code\"].apply(vote_type)\n",
    "senate.head(6)"
   ]
  },
  {
   "cell_type": "markdown",
   "metadata": {
    "deletable": false,
    "editable": false,
    "nbgrader": {
     "cell_type": "markdown",
     "checksum": "97fbd92fb042d4178d84621ba173b0e7",
     "grade": false,
     "grade_id": "cell-8da59084cc276514",
     "locked": true,
     "schema_version": 3,
     "solution": false,
     "task": false
    },
    "tags": []
   },
   "source": [
    "In addition to the voting records, we will also access to the party affiliations of the individual senators. This information is loaded from a separate file here."
   ]
  },
  {
   "cell_type": "code",
   "execution_count": 4,
   "metadata": {
    "deletable": false,
    "editable": false,
    "nbgrader": {
     "cell_type": "code",
     "checksum": "2ee615730f7b80b209d6b2547ce8e666",
     "grade": false,
     "grade_id": "cell-e9eba925ea854aa8",
     "locked": true,
     "schema_version": 3,
     "solution": false,
     "task": false
    },
    "tags": []
   },
   "outputs": [
    {
     "data": {
      "text/html": [
       "<div>\n",
       "<style scoped>\n",
       "    .dataframe tbody tr th:only-of-type {\n",
       "        vertical-align: middle;\n",
       "    }\n",
       "\n",
       "    .dataframe tbody tr th {\n",
       "        vertical-align: top;\n",
       "    }\n",
       "\n",
       "    .dataframe thead th {\n",
       "        text-align: right;\n",
       "    }\n",
       "</style>\n",
       "<table border=\"1\" class=\"dataframe\">\n",
       "  <thead>\n",
       "    <tr style=\"text-align: right;\">\n",
       "      <th></th>\n",
       "      <th>congress</th>\n",
       "      <th>chamber</th>\n",
       "      <th>state_icpsr</th>\n",
       "      <th>district_code</th>\n",
       "      <th>state_abbrev</th>\n",
       "      <th>party_code</th>\n",
       "      <th>occupancy</th>\n",
       "      <th>last_means</th>\n",
       "      <th>bioname</th>\n",
       "      <th>bioguide_id</th>\n",
       "      <th>...</th>\n",
       "      <th>died</th>\n",
       "      <th>nominate_dim1</th>\n",
       "      <th>nominate_dim2</th>\n",
       "      <th>nominate_log_likelihood</th>\n",
       "      <th>nominate_geo_mean_probability</th>\n",
       "      <th>nominate_number_of_votes</th>\n",
       "      <th>nominate_number_of_errors</th>\n",
       "      <th>conditional</th>\n",
       "      <th>nokken_poole_dim1</th>\n",
       "      <th>nokken_poole_dim2</th>\n",
       "    </tr>\n",
       "    <tr>\n",
       "      <th>icpsr</th>\n",
       "      <th></th>\n",
       "      <th></th>\n",
       "      <th></th>\n",
       "      <th></th>\n",
       "      <th></th>\n",
       "      <th></th>\n",
       "      <th></th>\n",
       "      <th></th>\n",
       "      <th></th>\n",
       "      <th></th>\n",
       "      <th></th>\n",
       "      <th></th>\n",
       "      <th></th>\n",
       "      <th></th>\n",
       "      <th></th>\n",
       "      <th></th>\n",
       "      <th></th>\n",
       "      <th></th>\n",
       "      <th></th>\n",
       "      <th></th>\n",
       "      <th></th>\n",
       "    </tr>\n",
       "  </thead>\n",
       "  <tbody>\n",
       "    <tr>\n",
       "      <th>20146</th>\n",
       "      <td>117</td>\n",
       "      <td>Senate</td>\n",
       "      <td>56</td>\n",
       "      <td>0.0</td>\n",
       "      <td>WV</td>\n",
       "      <td>200</td>\n",
       "      <td>NaN</td>\n",
       "      <td>NaN</td>\n",
       "      <td>CAPITO, Shelley Moore</td>\n",
       "      <td>C001047</td>\n",
       "      <td>...</td>\n",
       "      <td>NaN</td>\n",
       "      <td>0.270</td>\n",
       "      <td>0.083</td>\n",
       "      <td>-86.76665</td>\n",
       "      <td>0.83526</td>\n",
       "      <td>482.0</td>\n",
       "      <td>29.0</td>\n",
       "      <td>NaN</td>\n",
       "      <td>0.310</td>\n",
       "      <td>0.160</td>\n",
       "    </tr>\n",
       "    <tr>\n",
       "      <th>40915</th>\n",
       "      <td>117</td>\n",
       "      <td>Senate</td>\n",
       "      <td>56</td>\n",
       "      <td>0.0</td>\n",
       "      <td>WV</td>\n",
       "      <td>100</td>\n",
       "      <td>NaN</td>\n",
       "      <td>NaN</td>\n",
       "      <td>MANCHIN, Joe, III</td>\n",
       "      <td>M001183</td>\n",
       "      <td>...</td>\n",
       "      <td>NaN</td>\n",
       "      <td>-0.058</td>\n",
       "      <td>0.429</td>\n",
       "      <td>-46.55210</td>\n",
       "      <td>0.90848</td>\n",
       "      <td>485.0</td>\n",
       "      <td>12.0</td>\n",
       "      <td>NaN</td>\n",
       "      <td>-0.071</td>\n",
       "      <td>0.389</td>\n",
       "    </tr>\n",
       "    <tr>\n",
       "      <th>29940</th>\n",
       "      <td>117</td>\n",
       "      <td>Senate</td>\n",
       "      <td>25</td>\n",
       "      <td>0.0</td>\n",
       "      <td>WI</td>\n",
       "      <td>100</td>\n",
       "      <td>NaN</td>\n",
       "      <td>NaN</td>\n",
       "      <td>BALDWIN, Tammy</td>\n",
       "      <td>B001230</td>\n",
       "      <td>...</td>\n",
       "      <td>NaN</td>\n",
       "      <td>-0.492</td>\n",
       "      <td>-0.138</td>\n",
       "      <td>-10.25820</td>\n",
       "      <td>0.97997</td>\n",
       "      <td>507.0</td>\n",
       "      <td>5.0</td>\n",
       "      <td>NaN</td>\n",
       "      <td>-0.412</td>\n",
       "      <td>-0.186</td>\n",
       "    </tr>\n",
       "    <tr>\n",
       "      <th>41111</th>\n",
       "      <td>117</td>\n",
       "      <td>Senate</td>\n",
       "      <td>25</td>\n",
       "      <td>0.0</td>\n",
       "      <td>WI</td>\n",
       "      <td>200</td>\n",
       "      <td>NaN</td>\n",
       "      <td>NaN</td>\n",
       "      <td>JOHNSON, Ron</td>\n",
       "      <td>J000293</td>\n",
       "      <td>...</td>\n",
       "      <td>NaN</td>\n",
       "      <td>0.603</td>\n",
       "      <td>-0.237</td>\n",
       "      <td>-83.54680</td>\n",
       "      <td>0.83359</td>\n",
       "      <td>459.0</td>\n",
       "      <td>39.0</td>\n",
       "      <td>NaN</td>\n",
       "      <td>0.568</td>\n",
       "      <td>-0.055</td>\n",
       "    </tr>\n",
       "    <tr>\n",
       "      <th>20953</th>\n",
       "      <td>117</td>\n",
       "      <td>Senate</td>\n",
       "      <td>68</td>\n",
       "      <td>0.0</td>\n",
       "      <td>WY</td>\n",
       "      <td>200</td>\n",
       "      <td>NaN</td>\n",
       "      <td>NaN</td>\n",
       "      <td>LUMMIS, Cynthia M.</td>\n",
       "      <td>L000571</td>\n",
       "      <td>...</td>\n",
       "      <td>NaN</td>\n",
       "      <td>0.680</td>\n",
       "      <td>-0.378</td>\n",
       "      <td>-73.86709</td>\n",
       "      <td>0.85370</td>\n",
       "      <td>467.0</td>\n",
       "      <td>27.0</td>\n",
       "      <td>NaN</td>\n",
       "      <td>0.683</td>\n",
       "      <td>-0.287</td>\n",
       "    </tr>\n",
       "    <tr>\n",
       "      <th>40707</th>\n",
       "      <td>117</td>\n",
       "      <td>Senate</td>\n",
       "      <td>68</td>\n",
       "      <td>0.0</td>\n",
       "      <td>WY</td>\n",
       "      <td>200</td>\n",
       "      <td>NaN</td>\n",
       "      <td>NaN</td>\n",
       "      <td>BARRASSO, John A.</td>\n",
       "      <td>B001261</td>\n",
       "      <td>...</td>\n",
       "      <td>NaN</td>\n",
       "      <td>0.538</td>\n",
       "      <td>0.231</td>\n",
       "      <td>-74.38305</td>\n",
       "      <td>0.85477</td>\n",
       "      <td>474.0</td>\n",
       "      <td>26.0</td>\n",
       "      <td>NaN</td>\n",
       "      <td>0.536</td>\n",
       "      <td>0.170</td>\n",
       "    </tr>\n",
       "  </tbody>\n",
       "</table>\n",
       "<p>6 rows × 21 columns</p>\n",
       "</div>"
      ],
      "text/plain": [
       "       congress chamber  state_icpsr  district_code state_abbrev  party_code  \\\n",
       "icpsr                                                                          \n",
       "20146       117  Senate           56            0.0           WV         200   \n",
       "40915       117  Senate           56            0.0           WV         100   \n",
       "29940       117  Senate           25            0.0           WI         100   \n",
       "41111       117  Senate           25            0.0           WI         200   \n",
       "20953       117  Senate           68            0.0           WY         200   \n",
       "40707       117  Senate           68            0.0           WY         200   \n",
       "\n",
       "       occupancy  last_means                bioname bioguide_id  ...  died  \\\n",
       "icpsr                                                            ...         \n",
       "20146        NaN         NaN  CAPITO, Shelley Moore     C001047  ...   NaN   \n",
       "40915        NaN         NaN      MANCHIN, Joe, III     M001183  ...   NaN   \n",
       "29940        NaN         NaN         BALDWIN, Tammy     B001230  ...   NaN   \n",
       "41111        NaN         NaN           JOHNSON, Ron     J000293  ...   NaN   \n",
       "20953        NaN         NaN     LUMMIS, Cynthia M.     L000571  ...   NaN   \n",
       "40707        NaN         NaN      BARRASSO, John A.     B001261  ...   NaN   \n",
       "\n",
       "       nominate_dim1  nominate_dim2  nominate_log_likelihood  \\\n",
       "icpsr                                                          \n",
       "20146          0.270          0.083                -86.76665   \n",
       "40915         -0.058          0.429                -46.55210   \n",
       "29940         -0.492         -0.138                -10.25820   \n",
       "41111          0.603         -0.237                -83.54680   \n",
       "20953          0.680         -0.378                -73.86709   \n",
       "40707          0.538          0.231                -74.38305   \n",
       "\n",
       "       nominate_geo_mean_probability  nominate_number_of_votes  \\\n",
       "icpsr                                                            \n",
       "20146                        0.83526                     482.0   \n",
       "40915                        0.90848                     485.0   \n",
       "29940                        0.97997                     507.0   \n",
       "41111                        0.83359                     459.0   \n",
       "20953                        0.85370                     467.0   \n",
       "40707                        0.85477                     474.0   \n",
       "\n",
       "       nominate_number_of_errors  conditional  nokken_poole_dim1  \\\n",
       "icpsr                                                              \n",
       "20146                       29.0          NaN              0.310   \n",
       "40915                       12.0          NaN             -0.071   \n",
       "29940                        5.0          NaN             -0.412   \n",
       "41111                       39.0          NaN              0.568   \n",
       "20953                       27.0          NaN              0.683   \n",
       "40707                       26.0          NaN              0.536   \n",
       "\n",
       "       nokken_poole_dim2  \n",
       "icpsr                     \n",
       "20146              0.160  \n",
       "40915              0.389  \n",
       "29940             -0.186  \n",
       "41111             -0.055  \n",
       "20953             -0.287  \n",
       "40707              0.170  \n",
       "\n",
       "[6 rows x 21 columns]"
      ]
     },
     "execution_count": 4,
     "metadata": {},
     "output_type": "execute_result"
    }
   ],
   "source": [
    "members = pd.read_csv(\"HSall_members.csv\").set_index(\"icpsr\")\n",
    "members.tail(6)"
   ]
  },
  {
   "cell_type": "markdown",
   "metadata": {
    "deletable": false,
    "editable": false,
    "nbgrader": {
     "cell_type": "markdown",
     "checksum": "30cb0e519392e433b048f9e4f29e5942",
     "grade": false,
     "grade_id": "cell-3595860f0e525c3e",
     "locked": true,
     "schema_version": 3,
     "solution": false,
     "task": false
    },
    "tags": []
   },
   "source": [
    "There have been over 50 political parties for senators over U.S. history, as encoded by `party_code` above. For modern times, we want to identify the two major parties and label all the others as independent."
   ]
  },
  {
   "cell_type": "code",
   "execution_count": 5,
   "metadata": {
    "deletable": false,
    "editable": false,
    "nbgrader": {
     "cell_type": "code",
     "checksum": "08ff58bb0dd09d1eae3770a978ed656a",
     "grade": false,
     "grade_id": "cell-f57c19453c622cf7",
     "locked": true,
     "schema_version": 3,
     "solution": false,
     "task": false
    },
    "tags": []
   },
   "outputs": [
    {
     "name": "stdout",
     "output_type": "stream",
     "text": [
      "party\n",
      "Dem    23147\n",
      "Rep    19596\n",
      "Ind     7192\n",
      "Name: count, dtype: int64\n"
     ]
    }
   ],
   "source": [
    "# First, set all possible codes to \"Ind\"\n",
    "party_name = pd.Series(\"Ind\",index=members[\"party_code\"].unique()) \n",
    "# Now set the two we really care about\n",
    "party_name[100] = \"Dem\"\n",
    "party_name[200] = \"Rep\"\n",
    "\n",
    "members[\"party\"] = members[\"party_code\"].replace(party_name)\n",
    "\n",
    "print(members[\"party\"].value_counts())"
   ]
  },
  {
   "cell_type": "markdown",
   "metadata": {
    "deletable": false,
    "editable": false,
    "nbgrader": {
     "cell_type": "markdown",
     "checksum": "e87f599593c2d4b67b91bdc99516e3c1",
     "grade": false,
     "grade_id": "cell-dc2b7b5ac44d992a",
     "locked": true,
     "schema_version": 3,
     "solution": false,
     "task": false
    },
    "tags": []
   },
   "source": [
    "We now write a function that returns the data we need to get the voting data within a single session. The first output is a table having the senator ID as the index, the individual roll calls as the columns, and values that are the individual votes. Any senator with a `NaN` in the record did not serve the full session, and their row is dropped. (Details: This requires a fancy [reshaping operation](https://pandas.pydata.org/docs/user_guide/reshaping.html) called a `pivot`.)\n",
    "\n",
    "The second output is the list of party affiliations for the senators in the table. This list implies an obvious reference clustering by political party."
   ]
  },
  {
   "cell_type": "code",
   "execution_count": 6,
   "metadata": {
    "deletable": false,
    "editable": false,
    "nbgrader": {
     "cell_type": "code",
     "checksum": "a5555d141ad5ab2ef5b723dcab10f211",
     "grade": false,
     "grade_id": "cell-9719b455ce41089d",
     "locked": true,
     "schema_version": 3,
     "solution": false,
     "task": false
    },
    "tags": []
   },
   "outputs": [],
   "source": [
    "def session(number, senate, members):\n",
    "    idx = senate[\"congress\"] == number\n",
    "    votes = senate.loc[idx].pivot(index=\"icpsr\",columns=\"rollnumber\",values=\"vote\").dropna()\n",
    "    idx = members[\"congress\"] == number\n",
    "    party = members.loc[idx,\"party\"][votes.index]\n",
    "    # If more than one party affiliation, use only the last one:\n",
    "    party = party.loc[np.bitwise_not(party.index.duplicated(keep=\"last\"))]   \n",
    "    return votes, party\n"
   ]
  },
  {
   "cell_type": "markdown",
   "metadata": {
    "deletable": false,
    "editable": false,
    "nbgrader": {
     "cell_type": "markdown",
     "checksum": "354c29dd98d6910ebb7be465832b647d",
     "grade": false,
     "grade_id": "cell-aed625feffc133e2",
     "locked": true,
     "schema_version": 3,
     "solution": false,
     "task": false
    },
    "tags": []
   },
   "source": [
    "The two ouputs from `session` are effectively the feature matrix and the party labels for the indicated session. So, for example, in the 100th Congress we have"
   ]
  },
  {
   "cell_type": "code",
   "execution_count": 7,
   "metadata": {
    "deletable": false,
    "editable": false,
    "nbgrader": {
     "cell_type": "code",
     "checksum": "26cf21018fc531764f1350dea8dc9bbb",
     "grade": false,
     "grade_id": "cell-24ffa3a979f2b574",
     "locked": true,
     "schema_version": 3,
     "solution": false,
     "task": false
    },
    "tags": []
   },
   "outputs": [
    {
     "name": "stdout",
     "output_type": "stream",
     "text": [
      "party counts:\n",
      "party\n",
      "Dem    54\n",
      "Rep    46\n",
      "Name: count, dtype: int64\n",
      "\n",
      "feature matrix:\n"
     ]
    },
    {
     "data": {
      "text/html": [
       "<div>\n",
       "<style scoped>\n",
       "    .dataframe tbody tr th:only-of-type {\n",
       "        vertical-align: middle;\n",
       "    }\n",
       "\n",
       "    .dataframe tbody tr th {\n",
       "        vertical-align: top;\n",
       "    }\n",
       "\n",
       "    .dataframe thead th {\n",
       "        text-align: right;\n",
       "    }\n",
       "</style>\n",
       "<table border=\"1\" class=\"dataframe\">\n",
       "  <thead>\n",
       "    <tr style=\"text-align: right;\">\n",
       "      <th>rollnumber</th>\n",
       "      <th>1</th>\n",
       "      <th>2</th>\n",
       "      <th>3</th>\n",
       "      <th>4</th>\n",
       "      <th>5</th>\n",
       "      <th>6</th>\n",
       "      <th>7</th>\n",
       "      <th>8</th>\n",
       "      <th>9</th>\n",
       "      <th>10</th>\n",
       "      <th>...</th>\n",
       "      <th>790</th>\n",
       "      <th>791</th>\n",
       "      <th>792</th>\n",
       "      <th>793</th>\n",
       "      <th>794</th>\n",
       "      <th>795</th>\n",
       "      <th>796</th>\n",
       "      <th>797</th>\n",
       "      <th>798</th>\n",
       "      <th>799</th>\n",
       "    </tr>\n",
       "    <tr>\n",
       "      <th>icpsr</th>\n",
       "      <th></th>\n",
       "      <th></th>\n",
       "      <th></th>\n",
       "      <th></th>\n",
       "      <th></th>\n",
       "      <th></th>\n",
       "      <th></th>\n",
       "      <th></th>\n",
       "      <th></th>\n",
       "      <th></th>\n",
       "      <th></th>\n",
       "      <th></th>\n",
       "      <th></th>\n",
       "      <th></th>\n",
       "      <th></th>\n",
       "      <th></th>\n",
       "      <th></th>\n",
       "      <th></th>\n",
       "      <th></th>\n",
       "      <th></th>\n",
       "      <th></th>\n",
       "    </tr>\n",
       "  </thead>\n",
       "  <tbody>\n",
       "    <tr>\n",
       "      <th>660</th>\n",
       "      <td>1.0</td>\n",
       "      <td>1.0</td>\n",
       "      <td>-1.0</td>\n",
       "      <td>1.0</td>\n",
       "      <td>1.0</td>\n",
       "      <td>1.0</td>\n",
       "      <td>-1.0</td>\n",
       "      <td>1.0</td>\n",
       "      <td>1.0</td>\n",
       "      <td>0.0</td>\n",
       "      <td>...</td>\n",
       "      <td>0.0</td>\n",
       "      <td>0.0</td>\n",
       "      <td>0.0</td>\n",
       "      <td>0.0</td>\n",
       "      <td>0.0</td>\n",
       "      <td>0.0</td>\n",
       "      <td>0.0</td>\n",
       "      <td>0.0</td>\n",
       "      <td>0.0</td>\n",
       "      <td>0.0</td>\n",
       "    </tr>\n",
       "    <tr>\n",
       "      <th>1252</th>\n",
       "      <td>1.0</td>\n",
       "      <td>1.0</td>\n",
       "      <td>-1.0</td>\n",
       "      <td>1.0</td>\n",
       "      <td>1.0</td>\n",
       "      <td>1.0</td>\n",
       "      <td>-1.0</td>\n",
       "      <td>-1.0</td>\n",
       "      <td>1.0</td>\n",
       "      <td>1.0</td>\n",
       "      <td>...</td>\n",
       "      <td>-1.0</td>\n",
       "      <td>1.0</td>\n",
       "      <td>1.0</td>\n",
       "      <td>1.0</td>\n",
       "      <td>1.0</td>\n",
       "      <td>1.0</td>\n",
       "      <td>1.0</td>\n",
       "      <td>1.0</td>\n",
       "      <td>-1.0</td>\n",
       "      <td>-1.0</td>\n",
       "    </tr>\n",
       "    <tr>\n",
       "      <th>1366</th>\n",
       "      <td>1.0</td>\n",
       "      <td>1.0</td>\n",
       "      <td>-1.0</td>\n",
       "      <td>1.0</td>\n",
       "      <td>1.0</td>\n",
       "      <td>1.0</td>\n",
       "      <td>-1.0</td>\n",
       "      <td>-1.0</td>\n",
       "      <td>1.0</td>\n",
       "      <td>1.0</td>\n",
       "      <td>...</td>\n",
       "      <td>1.0</td>\n",
       "      <td>1.0</td>\n",
       "      <td>1.0</td>\n",
       "      <td>1.0</td>\n",
       "      <td>1.0</td>\n",
       "      <td>1.0</td>\n",
       "      <td>1.0</td>\n",
       "      <td>1.0</td>\n",
       "      <td>-1.0</td>\n",
       "      <td>-1.0</td>\n",
       "    </tr>\n",
       "    <tr>\n",
       "      <th>4812</th>\n",
       "      <td>1.0</td>\n",
       "      <td>1.0</td>\n",
       "      <td>-1.0</td>\n",
       "      <td>1.0</td>\n",
       "      <td>1.0</td>\n",
       "      <td>1.0</td>\n",
       "      <td>-1.0</td>\n",
       "      <td>-1.0</td>\n",
       "      <td>1.0</td>\n",
       "      <td>1.0</td>\n",
       "      <td>...</td>\n",
       "      <td>-1.0</td>\n",
       "      <td>1.0</td>\n",
       "      <td>1.0</td>\n",
       "      <td>-1.0</td>\n",
       "      <td>1.0</td>\n",
       "      <td>1.0</td>\n",
       "      <td>1.0</td>\n",
       "      <td>1.0</td>\n",
       "      <td>1.0</td>\n",
       "      <td>-1.0</td>\n",
       "    </tr>\n",
       "    <tr>\n",
       "      <th>7638</th>\n",
       "      <td>1.0</td>\n",
       "      <td>1.0</td>\n",
       "      <td>-1.0</td>\n",
       "      <td>1.0</td>\n",
       "      <td>1.0</td>\n",
       "      <td>-1.0</td>\n",
       "      <td>-1.0</td>\n",
       "      <td>-1.0</td>\n",
       "      <td>1.0</td>\n",
       "      <td>-1.0</td>\n",
       "      <td>...</td>\n",
       "      <td>-1.0</td>\n",
       "      <td>1.0</td>\n",
       "      <td>-1.0</td>\n",
       "      <td>1.0</td>\n",
       "      <td>1.0</td>\n",
       "      <td>1.0</td>\n",
       "      <td>-1.0</td>\n",
       "      <td>1.0</td>\n",
       "      <td>1.0</td>\n",
       "      <td>1.0</td>\n",
       "    </tr>\n",
       "    <tr>\n",
       "      <th>...</th>\n",
       "      <td>...</td>\n",
       "      <td>...</td>\n",
       "      <td>...</td>\n",
       "      <td>...</td>\n",
       "      <td>...</td>\n",
       "      <td>...</td>\n",
       "      <td>...</td>\n",
       "      <td>...</td>\n",
       "      <td>...</td>\n",
       "      <td>...</td>\n",
       "      <td>...</td>\n",
       "      <td>...</td>\n",
       "      <td>...</td>\n",
       "      <td>...</td>\n",
       "      <td>...</td>\n",
       "      <td>...</td>\n",
       "      <td>...</td>\n",
       "      <td>...</td>\n",
       "      <td>...</td>\n",
       "      <td>...</td>\n",
       "      <td>...</td>\n",
       "    </tr>\n",
       "    <tr>\n",
       "      <th>15501</th>\n",
       "      <td>1.0</td>\n",
       "      <td>1.0</td>\n",
       "      <td>0.0</td>\n",
       "      <td>1.0</td>\n",
       "      <td>0.0</td>\n",
       "      <td>0.0</td>\n",
       "      <td>0.0</td>\n",
       "      <td>0.0</td>\n",
       "      <td>1.0</td>\n",
       "      <td>0.0</td>\n",
       "      <td>...</td>\n",
       "      <td>1.0</td>\n",
       "      <td>1.0</td>\n",
       "      <td>1.0</td>\n",
       "      <td>1.0</td>\n",
       "      <td>1.0</td>\n",
       "      <td>1.0</td>\n",
       "      <td>1.0</td>\n",
       "      <td>1.0</td>\n",
       "      <td>0.0</td>\n",
       "      <td>0.0</td>\n",
       "    </tr>\n",
       "    <tr>\n",
       "      <th>15502</th>\n",
       "      <td>1.0</td>\n",
       "      <td>1.0</td>\n",
       "      <td>-1.0</td>\n",
       "      <td>1.0</td>\n",
       "      <td>1.0</td>\n",
       "      <td>-1.0</td>\n",
       "      <td>-1.0</td>\n",
       "      <td>-1.0</td>\n",
       "      <td>1.0</td>\n",
       "      <td>1.0</td>\n",
       "      <td>...</td>\n",
       "      <td>-1.0</td>\n",
       "      <td>1.0</td>\n",
       "      <td>1.0</td>\n",
       "      <td>1.0</td>\n",
       "      <td>1.0</td>\n",
       "      <td>1.0</td>\n",
       "      <td>1.0</td>\n",
       "      <td>1.0</td>\n",
       "      <td>-1.0</td>\n",
       "      <td>0.0</td>\n",
       "    </tr>\n",
       "    <tr>\n",
       "      <th>15503</th>\n",
       "      <td>1.0</td>\n",
       "      <td>1.0</td>\n",
       "      <td>-1.0</td>\n",
       "      <td>1.0</td>\n",
       "      <td>1.0</td>\n",
       "      <td>1.0</td>\n",
       "      <td>-1.0</td>\n",
       "      <td>1.0</td>\n",
       "      <td>1.0</td>\n",
       "      <td>1.0</td>\n",
       "      <td>...</td>\n",
       "      <td>1.0</td>\n",
       "      <td>1.0</td>\n",
       "      <td>1.0</td>\n",
       "      <td>1.0</td>\n",
       "      <td>1.0</td>\n",
       "      <td>1.0</td>\n",
       "      <td>1.0</td>\n",
       "      <td>1.0</td>\n",
       "      <td>-1.0</td>\n",
       "      <td>-1.0</td>\n",
       "    </tr>\n",
       "    <tr>\n",
       "      <th>15504</th>\n",
       "      <td>1.0</td>\n",
       "      <td>1.0</td>\n",
       "      <td>-1.0</td>\n",
       "      <td>1.0</td>\n",
       "      <td>1.0</td>\n",
       "      <td>1.0</td>\n",
       "      <td>-1.0</td>\n",
       "      <td>-1.0</td>\n",
       "      <td>1.0</td>\n",
       "      <td>1.0</td>\n",
       "      <td>...</td>\n",
       "      <td>1.0</td>\n",
       "      <td>1.0</td>\n",
       "      <td>0.0</td>\n",
       "      <td>0.0</td>\n",
       "      <td>0.0</td>\n",
       "      <td>0.0</td>\n",
       "      <td>1.0</td>\n",
       "      <td>1.0</td>\n",
       "      <td>1.0</td>\n",
       "      <td>-1.0</td>\n",
       "    </tr>\n",
       "    <tr>\n",
       "      <th>99907</th>\n",
       "      <td>0.0</td>\n",
       "      <td>0.0</td>\n",
       "      <td>1.0</td>\n",
       "      <td>-1.0</td>\n",
       "      <td>0.0</td>\n",
       "      <td>0.0</td>\n",
       "      <td>0.0</td>\n",
       "      <td>0.0</td>\n",
       "      <td>0.0</td>\n",
       "      <td>0.0</td>\n",
       "      <td>...</td>\n",
       "      <td>0.0</td>\n",
       "      <td>0.0</td>\n",
       "      <td>0.0</td>\n",
       "      <td>0.0</td>\n",
       "      <td>0.0</td>\n",
       "      <td>0.0</td>\n",
       "      <td>0.0</td>\n",
       "      <td>0.0</td>\n",
       "      <td>0.0</td>\n",
       "      <td>0.0</td>\n",
       "    </tr>\n",
       "  </tbody>\n",
       "</table>\n",
       "<p>100 rows × 799 columns</p>\n",
       "</div>"
      ],
      "text/plain": [
       "rollnumber  1    2    3    4    5    6    7    8    9    10   ...  790  791  \\\n",
       "icpsr                                                         ...             \n",
       "660         1.0  1.0 -1.0  1.0  1.0  1.0 -1.0  1.0  1.0  0.0  ...  0.0  0.0   \n",
       "1252        1.0  1.0 -1.0  1.0  1.0  1.0 -1.0 -1.0  1.0  1.0  ... -1.0  1.0   \n",
       "1366        1.0  1.0 -1.0  1.0  1.0  1.0 -1.0 -1.0  1.0  1.0  ...  1.0  1.0   \n",
       "4812        1.0  1.0 -1.0  1.0  1.0  1.0 -1.0 -1.0  1.0  1.0  ... -1.0  1.0   \n",
       "7638        1.0  1.0 -1.0  1.0  1.0 -1.0 -1.0 -1.0  1.0 -1.0  ... -1.0  1.0   \n",
       "...         ...  ...  ...  ...  ...  ...  ...  ...  ...  ...  ...  ...  ...   \n",
       "15501       1.0  1.0  0.0  1.0  0.0  0.0  0.0  0.0  1.0  0.0  ...  1.0  1.0   \n",
       "15502       1.0  1.0 -1.0  1.0  1.0 -1.0 -1.0 -1.0  1.0  1.0  ... -1.0  1.0   \n",
       "15503       1.0  1.0 -1.0  1.0  1.0  1.0 -1.0  1.0  1.0  1.0  ...  1.0  1.0   \n",
       "15504       1.0  1.0 -1.0  1.0  1.0  1.0 -1.0 -1.0  1.0  1.0  ...  1.0  1.0   \n",
       "99907       0.0  0.0  1.0 -1.0  0.0  0.0  0.0  0.0  0.0  0.0  ...  0.0  0.0   \n",
       "\n",
       "rollnumber  792  793  794  795  796  797  798  799  \n",
       "icpsr                                               \n",
       "660         0.0  0.0  0.0  0.0  0.0  0.0  0.0  0.0  \n",
       "1252        1.0  1.0  1.0  1.0  1.0  1.0 -1.0 -1.0  \n",
       "1366        1.0  1.0  1.0  1.0  1.0  1.0 -1.0 -1.0  \n",
       "4812        1.0 -1.0  1.0  1.0  1.0  1.0  1.0 -1.0  \n",
       "7638       -1.0  1.0  1.0  1.0 -1.0  1.0  1.0  1.0  \n",
       "...         ...  ...  ...  ...  ...  ...  ...  ...  \n",
       "15501       1.0  1.0  1.0  1.0  1.0  1.0  0.0  0.0  \n",
       "15502       1.0  1.0  1.0  1.0  1.0  1.0 -1.0  0.0  \n",
       "15503       1.0  1.0  1.0  1.0  1.0  1.0 -1.0 -1.0  \n",
       "15504       0.0  0.0  0.0  0.0  1.0  1.0  1.0 -1.0  \n",
       "99907       0.0  0.0  0.0  0.0  0.0  0.0  0.0  0.0  \n",
       "\n",
       "[100 rows x 799 columns]"
      ]
     },
     "execution_count": 7,
     "metadata": {},
     "output_type": "execute_result"
    }
   ],
   "source": [
    "X100, y100 = session(100, senate, members)\n",
    "print(\"party counts:\")\n",
    "print(y100.value_counts())\n",
    "print(\"\\nfeature matrix:\")\n",
    "X100"
   ]
  },
  {
   "cell_type": "markdown",
   "metadata": {
    "deletable": false,
    "editable": false,
    "nbgrader": {
     "cell_type": "markdown",
     "checksum": "23c0bd908e4c0da80f0af09aca386cc8",
     "grade": false,
     "grade_id": "cell-6f5d272b3e55766d",
     "locked": true,
     "schema_version": 3,
     "solution": false,
     "task": false
    },
    "tags": []
   },
   "source": [
    "It's interesting to view this feature matrix as a heat map."
   ]
  },
  {
   "cell_type": "code",
   "execution_count": 8,
   "metadata": {
    "deletable": false,
    "editable": false,
    "nbgrader": {
     "cell_type": "code",
     "checksum": "0da5fc6614f9afc6808dbac9eb8540c0",
     "grade": false,
     "grade_id": "cell-61f35cabdf1feec5",
     "locked": true,
     "schema_version": 3,
     "solution": false,
     "task": false
    },
    "tags": []
   },
   "outputs": [
    {
     "data": {
      "image/png": "[encoded data removed]",
      "text/plain": [
       "<Figure size 640x480 with 2 Axes>"
      ]
     },
     "metadata": {},
     "output_type": "display_data"
    }
   ],
   "source": [
    "sns.heatmap(X100);"
   ]
  },
  {
   "cell_type": "markdown",
   "metadata": {
    "deletable": false,
    "editable": false,
    "nbgrader": {
     "cell_type": "markdown",
     "checksum": "5d7cc9887f237bccae92792fe564ab0a",
     "grade": false,
     "grade_id": "cell-45018e8d26116320",
     "locked": true,
     "schema_version": 3,
     "solution": false,
     "task": false
    },
    "tags": []
   },
   "source": [
    "Each row is the voting record of a senator. Remember that the only values possible are $-1$, $0$, and $1$. You can definitely see some dominant motifs in the rows that imply party discipline. For the rest of the lab, you will investigate the extent of polarization in the Senate over time."
   ]
  },
  {
   "cell_type": "markdown",
   "metadata": {
    "deletable": false,
    "editable": false,
    "nbgrader": {
     "cell_type": "markdown",
     "checksum": "e6dee65d75061caaa9f87cd1a4afb3ee",
     "grade": false,
     "grade_id": "cell-9e4246e79cd8af30",
     "locked": true,
     "schema_version": 3,
     "solution": false,
     "task": false
    },
    "tags": []
   },
   "source": [
    "# 1 (6.1)\n",
    "For the 95th Congress, compute the distance matrix using the cosine metric. Make a histogram showing the distribution of all the distances. (Hint: use `D.flatten()` to transform the distance matrix `D` into a vector for the histogram.)"
   ]
  },
  {
   "cell_type": "code",
   "execution_count": null,
   "metadata": {
    "deletable": false,
    "nbgrader": {
     "cell_type": "code",
     "checksum": "baa76f555c69a72cf677402cca4f365c",
     "grade": true,
     "grade_id": "plot1-manual",
     "locked": false,
     "points": 3,
     "schema_version": 3,
     "solution": true,
     "task": false
    },
    "tags": []
   },
   "outputs": [
    {
     "data": {
      "image/png": "[encoded data removed]",
      "text/plain": [
       "<Figure size 800x500 with 1 Axes>"
      ]
     },
     "metadata": {},
     "output_type": "display_data"
    }
   ],
   "source": [
    "from sklearn.metrics.pairwise import cosine_distances\n",
    "import matplotlib.pyplot as plt\n",
    "\n",
    "X95, y95 = session(95, senate, members)\n",
    "\n",
    "D = cosine_distances(X95)\n",
    "\n",
    "plt.figure(figsize=(8, 5))\n",
    "plt.hist(D.flatten(), bins=50, edgecolor='black')\n",
    "plt.title(\"Histogram of Cosine Distances (95th Congress)\")\n",
    "plt.xlabel(\"Cosine Distance\")\n",
    "plt.ylabel(\"Frequency\")\n",
    "plt.grid(True)\n",
    "plt.show()\n"
   ]
  },
  {
   "cell_type": "markdown",
   "metadata": {
    "deletable": false,
    "editable": false,
    "nbgrader": {
     "cell_type": "markdown",
     "checksum": "a7e75fe3c54d2f9b42b604781f28978f",
     "grade": false,
     "grade_id": "cell-c1fa33115a1baf3b",
     "locked": true,
     "schema_version": 3,
     "solution": false,
     "task": false
    },
    "tags": []
   },
   "source": [
    "(Your histogram should have a single peak at a distance value around 0.7. There are also 100 instances of distance zero that come from the diagonal of the matrix.)"
   ]
  },
  {
   "cell_type": "markdown",
   "metadata": {
    "deletable": false,
    "editable": false,
    "nbgrader": {
     "cell_type": "markdown",
     "checksum": "2519879c0c9e7b7dddb0f761e1771c38",
     "grade": false,
     "grade_id": "cell-9234a18f594ce2f3",
     "locked": true,
     "schema_version": 3,
     "solution": false,
     "task": false
    },
    "tags": []
   },
   "source": [
    "# 2 (6.1)\n",
    "Repeat step 1 for the 110th session of Congress."
   ]
  },
  {
   "cell_type": "code",
   "execution_count": null,
   "metadata": {
    "deletable": false,
    "nbgrader": {
     "cell_type": "code",
     "checksum": "bd06fd610906637d1723421be1bd6d0e",
     "grade": true,
     "grade_id": "plot2-manual",
     "locked": false,
     "points": 2,
     "schema_version": 3,
     "solution": true,
     "task": false
    },
    "tags": []
   },
   "outputs": [
    {
     "data": {
      "image/png": "[encoded data removed]",
      "text/plain": [
       "<Figure size 800x500 with 1 Axes>"
      ]
     },
     "metadata": {},
     "output_type": "display_data"
    }
   ],
   "source": [
    "from sklearn.metrics.pairwise import cosine_distances\n",
    "import matplotlib.pyplot as plt\n",
    "\n",
    "X110, y110 = session(110, senate, members)\n",
    "\n",
    "D = cosine_distances(X110)\n",
    "\n",
    "plt.figure(figsize=(8, 5))\n",
    "plt.hist(D.flatten(), bins=50, edgecolor='black')\n",
    "plt.title(\"Histogram of Cosine Distances (110th Congress)\")\n",
    "plt.xlabel(\"Cosine Distance\")\n",
    "plt.ylabel(\"Frequency\")\n",
    "plt.grid(True)\n",
    "plt.show()\n"
   ]
  },
  {
   "cell_type": "markdown",
   "metadata": {
    "deletable": false,
    "editable": false,
    "nbgrader": {
     "cell_type": "markdown",
     "checksum": "f0c36a7e6f3e648e6d4e637e65d36685",
     "grade": false,
     "grade_id": "cell-82e780648e454513",
     "locked": true,
     "schema_version": 3,
     "solution": false,
     "task": false
    },
    "tags": []
   },
   "source": [
    "(You should see two distinct peaks in this distribution, which is suggestive of increased polarization.)"
   ]
  },
  {
   "cell_type": "markdown",
   "metadata": {
    "deletable": false,
    "editable": false,
    "nbgrader": {
     "cell_type": "markdown",
     "checksum": "2dca9b23a297ace36e24a23e8ad1d9f9",
     "grade": false,
     "grade_id": "cell-23f5f2b7fa679348",
     "locked": true,
     "schema_version": 3,
     "solution": false,
     "task": false
    },
    "tags": []
   },
   "source": [
    "# 3 (6.2)\n",
    "Party affiliations effectively define a reference clustering for each session. \n",
    "\n",
    "For the 95th Congress, make a box plot showing the distribution of silhouette values for each cluster as defined by party affiliation. (You want one box per party, even though there is only one *Ind* senator.)"
   ]
  },
  {
   "cell_type": "code",
   "execution_count": 11,
   "metadata": {
    "deletable": false,
    "nbgrader": {
     "cell_type": "code",
     "checksum": "f858156836303455a8afd43addcca1a9",
     "grade": true,
     "grade_id": "plot3-manual",
     "locked": false,
     "points": 3,
     "schema_version": 3,
     "solution": true,
     "task": false
    },
    "tags": []
   },
   "outputs": [
    {
     "data": {
      "image/png": "[encoded data removed]",
      "text/plain": [
       "<Figure size 800x500 with 1 Axes>"
      ]
     },
     "metadata": {},
     "output_type": "display_data"
    }
   ],
   "source": [
    "from sklearn.metrics import silhouette_samples\n",
    "import seaborn as sns\n",
    "import matplotlib.pyplot as plt\n",
    "\n",
    "X95, y95 = session(95, senate, members)\n",
    "\n",
    "D = cosine_distances(X95)\n",
    "\n",
    "silhouette_vals = silhouette_samples(D, y95, metric='precomputed')\n",
    "\n",
    "silhouette_df = pd.DataFrame({\n",
    "    'Silhouette': silhouette_vals,\n",
    "    'Party': y95.values\n",
    "})\n",
    "\n",
    "plt.figure(figsize=(8, 5))\n",
    "sns.boxplot(data=silhouette_df, x='Party', y='Silhouette')\n",
    "plt.title(\"Silhouette Values by Party (95th Congress)\")\n",
    "plt.ylabel(\"Silhouette Score\")\n",
    "plt.grid(True)\n",
    "plt.show()\n"
   ]
  },
  {
   "cell_type": "markdown",
   "metadata": {
    "deletable": false,
    "editable": false,
    "nbgrader": {
     "cell_type": "markdown",
     "checksum": "fc8f49de40cc32c0a8d193670a57bad1",
     "grade": false,
     "grade_id": "cell-c5d6dcdb0dfca3a5",
     "locked": true,
     "schema_version": 3,
     "solution": false,
     "task": false
    },
    "tags": []
   },
   "source": [
    "# 4 (6.2)\n",
    "Repeat step 3 for the 110th Congress."
   ]
  },
  {
   "cell_type": "code",
   "execution_count": 13,
   "metadata": {
    "deletable": false,
    "nbgrader": {
     "cell_type": "code",
     "checksum": "fe6c00a8b04c91ddecf0c7d31001dab3",
     "grade": true,
     "grade_id": "plot4-manual",
     "locked": false,
     "points": 2,
     "schema_version": 3,
     "solution": true,
     "task": false
    },
    "tags": []
   },
   "outputs": [
    {
     "data": {
      "image/png": "[encoded data removed]",
      "text/plain": [
       "<Figure size 800x500 with 1 Axes>"
      ]
     },
     "metadata": {},
     "output_type": "display_data"
    }
   ],
   "source": [
    "from sklearn.metrics import silhouette_samples\n",
    "import seaborn as sns\n",
    "import matplotlib.pyplot as plt\n",
    "\n",
    "X110, y110 = session(110, senate, members)\n",
    "\n",
    "D = cosine_distances(X110)\n",
    "\n",
    "silhouette_vals = silhouette_samples(D, y110, metric='precomputed')\n",
    "\n",
    "silhouette_df = pd.DataFrame({\n",
    "    'Silhouette': silhouette_vals,\n",
    "    'Party': y110.values\n",
    "})\n",
    "\n",
    "plt.figure(figsize=(8, 5))\n",
    "sns.boxplot(data=silhouette_df, x='Party', y='Silhouette')\n",
    "plt.title(\"Silhouette Values by Party (110th Congress)\")\n",
    "plt.ylabel(\"Silhouette Score\")\n",
    "plt.grid(True)\n",
    "plt.show()\n"
   ]
  },
  {
   "cell_type": "markdown",
   "metadata": {
    "deletable": false,
    "editable": false,
    "nbgrader": {
     "cell_type": "markdown",
     "checksum": "d0aad8b4358714714e380a210a22f424",
     "grade": false,
     "grade_id": "cell-25f4afa7789f951a",
     "locked": true,
     "schema_version": 3,
     "solution": false,
     "task": false
    },
    "tags": []
   },
   "source": [
    "(Both distributions show one major party that is well-clustered and another that is not. Also, due to some long, asymmetric tails in the value distributions, we will prefer medians to means when scoring the silhouettes.)"
   ]
  },
  {
   "cell_type": "markdown",
   "metadata": {
    "deletable": false,
    "editable": false,
    "nbgrader": {
     "cell_type": "markdown",
     "checksum": "e9a7e3f54ad0433c7cf4849fb63d62cd",
     "grade": false,
     "grade_id": "cell-c68ef4729f19ae9b",
     "locked": true,
     "schema_version": 3,
     "solution": false,
     "task": false
    },
    "tags": []
   },
   "source": [
    "# 5 (6.4)\n",
    "\n",
    "Using agglomerative clustering with average linkage and 2 clusters, fit the voting records from the 95th Congress. Compute the adjusted Rand index with respect to the reference clustering implied by the party affiliations."
   ]
  },
  {
   "cell_type": "code",
   "execution_count": null,
   "metadata": {
    "deletable": false,
    "nbgrader": {
     "cell_type": "code",
     "checksum": "dde9c103c6bca32610f684f6bf9d647b",
     "grade": false,
     "grade_id": "agg-answer",
     "locked": false,
     "schema_version": 3,
     "solution": true,
     "task": false
    },
    "tags": []
   },
   "outputs": [],
   "source": [
    "ARI = None\n",
    "agg = None  # should be of type AgglomerativeClustering\n",
    "\n",
    "from sklearn.cluster import AgglomerativeClustering\n",
    "from sklearn.metrics import adjusted_rand_score\n",
    "\n",
    "X95, y95 = session(95, senate, members)\n",
    "\n",
    "agg = AgglomerativeClustering(n_clusters=2, linkage='average')\n",
    "cluster_labels = agg.fit_predict(X95)\n",
    "\n",
    "ARI = adjusted_rand_score(y95, cluster_labels)"
   ]
  },
  {
   "cell_type": "code",
   "execution_count": 22,
   "metadata": {
    "tags": []
   },
   "outputs": [
    {
     "name": "stdout",
     "output_type": "stream",
     "text": [
      "Adjusted Rand index for 95th session is 0.1985\n"
     ]
    }
   ],
   "source": [
    "print(f\"Adjusted Rand index for 95th session is {ARI:.4f}\")"
   ]
  },
  {
   "cell_type": "code",
   "execution_count": 23,
   "metadata": {
    "deletable": false,
    "editable": false,
    "nbgrader": {
     "cell_type": "code",
     "checksum": "47671e4d8866338fe1a5d95b731b852e",
     "grade": true,
     "grade_id": "agg-tests",
     "locked": true,
     "points": 4,
     "schema_version": 3,
     "solution": false,
     "task": false
    },
    "tags": []
   },
   "outputs": [
    {
     "name": "stdout",
     "output_type": "stream",
     "text": [
      "OK\n"
     ]
    }
   ],
   "source": [
    "# TESTS\n",
    "assert str(type(agg)) == \"<class 'sklearn.cluster._agglomerative.AgglomerativeClustering'>\"\n",
    "assert agg.linkage == \"average\"\n",
    "assert 0.17 < ARI < 0.20\n",
    "print(\"OK\")"
   ]
  },
  {
   "cell_type": "markdown",
   "metadata": {
    "deletable": false,
    "editable": false,
    "nbgrader": {
     "cell_type": "markdown",
     "checksum": "9a64dbdb2506c7ce0216f07ba4130bd0",
     "grade": false,
     "grade_id": "cell-c566e582324bcdc7",
     "locked": true,
     "schema_version": 3,
     "solution": false,
     "task": false
    },
    "tags": []
   },
   "source": [
    "# 6 (6.4)\n",
    "Repeating the methodology of step 5, calculate the ARI for all sessions from the 91st through the 111th. Make a series of the results indexed by the session number."
   ]
  },
  {
   "cell_type": "code",
   "execution_count": null,
   "metadata": {
    "deletable": false,
    "nbgrader": {
     "cell_type": "code",
     "checksum": "8574760377039a068af6c8ea0dddf7d6",
     "grade": false,
     "grade_id": "ari2-soln",
     "locked": false,
     "schema_version": 3,
     "solution": true,
     "task": false
    },
    "tags": []
   },
   "outputs": [],
   "source": [
    "ARI2 = None\n",
    "sessions = range(91, 112)\n",
    "from sklearn.cluster import AgglomerativeClustering\n",
    "from sklearn.metrics import adjusted_rand_score\n",
    "\n",
    "sessions = list(range(91, 112))\n",
    "ari_scores = {}\n",
    "\n",
    "for session_num in sessions:\n",
    "    X, y = session(session_num, senate, members)\n",
    "    if len(np.unique(y)) < 2:\n",
    "        continue\n",
    "    agg = AgglomerativeClustering(n_clusters=2, linkage='average')\n",
    "    labels = agg.fit_predict(X)\n",
    "    ari_scores[session_num] = adjusted_rand_score(y, labels)\n",
    "\n",
    "ARI2 = pd.Series(ari_scores)"
   ]
  },
  {
   "cell_type": "code",
   "execution_count": 25,
   "metadata": {
    "tags": []
   },
   "outputs": [
    {
     "name": "stdout",
     "output_type": "stream",
     "text": [
      "Two-cluster ARIs:\n",
      "\n",
      "91     0.222675\n",
      "92     0.174702\n",
      "93     0.246721\n",
      "94     0.145061\n",
      "95     0.198545\n",
      "96    -0.006088\n",
      "97     0.978182\n",
      "98     1.000000\n",
      "99     0.882417\n",
      "100    0.604561\n",
      "101    0.960000\n",
      "102    1.000000\n",
      "103    0.920005\n",
      "104    1.000000\n",
      "105    1.000000\n",
      "106    1.000000\n",
      "107    1.000000\n",
      "108    0.942166\n",
      "109    0.904248\n",
      "110    0.783747\n",
      "111    0.932638\n",
      "dtype: float64\n"
     ]
    }
   ],
   "source": [
    "print(\"Two-cluster ARIs:\\n\")\n",
    "print(ARI2)"
   ]
  },
  {
   "cell_type": "markdown",
   "metadata": {
    "deletable": false,
    "editable": false,
    "nbgrader": {
     "cell_type": "markdown",
     "checksum": "bc9a4bd1cc042028862ccc48c8e25f1f",
     "grade": false,
     "grade_id": "cell-e95a2411d5744270",
     "locked": true,
     "schema_version": 3,
     "solution": false,
     "task": false
    },
    "tags": []
   },
   "source": [
    "(You should see a big step up, indicating an increase in the agreement between voting records and party affiliation underwent.)"
   ]
  },
  {
   "cell_type": "code",
   "execution_count": 26,
   "metadata": {
    "deletable": false,
    "editable": false,
    "nbgrader": {
     "cell_type": "code",
     "checksum": "59b50faa7f776d89136ff2febe11f761",
     "grade": true,
     "grade_id": "ari2-tests",
     "locked": true,
     "points": 4,
     "schema_version": 3,
     "solution": false,
     "task": false
    },
    "tags": []
   },
   "outputs": [
    {
     "name": "stdout",
     "output_type": "stream",
     "text": [
      "OK\n"
     ]
    }
   ],
   "source": [
    "# TESTS\n",
    "assert type(ARI2) == pd.Series, \"Result must be a series\"\n",
    "assert np.all(ARI2.index == sessions), \"Must be indexed by session number\"\n",
    "assert np.all(ARI2.iloc[:6] < 0.3), \"Early results are incorrect\"\n",
    "assert np.all(ARI2.iloc[-6:] > 0.75), \"Late results are incorrect\"\n",
    "print(\"OK\")"
   ]
  },
  {
   "cell_type": "markdown",
   "metadata": {
    "deletable": false,
    "editable": false,
    "nbgrader": {
     "cell_type": "markdown",
     "checksum": "045a8360bfe6c5266c12095a37e99b32",
     "grade": false,
     "grade_id": "cell-ec89d606a8eee765",
     "locked": true,
     "schema_version": 3,
     "solution": false,
     "task": false
    },
    "tags": []
   },
   "source": [
    "# 7 (6.4)\n",
    "\n",
    "Repeat step 6, but with the number of clusters equal to 3."
   ]
  },
  {
   "cell_type": "code",
   "execution_count": null,
   "metadata": {
    "deletable": false,
    "nbgrader": {
     "cell_type": "code",
     "checksum": "04abfdecbb61f2d3dba8649e975868e5",
     "grade": true,
     "grade_id": "plot6-manual",
     "locked": false,
     "points": 2,
     "schema_version": 3,
     "solution": true,
     "task": false
    },
    "tags": []
   },
   "outputs": [],
   "source": [
    "ARI3 = None\n",
    "sessions = range(91, 112)\n",
    "from sklearn.cluster import AgglomerativeClustering\n",
    "from sklearn.metrics import adjusted_rand_score\n",
    "\n",
    "sessions = list(range(91, 112))\n",
    "ari_scores_3 = {}\n",
    "\n",
    "for session_num in sessions:\n",
    "    X, y = session(session_num, senate, members)\n",
    "    if len(np.unique(y)) < 2:\n",
    "        continue  \n",
    "    agg = AgglomerativeClustering(n_clusters=3, linkage='average')\n",
    "    labels = agg.fit_predict(X)\n",
    "    ari_scores_3[session_num] = adjusted_rand_score(y, labels)\n",
    "\n",
    "ARI3 = pd.Series(ari_scores_3)"
   ]
  },
  {
   "cell_type": "code",
   "execution_count": 30,
   "metadata": {
    "tags": []
   },
   "outputs": [
    {
     "name": "stdout",
     "output_type": "stream",
     "text": [
      "Three-cluster ARIs:\n",
      "\n",
      "91     0.207402\n",
      "92     0.495647\n",
      "93     0.394213\n",
      "94     0.280774\n",
      "95     0.173184\n",
      "96     0.436031\n",
      "97     0.960389\n",
      "98     0.981859\n",
      "99     0.865024\n",
      "100    0.587557\n",
      "101    0.981817\n",
      "102    0.906018\n",
      "103    0.966199\n",
      "104    0.978946\n",
      "105    0.883537\n",
      "106    0.938117\n",
      "107    0.925725\n",
      "108    0.890902\n",
      "109    0.921603\n",
      "110    0.888571\n",
      "111    0.898153\n",
      "dtype: float64\n"
     ]
    }
   ],
   "source": [
    "print(\"Three-cluster ARIs:\\n\")\n",
    "print(ARI3)"
   ]
  },
  {
   "cell_type": "code",
   "execution_count": 29,
   "metadata": {
    "tags": []
   },
   "outputs": [
    {
     "data": {
      "image/png": "[encoded data removed]",
      "text/plain": [
       "<Figure size 565.361x500 with 1 Axes>"
      ]
     },
     "metadata": {},
     "output_type": "display_data"
    }
   ],
   "source": [
    "df = pd.concat((pd.DataFrame({\"session\": sessions, \"clusters\": 2, \"ARI\": ARI2}), pd.DataFrame({\"session\": sessions, \"clusters\": 3, \"ARI\": ARI3})))\n",
    "sns.relplot(data=df, x=\"session\", y=\"ARI\", hue=\"clusters\", kind=\"line\", palette=\"Dark2\");"
   ]
  },
  {
   "cell_type": "code",
   "execution_count": 28,
   "metadata": {
    "deletable": false,
    "editable": false,
    "nbgrader": {
     "cell_type": "code",
     "checksum": "c2eb28f4deee3d6514e19d3ed750d670",
     "grade": true,
     "grade_id": "ari3-tests",
     "locked": true,
     "points": 4,
     "schema_version": 3,
     "solution": false,
     "task": false
    },
    "tags": []
   },
   "outputs": [
    {
     "name": "stdout",
     "output_type": "stream",
     "text": [
      "OK\n"
     ]
    }
   ],
   "source": [
    "# TESTS\n",
    "assert type(ARI3) == pd.Series, \"Result must be a series\"\n",
    "assert np.all(ARI3.index == sessions), \"Must be indexed by session number\"\n",
    "assert np.all(ARI3.iloc[:6] < 0.5), \"Early results are incorrect\"\n",
    "assert np.all(ARI3.iloc[-6:] > 0.8), \"Late results are incorrect\"\n",
    "print(\"OK\")"
   ]
  }
 ],
 "metadata": {
  "kernelspec": {
   "display_name": "Python 3",
   "language": "python",
   "name": "python3"
  },
  "language_info": {
   "codemirror_mode": {
    "name": "ipython",
    "version": 3
   },
   "file_extension": ".py",
   "mimetype": "text/x-python",
   "name": "python",
   "nbconvert_exporter": "python",
   "pygments_lexer": "ipython3",
   "version": "3.12.10"
  }
 },
 "nbformat": 4,
 "nbformat_minor": 4
}
