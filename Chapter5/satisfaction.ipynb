{
 "cells": [
  {
   "cell_type": "code",
   "execution_count": 3,
   "id": "526d18bb",
   "metadata": {
    "deletable": false,
    "editable": false,
    "nbgrader": {
     "cell_type": "code",
     "checksum": "3ef77ff95aca1320521f8271491e6b95",
     "grade": false,
     "grade_id": "cell-641451cf115556b5",
     "locked": true,
     "schema_version": 3,
     "solution": false,
     "task": false
    },
    "tags": []
   },
   "outputs": [],
   "source": [
    "import warnings\n",
    "warnings.simplefilter(action='ignore', category=FutureWarning)\n",
    "warnings.simplefilter(action='ignore', category=DeprecationWarning)\n",
    "\n",
    "import numpy as np\n",
    "import pandas as pd\n",
    "import seaborn as sns"
   ]
  },
  {
   "cell_type": "markdown",
   "id": "870054d6",
   "metadata": {
    "deletable": false,
    "editable": false,
    "nbgrader": {
     "cell_type": "markdown",
     "checksum": "7519a4bb14177c7a6db912415a5f5533",
     "grade": false,
     "grade_id": "cell-6536c6f2fe37ac55",
     "locked": true,
     "schema_version": 3,
     "solution": false,
     "task": false
    },
    "tags": []
   },
   "source": [
    "This dataset contains the results of passenger satisfaction surveys on U.S. airlines."
   ]
  },
  {
   "cell_type": "code",
   "execution_count": 4,
   "id": "d9bd1323",
   "metadata": {
    "deletable": false,
    "editable": false,
    "nbgrader": {
     "cell_type": "code",
     "checksum": "e6fd6c48b375d7c6dfd35784134013e3",
     "grade": false,
     "grade_id": "cell-bcbbdb3d1cd09001",
     "locked": true,
     "schema_version": 3,
     "solution": false,
     "task": false
    },
    "tags": []
   },
   "outputs": [
    {
     "data": {
      "text/html": [
       "<div>\n",
       "<style scoped>\n",
       "    .dataframe tbody tr th:only-of-type {\n",
       "        vertical-align: middle;\n",
       "    }\n",
       "\n",
       "    .dataframe tbody tr th {\n",
       "        vertical-align: top;\n",
       "    }\n",
       "\n",
       "    .dataframe thead th {\n",
       "        text-align: right;\n",
       "    }\n",
       "</style>\n",
       "<table border=\"1\" class=\"dataframe\">\n",
       "  <thead>\n",
       "    <tr style=\"text-align: right;\">\n",
       "      <th></th>\n",
       "      <th>id</th>\n",
       "      <th>Gender</th>\n",
       "      <th>Customer Type</th>\n",
       "      <th>Age</th>\n",
       "      <th>Type of Travel</th>\n",
       "      <th>Class</th>\n",
       "      <th>Flight Distance</th>\n",
       "      <th>Inflight wifi service</th>\n",
       "      <th>Departure/Arrival time convenient</th>\n",
       "      <th>Ease of Online booking</th>\n",
       "      <th>...</th>\n",
       "      <th>Inflight entertainment</th>\n",
       "      <th>On-board service</th>\n",
       "      <th>Leg room service</th>\n",
       "      <th>Baggage handling</th>\n",
       "      <th>Checkin service</th>\n",
       "      <th>Inflight service</th>\n",
       "      <th>Cleanliness</th>\n",
       "      <th>Departure Delay in Minutes</th>\n",
       "      <th>Arrival Delay in Minutes</th>\n",
       "      <th>satisfaction</th>\n",
       "    </tr>\n",
       "  </thead>\n",
       "  <tbody>\n",
       "    <tr>\n",
       "      <th>0</th>\n",
       "      <td>70172</td>\n",
       "      <td>Male</td>\n",
       "      <td>Loyal Customer</td>\n",
       "      <td>13</td>\n",
       "      <td>Personal Travel</td>\n",
       "      <td>Eco Plus</td>\n",
       "      <td>460</td>\n",
       "      <td>3</td>\n",
       "      <td>4</td>\n",
       "      <td>3</td>\n",
       "      <td>...</td>\n",
       "      <td>5</td>\n",
       "      <td>4</td>\n",
       "      <td>3</td>\n",
       "      <td>4</td>\n",
       "      <td>4</td>\n",
       "      <td>5</td>\n",
       "      <td>5</td>\n",
       "      <td>25</td>\n",
       "      <td>18.0</td>\n",
       "      <td>neutral or dissatisfied</td>\n",
       "    </tr>\n",
       "    <tr>\n",
       "      <th>1</th>\n",
       "      <td>5047</td>\n",
       "      <td>Male</td>\n",
       "      <td>disloyal Customer</td>\n",
       "      <td>25</td>\n",
       "      <td>Business travel</td>\n",
       "      <td>Business</td>\n",
       "      <td>235</td>\n",
       "      <td>3</td>\n",
       "      <td>2</td>\n",
       "      <td>3</td>\n",
       "      <td>...</td>\n",
       "      <td>1</td>\n",
       "      <td>1</td>\n",
       "      <td>5</td>\n",
       "      <td>3</td>\n",
       "      <td>1</td>\n",
       "      <td>4</td>\n",
       "      <td>1</td>\n",
       "      <td>1</td>\n",
       "      <td>6.0</td>\n",
       "      <td>neutral or dissatisfied</td>\n",
       "    </tr>\n",
       "    <tr>\n",
       "      <th>2</th>\n",
       "      <td>110028</td>\n",
       "      <td>Female</td>\n",
       "      <td>Loyal Customer</td>\n",
       "      <td>26</td>\n",
       "      <td>Business travel</td>\n",
       "      <td>Business</td>\n",
       "      <td>1142</td>\n",
       "      <td>2</td>\n",
       "      <td>2</td>\n",
       "      <td>2</td>\n",
       "      <td>...</td>\n",
       "      <td>5</td>\n",
       "      <td>4</td>\n",
       "      <td>3</td>\n",
       "      <td>4</td>\n",
       "      <td>4</td>\n",
       "      <td>4</td>\n",
       "      <td>5</td>\n",
       "      <td>0</td>\n",
       "      <td>0.0</td>\n",
       "      <td>satisfied</td>\n",
       "    </tr>\n",
       "    <tr>\n",
       "      <th>3</th>\n",
       "      <td>24026</td>\n",
       "      <td>Female</td>\n",
       "      <td>Loyal Customer</td>\n",
       "      <td>25</td>\n",
       "      <td>Business travel</td>\n",
       "      <td>Business</td>\n",
       "      <td>562</td>\n",
       "      <td>2</td>\n",
       "      <td>5</td>\n",
       "      <td>5</td>\n",
       "      <td>...</td>\n",
       "      <td>2</td>\n",
       "      <td>2</td>\n",
       "      <td>5</td>\n",
       "      <td>3</td>\n",
       "      <td>1</td>\n",
       "      <td>4</td>\n",
       "      <td>2</td>\n",
       "      <td>11</td>\n",
       "      <td>9.0</td>\n",
       "      <td>neutral or dissatisfied</td>\n",
       "    </tr>\n",
       "    <tr>\n",
       "      <th>4</th>\n",
       "      <td>119299</td>\n",
       "      <td>Male</td>\n",
       "      <td>Loyal Customer</td>\n",
       "      <td>61</td>\n",
       "      <td>Business travel</td>\n",
       "      <td>Business</td>\n",
       "      <td>214</td>\n",
       "      <td>3</td>\n",
       "      <td>3</td>\n",
       "      <td>3</td>\n",
       "      <td>...</td>\n",
       "      <td>3</td>\n",
       "      <td>3</td>\n",
       "      <td>4</td>\n",
       "      <td>4</td>\n",
       "      <td>3</td>\n",
       "      <td>3</td>\n",
       "      <td>3</td>\n",
       "      <td>0</td>\n",
       "      <td>0.0</td>\n",
       "      <td>satisfied</td>\n",
       "    </tr>\n",
       "    <tr>\n",
       "      <th>5</th>\n",
       "      <td>111157</td>\n",
       "      <td>Female</td>\n",
       "      <td>Loyal Customer</td>\n",
       "      <td>26</td>\n",
       "      <td>Personal Travel</td>\n",
       "      <td>Eco</td>\n",
       "      <td>1180</td>\n",
       "      <td>3</td>\n",
       "      <td>4</td>\n",
       "      <td>2</td>\n",
       "      <td>...</td>\n",
       "      <td>1</td>\n",
       "      <td>3</td>\n",
       "      <td>4</td>\n",
       "      <td>4</td>\n",
       "      <td>4</td>\n",
       "      <td>4</td>\n",
       "      <td>1</td>\n",
       "      <td>0</td>\n",
       "      <td>0.0</td>\n",
       "      <td>neutral or dissatisfied</td>\n",
       "    </tr>\n",
       "  </tbody>\n",
       "</table>\n",
       "<p>6 rows × 24 columns</p>\n",
       "</div>"
      ],
      "text/plain": [
       "       id  Gender      Customer Type  Age   Type of Travel     Class  \\\n",
       "0   70172    Male     Loyal Customer   13  Personal Travel  Eco Plus   \n",
       "1    5047    Male  disloyal Customer   25  Business travel  Business   \n",
       "2  110028  Female     Loyal Customer   26  Business travel  Business   \n",
       "3   24026  Female     Loyal Customer   25  Business travel  Business   \n",
       "4  119299    Male     Loyal Customer   61  Business travel  Business   \n",
       "5  111157  Female     Loyal Customer   26  Personal Travel       Eco   \n",
       "\n",
       "   Flight Distance  Inflight wifi service  Departure/Arrival time convenient  \\\n",
       "0              460                      3                                  4   \n",
       "1              235                      3                                  2   \n",
       "2             1142                      2                                  2   \n",
       "3              562                      2                                  5   \n",
       "4              214                      3                                  3   \n",
       "5             1180                      3                                  4   \n",
       "\n",
       "   Ease of Online booking  ...  Inflight entertainment  On-board service  \\\n",
       "0                       3  ...                       5                 4   \n",
       "1                       3  ...                       1                 1   \n",
       "2                       2  ...                       5                 4   \n",
       "3                       5  ...                       2                 2   \n",
       "4                       3  ...                       3                 3   \n",
       "5                       2  ...                       1                 3   \n",
       "\n",
       "   Leg room service  Baggage handling  Checkin service  Inflight service  \\\n",
       "0                 3                 4                4                 5   \n",
       "1                 5                 3                1                 4   \n",
       "2                 3                 4                4                 4   \n",
       "3                 5                 3                1                 4   \n",
       "4                 4                 4                3                 3   \n",
       "5                 4                 4                4                 4   \n",
       "\n",
       "   Cleanliness  Departure Delay in Minutes  Arrival Delay in Minutes  \\\n",
       "0            5                          25                      18.0   \n",
       "1            1                           1                       6.0   \n",
       "2            5                           0                       0.0   \n",
       "3            2                          11                       9.0   \n",
       "4            3                           0                       0.0   \n",
       "5            1                           0                       0.0   \n",
       "\n",
       "              satisfaction  \n",
       "0  neutral or dissatisfied  \n",
       "1  neutral or dissatisfied  \n",
       "2                satisfied  \n",
       "3  neutral or dissatisfied  \n",
       "4                satisfied  \n",
       "5  neutral or dissatisfied  \n",
       "\n",
       "[6 rows x 24 columns]"
      ]
     },
     "execution_count": 4,
     "metadata": {},
     "output_type": "execute_result"
    }
   ],
   "source": [
    "satisfaction = pd.read_csv(\"passenger_satisfaction.csv\",index_col=0).dropna()\n",
    "satisfaction.head(6)"
   ]
  },
  {
   "cell_type": "markdown",
   "id": "29e57a49",
   "metadata": {
    "deletable": false,
    "editable": false,
    "nbgrader": {
     "cell_type": "markdown",
     "checksum": "d93402c7903f89229614ebfc22db2ecb",
     "grade": false,
     "grade_id": "cell-95c7ccc3702be1c0",
     "locked": true,
     "schema_version": 3,
     "solution": false,
     "task": false
    },
    "tags": []
   },
   "source": [
    "Some of the columns are features that can be deduced independently of surveys, at least in principle. We will separate the two types of features for the analysis that follows."
   ]
  },
  {
   "cell_type": "code",
   "execution_count": 5,
   "id": "260c9e86",
   "metadata": {
    "deletable": false,
    "editable": false,
    "nbgrader": {
     "cell_type": "code",
     "checksum": "79787a7da69d869c57fe60cfa7d216e3",
     "grade": false,
     "grade_id": "cell-1ac0b05d7a343329",
     "locked": true,
     "schema_version": 3,
     "solution": false,
     "task": false
    },
    "tags": []
   },
   "outputs": [],
   "source": [
    "basic = ['Gender', 'Customer Type', 'Age', 'Class',\n",
    "        'Flight Distance','Departure Delay in Minutes', 'Arrival Delay in Minutes',]\n",
    "advanced = ['Type of Travel','Inflight wifi service',\n",
    "       'Departure/Arrival time convenient', 'Ease of Online booking',\n",
    "       'Gate location', 'Food and drink', 'Online boarding', 'Seat comfort',\n",
    "       'Inflight entertainment', 'On-board service', 'Leg room service',\n",
    "       'Baggage handling', 'Checkin service', 'Inflight service',\n",
    "       'Cleanliness']\n",
    "target = 'satisfaction'"
   ]
  },
  {
   "cell_type": "markdown",
   "id": "d380def1",
   "metadata": {
    "deletable": false,
    "editable": false,
    "nbgrader": {
     "cell_type": "markdown",
     "checksum": "08a9d6ce3eedc36dc121ec878d58633b",
     "grade": false,
     "grade_id": "cell-dd45cbd86425c45f",
     "locked": true,
     "schema_version": 3,
     "solution": false,
     "task": false
    },
    "tags": []
   },
   "source": [
    "## 1\n",
    "Create a feature frame `X_basic` for just the features in `basic`, using dummy variables to convert the categorical columns. **Use `drop_first=True` when creating dummy variables.**\n",
    "\n",
    "Make a label series `y` for the *satisfaction* column. \n",
    "\n",
    "Split off 20% of the data into a test set, using a shuffle with random state 302."
   ]
  },
  {
   "cell_type": "code",
   "execution_count": 6,
   "id": "4dbf4c04-7fe6-403f-86c9-a45843e86991",
   "metadata": {
    "deletable": false,
    "nbgrader": {
     "cell_type": "code",
     "checksum": "0b85b6e61cee420a20661c505e6b7e19",
     "grade": false,
     "grade_id": "XO-answer",
     "locked": false,
     "schema_version": 3,
     "solution": true,
     "task": false
    },
    "tags": []
   },
   "outputs": [],
   "source": [
    "X_basic = None\n",
    "y = None\n",
    "\n",
    "from sklearn.model_selection import train_test_split\n",
    "\n",
    "X_basic = pd.get_dummies(satisfaction[basic], drop_first=True)\n",
    "y = satisfaction[target]\n",
    "\n",
    "X_basic_train, X_basic_test, y_train, y_test = train_test_split(\n",
    "    X_basic, y, test_size=0.2, random_state=302, shuffle=True\n",
    ")"
   ]
  },
  {
   "cell_type": "code",
   "execution_count": 7,
   "id": "76175807-055f-4abc-b602-403f77823b02",
   "metadata": {
    "tags": []
   },
   "outputs": [
    {
     "name": "stdout",
     "output_type": "stream",
     "text": [
      "Basic features:\n"
     ]
    },
    {
     "data": {
      "text/html": [
       "<div>\n",
       "<style scoped>\n",
       "    .dataframe tbody tr th:only-of-type {\n",
       "        vertical-align: middle;\n",
       "    }\n",
       "\n",
       "    .dataframe tbody tr th {\n",
       "        vertical-align: top;\n",
       "    }\n",
       "\n",
       "    .dataframe thead th {\n",
       "        text-align: right;\n",
       "    }\n",
       "</style>\n",
       "<table border=\"1\" class=\"dataframe\">\n",
       "  <thead>\n",
       "    <tr style=\"text-align: right;\">\n",
       "      <th></th>\n",
       "      <th>Age</th>\n",
       "      <th>Flight Distance</th>\n",
       "      <th>Departure Delay in Minutes</th>\n",
       "      <th>Arrival Delay in Minutes</th>\n",
       "      <th>Gender_Male</th>\n",
       "      <th>Customer Type_disloyal Customer</th>\n",
       "      <th>Class_Eco</th>\n",
       "      <th>Class_Eco Plus</th>\n",
       "    </tr>\n",
       "  </thead>\n",
       "  <tbody>\n",
       "    <tr>\n",
       "      <th>0</th>\n",
       "      <td>13</td>\n",
       "      <td>460</td>\n",
       "      <td>25</td>\n",
       "      <td>18.0</td>\n",
       "      <td>True</td>\n",
       "      <td>False</td>\n",
       "      <td>False</td>\n",
       "      <td>True</td>\n",
       "    </tr>\n",
       "    <tr>\n",
       "      <th>1</th>\n",
       "      <td>25</td>\n",
       "      <td>235</td>\n",
       "      <td>1</td>\n",
       "      <td>6.0</td>\n",
       "      <td>True</td>\n",
       "      <td>True</td>\n",
       "      <td>False</td>\n",
       "      <td>False</td>\n",
       "    </tr>\n",
       "    <tr>\n",
       "      <th>2</th>\n",
       "      <td>26</td>\n",
       "      <td>1142</td>\n",
       "      <td>0</td>\n",
       "      <td>0.0</td>\n",
       "      <td>False</td>\n",
       "      <td>False</td>\n",
       "      <td>False</td>\n",
       "      <td>False</td>\n",
       "    </tr>\n",
       "    <tr>\n",
       "      <th>3</th>\n",
       "      <td>25</td>\n",
       "      <td>562</td>\n",
       "      <td>11</td>\n",
       "      <td>9.0</td>\n",
       "      <td>False</td>\n",
       "      <td>False</td>\n",
       "      <td>False</td>\n",
       "      <td>False</td>\n",
       "    </tr>\n",
       "    <tr>\n",
       "      <th>4</th>\n",
       "      <td>61</td>\n",
       "      <td>214</td>\n",
       "      <td>0</td>\n",
       "      <td>0.0</td>\n",
       "      <td>True</td>\n",
       "      <td>False</td>\n",
       "      <td>False</td>\n",
       "      <td>False</td>\n",
       "    </tr>\n",
       "  </tbody>\n",
       "</table>\n",
       "</div>"
      ],
      "text/plain": [
       "   Age  Flight Distance  Departure Delay in Minutes  Arrival Delay in Minutes  \\\n",
       "0   13              460                          25                      18.0   \n",
       "1   25              235                           1                       6.0   \n",
       "2   26             1142                           0                       0.0   \n",
       "3   25              562                          11                       9.0   \n",
       "4   61              214                           0                       0.0   \n",
       "\n",
       "   Gender_Male  Customer Type_disloyal Customer  Class_Eco  Class_Eco Plus  \n",
       "0         True                            False      False            True  \n",
       "1         True                             True      False           False  \n",
       "2        False                            False      False           False  \n",
       "3        False                            False      False           False  \n",
       "4         True                            False      False           False  "
      ]
     },
     "execution_count": 7,
     "metadata": {},
     "output_type": "execute_result"
    }
   ],
   "source": [
    "print(\"Basic features:\")\n",
    "X_basic.head(5)"
   ]
  },
  {
   "cell_type": "code",
   "execution_count": 8,
   "id": "ee22a419-f2c3-42a0-a45d-016d56ce9e77",
   "metadata": {
    "tags": []
   },
   "outputs": [
    {
     "name": "stdout",
     "output_type": "stream",
     "text": [
      "labels:\n"
     ]
    },
    {
     "data": {
      "text/plain": [
       "0    neutral or dissatisfied\n",
       "1    neutral or dissatisfied\n",
       "2                  satisfied\n",
       "3    neutral or dissatisfied\n",
       "4                  satisfied\n",
       "Name: satisfaction, dtype: object"
      ]
     },
     "execution_count": 8,
     "metadata": {},
     "output_type": "execute_result"
    }
   ],
   "source": [
    "print(\"labels:\")\n",
    "y.head(5)"
   ]
  },
  {
   "cell_type": "code",
   "execution_count": 9,
   "id": "372c39f0-5252-4c6c-9b2c-c467b0db318a",
   "metadata": {
    "tags": []
   },
   "outputs": [
    {
     "name": "stdout",
     "output_type": "stream",
     "text": [
      "103589 training samples and 25898 testing samples\n"
     ]
    }
   ],
   "source": [
    "print(X_basic_train.shape[0], \"training samples and\", X_basic_test.shape[0], \"testing samples\")"
   ]
  },
  {
   "cell_type": "code",
   "execution_count": 10,
   "id": "cb5939ea",
   "metadata": {
    "deletable": false,
    "editable": false,
    "nbgrader": {
     "cell_type": "code",
     "checksum": "c4130d973fef50fb4156934c4393d2c0",
     "grade": true,
     "grade_id": "XO-tests",
     "locked": true,
     "points": 3,
     "schema_version": 3,
     "solution": false,
     "task": false
    },
    "tags": []
   },
   "outputs": [
    {
     "name": "stdout",
     "output_type": "stream",
     "text": [
      "OK\n"
     ]
    }
   ],
   "source": [
    "### TESTS\n",
    "assert X_basic.shape[1]==8, \"Wrong number of columns\"\n",
    "assert len(y)==129487 and sum(y==\"satisfied\")==56262, \"Incorrect y vector\"\n",
    "assert np.isclose(X_basic_train[\"Age\"].mean(), 39.426937223, atol=1e-3, rtol=1e-3), \"Incorrect training subset\"\n",
    "\n",
    "print(\"OK\")"
   ]
  },
  {
   "cell_type": "markdown",
   "id": "99f49328",
   "metadata": {
    "deletable": false,
    "editable": false,
    "nbgrader": {
     "cell_type": "markdown",
     "checksum": "3afef6aeb4a779e6acdd7a3b823e0c3f",
     "grade": false,
     "grade_id": "cell-334fbad8596d227c",
     "locked": true,
     "schema_version": 3,
     "solution": false,
     "task": false
    },
    "tags": []
   },
   "source": [
    "## 2\n",
    "\n",
    "(5.5) Make a pipeline with a standard column scaler and a logistic regression on the test data with the option `penalty=None`, which disables regularization. \n",
    "\n",
    "Train it on the basic features training set and find its score on the test set."
   ]
  },
  {
   "cell_type": "code",
   "execution_count": 12,
   "id": "4a3b6499-b7a0-440a-be2c-4fa51a35c6c6",
   "metadata": {
    "deletable": false,
    "nbgrader": {
     "cell_type": "code",
     "checksum": "76c5bff7d43575216a62f54510e472c5",
     "grade": false,
     "grade_id": "obj-answer",
     "locked": false,
     "schema_version": 3,
     "solution": true,
     "task": false
    },
    "tags": []
   },
   "outputs": [],
   "source": [
    "basic_score = None\n",
    "\n",
    "from sklearn.pipeline import make_pipeline\n",
    "from sklearn.preprocessing import StandardScaler\n",
    "from sklearn.linear_model import LogisticRegression\n",
    "pipeline_basic = make_pipeline(StandardScaler(), LogisticRegression(penalty=None))\n",
    "pipeline_basic.fit(X_basic_train, y_train)\n",
    "basic_score = pipeline_basic.score(X_basic_test, y_test)\n"
   ]
  },
  {
   "cell_type": "code",
   "execution_count": 13,
   "id": "05e184fa-a246-4e6c-a3de-d9ea6d72b480",
   "metadata": {
    "tags": []
   },
   "outputs": [
    {
     "name": "stdout",
     "output_type": "stream",
     "text": [
      "Logistic regression for basic features has score 0.75967\n"
     ]
    }
   ],
   "source": [
    "print(f\"Logistic regression for basic features has score {basic_score:.5f}\")"
   ]
  },
  {
   "cell_type": "code",
   "execution_count": 14,
   "id": "6ac3630c",
   "metadata": {
    "deletable": false,
    "editable": false,
    "nbgrader": {
     "cell_type": "code",
     "checksum": "00bb69002fd22a25e56691ee5ead0f69",
     "grade": true,
     "grade_id": "obj-tests",
     "locked": true,
     "points": 5,
     "schema_version": 3,
     "solution": false,
     "task": false
    },
    "tags": []
   },
   "outputs": [
    {
     "name": "stdout",
     "output_type": "stream",
     "text": [
      "OK\n"
     ]
    }
   ],
   "source": [
    "### TESTS\n",
    "assert 0.75 < basic_score < 0.80, \"Basic score is wrong\"\n",
    "\n",
    "print(\"OK\")"
   ]
  },
  {
   "cell_type": "markdown",
   "id": "fbbf5f32",
   "metadata": {
    "deletable": false,
    "editable": false,
    "nbgrader": {
     "cell_type": "markdown",
     "checksum": "e3bd71456fd094a504b6000a0a6ed70f",
     "grade": false,
     "grade_id": "cell-1f2fe60570fb5278",
     "locked": true,
     "schema_version": 3,
     "solution": false,
     "task": false
    },
    "tags": []
   },
   "source": [
    "## 3\n",
    "\n",
    "(5.5) **Using only the first 1000 members** of the test set, plot the ROC curve for the regressor from step 2 for positive outcome *satisfied*."
   ]
  },
  {
   "cell_type": "code",
   "execution_count": 15,
   "id": "f13cf710",
   "metadata": {
    "deletable": false,
    "nbgrader": {
     "cell_type": "code",
     "checksum": "95364efe50fa8e6d491b61bc1cffa1ef",
     "grade": true,
     "grade_id": "plot-grade",
     "locked": false,
     "points": 4,
     "schema_version": 3,
     "solution": true,
     "task": false
    },
    "tags": []
   },
   "outputs": [
    {
     "data": {
      "image/png": "[encoded data removed]",
      "text/plain": [
       "<Figure size 640x480 with 1 Axes>"
      ]
     },
     "metadata": {},
     "output_type": "display_data"
    }
   ],
   "source": [
    "# Result is a plot\n",
    "\n",
    "from sklearn.metrics import roc_curve\n",
    "import matplotlib.pyplot as plt\n",
    "\n",
    "X_sample = X_basic_test.iloc[:1000]\n",
    "y_sample = y_test.iloc[:1000]\n",
    "\n",
    "probs = pipeline_basic.predict_proba(X_sample)[:, 1]\n",
    "fpr, tpr, _ = roc_curve(y_sample == 'satisfied', probs)\n",
    "\n",
    "plt.plot(fpr, tpr)\n",
    "plt.xlabel(\"False Positive Rate\")\n",
    "plt.ylabel(\"True Positive Rate\")\n",
    "plt.title(\"ROC Curve (Logistic Regression - Basic Features)\")\n",
    "plt.grid(True)\n",
    "plt.show()\n"
   ]
  },
  {
   "cell_type": "markdown",
   "id": "1cd24be5",
   "metadata": {
    "deletable": false,
    "editable": false,
    "nbgrader": {
     "cell_type": "markdown",
     "checksum": "607f29baa77bc6117ea2f4149c45fe26",
     "grade": false,
     "grade_id": "cell-c2551cc979394847",
     "locked": true,
     "schema_version": 3,
     "solution": false,
     "task": false
    },
    "tags": []
   },
   "source": [
    "## 4\n",
    "(5.5) In the same manner as step 1, make a feature matrix `X` that uses all of the columns in `basic` and `advanced`, converting to dummy variables with `drop_first=True`. Split the dataset into training and testing subsets using random state 302.\n",
    "\n",
    "As in step 2, train a pipeline using logistic regression but with $C=0.01$, `penalty=\"l1\"`, `solver=\"liblinear\"` (since the default solver won't work with l1), and random state equal to 19716 (since the solver has some randomization). \n",
    "\n",
    "Compute the test score of the new pipeline."
   ]
  },
  {
   "cell_type": "code",
   "execution_count": 16,
   "id": "43134817-fad6-4039-ba83-7b766702d45d",
   "metadata": {
    "deletable": false,
    "nbgrader": {
     "cell_type": "code",
     "checksum": "92283e853cc581700768c7b46e418067",
     "grade": false,
     "grade_id": "all-answer",
     "locked": false,
     "schema_version": 3,
     "solution": true,
     "task": false
    },
    "tags": []
   },
   "outputs": [],
   "source": [
    "X = None\n",
    "X_train, X_test, y_train, y_test = None, None, None, None\n",
    "all_score = None, None\n",
    "\n",
    "X = pd.get_dummies(satisfaction[basic + advanced], drop_first=True)\n",
    "y = satisfaction[target]\n",
    "\n",
    "X_train, X_test, y_train, y_test = train_test_split(\n",
    "    X, y, test_size=0.2, random_state=302, shuffle=True\n",
    ")\n",
    "\n",
    "pipeline_all = make_pipeline(\n",
    "    StandardScaler(),\n",
    "    LogisticRegression(\n",
    "        C=0.01,\n",
    "        penalty=\"l1\",\n",
    "        solver=\"liblinear\",\n",
    "        random_state=19716\n",
    "    )\n",
    ")\n",
    "\n",
    "pipeline_all.fit(X_train, y_train)\n",
    "all_score = pipeline_all.score(X_test, y_test)"
   ]
  },
  {
   "cell_type": "code",
   "execution_count": 17,
   "id": "d655e6e2-f485-4e0e-afed-8bd2516e59c6",
   "metadata": {
    "tags": []
   },
   "outputs": [
    {
     "name": "stdout",
     "output_type": "stream",
     "text": [
      "Logistic regression for all features has score 0.87231\n"
     ]
    }
   ],
   "source": [
    "print(f\"Logistic regression for all features has score {all_score:.5f}\")"
   ]
  },
  {
   "cell_type": "code",
   "execution_count": 18,
   "id": "7bb8a881",
   "metadata": {
    "deletable": false,
    "editable": false,
    "nbgrader": {
     "cell_type": "code",
     "checksum": "f220508789110112f4f060474196771f",
     "grade": true,
     "grade_id": "all-tests",
     "locked": true,
     "points": 4,
     "schema_version": 3,
     "solution": false,
     "task": false
    },
    "tags": []
   },
   "outputs": [
    {
     "name": "stdout",
     "output_type": "stream",
     "text": [
      "OK\n"
     ]
    }
   ],
   "source": [
    "### TESTS\n",
    "assert len(X.columns) == 23, \"Wrong number of columns in X\"\n",
    "assert np.isclose( X_train[\"Age\"].mean(), 39.426937223, atol=1e-3, rtol=1e-3), \"Incorrect training set\"\n",
    "assert 0.85 < all_score < 0.88\n",
    "\n",
    "print(\"OK\")"
   ]
  },
  {
   "cell_type": "markdown",
   "id": "d7b3b6a4",
   "metadata": {
    "deletable": false,
    "editable": false,
    "nbgrader": {
     "cell_type": "markdown",
     "checksum": "ab48d0e0845469a7982c4e768dfe2e0d",
     "grade": false,
     "grade_id": "cell-551ed38a4288a6bd",
     "locked": true,
     "schema_version": 3,
     "solution": false,
     "task": false
    },
    "tags": []
   },
   "source": [
    "## 5\n",
    "\n",
    "(5.5) Let `weights` be the series of weights from the regression in step 4, indexed by feature name and sorted in ascending order. "
   ]
  },
  {
   "cell_type": "code",
   "execution_count": 19,
   "id": "1b5a6be8-b2b5-4aa8-bf2e-3ce3c302728e",
   "metadata": {
    "deletable": false,
    "nbgrader": {
     "cell_type": "code",
     "checksum": "bdb21acffbd2f307021452ca33de9dcd",
     "grade": false,
     "grade_id": "weights-answer",
     "locked": false,
     "schema_version": 3,
     "solution": true,
     "task": false
    },
    "tags": []
   },
   "outputs": [],
   "source": [
    "weights = pd.Series(\n",
    "    pipeline_all.named_steps['logisticregression'].coef_[0],\n",
    "    index=X.columns\n",
    ").sort_values()"
   ]
  },
  {
   "cell_type": "code",
   "execution_count": 20,
   "id": "bea4e986-3066-43d3-9ccf-9ba3ad6534fa",
   "metadata": {
    "tags": []
   },
   "outputs": [
    {
     "name": "stdout",
     "output_type": "stream",
     "text": [
      "Type of Travel_Personal Travel      -1.239466\n",
      "Customer Type_disloyal Customer     -0.757899\n",
      "Class_Eco                           -0.346724\n",
      "Class_Eco Plus                      -0.198629\n",
      "Departure/Arrival time convenient   -0.192743\n",
      "Ease of Online booking              -0.179073\n",
      "Arrival Delay in Minutes            -0.175299\n",
      "Age                                 -0.106678\n",
      "Departure Delay in Minutes           0.000000\n",
      "Flight Distance                      0.000000\n",
      "Food and drink                       0.000000\n",
      "Gate location                        0.010791\n",
      "Gender_Male                          0.013929\n",
      "Inflight entertainment               0.063773\n",
      "Seat comfort                         0.079656\n",
      "Inflight service                     0.141109\n",
      "Baggage handling                     0.151127\n",
      "Cleanliness                          0.280845\n",
      "Leg room service                     0.331644\n",
      "On-board service                     0.381485\n",
      "Checkin service                      0.393965\n",
      "Inflight wifi service                0.499131\n",
      "Online boarding                      0.804047\n",
      "dtype: float64\n"
     ]
    }
   ],
   "source": [
    "print(weights)"
   ]
  },
  {
   "cell_type": "code",
   "execution_count": 21,
   "id": "c21a02b1-c318-42cf-bf74-150ec9578be5",
   "metadata": {
    "deletable": false,
    "editable": false,
    "nbgrader": {
     "cell_type": "code",
     "checksum": "d99080d26e267dff932f40dee035122b",
     "grade": true,
     "grade_id": "weights-tests",
     "locked": true,
     "points": 3,
     "schema_version": 3,
     "solution": false,
     "task": false
    },
    "tags": []
   },
   "outputs": [
    {
     "name": "stdout",
     "output_type": "stream",
     "text": [
      "OK\n"
     ]
    }
   ],
   "source": [
    "### TESTS\n",
    "assert type(weights) == pd.Series\n",
    "assert np.isclose( weights.mean(), -0.001956998, atol=1e-3, rtol=1e-3 )\n",
    "assert np.all( np.diff(weights.values) >= 0 )\n",
    "\n",
    "print(\"OK\")"
   ]
  },
  {
   "cell_type": "markdown",
   "id": "828fe125-9b6a-4451-af1b-5721a1bf14ae",
   "metadata": {
    "deletable": false,
    "editable": false,
    "nbgrader": {
     "cell_type": "markdown",
     "checksum": "2a01b7f0807b548795d0e14922f33522",
     "grade": false,
     "grade_id": "cell-2f9753a8a5791827",
     "locked": true,
     "schema_version": 3,
     "solution": false,
     "task": false
    },
    "tags": []
   },
   "source": [
    "## 6\n",
    "\n",
    "What feature contributes the most to customer satisfaction? Which type of traveler is more likely to experience greater satisfaction, a personal traveler or a business traveler? Type your answers into the cell below, and give reasons for your answers. "
   ]
  },
  {
   "cell_type": "markdown",
   "id": "aad05526-235d-47c6-b28b-aa7e3c9ac57c",
   "metadata": {
    "deletable": false,
    "nbgrader": {
     "cell_type": "markdown",
     "checksum": "59fa7e42b7055197c30b77d59fc40df5",
     "grade": true,
     "grade_id": "coeff-grade",
     "locked": false,
     "points": 3,
     "schema_version": 3,
     "solution": true,
     "task": false
    },
    "tags": []
   },
   "source": [
    "Most contributing feature: Online boarding — it has the highest positive weight.\n",
    "\n",
    "More satisfied traveler type: Business travelers — personal travel has a negative weight, meaning business travelers are more likely to be satisfied."
   ]
  }
 ],
 "metadata": {
  "kernelspec": {
   "display_name": "Python 3",
   "language": "python",
   "name": "python3"
  },
  "language_info": {
   "codemirror_mode": {
    "name": "ipython",
    "version": 3
   },
   "file_extension": ".py",
   "mimetype": "text/x-python",
   "name": "python",
   "nbconvert_exporter": "python",
   "pygments_lexer": "ipython3",
   "version": "3.12.10"
  }
 },
 "nbformat": 4,
 "nbformat_minor": 5
}
