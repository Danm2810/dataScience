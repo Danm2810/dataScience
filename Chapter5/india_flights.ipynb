{
 "cells": [
  {
   "cell_type": "code",
   "execution_count": 4,
   "id": "403b2258-7eaa-4c20-b53c-35c8eadeb28f",
   "metadata": {
    "deletable": false,
    "editable": false,
    "nbgrader": {
     "cell_type": "code",
     "checksum": "6287d886259f48e451bf59e73351bd7f",
     "grade": false,
     "grade_id": "cell-0bef0d0a4f311624",
     "locked": true,
     "schema_version": 3,
     "solution": false,
     "task": false
    },
    "tags": []
   },
   "outputs": [],
   "source": [
    "import warnings\n",
    "warnings.simplefilter(action='ignore', category=FutureWarning)\n",
    "warnings.simplefilter(action='ignore', category=DeprecationWarning)\n",
    "\n",
    "import numpy as np\n",
    "import pandas as pd\n",
    "import seaborn as sns"
   ]
  },
  {
   "cell_type": "markdown",
   "id": "565c404c-7ae5-4118-bec6-8c4de17763f8",
   "metadata": {
    "deletable": false,
    "editable": false,
    "nbgrader": {
     "cell_type": "markdown",
     "checksum": "2714195e9bf04ac90a1fa0c7e28ddf3f",
     "grade": false,
     "grade_id": "cell-0c0dc1542515857b",
     "locked": true,
     "schema_version": 3,
     "solution": false,
     "task": false
    },
    "tags": []
   },
   "source": [
    "This dataset contains information on ticket prices for flights between six cities in India:"
   ]
  },
  {
   "cell_type": "code",
   "execution_count": 2,
   "id": "8ff4eea4-6df5-4e12-9bb4-60d5f4861942",
   "metadata": {
    "deletable": false,
    "editable": false,
    "nbgrader": {
     "cell_type": "code",
     "checksum": "ed509b61def51d2d1650244ce8f75cb0",
     "grade": false,
     "grade_id": "cell-4ae46fc4ce7614b8",
     "locked": true,
     "schema_version": 3,
     "solution": false,
     "task": false
    },
    "tags": []
   },
   "outputs": [
    {
     "data": {
      "text/html": [
       "<div>\n",
       "<style scoped>\n",
       "    .dataframe tbody tr th:only-of-type {\n",
       "        vertical-align: middle;\n",
       "    }\n",
       "\n",
       "    .dataframe tbody tr th {\n",
       "        vertical-align: top;\n",
       "    }\n",
       "\n",
       "    .dataframe thead th {\n",
       "        text-align: right;\n",
       "    }\n",
       "</style>\n",
       "<table border=\"1\" class=\"dataframe\">\n",
       "  <thead>\n",
       "    <tr style=\"text-align: right;\">\n",
       "      <th></th>\n",
       "      <th>airline</th>\n",
       "      <th>flight</th>\n",
       "      <th>source_city</th>\n",
       "      <th>departure_time</th>\n",
       "      <th>stops</th>\n",
       "      <th>arrival_time</th>\n",
       "      <th>destination_city</th>\n",
       "      <th>class</th>\n",
       "      <th>duration</th>\n",
       "      <th>days_left</th>\n",
       "      <th>price</th>\n",
       "    </tr>\n",
       "  </thead>\n",
       "  <tbody>\n",
       "    <tr>\n",
       "      <th>0</th>\n",
       "      <td>SpiceJet</td>\n",
       "      <td>SG-8709</td>\n",
       "      <td>Delhi</td>\n",
       "      <td>Evening</td>\n",
       "      <td>zero</td>\n",
       "      <td>Night</td>\n",
       "      <td>Mumbai</td>\n",
       "      <td>Economy</td>\n",
       "      <td>2.17</td>\n",
       "      <td>1</td>\n",
       "      <td>5953</td>\n",
       "    </tr>\n",
       "    <tr>\n",
       "      <th>1</th>\n",
       "      <td>SpiceJet</td>\n",
       "      <td>SG-8157</td>\n",
       "      <td>Delhi</td>\n",
       "      <td>Early_Morning</td>\n",
       "      <td>zero</td>\n",
       "      <td>Morning</td>\n",
       "      <td>Mumbai</td>\n",
       "      <td>Economy</td>\n",
       "      <td>2.33</td>\n",
       "      <td>1</td>\n",
       "      <td>5953</td>\n",
       "    </tr>\n",
       "    <tr>\n",
       "      <th>2</th>\n",
       "      <td>AirAsia</td>\n",
       "      <td>I5-764</td>\n",
       "      <td>Delhi</td>\n",
       "      <td>Early_Morning</td>\n",
       "      <td>zero</td>\n",
       "      <td>Early_Morning</td>\n",
       "      <td>Mumbai</td>\n",
       "      <td>Economy</td>\n",
       "      <td>2.17</td>\n",
       "      <td>1</td>\n",
       "      <td>5956</td>\n",
       "    </tr>\n",
       "    <tr>\n",
       "      <th>3</th>\n",
       "      <td>Vistara</td>\n",
       "      <td>UK-995</td>\n",
       "      <td>Delhi</td>\n",
       "      <td>Morning</td>\n",
       "      <td>zero</td>\n",
       "      <td>Afternoon</td>\n",
       "      <td>Mumbai</td>\n",
       "      <td>Economy</td>\n",
       "      <td>2.25</td>\n",
       "      <td>1</td>\n",
       "      <td>5955</td>\n",
       "    </tr>\n",
       "    <tr>\n",
       "      <th>4</th>\n",
       "      <td>Vistara</td>\n",
       "      <td>UK-963</td>\n",
       "      <td>Delhi</td>\n",
       "      <td>Morning</td>\n",
       "      <td>zero</td>\n",
       "      <td>Morning</td>\n",
       "      <td>Mumbai</td>\n",
       "      <td>Economy</td>\n",
       "      <td>2.33</td>\n",
       "      <td>1</td>\n",
       "      <td>5955</td>\n",
       "    </tr>\n",
       "  </tbody>\n",
       "</table>\n",
       "</div>"
      ],
      "text/plain": [
       "    airline   flight source_city departure_time stops   arrival_time  \\\n",
       "0  SpiceJet  SG-8709       Delhi        Evening  zero          Night   \n",
       "1  SpiceJet  SG-8157       Delhi  Early_Morning  zero        Morning   \n",
       "2   AirAsia   I5-764       Delhi  Early_Morning  zero  Early_Morning   \n",
       "3   Vistara   UK-995       Delhi        Morning  zero      Afternoon   \n",
       "4   Vistara   UK-963       Delhi        Morning  zero        Morning   \n",
       "\n",
       "  destination_city    class  duration  days_left  price  \n",
       "0           Mumbai  Economy      2.17          1   5953  \n",
       "1           Mumbai  Economy      2.33          1   5953  \n",
       "2           Mumbai  Economy      2.17          1   5956  \n",
       "3           Mumbai  Economy      2.25          1   5955  \n",
       "4           Mumbai  Economy      2.33          1   5955  "
      ]
     },
     "execution_count": 2,
     "metadata": {},
     "output_type": "execute_result"
    }
   ],
   "source": [
    "flights = pd.read_csv(\"flights.csv\",index_col=0)\n",
    "flights.head(5)"
   ]
  },
  {
   "cell_type": "markdown",
   "id": "bcba0584-c171-41bb-96ef-d7ff83156943",
   "metadata": {
    "deletable": false,
    "editable": false,
    "nbgrader": {
     "cell_type": "markdown",
     "checksum": "217dd61373c2d77d7de0bf12e88f2bd5",
     "grade": false,
     "grade_id": "cell-313b7fd7ae1b86f4",
     "locked": true,
     "schema_version": 3,
     "solution": false,
     "task": false
    },
    "tags": []
   },
   "source": [
    "## 1\n",
    "Create a boolean series called `trips` that is `True` only for flights in which *class* is `\"Economy\"`, *source_city* is `\"Delhi\"`, and *destination_city* is `\"Mumbai\"`."
   ]
  },
  {
   "cell_type": "code",
   "execution_count": 5,
   "id": "f869e129-2f3b-447f-a55c-360603182339",
   "metadata": {
    "deletable": false,
    "nbgrader": {
     "cell_type": "code",
     "checksum": "65ea855e797769d15d00039c640bf59e",
     "grade": false,
     "grade_id": "trips-answer",
     "locked": false,
     "schema_version": 3,
     "solution": true,
     "task": false
    },
    "tags": []
   },
   "outputs": [],
   "source": [
    "trips = None\n",
    "trips = (flights['class'] == 'Economy') & \\\n",
    "        (flights['source_city'] == 'Delhi') & \\\n",
    "        (flights['destination_city'] == 'Mumbai')"
   ]
  },
  {
   "cell_type": "code",
   "execution_count": 6,
   "id": "9287b005-f487-4390-8a18-483f69dec97e",
   "metadata": {
    "tags": []
   },
   "outputs": [
    {
     "name": "stdout",
     "output_type": "stream",
     "text": [
      "9982 trips are selected.\n"
     ]
    }
   ],
   "source": [
    "print(sum(trips), \"trips are selected.\")"
   ]
  },
  {
   "cell_type": "code",
   "execution_count": 7,
   "id": "a2c2f0d1-bcdc-4073-9e8e-d64d86b579a7",
   "metadata": {
    "deletable": false,
    "editable": false,
    "nbgrader": {
     "cell_type": "code",
     "checksum": "3dc308bd1bd11a77e48d852f10e66cbc",
     "grade": true,
     "grade_id": "trips-tests",
     "locked": true,
     "points": 2,
     "schema_version": 3,
     "solution": false,
     "task": false
    },
    "tags": []
   },
   "outputs": [
    {
     "name": "stdout",
     "output_type": "stream",
     "text": [
      "OK\n"
     ]
    }
   ],
   "source": [
    "### TESTS\n",
    "assert sum(trips) == 9982, \"Wrong number of trips selected.\"\n",
    "\n",
    "print(\"OK\")"
   ]
  },
  {
   "cell_type": "markdown",
   "id": "4a2008be-4a77-4015-be9f-d0c21143fd00",
   "metadata": {
    "deletable": false,
    "editable": false,
    "nbgrader": {
     "cell_type": "markdown",
     "checksum": "a0f93f44fe58acab18c6ea11434ef1ec",
     "grade": false,
     "grade_id": "cell-6a06fd5cd4133498",
     "locked": true,
     "schema_version": 3,
     "solution": false,
     "task": false
    },
    "tags": []
   },
   "source": [
    "## 2\n",
    "Prepare a feature matrix `X` from `flights`, keeping only rows in which `trips` is True and the columns *departure_time*, *airline*, *duration*, *days_left*, and *stops*. \n",
    "\n",
    "In the *stops* column, replace `\"zero\"` with 0, `\"one\"` with 1, and `\"two_or_more\"` with 2.\n",
    "   \n",
    "Prepare a feature vector `y` from `flights` for the column *price* and the same rows as for `X`."
   ]
  },
  {
   "cell_type": "code",
   "execution_count": null,
   "id": "c3c9fe0e-5a58-4160-9a02-1b5dd4af169b",
   "metadata": {
    "deletable": false,
    "nbgrader": {
     "cell_type": "code",
     "checksum": "b70b99348ec6470d3d43c927c7ea985a",
     "grade": false,
     "grade_id": "Xy-answer",
     "locked": false,
     "schema_version": 3,
     "solution": true,
     "task": false
    },
    "tags": []
   },
   "outputs": [],
   "source": [
    "X, y = None, None\n",
    "\n",
    "filtered_flights = flights[trips]\n",
    "\n",
    "X = filtered_flights[['departure_time', 'airline', 'duration', 'days_left', 'stops']].copy()\n",
    "\n",
    "X['stops'] = X['stops'].replace({\n",
    "    'zero': 0,\n",
    "    'one': 1,\n",
    "    'two_or_more': 2\n",
    "})\n",
    "\n",
    "y = filtered_flights['price']"
   ]
  },
  {
   "cell_type": "code",
   "execution_count": 9,
   "id": "72d9fcfa-59d9-44c7-883f-04872126aa30",
   "metadata": {
    "tags": []
   },
   "outputs": [
    {
     "name": "stdout",
     "output_type": "stream",
     "text": [
      "X:\n"
     ]
    },
    {
     "data": {
      "text/html": [
       "<div>\n",
       "<style scoped>\n",
       "    .dataframe tbody tr th:only-of-type {\n",
       "        vertical-align: middle;\n",
       "    }\n",
       "\n",
       "    .dataframe tbody tr th {\n",
       "        vertical-align: top;\n",
       "    }\n",
       "\n",
       "    .dataframe thead th {\n",
       "        text-align: right;\n",
       "    }\n",
       "</style>\n",
       "<table border=\"1\" class=\"dataframe\">\n",
       "  <thead>\n",
       "    <tr style=\"text-align: right;\">\n",
       "      <th></th>\n",
       "      <th>departure_time</th>\n",
       "      <th>airline</th>\n",
       "      <th>duration</th>\n",
       "      <th>days_left</th>\n",
       "      <th>stops</th>\n",
       "    </tr>\n",
       "  </thead>\n",
       "  <tbody>\n",
       "    <tr>\n",
       "      <th>0</th>\n",
       "      <td>Evening</td>\n",
       "      <td>SpiceJet</td>\n",
       "      <td>2.17</td>\n",
       "      <td>1</td>\n",
       "      <td>0</td>\n",
       "    </tr>\n",
       "    <tr>\n",
       "      <th>1</th>\n",
       "      <td>Early_Morning</td>\n",
       "      <td>SpiceJet</td>\n",
       "      <td>2.33</td>\n",
       "      <td>1</td>\n",
       "      <td>0</td>\n",
       "    </tr>\n",
       "    <tr>\n",
       "      <th>2</th>\n",
       "      <td>Early_Morning</td>\n",
       "      <td>AirAsia</td>\n",
       "      <td>2.17</td>\n",
       "      <td>1</td>\n",
       "      <td>0</td>\n",
       "    </tr>\n",
       "    <tr>\n",
       "      <th>3</th>\n",
       "      <td>Morning</td>\n",
       "      <td>Vistara</td>\n",
       "      <td>2.25</td>\n",
       "      <td>1</td>\n",
       "      <td>0</td>\n",
       "    </tr>\n",
       "    <tr>\n",
       "      <th>4</th>\n",
       "      <td>Morning</td>\n",
       "      <td>Vistara</td>\n",
       "      <td>2.33</td>\n",
       "      <td>1</td>\n",
       "      <td>0</td>\n",
       "    </tr>\n",
       "  </tbody>\n",
       "</table>\n",
       "</div>"
      ],
      "text/plain": [
       "  departure_time   airline  duration  days_left  stops\n",
       "0        Evening  SpiceJet      2.17          1      0\n",
       "1  Early_Morning  SpiceJet      2.33          1      0\n",
       "2  Early_Morning   AirAsia      2.17          1      0\n",
       "3        Morning   Vistara      2.25          1      0\n",
       "4        Morning   Vistara      2.33          1      0"
      ]
     },
     "execution_count": 9,
     "metadata": {},
     "output_type": "execute_result"
    }
   ],
   "source": [
    "print(\"X:\")\n",
    "X.head(5)"
   ]
  },
  {
   "cell_type": "code",
   "execution_count": 10,
   "id": "a9e2ef44-1099-4387-a59d-391eb86c23e9",
   "metadata": {
    "tags": []
   },
   "outputs": [
    {
     "name": "stdout",
     "output_type": "stream",
     "text": [
      "y:\n"
     ]
    },
    {
     "data": {
      "text/plain": [
       "0    5953\n",
       "1    5953\n",
       "2    5956\n",
       "3    5955\n",
       "4    5955\n",
       "Name: price, dtype: int64"
      ]
     },
     "execution_count": 10,
     "metadata": {},
     "output_type": "execute_result"
    }
   ],
   "source": [
    "print(\"y:\")\n",
    "y.head(5)"
   ]
  },
  {
   "cell_type": "code",
   "execution_count": 11,
   "id": "8bd7ff0c",
   "metadata": {
    "deletable": false,
    "editable": false,
    "nbgrader": {
     "cell_type": "code",
     "checksum": "e522e95c88d910e38a21e86fb4c98eae",
     "grade": true,
     "grade_id": "Xy-tests",
     "locked": true,
     "points": 4,
     "schema_version": 3,
     "solution": false,
     "task": false
    },
    "tags": []
   },
   "outputs": [
    {
     "name": "stdout",
     "output_type": "stream",
     "text": [
      "OK\n"
     ]
    }
   ],
   "source": [
    "### TESTS\n",
    "assert set(X.columns) == {'airline', 'days_left', 'departure_time', 'duration', 'stops'}, \"Column names of X are incorrect\"\n",
    "assert np.isclose(X[\"days_left\"].mean(), 25.915948707673813, atol=1e-3, rtol=1e-3), \"Incorrect rows included in X\"\n",
    "assert np.isclose(y.mean(), 6059.826086956522, atol=1e-3, rtol=1e-3), \"Incorrect rows included in y\"\n",
    "\n",
    "print(\"OK\")"
   ]
  },
  {
   "cell_type": "markdown",
   "id": "f1b42a50-00e8-4a89-a6a8-773be39eaaec",
   "metadata": {
    "deletable": false,
    "editable": false,
    "nbgrader": {
     "cell_type": "markdown",
     "checksum": "743d22fd2f7a3b78d4d4ec147dcefdfa",
     "grade": false,
     "grade_id": "cell-8b02de0e3b0c9365",
     "locked": true,
     "schema_version": 3,
     "solution": false,
     "task": false
    },
    "tags": []
   },
   "source": [
    "## 3\n",
    "(5.2) Create `X1` from the columns *days_left* and *duration* in `X`. Perform a linear regression on `X1` for the price, and find the coefficient of determination for the fit. (Note: Do not split into training and test sets.)"
   ]
  },
  {
   "cell_type": "code",
   "execution_count": 15,
   "id": "591c45ec-b8bc-4243-84dc-75e4d2903fde",
   "metadata": {
    "deletable": false,
    "nbgrader": {
     "cell_type": "code",
     "checksum": "5ee3984a35bd0822b70d97cc4b4fb381",
     "grade": false,
     "grade_id": "cofd-answer",
     "locked": false,
     "schema_version": 3,
     "solution": true,
     "task": false
    },
    "tags": []
   },
   "outputs": [],
   "source": [
    "coeff_det = None\n",
    "\n",
    "from sklearn.linear_model import LinearRegression\n",
    "\n",
    "X1 = X[['days_left', 'duration']]\n",
    "\n",
    "model = LinearRegression()\n",
    "model.fit(X1, y)\n",
    "\n",
    "coeff_det = model.score(X1, y)\n"
   ]
  },
  {
   "cell_type": "code",
   "execution_count": 16,
   "id": "4e8614da-f8be-4763-a81a-68e40038a857",
   "metadata": {
    "tags": []
   },
   "outputs": [
    {
     "name": "stdout",
     "output_type": "stream",
     "text": [
      "Linear regression on price has coeff of determination 0.3812\n"
     ]
    }
   ],
   "source": [
    "print(f\"Linear regression on price has coeff of determination {coeff_det:.4f}\")"
   ]
  },
  {
   "cell_type": "code",
   "execution_count": 17,
   "id": "8389f981",
   "metadata": {
    "deletable": false,
    "editable": false,
    "nbgrader": {
     "cell_type": "code",
     "checksum": "ed1be5936d76b3704dc053aacff62eef",
     "grade": true,
     "grade_id": "cofd-tests",
     "locked": true,
     "points": 4,
     "schema_version": 3,
     "solution": false,
     "task": false
    },
    "tags": []
   },
   "outputs": [
    {
     "name": "stdout",
     "output_type": "stream",
     "text": [
      "OK\n"
     ]
    }
   ],
   "source": [
    "### TESTS\n",
    "assert set(X1.columns) == {\"duration\", \"days_left\"}, \"Incorrect columns in X1\"\n",
    "assert coeff_det > 0.36 and coeff_det < 0.40, \"Incorrect coefficient of determination\"\n",
    "\n",
    "print(\"OK\")"
   ]
  },
  {
   "cell_type": "markdown",
   "id": "f2554968-7874-46bd-8d23-30c75164f4b1",
   "metadata": {
    "deletable": false,
    "editable": false,
    "nbgrader": {
     "cell_type": "markdown",
     "checksum": "99adb4ff820668a8685cbcc3c1d290a9",
     "grade": false,
     "grade_id": "cell-0ecc607cf57105f0",
     "locked": true,
     "schema_version": 3,
     "solution": false,
     "task": false
    },
    "tags": []
   },
   "source": [
    "## 4\n",
    "(5.2) Produce a series, indexed by the column names, of the weights (i.e., coefficient vector) from the model in step 3. (One weight will be negative and one will be positive.)"
   ]
  },
  {
   "cell_type": "code",
   "execution_count": 18,
   "id": "6a904b4d-7943-490b-b25e-41704b5ac2e0",
   "metadata": {
    "deletable": false,
    "nbgrader": {
     "cell_type": "code",
     "checksum": "5c7d21295f7896c18cdf506c754574bd",
     "grade": false,
     "grade_id": "weights-answer",
     "locked": false,
     "schema_version": 3,
     "solution": true,
     "task": false
    },
    "tags": []
   },
   "outputs": [],
   "source": [
    "weights = None\n",
    "\n",
    "weights = pd.Series(model.coef_, index=X1.columns)"
   ]
  },
  {
   "cell_type": "code",
   "execution_count": 19,
   "id": "ba2c6b9a-1a64-45a4-85a3-728c41a8f0be",
   "metadata": {
    "tags": []
   },
   "outputs": [
    {
     "name": "stdout",
     "output_type": "stream",
     "text": [
      "days_left   -148.623863\n",
      "duration     155.435459\n",
      "dtype: float64\n"
     ]
    }
   ],
   "source": [
    "print(weights)"
   ]
  },
  {
   "cell_type": "code",
   "execution_count": 20,
   "id": "44dca242",
   "metadata": {
    "deletable": false,
    "editable": false,
    "nbgrader": {
     "cell_type": "code",
     "checksum": "525ce61b738a2fdd8d29dc4a4bc71833",
     "grade": true,
     "grade_id": "weights-tests",
     "locked": true,
     "points": 3,
     "schema_version": 3,
     "solution": false,
     "task": false
    },
    "tags": []
   },
   "outputs": [
    {
     "name": "stdout",
     "output_type": "stream",
     "text": [
      "OK\n"
     ]
    }
   ],
   "source": [
    "### TESTS\n",
    "assert type(weights) == pd.Series, \"Result must be a series\"\n",
    "assert set(weights.index) == {\"days_left\", \"duration\"}, \"Result must be indexed by the column names\"\n",
    "assert weights.prod() < 0, \"Weights have incorrect sign(s)\"\n",
    "\n",
    "print(\"OK\")"
   ]
  },
  {
   "cell_type": "markdown",
   "id": "95848df4-5af5-486b-a24e-3f4823eb10f8",
   "metadata": {
    "deletable": false,
    "editable": false,
    "nbgrader": {
     "cell_type": "markdown",
     "checksum": "f3a67e4561e6105fd401ed6b5adb03a9",
     "grade": false,
     "grade_id": "cell-d7d4b6e20516f2f8",
     "locked": true,
     "schema_version": 3,
     "solution": false,
     "task": false
    },
    "tags": []
   },
   "source": [
    "## 5\n",
    "(5.2) Create a new frame `Xdum` from `X` that replaces the *airline* and *departure_time* features with dummy variables. **Use `drop_first=True` for when creating the dummies.** (This option avoids redundancy of the features.)\n",
    "\n",
    "Train a pipeline with a robust scaler and a linear regressor using all the columns of `Xdum`. Compute the new coefficient of determination."
   ]
  },
  {
   "cell_type": "code",
   "execution_count": 23,
   "id": "efe75dc2-2e7f-47b4-8305-607f085c5ffc",
   "metadata": {
    "deletable": false,
    "nbgrader": {
     "cell_type": "code",
     "checksum": "751928ccc483112494989cd815b733fc",
     "grade": false,
     "grade_id": "dum-answer",
     "locked": false,
     "schema_version": 3,
     "solution": true,
     "task": false
    },
    "tags": []
   },
   "outputs": [],
   "source": [
    "Xdum = None\n",
    "coeff_det_dum = None\n",
    "\n",
    "Xdum = pd.get_dummies(X, columns=['airline', 'departure_time'], drop_first=True)\n",
    "\n",
    "pipeline = make_pipeline(RobustScaler(), LinearRegression())\n",
    "pipeline.fit(Xdum, y)\n",
    "coeff_det_dum = pipeline.score(Xdum, y)\n"
   ]
  },
  {
   "cell_type": "code",
   "execution_count": 24,
   "id": "4dadb8db-4000-4759-994f-6c769f6b88f6",
   "metadata": {
    "tags": []
   },
   "outputs": [
    {
     "name": "stdout",
     "output_type": "stream",
     "text": [
      "Linear regression with dummies has coeff of determination 0.5051\n"
     ]
    }
   ],
   "source": [
    "print(f\"Linear regression with dummies has coeff of determination {coeff_det_dum:.4f}\")"
   ]
  },
  {
   "cell_type": "code",
   "execution_count": null,
   "id": "725b6262",
   "metadata": {
    "deletable": false,
    "editable": false,
    "nbgrader": {
     "cell_type": "code",
     "checksum": "ff6e310979918782f0f2dbe30fb86a2f",
     "grade": true,
     "grade_id": "dum-tests",
     "locked": true,
     "points": 4,
     "schema_version": 3,
     "solution": false,
     "task": false
    },
    "tags": []
   },
   "outputs": [],
   "source": [
    "### TESTS\n",
    "assert Xdum.shape[1] == 13, \"Incorrect number of columns in Xdum\"\n",
    "assert 0.55 > coeff_det_dum > 0.5, \"Incorrect coefficient of determination\"\n",
    "\n",
    "print(\"OK\")"
   ]
  },
  {
   "cell_type": "markdown",
   "id": "04a8167e-9782-4d9b-bf59-41523c2ea5c8",
   "metadata": {
    "deletable": false,
    "editable": false,
    "nbgrader": {
     "cell_type": "markdown",
     "checksum": "de635e3adba643c6de6e86960bfcde24",
     "grade": false,
     "grade_id": "cell-ea6f765d0c2138fd",
     "locked": true,
     "schema_version": 3,
     "solution": false,
     "task": false
    },
    "tags": []
   },
   "source": [
    "## 6\n",
    "\n",
    "(5.2) Create a series, indexed by the column names in `Xdum`, of the regression weights for the linear regressor from step 5, sorted in ascending order. (The negative values show how to decrease the price, and the positive ones show how to increase it.)\n"
   ]
  },
  {
   "cell_type": "code",
   "execution_count": 25,
   "id": "a11fdcb8-8b1d-4faf-93b4-884a1d3721b7",
   "metadata": {
    "deletable": false,
    "nbgrader": {
     "cell_type": "code",
     "checksum": "7dd77b0500f7e20257727f7043677974",
     "grade": false,
     "grade_id": "dumweights-answer",
     "locked": false,
     "schema_version": 3,
     "solution": true,
     "task": false
    },
    "tags": []
   },
   "outputs": [],
   "source": [
    "weights_dum = None\n",
    "\n",
    "weights_dum = pd.Series(pipeline.named_steps['linearregression'].coef_, index=Xdum.columns).sort_values()\n"
   ]
  },
  {
   "cell_type": "code",
   "execution_count": 26,
   "id": "d3878881-3c64-4ce9-a358-35b45e7e8706",
   "metadata": {
    "tags": []
   },
   "outputs": [
    {
     "name": "stdout",
     "output_type": "stream",
     "text": [
      "days_left                      -3554.766309\n",
      "departure_time_Night            -151.580915\n",
      "departure_time_Evening           -98.531068\n",
      "departure_time_Early_Morning     261.790043\n",
      "duration                         262.785192\n",
      "departure_time_Late_Night        367.749335\n",
      "departure_time_Morning           626.479993\n",
      "airline_SpiceJet                 897.852995\n",
      "airline_Indigo                   970.524844\n",
      "airline_GO_FIRST                1857.536586\n",
      "airline_Air_India               2376.574484\n",
      "airline_Vistara                 2771.648938\n",
      "stops                           2835.409323\n",
      "dtype: float64\n"
     ]
    }
   ],
   "source": [
    "print(weights_dum)"
   ]
  },
  {
   "cell_type": "code",
   "execution_count": 27,
   "id": "22b59a5f",
   "metadata": {
    "deletable": false,
    "editable": false,
    "nbgrader": {
     "cell_type": "code",
     "checksum": "92d2c1a1117190f7ff321067368b5dd5",
     "grade": true,
     "grade_id": "dumweights-tests",
     "locked": true,
     "points": 4,
     "schema_version": 3,
     "solution": false,
     "task": false
    },
    "tags": []
   },
   "outputs": [
    {
     "name": "stdout",
     "output_type": "stream",
     "text": [
      "OK\n"
     ]
    }
   ],
   "source": [
    "### TESTS\n",
    "assert type(weights_dum) == pd.Series, \"Result must be a series\" \n",
    "assert set(weights_dum.index) == set(Xdum.columns), \"Result must be indexed by the feature names\"\n",
    "assert np.all( np.diff(weights_dum.values) > 0 ), \"Result must be sorted\"\n",
    "assert np.isclose(weights_dum.sum(), 9423.473, rtol=1e-4)\n",
    "\n",
    "print(\"OK\")"
   ]
  },
  {
   "cell_type": "markdown",
   "id": "b83c0afa-97c4-4df1-a565-2e1be5274f9f",
   "metadata": {
    "deletable": false,
    "editable": false,
    "nbgrader": {
     "cell_type": "markdown",
     "checksum": "ff32b926397c0a995a288c43cc4d6f6f",
     "grade": false,
     "grade_id": "cell-d1a92467b0722fa0",
     "locked": true,
     "schema_version": 3,
     "solution": false,
     "task": false
    },
    "tags": []
   },
   "source": [
    "## 7\n",
    "(5.3) Use LASSO linear regression on `Xdum` with regularization parameter $\\alpha = 10$. Find a list or vector of the names of all features that have weights less than `1e-3` in absolute value."
   ]
  },
  {
   "cell_type": "code",
   "execution_count": 31,
   "id": "d53db689-6b11-4d0a-a556-e1de694b7b7a",
   "metadata": {
    "deletable": false,
    "nbgrader": {
     "cell_type": "code",
     "checksum": "a2f6cbb8d9962bfeedbdf9c87887909a",
     "grade": false,
     "grade_id": "lasso-answer",
     "locked": false,
     "schema_version": 3,
     "solution": true,
     "task": false
    },
    "tags": []
   },
   "outputs": [],
   "source": [
    "dropped = None\n",
    "\n",
    "from sklearn.linear_model import Lasso\n",
    "\n",
    "lasso = make_pipeline(RobustScaler(), Lasso(alpha=10))\n",
    "lasso.fit(Xdum, y)\n",
    "\n",
    "coef = pd.Series(lasso.named_steps['lasso'].coef_, index=Xdum.columns)\n",
    "dropped = coef[coef.abs() < 1e-3].index.tolist()\n"
   ]
  },
  {
   "cell_type": "code",
   "execution_count": 32,
   "id": "58c07c31-ea1d-4ea6-ab6a-738d1d8db38d",
   "metadata": {
    "tags": []
   },
   "outputs": [
    {
     "name": "stdout",
     "output_type": "stream",
     "text": [
      "Columns to be dropped from the features:\n",
      "['airline_SpiceJet', 'departure_time_Late_Night']\n"
     ]
    }
   ],
   "source": [
    "print(\"Columns to be dropped from the features:\")\n",
    "print(dropped)"
   ]
  },
  {
   "cell_type": "code",
   "execution_count": 33,
   "id": "2fa462b6",
   "metadata": {
    "deletable": false,
    "editable": false,
    "nbgrader": {
     "cell_type": "code",
     "checksum": "621ab886d49a28e3031b0ee349e125ef",
     "grade": true,
     "grade_id": "lasso-tests",
     "locked": true,
     "points": 4,
     "schema_version": 3,
     "solution": false,
     "task": false
    },
    "tags": []
   },
   "outputs": [
    {
     "name": "stdout",
     "output_type": "stream",
     "text": [
      "OK\n"
     ]
    }
   ],
   "source": [
    "### TESTS\n",
    "assert np.all([ d in Xdum.columns for d in dropped] ), \"Result must be a list or vector of feature names\"\n",
    "assert len(dropped) > 0, \"At least one feature should be marked for dropping\"\n",
    "\n",
    "print(\"OK\")"
   ]
  },
  {
   "cell_type": "markdown",
   "id": "34d0a281-1648-4c4a-8656-ea6c897d91af",
   "metadata": {
    "deletable": false,
    "editable": false,
    "nbgrader": {
     "cell_type": "markdown",
     "checksum": "5f821f45f10208b40f614e0ebc9ff10c",
     "grade": false,
     "grade_id": "cell-9ce09e624f31e528",
     "locked": true,
     "schema_version": 3,
     "solution": false,
     "task": false
    },
    "tags": []
   },
   "source": [
    "## 8\n",
    "(5.4) Use a decision tree regressor with maximum depth 5 on `Xdum` and compute its coefficient of determination score.\n",
    "\n",
    "Based on this regressor, determine which feature is considered to be most important."
   ]
  },
  {
   "cell_type": "code",
   "execution_count": 34,
   "id": "9a5641d9-fc35-424d-a79c-3844a421eb8f",
   "metadata": {
    "deletable": false,
    "nbgrader": {
     "cell_type": "code",
     "checksum": "de00ae1ed74fb1ebaa699a477bbe411b",
     "grade": false,
     "grade_id": "dtree-answer",
     "locked": false,
     "schema_version": 3,
     "solution": true,
     "task": false
    },
    "tags": []
   },
   "outputs": [],
   "source": [
    "coeff_det_dtr = None\n",
    "top_feature = \"\"   # should be a string\n",
    "from sklearn.tree import DecisionTreeRegressor\n",
    "\n",
    "dtr = DecisionTreeRegressor(max_depth=5)\n",
    "dtr.fit(Xdum, y)\n",
    "coeff_det_dtr = dtr.score(Xdum, y)\n",
    "\n",
    "importances = pd.Series(dtr.feature_importances_, index=Xdum.columns)\n",
    "top_feature = importances.idxmax()"
   ]
  },
  {
   "cell_type": "code",
   "execution_count": 35,
   "id": "2407c6b8-6fbe-4c4d-b1bd-61ee8b1bf25b",
   "metadata": {
    "tags": []
   },
   "outputs": [
    {
     "name": "stdout",
     "output_type": "stream",
     "text": [
      "Decision tree has coeff of determination 0.7257\n",
      "Most important decision tree feature is days_left\n"
     ]
    }
   ],
   "source": [
    "print(f\"Decision tree has coeff of determination {coeff_det_dtr:.4f}\")\n",
    "print(\"Most important decision tree feature is\", top_feature)"
   ]
  },
  {
   "cell_type": "code",
   "execution_count": 36,
   "id": "2c93f555",
   "metadata": {
    "deletable": false,
    "editable": false,
    "nbgrader": {
     "cell_type": "code",
     "checksum": "0f5cf5bc9070ec0712cb7595e001dd0e",
     "grade": true,
     "grade_id": "cell-3a4f72e2f5406874",
     "locked": true,
     "points": 5,
     "schema_version": 3,
     "solution": false,
     "task": false
    },
    "tags": []
   },
   "outputs": [
    {
     "name": "stdout",
     "output_type": "stream",
     "text": [
      "OK\n"
     ]
    }
   ],
   "source": [
    "### TESTS\n",
    "assert 0.7 < coeff_det_dtr < 0.75, \"Incorrect coefficient of determination\"\n",
    "assert type(top_feature) == str, \"Top feature should be a string\"\n",
    "assert top_feature in Xdum.columns, \"Top feature should be a column of Xdum\"\n",
    "\n",
    "print(\"OK\")"
   ]
  }
 ],
 "metadata": {
  "kernelspec": {
   "display_name": "Python 3",
   "language": "python",
   "name": "python3"
  },
  "language_info": {
   "codemirror_mode": {
    "name": "ipython",
    "version": 3
   },
   "file_extension": ".py",
   "mimetype": "text/x-python",
   "name": "python",
   "nbconvert_exporter": "python",
   "pygments_lexer": "ipython3",
   "version": "3.12.10"
  }
 },
 "nbformat": 4,
 "nbformat_minor": 5
}
