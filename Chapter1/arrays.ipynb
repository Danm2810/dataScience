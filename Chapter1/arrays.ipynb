{
 "cells": [
  {
   "cell_type": "code",
   "execution_count": 38,
   "id": "40a452cd-0dee-4b12-9b5a-b9b02f07530d",
   "metadata": {
    "deletable": false,
    "editable": false,
    "nbgrader": {
     "cell_type": "code",
     "checksum": "277d2cc65f55c4bd6f0f49544b1653f0",
     "grade": false,
     "grade_id": "cell-3b658a4c6c0424dc",
     "locked": true,
     "schema_version": 3,
     "solution": false,
     "task": false
    },
    "tags": []
   },
   "outputs": [],
   "source": [
    "import numpy as np"
   ]
  },
  {
   "cell_type": "markdown",
   "id": "5bfc12e2-ccb9-4826-a6c4-cb2627a9f97c",
   "metadata": {
    "deletable": false,
    "editable": false,
    "nbgrader": {
     "cell_type": "markdown",
     "checksum": "aea45c3a334d5ca495654f54a1e281dd",
     "grade": false,
     "grade_id": "cell-4c42cd41cfbaa0bb",
     "locked": true,
     "schema_version": 3,
     "solution": false,
     "task": false
    }
   },
   "source": [
    "## 1.\n",
    "Create a NumPy vector called `primes` that consists of the first 8 prime numbers. (You can simply type in the values, nothing fancy needed to compute them.)"
   ]
  },
  {
   "cell_type": "code",
   "execution_count": 5,
   "id": "ab3fbfc6-99a1-49d4-be0d-de2391c93e1a",
   "metadata": {
    "deletable": false,
    "nbgrader": {
     "cell_type": "code",
     "checksum": "090c6c47d00b1e06793ecf20b063a559",
     "grade": false,
     "grade_id": "primes-answer",
     "locked": false,
     "schema_version": 3,
     "solution": true,
     "task": false
    },
    "tags": []
   },
   "outputs": [
    {
     "name": "stdout",
     "output_type": "stream",
     "text": [
      "[ 2  3  5  7 11 13 17 19]\n"
     ]
    }
   ],
   "source": [
    "primes = None\n",
    "\n",
    "primes = np.array([2, 3, 5, 7, 11, 13, 17, 19])\n",
    "\n",
    "print(primes)"
   ]
  },
  {
   "cell_type": "code",
   "execution_count": 8,
   "id": "f436219a-8954-48cb-8f2d-e1ca272a49d4",
   "metadata": {
    "deletable": false,
    "editable": false,
    "nbgrader": {
     "cell_type": "code",
     "checksum": "a05a336b49ac80b05985947104f982de",
     "grade": true,
     "grade_id": "primes-tests",
     "locked": true,
     "points": 1,
     "schema_version": 3,
     "solution": false,
     "task": false
    },
    "tags": []
   },
   "outputs": [
    {
     "name": "stdout",
     "output_type": "stream",
     "text": [
      "OK\n"
     ]
    }
   ],
   "source": [
    "# TESTS\n",
    "assert type(primes) == np.ndarray\n",
    "assert primes.shape == (8,)\n",
    "assert np.sum(primes) == 77\n",
    "print(\"OK\")"
   ]
  },
  {
   "cell_type": "code",
   "execution_count": 7,
   "id": "e1691503-cc30-4e86-bc7d-edd461127b95",
   "metadata": {
    "deletable": false,
    "editable": false,
    "nbgrader": {
     "cell_type": "code",
     "checksum": "414192892f293d327af9491d44e67475",
     "grade": true,
     "grade_id": "primes-graded",
     "locked": true,
     "points": 2,
     "schema_version": 3,
     "solution": false,
     "task": false
    },
    "tags": []
   },
   "outputs": [],
   "source": [
    "# Intentionally blank--do not delete"
   ]
  },
  {
   "cell_type": "markdown",
   "id": "79bfa5bd-2f3c-45cd-88b2-b283a8ff5e62",
   "metadata": {
    "deletable": false,
    "editable": false,
    "nbgrader": {
     "cell_type": "markdown",
     "checksum": "6639934e9972c7e21bbe22fda731260c",
     "grade": false,
     "grade_id": "cell-df1f229974583287",
     "locked": true,
     "schema_version": 3,
     "solution": false,
     "task": false
    }
   },
   "source": [
    "## 2. \n",
    "Create a NumPy vector called `squares` that consists of the values [1, 4, 9, 16, …, 1521, 1600]."
   ]
  },
  {
   "cell_type": "code",
   "execution_count": 10,
   "id": "34d151bb-3b09-4316-9fbe-8be30591bb3b",
   "metadata": {
    "deletable": false,
    "nbgrader": {
     "cell_type": "code",
     "checksum": "672ed41e34cf7d6aa342be27c7bed933",
     "grade": false,
     "grade_id": "squares-answer",
     "locked": false,
     "schema_version": 3,
     "solution": true,
     "task": false
    },
    "tags": []
   },
   "outputs": [
    {
     "name": "stdout",
     "output_type": "stream",
     "text": [
      "[   1    4    9   16   25   36   49   64   81  100  121  144  169  196\n",
      "  225  256  289  324  361  400  441  484  529  576  625  676  729  784\n",
      "  841  900  961 1024 1089 1156 1225 1296 1369 1444 1521 1600]\n"
     ]
    }
   ],
   "source": [
    "squares = None\n",
    "\n",
    "squares = np.array([i**2 for i in range(1, 41)])\n",
    "\n",
    "print(squares)"
   ]
  },
  {
   "cell_type": "code",
   "execution_count": 11,
   "id": "7dc5a2f0-acc6-4ba1-ab58-7150eb1e73bf",
   "metadata": {
    "deletable": false,
    "editable": false,
    "nbgrader": {
     "cell_type": "code",
     "checksum": "90418513418a4abe5e225ab2ff736078",
     "grade": true,
     "grade_id": "squares-tests",
     "locked": true,
     "points": 0,
     "schema_version": 3,
     "solution": false,
     "task": false
    },
    "tags": []
   },
   "outputs": [
    {
     "name": "stdout",
     "output_type": "stream",
     "text": [
      "OK\n"
     ]
    }
   ],
   "source": [
    "# TESTS\n",
    "assert type(squares) == np.ndarray\n",
    "assert squares.shape == (40,)\n",
    "assert np.sum(squares) == 22140\n",
    "print(\"OK\")"
   ]
  },
  {
   "cell_type": "code",
   "execution_count": null,
   "id": "1848ce20-fe81-4207-8ab3-1c67e305cdff",
   "metadata": {
    "deletable": false,
    "editable": false,
    "nbgrader": {
     "cell_type": "code",
     "checksum": "84d4ab47838320fbd8af625c5605722b",
     "grade": true,
     "grade_id": "squares-graded",
     "locked": true,
     "points": 2,
     "schema_version": 3,
     "solution": false,
     "task": false
    },
    "tags": []
   },
   "outputs": [],
   "source": [
    "# Intentionally blank--do not delete"
   ]
  },
  {
   "cell_type": "markdown",
   "id": "9d8877e7-ba83-4eb2-a34e-23e198c3e3c0",
   "metadata": {
    "deletable": false,
    "editable": false,
    "nbgrader": {
     "cell_type": "markdown",
     "checksum": "12c6979ea9e9e0a767ce8d2e7a28e9b1",
     "grade": false,
     "grade_id": "cell-be7937b5b1038e99",
     "locked": true,
     "schema_version": 3,
     "solution": false,
     "task": false
    }
   },
   "source": [
    "## 3.\n",
    "Create a matrix `C` with 27 rows and 44 columns having all entries equal to 5.2."
   ]
  },
  {
   "cell_type": "code",
   "execution_count": 12,
   "id": "aa8821b3-ac05-4334-9820-c3d88d0bc941",
   "metadata": {
    "deletable": false,
    "nbgrader": {
     "cell_type": "code",
     "checksum": "e4fdf77f5e2a1823f8a25748389c77f2",
     "grade": false,
     "grade_id": "matrix-answer",
     "locked": false,
     "schema_version": 3,
     "solution": true,
     "task": false
    },
    "tags": []
   },
   "outputs": [
    {
     "name": "stdout",
     "output_type": "stream",
     "text": [
      "upper left corner:\n",
      "[[5.2 5.2 5.2 5.2 5.2 5.2]\n",
      " [5.2 5.2 5.2 5.2 5.2 5.2]\n",
      " [5.2 5.2 5.2 5.2 5.2 5.2]\n",
      " [5.2 5.2 5.2 5.2 5.2 5.2]]\n"
     ]
    }
   ],
   "source": [
    "C = None\n",
    "\n",
    "C = np.full((27, 44), 5.2)\n",
    "\n",
    "print(\"upper left corner:\")\n",
    "print(C[:4, :6])"
   ]
  },
  {
   "cell_type": "code",
   "execution_count": 13,
   "id": "a502cd47-da83-424e-8c04-cadcb6703e47",
   "metadata": {
    "deletable": false,
    "editable": false,
    "nbgrader": {
     "cell_type": "code",
     "checksum": "a6291feeb2398dafa2f32b3dccc953d2",
     "grade": true,
     "grade_id": "matrix-tests",
     "locked": true,
     "points": 1,
     "schema_version": 3,
     "solution": false,
     "task": false
    },
    "tags": []
   },
   "outputs": [
    {
     "name": "stdout",
     "output_type": "stream",
     "text": [
      "OK\n"
     ]
    }
   ],
   "source": [
    "# TESTS\n",
    "assert type(C) == np.ndarray\n",
    "assert C.shape == (27, 44)\n",
    "print(\"OK\")"
   ]
  },
  {
   "cell_type": "code",
   "execution_count": 14,
   "id": "899cd7a7-ca2c-4402-91fc-b23a4b7568b4",
   "metadata": {
    "deletable": false,
    "editable": false,
    "nbgrader": {
     "cell_type": "code",
     "checksum": "8d0152b35fb54ba686fa172491e4b84a",
     "grade": true,
     "grade_id": "matrix-graded",
     "locked": true,
     "points": 2,
     "schema_version": 3,
     "solution": false,
     "task": false
    },
    "tags": []
   },
   "outputs": [],
   "source": [
    "# Intentionally blank--do not delete"
   ]
  },
  {
   "cell_type": "markdown",
   "id": "e3033d68-82b9-4c49-b7be-411e71cef4a2",
   "metadata": {
    "deletable": false,
    "editable": false,
    "nbgrader": {
     "cell_type": "markdown",
     "checksum": "f7ef5d150e8f1881b90c49f1b9b3e3b2",
     "grade": false,
     "grade_id": "cell-de897a4d14c58a57",
     "locked": true,
     "schema_version": 3,
     "solution": false,
     "task": false
    }
   },
   "source": [
    "# 4.\n",
    "\n",
    "Here is a matrix `R`."
   ]
  },
  {
   "cell_type": "code",
   "execution_count": 15,
   "id": "41803b07-b84c-48ce-b96b-590d97c2b6a6",
   "metadata": {
    "deletable": false,
    "editable": false,
    "nbgrader": {
     "cell_type": "code",
     "checksum": "fb6ae5af868a47779040c1a46131d345",
     "grade": false,
     "grade_id": "cell-f1b5948166b03cea",
     "locked": true,
     "schema_version": 3,
     "solution": false,
     "task": false
    }
   },
   "outputs": [
    {
     "data": {
      "text/plain": [
       "array([[ 0,  1,  2,  3,  4,  5],\n",
       "       [ 6,  7,  8,  9, 10, 11],\n",
       "       [12, 13, 14, 15, 16, 17],\n",
       "       [18, 19, 20, 21, 22, 23],\n",
       "       [24, 25, 26, 27, 28, 29]])"
      ]
     },
     "execution_count": 15,
     "metadata": {},
     "output_type": "execute_result"
    }
   ],
   "source": [
    "R = np.reshape(range(0, 30), (5, 6))\n",
    "R"
   ]
  },
  {
   "cell_type": "markdown",
   "id": "07432c70-5d2c-44a0-94f9-83d612c31f45",
   "metadata": {
    "deletable": false,
    "editable": false,
    "nbgrader": {
     "cell_type": "markdown",
     "checksum": "f8bec6d43b68338bc79ef1b94de69278",
     "grade": false,
     "grade_id": "cell-3e1dc1b1ae096b7c",
     "locked": true,
     "schema_version": 3,
     "solution": false,
     "task": false
    }
   },
   "source": [
    "Use a **single numpy slice command** to extract this submatrix:\n",
    "\n",
    "$$\n",
    "S = \n",
    "\\begin{bmatrix}\n",
    "2 & 3 & 4 \\\\ 14 & 15 & 16 \\\\ 26 & 27 & 28\n",
    "\\end{bmatrix}\n",
    "$$"
   ]
  },
  {
   "cell_type": "code",
   "execution_count": 16,
   "id": "aabc875b-113e-4ca9-a3b1-e886eafb53a7",
   "metadata": {
    "deletable": false,
    "nbgrader": {
     "cell_type": "code",
     "checksum": "021e18f03daae6cf35ba2d6d1d38b86a",
     "grade": false,
     "grade_id": "slice-answer",
     "locked": false,
     "schema_version": 3,
     "solution": true,
     "task": false
    }
   },
   "outputs": [
    {
     "name": "stdout",
     "output_type": "stream",
     "text": [
      "your slice:\n",
      "[[ 2  3  4]\n",
      " [14 15 16]\n",
      " [26 27 28]]\n"
     ]
    }
   ],
   "source": [
    "S = None\n",
    "S = R[0::2, 2:5]\n",
    "\n",
    "print(\"your slice:\")\n",
    "print(S)"
   ]
  },
  {
   "cell_type": "code",
   "execution_count": 17,
   "id": "0a8423af-b328-41b0-aa50-0f2c3da84b1a",
   "metadata": {
    "deletable": false,
    "editable": false,
    "nbgrader": {
     "cell_type": "code",
     "checksum": "9e68797e5e5332a1111f98b42480d113",
     "grade": true,
     "grade_id": "slice-tests",
     "locked": true,
     "points": 2,
     "schema_version": 3,
     "solution": false,
     "task": false
    },
    "tags": []
   },
   "outputs": [
    {
     "name": "stdout",
     "output_type": "stream",
     "text": [
      "OK\n"
     ]
    }
   ],
   "source": [
    "# TESTS\n",
    "assert np.all( S == np.array([[2, 3, 4], [14, 15, 16], [26, 27, 28]]) )\n",
    "print(\"OK\")"
   ]
  },
  {
   "cell_type": "markdown",
   "id": "98039411-c4a0-4136-ae8c-46fd38b73f1c",
   "metadata": {
    "deletable": false,
    "editable": false,
    "nbgrader": {
     "cell_type": "markdown",
     "checksum": "7e83946637b31b2259d5636a1f357856",
     "grade": false,
     "grade_id": "cell-fe5d54193f5a87fa",
     "locked": true,
     "schema_version": 3,
     "solution": false,
     "task": false
    }
   },
   "source": [
    "## 5.\n",
    "Write a function `row_col_mean` that accepts a matrix as input and returns two vectors: the mean value in every row and the mean value in every column. So, for example, the input\n",
    "$$\n",
    "\\begin{bmatrix}\n",
    "2 & -1 & 2 \\\\ -3 & 1 & 2\n",
    "\\end{bmatrix}\n",
    "$$\n",
    "would produce the outputs $[1, \\: 0]$ and $[-0.5,\\: 0,\\: 2]$."
   ]
  },
  {
   "cell_type": "code",
   "execution_count": 36,
   "id": "b1f3c567-08ff-46bc-b9ff-15f8fd9a4b56",
   "metadata": {
    "deletable": false,
    "nbgrader": {
     "cell_type": "code",
     "checksum": "20a3cf7e801bcffc2c7594e7ea302c19",
     "grade": false,
     "grade_id": "colmax-answer",
     "locked": false,
     "schema_version": 3,
     "solution": true,
     "task": false
    },
    "tags": []
   },
   "outputs": [],
   "source": [
    "def row_col_mean(A):\n",
    "    row_mean = np.mean(A, axis=1)  \n",
    "    col_mean = np.mean(A, axis=0)\n",
    "    return row_mean, col_mean"
   ]
  },
  {
   "cell_type": "code",
   "execution_count": 37,
   "id": "c7a5014a-fa37-4d11-ae4f-1737634beb1f",
   "metadata": {
    "deletable": false,
    "editable": false,
    "nbgrader": {
     "cell_type": "code",
     "checksum": "6a88bb35211873d92ca6efd865f680bb",
     "grade": true,
     "grade_id": "colmax-tests",
     "locked": true,
     "points": 2,
     "schema_version": 3,
     "solution": false,
     "task": false
    },
    "tags": []
   },
   "outputs": [
    {
     "name": "stdout",
     "output_type": "stream",
     "text": [
      "OK\n"
     ]
    }
   ],
   "source": [
    "# TESTS\n",
    "B = np.array([[1, 3, 4],[5, 0, 2]])\n",
    "assert np.all( np.isclose(row_col_mean(B)[0], np.array([2.6666667, 2.3333333])) )\n",
    "assert np.all( np.isclose(row_col_mean(B)[1], np.array([3, 1.5, 3])) )\n",
    "print(\"OK\")"
   ]
  },
  {
   "cell_type": "code",
   "execution_count": null,
   "id": "8fcd1cb6-1925-4193-b840-df05537e3803",
   "metadata": {
    "deletable": false,
    "editable": false,
    "nbgrader": {
     "cell_type": "code",
     "checksum": "9732f7ef8aa99c7670b56deb026d430d",
     "grade": true,
     "grade_id": "colmax-graded",
     "locked": true,
     "points": 2,
     "schema_version": 3,
     "solution": false,
     "task": false
    },
    "tags": []
   },
   "outputs": [],
   "source": [
    "# Intentionally blank--do not delete"
   ]
  }
 ],
 "metadata": {
  "kernelspec": {
   "display_name": "Python 3",
   "language": "python",
   "name": "python3"
  },
  "language_info": {
   "codemirror_mode": {
    "name": "ipython",
    "version": 3
   },
   "file_extension": ".py",
   "mimetype": "text/x-python",
   "name": "python",
   "nbconvert_exporter": "python",
   "pygments_lexer": "ipython3",
   "version": "3.12.9"
  }
 },
 "nbformat": 4,
 "nbformat_minor": 5
}
