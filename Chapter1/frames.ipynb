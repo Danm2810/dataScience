{
 "cells": [
  {
   "cell_type": "code",
   "execution_count": 8,
   "id": "8197906f-d670-4183-8f1a-375b9aed7d43",
   "metadata": {
    "deletable": false,
    "editable": false,
    "nbgrader": {
     "cell_type": "code",
     "checksum": "6a106e31cce02ce0ecfd1e9c04b2a1fe",
     "grade": false,
     "grade_id": "cell-c08259804bba64b9",
     "locked": true,
     "schema_version": 3,
     "solution": false,
     "task": false
    },
    "tags": []
   },
   "outputs": [],
   "source": [
    "import numpy as np\n",
    "import pandas as pd"
   ]
  },
  {
   "cell_type": "markdown",
   "id": "64189d2a-f44c-4596-abda-34374277dba1",
   "metadata": {
    "deletable": false,
    "editable": false,
    "nbgrader": {
     "cell_type": "markdown",
     "checksum": "efba9f13fd0adc5a36f17cc30443dffa",
     "grade": false,
     "grade_id": "cell-d1975572b22f474e",
     "locked": true,
     "schema_version": 3,
     "solution": false,
     "task": false
    }
   },
   "source": [
    "## 1.\n",
    "Create a series called `schools` that has the values `\"Delaware\"`, `\"Penn\"`, `\"Drexel\"`, and `\"Villanova\"`, in that order."
   ]
  },
  {
   "cell_type": "code",
   "execution_count": 9,
   "id": "1cd33fbb-3067-4482-8e66-10d7352e7cce",
   "metadata": {
    "deletable": false,
    "nbgrader": {
     "cell_type": "code",
     "checksum": "3253a621de51b2555fbdb90ab161b35a",
     "grade": false,
     "grade_id": "schools-answer",
     "locked": false,
     "schema_version": 3,
     "solution": true,
     "task": false
    },
    "tags": []
   },
   "outputs": [
    {
     "name": "stdout",
     "output_type": "stream",
     "text": [
      "0     Delaware\n",
      "1         Penn\n",
      "2       Drexel\n",
      "3    Villanova\n",
      "dtype: object\n"
     ]
    }
   ],
   "source": [
    "import pandas as pd\n",
    "schools = None\n",
    "\n",
    "schools = pd.Series([\"Delaware\", \"Penn\", \"Drexel\", \"Villanova\"])\n",
    "\n",
    "print(schools)"
   ]
  },
  {
   "cell_type": "code",
   "execution_count": 10,
   "id": "7a68d260-162c-4467-8aab-f8cfe8091bc8",
   "metadata": {
    "deletable": false,
    "editable": false,
    "nbgrader": {
     "cell_type": "code",
     "checksum": "f7ecb55296295a4c8652b1b71939521c",
     "grade": true,
     "grade_id": "schools-type",
     "locked": true,
     "points": 1,
     "schema_version": 3,
     "solution": false,
     "task": false
    },
    "tags": []
   },
   "outputs": [
    {
     "name": "stdout",
     "output_type": "stream",
     "text": [
      "OK\n"
     ]
    }
   ],
   "source": [
    "# TESTS\n",
    "assert type(schools) == pd.Series\n",
    "print(\"OK\")"
   ]
  },
  {
   "cell_type": "code",
   "execution_count": 11,
   "id": "9445cd10-2386-491e-a9a3-e850608b5df5",
   "metadata": {
    "deletable": false,
    "editable": false,
    "nbgrader": {
     "cell_type": "code",
     "checksum": "a2033c7fff449bde7269cd55ae8d7b4a",
     "grade": true,
     "grade_id": "schools-values",
     "locked": true,
     "points": 3,
     "schema_version": 3,
     "solution": false,
     "task": false
    }
   },
   "outputs": [
    {
     "ename": "AssertionError",
     "evalue": "",
     "output_type": "error",
     "traceback": [
      "\u001b[1;31m---------------------------------------------------------------------------\u001b[0m",
      "\u001b[1;31mAssertionError\u001b[0m                            Traceback (most recent call last)",
      "Cell \u001b[1;32mIn[11], line 2\u001b[0m\n\u001b[0;32m      1\u001b[0m \u001b[38;5;66;03m# TESTS\u001b[39;00m\n\u001b[1;32m----> 2\u001b[0m \u001b[38;5;28;01massert\u001b[39;00m np\u001b[38;5;241m.\u001b[39mall(schools\u001b[38;5;241m.\u001b[39mvalues \u001b[38;5;241m==\u001b[39m [\u001b[38;5;124m\"\u001b[39m\u001b[38;5;124mDelaware\u001b[39m\u001b[38;5;124m\"\u001b[39m, \u001b[38;5;124m\"\u001b[39m\u001b[38;5;124mPenn\u001b[39m\u001b[38;5;124m\"\u001b[39m, \u001b[38;5;124m\"\u001b[39m\u001b[38;5;124mRutgers\u001b[39m\u001b[38;5;124m\"\u001b[39m, \u001b[38;5;124m\"\u001b[39m\u001b[38;5;124mVillanova\u001b[39m\u001b[38;5;124m\"\u001b[39m])\n\u001b[0;32m      3\u001b[0m \u001b[38;5;28mprint\u001b[39m(\u001b[38;5;124m\"\u001b[39m\u001b[38;5;124mOK\u001b[39m\u001b[38;5;124m\"\u001b[39m)\n",
      "\u001b[1;31mAssertionError\u001b[0m: "
     ]
    }
   ],
   "source": [
    "# TESTS\n",
    "assert np.all(schools.values == [\"Delaware\", \"Penn\", \"Rutgers\", \"Villanova\"])\n",
    "print(\"OK\")"
   ]
  },
  {
   "cell_type": "markdown",
   "id": "ec8e409e-207a-4e64-9cbd-b8e060f4ffc3",
   "metadata": {
    "deletable": false,
    "editable": false,
    "nbgrader": {
     "cell_type": "markdown",
     "checksum": "00d837806775b8b37b965c2832e8659e",
     "grade": false,
     "grade_id": "cell-82b84234e9bb5ead",
     "locked": true,
     "schema_version": 3,
     "solution": false,
     "task": false
    }
   },
   "source": [
    "## 2.\n",
    "Give `schools` the name \"School\". Then use it to make a data frame called `uni` that looks like this:\n",
    "\n",
    "![data frame](./df_snapshot.jpg)\n",
    "\n",
    "Note: The *Founded* values should be of `int64` data type."
   ]
  },
  {
   "cell_type": "code",
   "execution_count": 14,
   "id": "9fe3e3f3-6c15-4a95-869a-3f33343e939c",
   "metadata": {
    "deletable": false,
    "nbgrader": {
     "cell_type": "code",
     "checksum": "cc690baff9ced88eecbe33e6de034842",
     "grade": false,
     "grade_id": "uni-answer",
     "locked": false,
     "schema_version": 3,
     "solution": true,
     "task": false
    },
    "tags": []
   },
   "outputs": [
    {
     "name": "stdout",
     "output_type": "stream",
     "text": [
      "           Founded       Mascot\n",
      "School                         \n",
      "Delaware      1743       YouDee\n",
      "Penn          1740       Quaker\n",
      "Rutgers       1766    Sir Henry\n",
      "Villanova     1842  Will D. Cat\n"
     ]
    }
   ],
   "source": [
    "uni = None\n",
    "\n",
    "uni = pd.DataFrame({\n",
    "    \"School\": [\"Delaware\", \"Penn\", \"Rutgers\", \"Villanova\"],\n",
    "    \"Founded\": [1743, 1740, 1766, 1842],\n",
    "    \"Mascot\": [\"YouDee\", \"Quaker\", \"Sir Henry\", \"Will D. Cat\"]\n",
    "}).set_index(\"School\")\n",
    "\n",
    "\n",
    "# Ensuring \"Founded\" is of int64 type\n",
    "uni[\"Founded\"] = uni[\"Founded\"].astype(\"int64\")\n",
    "print(uni)"
   ]
  },
  {
   "cell_type": "code",
   "execution_count": 15,
   "id": "31012ee1-bc87-4363-8416-72f3dc2dee31",
   "metadata": {
    "deletable": false,
    "editable": false,
    "nbgrader": {
     "cell_type": "code",
     "checksum": "e24d697212168b35904b1e4b4b874595",
     "grade": true,
     "grade_id": "uni-tests",
     "locked": true,
     "points": 2,
     "schema_version": 3,
     "solution": false,
     "task": false
    },
    "tags": []
   },
   "outputs": [
    {
     "name": "stdout",
     "output_type": "stream",
     "text": [
      "OK\n"
     ]
    }
   ],
   "source": [
    "# TESTS\n",
    "assert type(uni) == pd.DataFrame\n",
    "assert list(uni.columns) == ['Founded', 'Mascot']\n",
    "assert uni.loc[\"Penn\", \"Mascot\"] == \"Quaker\"\n",
    "assert uni.loc[\"Villanova\", \"Founded\"] == 1842\n",
    "print(\"OK\")"
   ]
  },
  {
   "cell_type": "code",
   "execution_count": null,
   "id": "83fd8fcc-88d6-4607-8847-f86adbfe02ad",
   "metadata": {
    "deletable": false,
    "editable": false,
    "nbgrader": {
     "cell_type": "code",
     "checksum": "3e5380919662415b597af7a11f63dafb",
     "grade": true,
     "grade_id": "uni-grade",
     "locked": true,
     "points": 2,
     "schema_version": 3,
     "solution": false,
     "task": false
    },
    "tags": []
   },
   "outputs": [],
   "source": [
    "# Intentionally blank--do not delete"
   ]
  },
  {
   "cell_type": "markdown",
   "id": "579de7ed-a6fe-4a0b-90d5-9eaa803fb996",
   "metadata": {
    "deletable": false,
    "editable": false,
    "nbgrader": {
     "cell_type": "markdown",
     "checksum": "5ef7b0bad971a5df6002e19c852696e9",
     "grade": false,
     "grade_id": "cell-6b0181e6773672b9",
     "locked": true,
     "schema_version": 3,
     "solution": false,
     "task": false
    }
   },
   "source": [
    "## 3.\n",
    " Load the `fight-songs.csv` file as a data frame called `songs`. Set the index of the frame to be the value in the *school* column. Display the first 5 rows."
   ]
  },
  {
   "cell_type": "code",
   "execution_count": 16,
   "id": "25706d41-4410-4d46-b058-8bc585a7a2c4",
   "metadata": {
    "deletable": false,
    "nbgrader": {
     "cell_type": "code",
     "checksum": "e0ceb1762eca73b703e70113c67c200e",
     "grade": true,
     "grade_id": "songs-manual",
     "locked": false,
     "points": 2,
     "schema_version": 3,
     "solution": true,
     "task": false
    },
    "tags": []
   },
   "outputs": [
    {
     "name": "stdout",
     "output_type": "stream",
     "text": [
      "               conference          song_name  \\\n",
      "school                                         \n",
      "Notre Dame    Independent      Victory March   \n",
      "Baylor             Big 12          Old Fight   \n",
      "Iowa State         Big 12  Iowa State Fights   \n",
      "Kansas             Big 12      I'm a Jayhawk   \n",
      "Kansas State       Big 12    Wildcat Victory   \n",
      "\n",
      "                                                        writers  year  \\\n",
      "school                                                                  \n",
      "Notre Dame                     Michael J. Shea and John F. Shea  1908   \n",
      "Baylor                               Dick Baker and Frank Boggs  1947   \n",
      "Iowa State    Jack Barker, Manly Rice, Paul Gnam, Rosalind K...  1930   \n",
      "Kansas                                    George \"Dumpy\" Bowles  1912   \n",
      "Kansas State                                  Harry E. Erickson  1927   \n",
      "\n",
      "             student_writer official_song contest  bpm  sec_duration fight  \\\n",
      "school                                                                       \n",
      "Notre Dame               No           Yes      No  152            64   Yes   \n",
      "Baylor                  Yes           Yes      No   76            99   Yes   \n",
      "Iowa State              Yes           Yes      No  155            55   Yes   \n",
      "Kansas                  Yes           Yes      No  137            62    No   \n",
      "Kansas State            Yes           Yes      No   80            67   Yes   \n",
      "\n",
      "              ...  win_won victory_win_won  rah nonsense colors  men  \\\n",
      "school        ...                                                      \n",
      "Notre Dame    ...      Yes             Yes  Yes       No    Yes  Yes   \n",
      "Baylor        ...      Yes             Yes   No       No    Yes   No   \n",
      "Iowa State    ...       No              No  Yes       No     No  Yes   \n",
      "Kansas        ...       No              No   No      Yes     No  Yes   \n",
      "Kansas State  ...       No             Yes   No       No    Yes   No   \n",
      "\n",
      "             opponents spelling trope_count              spotify_id  \n",
      "school                                                               \n",
      "Notre Dame          No       No           6  15a3ShKX3XWKzq0lSS48yr  \n",
      "Baylor              No      Yes           5  2ZsaI0Cu4nz8DHfBkPt0Dl  \n",
      "Iowa State          No      Yes           4  3yyfoOXZQCtR6pfRJqu9pl  \n",
      "Kansas             Yes       No           3  0JzbjZgcjugS0dmPjF9R89  \n",
      "Kansas State        No       No           3  4xxDK4g1OHhZ44sTFy8Ktm  \n",
      "\n",
      "[5 rows x 22 columns]\n"
     ]
    }
   ],
   "source": [
    "songs = None\n",
    "\n",
    "songs = pd.read_csv(\"fight-songs.csv\", index_col=\"school\")\n",
    "\n",
    "# Display the first 5 rows\n",
    "print(songs.head())"
   ]
  },
  {
   "cell_type": "code",
   "execution_count": 17,
   "id": "31dcbbca-8d9d-46bd-93ce-08cca27e61db",
   "metadata": {
    "deletable": false,
    "editable": false,
    "nbgrader": {
     "cell_type": "code",
     "checksum": "4817a1f979273b05e5fc6dd197c740d8",
     "grade": true,
     "grade_id": "songs-tests",
     "locked": true,
     "points": 2,
     "schema_version": 3,
     "solution": false,
     "task": false
    }
   },
   "outputs": [],
   "source": [
    "# TESTS\n",
    "assert songs.shape == (65, 22)\n",
    "assert songs.index.name == \"school\""
   ]
  },
  {
   "cell_type": "markdown",
   "id": "6119e342-71fe-4bec-8fdf-f5dc6b4f9658",
   "metadata": {
    "deletable": false,
    "editable": false,
    "nbgrader": {
     "cell_type": "markdown",
     "checksum": "cd8fcc7e3bfbb30959cb11d34572d485",
     "grade": false,
     "grade_id": "cell-7a62cfb36cdd6642",
     "locked": true,
     "schema_version": 3,
     "solution": false,
     "task": false
    }
   },
   "source": [
    "## 4.\n",
    "Assign the *song_name* column from `songs` to a variable called `names`. Define a new series called `subset` having the 8th through 18th values of `names`."
   ]
  },
  {
   "cell_type": "code",
   "execution_count": 18,
   "id": "2b428657-fbc8-4a68-b3bd-603d64cc56a7",
   "metadata": {
    "deletable": false,
    "nbgrader": {
     "cell_type": "code",
     "checksum": "542cb75c53494904084e4a9856bd6ebc",
     "grade": false,
     "grade_id": "names-answer",
     "locked": false,
     "schema_version": 3,
     "solution": true,
     "task": false
    },
    "tags": []
   },
   "outputs": [
    {
     "name": "stdout",
     "output_type": "stream",
     "text": [
      "school\n",
      "Notre Dame          Victory March\n",
      "Baylor                  Old Fight\n",
      "Iowa State      Iowa State Fights\n",
      "Kansas              I'm a Jayhawk\n",
      "Kansas State      Wildcat Victory\n",
      "Oklahoma            Boomer Sooner\n",
      "Name: song_name, dtype: object\n",
      "\n",
      "school\n",
      "Texas                       Texas Fight\n",
      "TCU                      TCU Fight Song\n",
      "Texas Tech        Fight, Raiders, Fight\n",
      "West Virginia        Hail West Virginia\n",
      "Illinois                  Oskee-Wow-Wow\n",
      "Indiana            Indiana, Our Indiana\n",
      "Iowa                    Iowa Fight Song\n",
      "Maryland            Maryland Fight Song\n",
      "Michigan                    The Victors\n",
      "Michigan State          Victory for MSU\n",
      "Minnesota          The Minnesota Rouser\n",
      "Name: song_name, dtype: object\n"
     ]
    }
   ],
   "source": [
    "names, subset = None, None\n",
    "\n",
    "songs = pd.read_csv(\"fight-songs.csv\", index_col=\"school\")\n",
    "\n",
    "names = songs[\"song_name\"]\n",
    "\n",
    "subset = names.iloc[7:18]\n",
    "\n",
    "print(names.head(6))\n",
    "print()\n",
    "print(subset)"
   ]
  },
  {
   "cell_type": "code",
   "execution_count": 19,
   "id": "7f4b87f8-e50b-4159-b211-d41676c6cdab",
   "metadata": {
    "deletable": false,
    "editable": false,
    "nbgrader": {
     "cell_type": "code",
     "checksum": "027375ec775af7888dea699718791644",
     "grade": true,
     "grade_id": "names-tests",
     "locked": true,
     "points": 2,
     "schema_version": 3,
     "solution": false,
     "task": false
    },
    "tags": []
   },
   "outputs": [
    {
     "name": "stdout",
     "output_type": "stream",
     "text": [
      "OK\n"
     ]
    }
   ],
   "source": [
    "# TESTS\n",
    "assert type(names) == pd.Series\n",
    "assert len(names) == 65\n",
    "assert type(subset) == pd.Series\n",
    "assert len(subset) == 11\n",
    "print(\"OK\")"
   ]
  },
  {
   "cell_type": "code",
   "execution_count": null,
   "id": "fef02133-39c6-464c-9a14-c3bba646ffbe",
   "metadata": {
    "deletable": false,
    "editable": false,
    "nbgrader": {
     "cell_type": "code",
     "checksum": "123c225b3cea7f138b34bdf7a8212fad",
     "grade": true,
     "grade_id": "names-grade",
     "locked": true,
     "points": 2,
     "schema_version": 3,
     "solution": false,
     "task": false
    },
    "tags": []
   },
   "outputs": [],
   "source": [
    "# Intentionally blank--do not delete"
   ]
  },
  {
   "cell_type": "markdown",
   "id": "75dd2099-58fd-4e4c-bb13-5c1af354c412",
   "metadata": {
    "deletable": false,
    "editable": false,
    "nbgrader": {
     "cell_type": "markdown",
     "checksum": "d05c2d1375347a571ee0ece1c078be48",
     "grade": false,
     "grade_id": "cell-d31bd814b96d45ea",
     "locked": true,
     "schema_version": 3,
     "solution": false,
     "task": false
    }
   },
   "source": [
    "## 5.\n",
    "Assign the maximum value in the *trope_count* column of `songs` to the variable `trope_max`."
   ]
  },
  {
   "cell_type": "code",
   "execution_count": 20,
   "id": "c4bca71d-8147-4ae5-9a75-c8c5976b5ef7",
   "metadata": {
    "deletable": false,
    "nbgrader": {
     "cell_type": "code",
     "checksum": "1b7cd6a376b44cc3b21aefc33b8c6166",
     "grade": false,
     "grade_id": "tropemax-answer",
     "locked": false,
     "schema_version": 3,
     "solution": true,
     "task": false
    },
    "tags": []
   },
   "outputs": [
    {
     "name": "stdout",
     "output_type": "stream",
     "text": [
      "Max tropes is 8\n"
     ]
    }
   ],
   "source": [
    "trope_max = None\n",
    "\n",
    "songs = pd.read_csv(\"fight-songs.csv\", index_col=\"school\")\n",
    "\n",
    "trope_max = songs[\"trope_count\"].max()\n",
    "\n",
    "print(f\"Max tropes is {trope_max}\")"
   ]
  },
  {
   "cell_type": "code",
   "execution_count": null,
   "id": "1ebd4859-07f7-4dca-bbf1-4a7d05436cbf",
   "metadata": {
    "deletable": false,
    "editable": false,
    "nbgrader": {
     "cell_type": "code",
     "checksum": "44b00e293be2e5be6703455241a1c424",
     "grade": true,
     "grade_id": "tropemax-tests",
     "locked": true,
     "points": 0,
     "schema_version": 3,
     "solution": false,
     "task": false
    }
   },
   "outputs": [
    {
     "name": "stdout",
     "output_type": "stream",
     "text": [
      "OK\n"
     ]
    }
   ],
   "source": [
    "# TESTS\n",
    "assert type(trope_max) in [np.int64, int]\n",
    "print(\"OK\")"
   ]
  },
  {
   "cell_type": "code",
   "execution_count": null,
   "id": "bac8c4ec-2964-4e01-b3dd-d8a41a6b2d85",
   "metadata": {
    "deletable": false,
    "editable": false,
    "nbgrader": {
     "cell_type": "code",
     "checksum": "b93d841f8096630b516d4bf170625270",
     "grade": true,
     "grade_id": "tropemax-grade",
     "locked": true,
     "points": 2,
     "schema_version": 3,
     "solution": false,
     "task": false
    },
    "tags": []
   },
   "outputs": [],
   "source": [
    "# Intentionally blank--do not delete"
   ]
  },
  {
   "cell_type": "markdown",
   "id": "aac03f49-b9cd-4057-a78f-072e82e7d6a6",
   "metadata": {
    "deletable": false,
    "editable": false,
    "nbgrader": {
     "cell_type": "markdown",
     "checksum": "febac1ae0c3ac32253eba77ccd9aa8be",
     "grade": false,
     "grade_id": "cell-15bbcce66efcf089",
     "locked": true,
     "schema_version": 3,
     "solution": false,
     "task": false
    }
   },
   "source": [
    "## 6.\n",
    "Make a data frame called `songs1914` consisting of only the rows in `songs` representing songs that were written in 1914."
   ]
  },
  {
   "cell_type": "code",
   "execution_count": null,
   "id": "0e03a2d5-18b6-4a37-906f-7c81d6b6b19a",
   "metadata": {
    "deletable": false,
    "nbgrader": {
     "cell_type": "code",
     "checksum": "2011e6b1e841285acdecc23736e049ed",
     "grade": false,
     "grade_id": "1915-answer",
     "locked": false,
     "schema_version": 3,
     "solution": true,
     "task": false
    },
    "tags": []
   },
   "outputs": [
    {
     "name": "stdout",
     "output_type": "stream",
     "text": [
      "Empty DataFrame\n",
      "Columns: [conference, song_name, year]\n",
      "Index: []\n"
     ]
    }
   ],
   "source": [
    "songs1914 = None\n",
    "\n",
    "songs = pd.read_csv(\"fight-songs.csv\", index_col=\"school\")\n",
    "\n",
    "songs1914 = songs[songs[\"year\"] == 1914]\n",
    "\n",
    "print(songs1914[[\"conference\", \"song_name\", \"year\"]])"
   ]
  },
  {
   "cell_type": "code",
   "execution_count": null,
   "id": "c7f0617e-8078-455c-8a09-c6b4c1118a3b",
   "metadata": {
    "deletable": false,
    "editable": false,
    "nbgrader": {
     "cell_type": "code",
     "checksum": "b90b333885215adf6db78fcd05fbd461",
     "grade": true,
     "grade_id": "1915-tests",
     "locked": true,
     "points": 1,
     "schema_version": 3,
     "solution": false,
     "task": false
    },
    "tags": []
   },
   "outputs": [
    {
     "ename": "AssertionError",
     "evalue": "",
     "output_type": "error",
     "traceback": [
      "\u001b[1;31m---------------------------------------------------------------------------\u001b[0m",
      "\u001b[1;31mAssertionError\u001b[0m                            Traceback (most recent call last)",
      "Cell \u001b[1;32mIn[28], line 3\u001b[0m\n\u001b[0;32m      1\u001b[0m \u001b[38;5;66;03m# TESTS\u001b[39;00m\n\u001b[0;32m      2\u001b[0m \u001b[38;5;28;01massert\u001b[39;00m \u001b[38;5;28mtype\u001b[39m(songs1914) \u001b[38;5;241m==\u001b[39m pd\u001b[38;5;241m.\u001b[39mDataFrame\n\u001b[1;32m----> 3\u001b[0m \u001b[38;5;28;01massert\u001b[39;00m \u001b[38;5;28mset\u001b[39m(songs1914[\u001b[38;5;124m\"\u001b[39m\u001b[38;5;124myear\u001b[39m\u001b[38;5;124m\"\u001b[39m]) \u001b[38;5;241m==\u001b[39m {\u001b[38;5;124m\"\u001b[39m\u001b[38;5;124m1914\u001b[39m\u001b[38;5;124m\"\u001b[39m}\n\u001b[0;32m      4\u001b[0m \u001b[38;5;28mprint\u001b[39m(\u001b[38;5;124m\"\u001b[39m\u001b[38;5;124mOK\u001b[39m\u001b[38;5;124m\"\u001b[39m)\n",
      "\u001b[1;31mAssertionError\u001b[0m: "
     ]
    }
   ],
   "source": [
    "# TESTS\n",
    "assert type(songs1914) == pd.DataFrame\n",
    "assert set(songs1914[\"year\"]) == {\"1914\"}\n",
    "print(\"OK\")"
   ]
  },
  {
   "cell_type": "code",
   "execution_count": null,
   "id": "6bef5b6f-4bbf-4a2d-a5d3-17860271010f",
   "metadata": {
    "deletable": false,
    "editable": false,
    "nbgrader": {
     "cell_type": "code",
     "checksum": "b85838a824d8b30bb94fcc774ebaf658",
     "grade": true,
     "grade_id": "1915-grade",
     "locked": true,
     "points": 3,
     "schema_version": 3,
     "solution": false,
     "task": false
    },
    "tags": []
   },
   "outputs": [],
   "source": [
    "# Intentionally blank--do not delete"
   ]
  },
  {
   "cell_type": "markdown",
   "id": "9dc54ced-eaaa-405f-9c60-07830aa18c21",
   "metadata": {
    "deletable": false,
    "editable": false,
    "nbgrader": {
     "cell_type": "markdown",
     "checksum": "65a1618bc9bc63f2e4de4490ed3238ea",
     "grade": false,
     "grade_id": "cell-9389c88913c63654",
     "locked": true,
     "schema_version": 3,
     "solution": false,
     "task": false
    }
   },
   "source": [
    "## 7.\n",
    "Assign to `fast_corny` the subset of `songs` consisting of the columns *song_name* and *year*, and the rows in which *bpm* is greater than 120 and *trope_count* is greater than 5."
   ]
  },
  {
   "cell_type": "code",
   "execution_count": 29,
   "id": "a3725bc7-b6c3-44c2-becb-326ab80a646d",
   "metadata": {
    "deletable": false,
    "nbgrader": {
     "cell_type": "code",
     "checksum": "933f5c31e5b883846fb0bdf83885d192",
     "grade": false,
     "grade_id": "select-answer",
     "locked": false,
     "schema_version": 3,
     "solution": true,
     "task": false
    },
    "tags": []
   },
   "outputs": [
    {
     "data": {
      "text/html": [
       "<div>\n",
       "<style scoped>\n",
       "    .dataframe tbody tr th:only-of-type {\n",
       "        vertical-align: middle;\n",
       "    }\n",
       "\n",
       "    .dataframe tbody tr th {\n",
       "        vertical-align: top;\n",
       "    }\n",
       "\n",
       "    .dataframe thead th {\n",
       "        text-align: right;\n",
       "    }\n",
       "</style>\n",
       "<table border=\"1\" class=\"dataframe\">\n",
       "  <thead>\n",
       "    <tr style=\"text-align: right;\">\n",
       "      <th></th>\n",
       "      <th>song_name</th>\n",
       "      <th>year</th>\n",
       "    </tr>\n",
       "    <tr>\n",
       "      <th>school</th>\n",
       "      <th></th>\n",
       "      <th></th>\n",
       "    </tr>\n",
       "  </thead>\n",
       "  <tbody>\n",
       "    <tr>\n",
       "      <th>Notre Dame</th>\n",
       "      <td>Victory March</td>\n",
       "      <td>1908</td>\n",
       "    </tr>\n",
       "    <tr>\n",
       "      <th>TCU</th>\n",
       "      <td>TCU Fight Song</td>\n",
       "      <td>1928</td>\n",
       "    </tr>\n",
       "    <tr>\n",
       "      <th>Illinois</th>\n",
       "      <td>Oskee-Wow-Wow</td>\n",
       "      <td>1910</td>\n",
       "    </tr>\n",
       "    <tr>\n",
       "      <th>Alabama</th>\n",
       "      <td>Yea Alabama</td>\n",
       "      <td>1926</td>\n",
       "    </tr>\n",
       "    <tr>\n",
       "      <th>Syracuse</th>\n",
       "      <td>Down the Field</td>\n",
       "      <td>1914</td>\n",
       "    </tr>\n",
       "  </tbody>\n",
       "</table>\n",
       "</div>"
      ],
      "text/plain": [
       "                 song_name  year\n",
       "school                          \n",
       "Notre Dame   Victory March  1908\n",
       "TCU         TCU Fight Song  1928\n",
       "Illinois     Oskee-Wow-Wow  1910\n",
       "Alabama        Yea Alabama  1926\n",
       "Syracuse    Down the Field  1914"
      ]
     },
     "execution_count": 29,
     "metadata": {},
     "output_type": "execute_result"
    }
   ],
   "source": [
    "fast_corny = None\n",
    "\n",
    "fast_corny = songs[(songs[\"bpm\"] > 120) & (songs[\"trope_count\"] > 5)][[\"song_name\", \"year\"]]\n",
    "\n",
    "fast_corny"
   ]
  },
  {
   "cell_type": "code",
   "execution_count": 30,
   "id": "85b5a3d6-4bb9-4f23-934b-2826c1d90c3e",
   "metadata": {
    "deletable": false,
    "editable": false,
    "nbgrader": {
     "cell_type": "code",
     "checksum": "8c4ff73f6762b0c12e4f9b75e5f7e43f",
     "grade": true,
     "grade_id": "select-tests",
     "locked": true,
     "points": 1,
     "schema_version": 3,
     "solution": false,
     "task": false
    },
    "tags": []
   },
   "outputs": [
    {
     "name": "stdout",
     "output_type": "stream",
     "text": [
      "OK\n"
     ]
    }
   ],
   "source": [
    "# TESTS\n",
    "assert set(fast_corny.columns) == {\"song_name\", \"year\"}\n",
    "assert len(fast_corny) == 5\n",
    "print(\"OK\")"
   ]
  },
  {
   "cell_type": "code",
   "execution_count": null,
   "id": "9ab9eba8-61be-4198-aa80-d6214a06121a",
   "metadata": {
    "deletable": false,
    "editable": false,
    "nbgrader": {
     "cell_type": "code",
     "checksum": "78ec73197f2feb34c9b4e6a1ace3ef44",
     "grade": true,
     "grade_id": "select-grade",
     "locked": true,
     "points": 3,
     "schema_version": 3,
     "solution": false,
     "task": false
    },
    "tags": []
   },
   "outputs": [],
   "source": [
    "# Intentionally blank--do not delete"
   ]
  },
  {
   "cell_type": "markdown",
   "id": "42625490-53b5-4b43-b11a-2aa31a8f499b",
   "metadata": {
    "deletable": false,
    "editable": false,
    "nbgrader": {
     "cell_type": "markdown",
     "checksum": "9298d3a9758e8fd504ee7e7a6da66b79",
     "grade": false,
     "grade_id": "cell-8c76390257cb01cc",
     "locked": true,
     "schema_version": 3,
     "solution": false,
     "task": false
    }
   },
   "source": [
    "## 8.\n",
    "Assign to `short_conferences` a list or NumPy array containing the names of all conferences that have at least one song of duration less than 45 seconds."
   ]
  },
  {
   "cell_type": "code",
   "execution_count": null,
   "id": "9ef282a2-80f6-4add-9797-7d247e8b4b50",
   "metadata": {
    "deletable": false,
    "nbgrader": {
     "cell_type": "code",
     "checksum": "000acecf0d9aba4a6641e1854960e580",
     "grade": false,
     "grade_id": "short-answer",
     "locked": false,
     "schema_version": 3,
     "solution": true,
     "task": false
    },
    "tags": []
   },
   "outputs": [
    {
     "ename": "NameError",
     "evalue": "name 'df' is not defined",
     "output_type": "error",
     "traceback": [
      "\u001b[1;31m---------------------------------------------------------------------------\u001b[0m",
      "\u001b[1;31mNameError\u001b[0m                                 Traceback (most recent call last)",
      "Cell \u001b[1;32mIn[35], line 2\u001b[0m\n\u001b[0;32m      1\u001b[0m short_conferences \u001b[38;5;241m=\u001b[39m \u001b[38;5;28;01mNone\u001b[39;00m\n\u001b[1;32m----> 2\u001b[0m short_conferences \u001b[38;5;241m=\u001b[39m \u001b[43mdf\u001b[49m[df[\u001b[38;5;124m'\u001b[39m\u001b[38;5;124msec_duration\u001b[39m\u001b[38;5;124m'\u001b[39m] \u001b[38;5;241m<\u001b[39m \u001b[38;5;241m45\u001b[39m][\u001b[38;5;124m'\u001b[39m\u001b[38;5;124mconference\u001b[39m\u001b[38;5;124m'\u001b[39m]\u001b[38;5;241m.\u001b[39munique()\n\u001b[0;32m      4\u001b[0m \u001b[38;5;28mprint\u001b[39m(short_conferences)\n",
      "\u001b[1;31mNameError\u001b[0m: name 'df' is not defined"
     ]
    }
   ],
   "source": [
    "short_conferences = None\n",
    "\n",
    "short_songs = songs[songs[\"song_duration\"] < 45]\n",
    "short_conferences = short_songs[\"conference\"].unique()\n",
    "\n",
    "short_conferences = list(short_conferences)\n",
    "\n",
    "print(short_conferences)"
   ]
  },
  {
   "cell_type": "code",
   "execution_count": 36,
   "id": "918cd4c0-f9f8-4ca1-82f6-abed019f3881",
   "metadata": {
    "deletable": false,
    "editable": false,
    "nbgrader": {
     "cell_type": "code",
     "checksum": "e4e948583e4dbd67d88a423756ae984c",
     "grade": true,
     "grade_id": "short-tests",
     "locked": true,
     "points": 1,
     "schema_version": 3,
     "solution": false,
     "task": false
    }
   },
   "outputs": [
    {
     "ename": "AssertionError",
     "evalue": "",
     "output_type": "error",
     "traceback": [
      "\u001b[1;31m---------------------------------------------------------------------------\u001b[0m",
      "\u001b[1;31mAssertionError\u001b[0m                            Traceback (most recent call last)",
      "Cell \u001b[1;32mIn[36], line 2\u001b[0m\n\u001b[0;32m      1\u001b[0m \u001b[38;5;66;03m# TESTS\u001b[39;00m\n\u001b[1;32m----> 2\u001b[0m \u001b[38;5;28;01massert\u001b[39;00m \u001b[38;5;28mtype\u001b[39m(short_conferences) \u001b[38;5;129;01min\u001b[39;00m [np\u001b[38;5;241m.\u001b[39mndarray, \u001b[38;5;28mlist\u001b[39m]\n\u001b[0;32m      3\u001b[0m \u001b[38;5;28;01massert\u001b[39;00m \u001b[38;5;28mlen\u001b[39m(short_conferences) \u001b[38;5;241m==\u001b[39m \u001b[38;5;241m4\u001b[39m\n",
      "\u001b[1;31mAssertionError\u001b[0m: "
     ]
    }
   ],
   "source": [
    "# TESTS\n",
    "assert type(short_conferences) in [np.ndarray, list]\n",
    "assert len(short_conferences) == 4"
   ]
  },
  {
   "cell_type": "code",
   "execution_count": null,
   "id": "9aab537f-bbc3-422d-87fe-3cfaa505b9b2",
   "metadata": {
    "deletable": false,
    "editable": false,
    "nbgrader": {
     "cell_type": "code",
     "checksum": "f6864abdf12ec41984913fce9315b91d",
     "grade": true,
     "grade_id": "short-grade",
     "locked": true,
     "points": 3,
     "schema_version": 3,
     "solution": false,
     "task": false
    },
    "tags": []
   },
   "outputs": [],
   "source": [
    "# Intentionally blank--do not delete"
   ]
  },
  {
   "cell_type": "markdown",
   "id": "7769e4be-eb81-43d5-8d43-658659612111",
   "metadata": {
    "deletable": false,
    "editable": false,
    "nbgrader": {
     "cell_type": "markdown",
     "checksum": "d5bb1ca8f70ada15a8e875b8dcfd36d6",
     "grade": false,
     "grade_id": "cell-b212fe2e3ff0cca2",
     "locked": true,
     "schema_version": 3,
     "solution": false,
     "task": false
    }
   },
   "source": [
    "# 9.\n",
    "\n",
    "Merge the `uni` frame with `songs`. Both should be merged on their index columns, and it should be an \"inner\" join (must be present in both to be included)."
   ]
  },
  {
   "cell_type": "code",
   "execution_count": 38,
   "id": "e5214560-b694-4719-95e7-bebeb0966a35",
   "metadata": {
    "deletable": false,
    "nbgrader": {
     "cell_type": "code",
     "checksum": "19673b9b913c2b6db3951cfcea65754e",
     "grade": false,
     "grade_id": "merge-answer",
     "locked": false,
     "schema_version": 3,
     "solution": true,
     "task": false
    }
   },
   "outputs": [
    {
     "data": {
      "text/html": [
       "<div>\n",
       "<style scoped>\n",
       "    .dataframe tbody tr th:only-of-type {\n",
       "        vertical-align: middle;\n",
       "    }\n",
       "\n",
       "    .dataframe tbody tr th {\n",
       "        vertical-align: top;\n",
       "    }\n",
       "\n",
       "    .dataframe thead th {\n",
       "        text-align: right;\n",
       "    }\n",
       "</style>\n",
       "<table border=\"1\" class=\"dataframe\">\n",
       "  <thead>\n",
       "    <tr style=\"text-align: right;\">\n",
       "      <th></th>\n",
       "      <th>Founded</th>\n",
       "      <th>Mascot</th>\n",
       "      <th>conference</th>\n",
       "      <th>song_name</th>\n",
       "      <th>writers</th>\n",
       "      <th>year</th>\n",
       "      <th>student_writer</th>\n",
       "      <th>official_song</th>\n",
       "      <th>contest</th>\n",
       "      <th>bpm</th>\n",
       "      <th>...</th>\n",
       "      <th>win_won</th>\n",
       "      <th>victory_win_won</th>\n",
       "      <th>rah</th>\n",
       "      <th>nonsense</th>\n",
       "      <th>colors</th>\n",
       "      <th>men</th>\n",
       "      <th>opponents</th>\n",
       "      <th>spelling</th>\n",
       "      <th>trope_count</th>\n",
       "      <th>spotify_id</th>\n",
       "    </tr>\n",
       "  </thead>\n",
       "  <tbody>\n",
       "    <tr>\n",
       "      <th>Rutgers</th>\n",
       "      <td>1766</td>\n",
       "      <td>Sir Henry</td>\n",
       "      <td>Big Ten</td>\n",
       "      <td>The Bells Must Ring</td>\n",
       "      <td>Richard Hadden and W.E. Sanford</td>\n",
       "      <td>1931</td>\n",
       "      <td>Yes</td>\n",
       "      <td>Yes</td>\n",
       "      <td>Yes</td>\n",
       "      <td>75</td>\n",
       "      <td>...</td>\n",
       "      <td>Yes</td>\n",
       "      <td>Yes</td>\n",
       "      <td>Yes</td>\n",
       "      <td>Yes</td>\n",
       "      <td>Yes</td>\n",
       "      <td>Yes</td>\n",
       "      <td>No</td>\n",
       "      <td>Yes</td>\n",
       "      <td>8</td>\n",
       "      <td>7EdGMXzZjJKNHJaszbWTHi</td>\n",
       "    </tr>\n",
       "  </tbody>\n",
       "</table>\n",
       "<p>1 rows × 24 columns</p>\n",
       "</div>"
      ],
      "text/plain": [
       "         Founded     Mascot conference            song_name  \\\n",
       "Rutgers     1766  Sir Henry    Big Ten  The Bells Must Ring   \n",
       "\n",
       "                                 writers  year student_writer official_song  \\\n",
       "Rutgers  Richard Hadden and W.E. Sanford  1931            Yes           Yes   \n",
       "\n",
       "        contest  bpm  ...  win_won victory_win_won  rah nonsense colors  men  \\\n",
       "Rutgers     Yes   75  ...      Yes             Yes  Yes      Yes    Yes  Yes   \n",
       "\n",
       "        opponents spelling trope_count              spotify_id  \n",
       "Rutgers        No      Yes           8  7EdGMXzZjJKNHJaszbWTHi  \n",
       "\n",
       "[1 rows x 24 columns]"
      ]
     },
     "execution_count": 38,
     "metadata": {},
     "output_type": "execute_result"
    }
   ],
   "source": [
    "combined = None\n",
    "combined = uni.merge(songs, left_index=True, right_index=True, how='inner')\n",
    "combined"
   ]
  },
  {
   "cell_type": "code",
   "execution_count": 39,
   "id": "1dff2425-3ec0-4eea-b15f-383f08a8f6eb",
   "metadata": {
    "deletable": false,
    "editable": false,
    "nbgrader": {
     "cell_type": "code",
     "checksum": "8344e34ea4c82ca22ff036ae1d1415ce",
     "grade": true,
     "grade_id": "merge-tests",
     "locked": true,
     "points": 1,
     "schema_version": 3,
     "solution": false,
     "task": false
    }
   },
   "outputs": [
    {
     "name": "stdout",
     "output_type": "stream",
     "text": [
      "OK\n"
     ]
    }
   ],
   "source": [
    "# TESTS\n",
    "assert type(combined) == pd.DataFrame\n",
    "assert combined.shape == (1, 24)\n",
    "print(\"OK\")"
   ]
  },
  {
   "cell_type": "code",
   "execution_count": null,
   "id": "d50c4d4e-d9e9-4928-a4df-886f0a0132f6",
   "metadata": {
    "deletable": false,
    "editable": false,
    "nbgrader": {
     "cell_type": "code",
     "checksum": "b83da274ee06c4c8278c90116b375cc1",
     "grade": true,
     "grade_id": "merge-grade",
     "locked": true,
     "points": 2,
     "schema_version": 3,
     "solution": false,
     "task": false
    }
   },
   "outputs": [],
   "source": [
    "# Intentionally blank--do not delete"
   ]
  }
 ],
 "metadata": {
  "kernelspec": {
   "display_name": "Python 3",
   "language": "python",
   "name": "python3"
  },
  "language_info": {
   "codemirror_mode": {
    "name": "ipython",
    "version": 3
   },
   "file_extension": ".py",
   "mimetype": "text/x-python",
   "name": "python",
   "nbconvert_exporter": "python",
   "pygments_lexer": "ipython3",
   "version": "3.12.9"
  }
 },
 "nbformat": 4,
 "nbformat_minor": 5
}
