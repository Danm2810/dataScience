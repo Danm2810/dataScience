{
 "cells": [
  {
   "cell_type": "code",
   "execution_count": 1,
   "id": "40d6a026-b372-4e51-97c1-59c9e59850ed",
   "metadata": {},
   "outputs": [],
   "source": [
    "import warnings\n",
    "warnings.simplefilter(action='ignore', category=FutureWarning)\n",
    "warnings.simplefilter(action='ignore', category=DeprecationWarning)\n",
    "\n",
    "import numpy as np\n",
    "import pandas as pd\n",
    "import seaborn as sns # type: ignore"
   ]
  },
  {
   "cell_type": "markdown",
   "id": "8d06dc3b-11f1-4d6d-bc86-a3c8772f7ba7",
   "metadata": {},
   "source": [
    "In this lab you will use data from a survey done during the swine flu (H1N1) scare of 2009-2010 to see how demographcs and opinions affected the likelihood of getting the H1N1 vaccine."
   ]
  },
  {
   "cell_type": "markdown",
   "id": "12d742aa-c0cd-48ef-8a57-04b377df9426",
   "metadata": {},
   "source": [
    "## 1.\n",
    "Import the `h1n1.csv` file. Drop all rows that have a missing value. Let `y` be the column *h1n1_vaccine*, and let `X` be the result of conversion to dummy variables of all the other columns. Use `drop_first=True` in the dummy conversion."
   ]
  },
  {
   "cell_type": "code",
   "execution_count": 2,
   "id": "11495af1-1cb9-483d-bb89-0967303acc7f",
   "metadata": {
    "deletable": false,
    "nbgrader": {
     "cell_type": "code",
     "checksum": "469dc2e493482991406cbe92be027039",
     "grade": false,
     "grade_id": "import-answer",
     "locked": false,
     "schema_version": 3,
     "solution": true,
     "task": false
    }
   },
   "outputs": [],
   "source": [
    "X = None\n",
    "y = None\n",
    "\n",
    "df = pd.read_csv(\"h1n1.csv\")\n",
    "\n",
    "df = df.dropna()\n",
    "\n",
    "y = df['h1n1_vaccine']\n",
    "\n",
    "X = pd.get_dummies(df.drop(columns=['h1n1_vaccine']), drop_first=True)"
   ]
  },
  {
   "cell_type": "code",
   "execution_count": 3,
   "id": "c93d8cef-2b31-48f8-9154-45669f7f144c",
   "metadata": {},
   "outputs": [
    {
     "data": {
      "text/html": [
       "<div>\n",
       "<style scoped>\n",
       "    .dataframe tbody tr th:only-of-type {\n",
       "        vertical-align: middle;\n",
       "    }\n",
       "\n",
       "    .dataframe tbody tr th {\n",
       "        vertical-align: top;\n",
       "    }\n",
       "\n",
       "    .dataframe thead th {\n",
       "        text-align: right;\n",
       "    }\n",
       "</style>\n",
       "<table border=\"1\" class=\"dataframe\">\n",
       "  <thead>\n",
       "    <tr style=\"text-align: right;\">\n",
       "      <th></th>\n",
       "      <th>h1n1_concern</th>\n",
       "      <th>h1n1_knowledge</th>\n",
       "      <th>behavioral_antiviral_meds</th>\n",
       "      <th>behavioral_avoidance</th>\n",
       "      <th>behavioral_face_mask</th>\n",
       "      <th>behavioral_wash_hands</th>\n",
       "      <th>behavioral_large_gatherings</th>\n",
       "      <th>behavioral_outside_home</th>\n",
       "      <th>behavioral_touch_face</th>\n",
       "      <th>doctor_recc_h1n1</th>\n",
       "      <th>...</th>\n",
       "      <th>education_College Graduate</th>\n",
       "      <th>education_Some College</th>\n",
       "      <th>race_Hispanic</th>\n",
       "      <th>race_Other or Multiple</th>\n",
       "      <th>race_White</th>\n",
       "      <th>sex_Male</th>\n",
       "      <th>income_poverty_&gt; $75,000</th>\n",
       "      <th>income_poverty_Below Poverty</th>\n",
       "      <th>marital_status_Not Married</th>\n",
       "      <th>rent_or_own_Rent</th>\n",
       "    </tr>\n",
       "  </thead>\n",
       "  <tbody>\n",
       "    <tr>\n",
       "      <th>0</th>\n",
       "      <td>1.0</td>\n",
       "      <td>0.0</td>\n",
       "      <td>0.0</td>\n",
       "      <td>0.0</td>\n",
       "      <td>0.0</td>\n",
       "      <td>0.0</td>\n",
       "      <td>0.0</td>\n",
       "      <td>1.0</td>\n",
       "      <td>1.0</td>\n",
       "      <td>0.0</td>\n",
       "      <td>...</td>\n",
       "      <td>False</td>\n",
       "      <td>False</td>\n",
       "      <td>False</td>\n",
       "      <td>False</td>\n",
       "      <td>True</td>\n",
       "      <td>False</td>\n",
       "      <td>False</td>\n",
       "      <td>True</td>\n",
       "      <td>True</td>\n",
       "      <td>False</td>\n",
       "    </tr>\n",
       "    <tr>\n",
       "      <th>1</th>\n",
       "      <td>3.0</td>\n",
       "      <td>2.0</td>\n",
       "      <td>0.0</td>\n",
       "      <td>1.0</td>\n",
       "      <td>0.0</td>\n",
       "      <td>1.0</td>\n",
       "      <td>0.0</td>\n",
       "      <td>1.0</td>\n",
       "      <td>1.0</td>\n",
       "      <td>0.0</td>\n",
       "      <td>...</td>\n",
       "      <td>False</td>\n",
       "      <td>False</td>\n",
       "      <td>False</td>\n",
       "      <td>False</td>\n",
       "      <td>True</td>\n",
       "      <td>True</td>\n",
       "      <td>False</td>\n",
       "      <td>True</td>\n",
       "      <td>True</td>\n",
       "      <td>True</td>\n",
       "    </tr>\n",
       "    <tr>\n",
       "      <th>3</th>\n",
       "      <td>1.0</td>\n",
       "      <td>1.0</td>\n",
       "      <td>0.0</td>\n",
       "      <td>1.0</td>\n",
       "      <td>0.0</td>\n",
       "      <td>1.0</td>\n",
       "      <td>1.0</td>\n",
       "      <td>0.0</td>\n",
       "      <td>0.0</td>\n",
       "      <td>0.0</td>\n",
       "      <td>...</td>\n",
       "      <td>False</td>\n",
       "      <td>False</td>\n",
       "      <td>False</td>\n",
       "      <td>False</td>\n",
       "      <td>True</td>\n",
       "      <td>False</td>\n",
       "      <td>False</td>\n",
       "      <td>True</td>\n",
       "      <td>True</td>\n",
       "      <td>True</td>\n",
       "    </tr>\n",
       "    <tr>\n",
       "      <th>4</th>\n",
       "      <td>2.0</td>\n",
       "      <td>1.0</td>\n",
       "      <td>0.0</td>\n",
       "      <td>1.0</td>\n",
       "      <td>0.0</td>\n",
       "      <td>1.0</td>\n",
       "      <td>1.0</td>\n",
       "      <td>0.0</td>\n",
       "      <td>1.0</td>\n",
       "      <td>0.0</td>\n",
       "      <td>...</td>\n",
       "      <td>False</td>\n",
       "      <td>True</td>\n",
       "      <td>False</td>\n",
       "      <td>False</td>\n",
       "      <td>True</td>\n",
       "      <td>False</td>\n",
       "      <td>False</td>\n",
       "      <td>False</td>\n",
       "      <td>False</td>\n",
       "      <td>False</td>\n",
       "    </tr>\n",
       "    <tr>\n",
       "      <th>5</th>\n",
       "      <td>3.0</td>\n",
       "      <td>1.0</td>\n",
       "      <td>0.0</td>\n",
       "      <td>1.0</td>\n",
       "      <td>0.0</td>\n",
       "      <td>1.0</td>\n",
       "      <td>0.0</td>\n",
       "      <td>0.0</td>\n",
       "      <td>1.0</td>\n",
       "      <td>0.0</td>\n",
       "      <td>...</td>\n",
       "      <td>False</td>\n",
       "      <td>False</td>\n",
       "      <td>False</td>\n",
       "      <td>False</td>\n",
       "      <td>True</td>\n",
       "      <td>True</td>\n",
       "      <td>False</td>\n",
       "      <td>False</td>\n",
       "      <td>False</td>\n",
       "      <td>False</td>\n",
       "    </tr>\n",
       "    <tr>\n",
       "      <th>...</th>\n",
       "      <td>...</td>\n",
       "      <td>...</td>\n",
       "      <td>...</td>\n",
       "      <td>...</td>\n",
       "      <td>...</td>\n",
       "      <td>...</td>\n",
       "      <td>...</td>\n",
       "      <td>...</td>\n",
       "      <td>...</td>\n",
       "      <td>...</td>\n",
       "      <td>...</td>\n",
       "      <td>...</td>\n",
       "      <td>...</td>\n",
       "      <td>...</td>\n",
       "      <td>...</td>\n",
       "      <td>...</td>\n",
       "      <td>...</td>\n",
       "      <td>...</td>\n",
       "      <td>...</td>\n",
       "      <td>...</td>\n",
       "      <td>...</td>\n",
       "    </tr>\n",
       "    <tr>\n",
       "      <th>26700</th>\n",
       "      <td>3.0</td>\n",
       "      <td>1.0</td>\n",
       "      <td>0.0</td>\n",
       "      <td>1.0</td>\n",
       "      <td>0.0</td>\n",
       "      <td>1.0</td>\n",
       "      <td>0.0</td>\n",
       "      <td>0.0</td>\n",
       "      <td>1.0</td>\n",
       "      <td>1.0</td>\n",
       "      <td>...</td>\n",
       "      <td>False</td>\n",
       "      <td>False</td>\n",
       "      <td>False</td>\n",
       "      <td>False</td>\n",
       "      <td>True</td>\n",
       "      <td>False</td>\n",
       "      <td>True</td>\n",
       "      <td>False</td>\n",
       "      <td>False</td>\n",
       "      <td>False</td>\n",
       "    </tr>\n",
       "    <tr>\n",
       "      <th>26701</th>\n",
       "      <td>2.0</td>\n",
       "      <td>2.0</td>\n",
       "      <td>0.0</td>\n",
       "      <td>0.0</td>\n",
       "      <td>0.0</td>\n",
       "      <td>1.0</td>\n",
       "      <td>0.0</td>\n",
       "      <td>0.0</td>\n",
       "      <td>1.0</td>\n",
       "      <td>0.0</td>\n",
       "      <td>...</td>\n",
       "      <td>True</td>\n",
       "      <td>False</td>\n",
       "      <td>False</td>\n",
       "      <td>False</td>\n",
       "      <td>True</td>\n",
       "      <td>False</td>\n",
       "      <td>True</td>\n",
       "      <td>False</td>\n",
       "      <td>True</td>\n",
       "      <td>True</td>\n",
       "    </tr>\n",
       "    <tr>\n",
       "      <th>26702</th>\n",
       "      <td>2.0</td>\n",
       "      <td>0.0</td>\n",
       "      <td>0.0</td>\n",
       "      <td>1.0</td>\n",
       "      <td>0.0</td>\n",
       "      <td>0.0</td>\n",
       "      <td>0.0</td>\n",
       "      <td>1.0</td>\n",
       "      <td>0.0</td>\n",
       "      <td>0.0</td>\n",
       "      <td>...</td>\n",
       "      <td>False</td>\n",
       "      <td>True</td>\n",
       "      <td>False</td>\n",
       "      <td>False</td>\n",
       "      <td>True</td>\n",
       "      <td>False</td>\n",
       "      <td>False</td>\n",
       "      <td>False</td>\n",
       "      <td>True</td>\n",
       "      <td>False</td>\n",
       "    </tr>\n",
       "    <tr>\n",
       "      <th>26703</th>\n",
       "      <td>1.0</td>\n",
       "      <td>2.0</td>\n",
       "      <td>0.0</td>\n",
       "      <td>1.0</td>\n",
       "      <td>0.0</td>\n",
       "      <td>1.0</td>\n",
       "      <td>0.0</td>\n",
       "      <td>0.0</td>\n",
       "      <td>0.0</td>\n",
       "      <td>1.0</td>\n",
       "      <td>...</td>\n",
       "      <td>True</td>\n",
       "      <td>False</td>\n",
       "      <td>False</td>\n",
       "      <td>False</td>\n",
       "      <td>True</td>\n",
       "      <td>True</td>\n",
       "      <td>False</td>\n",
       "      <td>False</td>\n",
       "      <td>True</td>\n",
       "      <td>True</td>\n",
       "    </tr>\n",
       "    <tr>\n",
       "      <th>26706</th>\n",
       "      <td>0.0</td>\n",
       "      <td>0.0</td>\n",
       "      <td>0.0</td>\n",
       "      <td>1.0</td>\n",
       "      <td>0.0</td>\n",
       "      <td>0.0</td>\n",
       "      <td>0.0</td>\n",
       "      <td>0.0</td>\n",
       "      <td>0.0</td>\n",
       "      <td>0.0</td>\n",
       "      <td>...</td>\n",
       "      <td>False</td>\n",
       "      <td>True</td>\n",
       "      <td>False</td>\n",
       "      <td>False</td>\n",
       "      <td>True</td>\n",
       "      <td>True</td>\n",
       "      <td>False</td>\n",
       "      <td>False</td>\n",
       "      <td>False</td>\n",
       "      <td>False</td>\n",
       "    </tr>\n",
       "  </tbody>\n",
       "</table>\n",
       "<p>19682 rows × 37 columns</p>\n",
       "</div>"
      ],
      "text/plain": [
       "       h1n1_concern  h1n1_knowledge  behavioral_antiviral_meds  \\\n",
       "0               1.0             0.0                        0.0   \n",
       "1               3.0             2.0                        0.0   \n",
       "3               1.0             1.0                        0.0   \n",
       "4               2.0             1.0                        0.0   \n",
       "5               3.0             1.0                        0.0   \n",
       "...             ...             ...                        ...   \n",
       "26700           3.0             1.0                        0.0   \n",
       "26701           2.0             2.0                        0.0   \n",
       "26702           2.0             0.0                        0.0   \n",
       "26703           1.0             2.0                        0.0   \n",
       "26706           0.0             0.0                        0.0   \n",
       "\n",
       "       behavioral_avoidance  behavioral_face_mask  behavioral_wash_hands  \\\n",
       "0                       0.0                   0.0                    0.0   \n",
       "1                       1.0                   0.0                    1.0   \n",
       "3                       1.0                   0.0                    1.0   \n",
       "4                       1.0                   0.0                    1.0   \n",
       "5                       1.0                   0.0                    1.0   \n",
       "...                     ...                   ...                    ...   \n",
       "26700                   1.0                   0.0                    1.0   \n",
       "26701                   0.0                   0.0                    1.0   \n",
       "26702                   1.0                   0.0                    0.0   \n",
       "26703                   1.0                   0.0                    1.0   \n",
       "26706                   1.0                   0.0                    0.0   \n",
       "\n",
       "       behavioral_large_gatherings  behavioral_outside_home  \\\n",
       "0                              0.0                      1.0   \n",
       "1                              0.0                      1.0   \n",
       "3                              1.0                      0.0   \n",
       "4                              1.0                      0.0   \n",
       "5                              0.0                      0.0   \n",
       "...                            ...                      ...   \n",
       "26700                          0.0                      0.0   \n",
       "26701                          0.0                      0.0   \n",
       "26702                          0.0                      1.0   \n",
       "26703                          0.0                      0.0   \n",
       "26706                          0.0                      0.0   \n",
       "\n",
       "       behavioral_touch_face  doctor_recc_h1n1  ...  \\\n",
       "0                        1.0               0.0  ...   \n",
       "1                        1.0               0.0  ...   \n",
       "3                        0.0               0.0  ...   \n",
       "4                        1.0               0.0  ...   \n",
       "5                        1.0               0.0  ...   \n",
       "...                      ...               ...  ...   \n",
       "26700                    1.0               1.0  ...   \n",
       "26701                    1.0               0.0  ...   \n",
       "26702                    0.0               0.0  ...   \n",
       "26703                    0.0               1.0  ...   \n",
       "26706                    0.0               0.0  ...   \n",
       "\n",
       "       education_College Graduate  education_Some College  race_Hispanic  \\\n",
       "0                           False                   False          False   \n",
       "1                           False                   False          False   \n",
       "3                           False                   False          False   \n",
       "4                           False                    True          False   \n",
       "5                           False                   False          False   \n",
       "...                           ...                     ...            ...   \n",
       "26700                       False                   False          False   \n",
       "26701                        True                   False          False   \n",
       "26702                       False                    True          False   \n",
       "26703                        True                   False          False   \n",
       "26706                       False                    True          False   \n",
       "\n",
       "       race_Other or Multiple  race_White  sex_Male  income_poverty_> $75,000  \\\n",
       "0                       False        True     False                     False   \n",
       "1                       False        True      True                     False   \n",
       "3                       False        True     False                     False   \n",
       "4                       False        True     False                     False   \n",
       "5                       False        True      True                     False   \n",
       "...                       ...         ...       ...                       ...   \n",
       "26700                   False        True     False                      True   \n",
       "26701                   False        True     False                      True   \n",
       "26702                   False        True     False                     False   \n",
       "26703                   False        True      True                     False   \n",
       "26706                   False        True      True                     False   \n",
       "\n",
       "       income_poverty_Below Poverty  marital_status_Not Married  \\\n",
       "0                              True                        True   \n",
       "1                              True                        True   \n",
       "3                              True                        True   \n",
       "4                             False                       False   \n",
       "5                             False                       False   \n",
       "...                             ...                         ...   \n",
       "26700                         False                       False   \n",
       "26701                         False                        True   \n",
       "26702                         False                        True   \n",
       "26703                         False                        True   \n",
       "26706                         False                       False   \n",
       "\n",
       "       rent_or_own_Rent  \n",
       "0                 False  \n",
       "1                  True  \n",
       "3                  True  \n",
       "4                 False  \n",
       "5                 False  \n",
       "...                 ...  \n",
       "26700             False  \n",
       "26701              True  \n",
       "26702             False  \n",
       "26703              True  \n",
       "26706             False  \n",
       "\n",
       "[19682 rows x 37 columns]"
      ]
     },
     "execution_count": 3,
     "metadata": {},
     "output_type": "execute_result"
    }
   ],
   "source": [
    "X"
   ]
  },
  {
   "cell_type": "code",
   "execution_count": 5,
   "id": "47ba5b38-7790-42f0-ae15-564dcd02a655",
   "metadata": {
    "deletable": false,
    "editable": false,
    "nbgrader": {
     "cell_type": "code",
     "checksum": "6774dc25e11bad49439299c32b43d502",
     "grade": true,
     "grade_id": "import-tests",
     "locked": true,
     "points": 4,
     "schema_version": 3,
     "solution": false,
     "task": false
    }
   },
   "outputs": [
    {
     "name": "stdout",
     "output_type": "stream",
     "text": [
      "OK\n"
     ]
    }
   ],
   "source": [
    "# TESTS\n",
    "assert X.shape == (19682, 37), \"X has the wrong shape\"\n",
    "assert y.sum() == 4521, \"y has the wrong values\"\n",
    "print(\"OK\")"
   ]
  },
  {
   "cell_type": "markdown",
   "id": "a767e782-dc83-4d4c-8274-01614960c10a",
   "metadata": {},
   "source": [
    "## 2.\n",
    "(4.1) The code below defines a function `learn_curve(model, X, y)` that plots learning curves of precision for a given classifier and dataset. Use it to make learning curves for two decision trees, one with maximum depth 5 and the other with maximum depth 9.\n",
    "\n",
    "The differences between the plots show clearly that the deeper tree is overfitting; i.e., more data would be needed to make the training match the testing."
   ]
  },
  {
   "cell_type": "code",
   "execution_count": 4,
   "id": "fa94a4db-96a8-4444-a011-43aeebc7b6d1",
   "metadata": {},
   "outputs": [],
   "source": [
    "# Do not edit this cell\n",
    "from sklearn.model_selection import LearningCurveDisplay, StratifiedShuffleSplit\n",
    "cv = StratifiedShuffleSplit(n_splits=20, test_size=0.2, random_state=302)\n",
    "def learn_curve(model, X, y):\n",
    "    return LearningCurveDisplay.from_estimator(\n",
    "    model, X, y,\n",
    "    random_state=302,\n",
    "    train_sizes=np.linspace(0.1, 1, 12),\n",
    "    cv=cv,\n",
    "    score_name=\"Precision\",\n",
    "    scoring=\"precision\",\n",
    "    score_type=\"both\",    # training and testing scores\n",
    "    n_jobs=-1             # use all processors\n",
    "    )\n"
   ]
  },
  {
   "cell_type": "code",
   "execution_count": 6,
   "id": "34d6f5b7-8fbb-449e-bd43-5fd7c75021cb",
   "metadata": {
    "deletable": false,
    "nbgrader": {
     "cell_type": "code",
     "checksum": "741d2a73e921d8f2dbebe23fa1d25d6b",
     "grade": true,
     "grade_id": "lc1-answer",
     "locked": false,
     "points": 2,
     "schema_version": 3,
     "solution": true,
     "task": false
    }
   },
   "outputs": [
    {
     "data": {
      "image/png": "[encoded data removed]",
      "text/plain": [
       "<Figure size 640x480 with 1 Axes>"
      ]
     },
     "metadata": {},
     "output_type": "display_data"
    }
   ],
   "source": [
    "from sklearn.tree import DecisionTreeClassifier\n",
    "import matplotlib.pyplot as plt\n",
    "model_depth_5 = DecisionTreeClassifier(max_depth=5, random_state=302)\n",
    "learn_curve(model_depth_5, X, y)\n",
    "plt.title(\"Learning Curve - Decision Tree (max_depth=5)\")\n",
    "plt.show()"
   ]
  },
  {
   "cell_type": "code",
   "execution_count": 7,
   "id": "373a5806-8b87-4e63-b35d-16d53edd242a",
   "metadata": {
    "deletable": false,
    "nbgrader": {
     "cell_type": "code",
     "checksum": "b97b58921ab58dc00ba10b44cd5765aa",
     "grade": true,
     "grade_id": "lc2-answer",
     "locked": false,
     "points": 2,
     "schema_version": 3,
     "solution": true,
     "task": false
    }
   },
   "outputs": [
    {
     "data": {
      "image/png": "[encoded data removed]",
      "text/plain": [
       "<Figure size 640x480 with 1 Axes>"
      ]
     },
     "metadata": {},
     "output_type": "display_data"
    }
   ],
   "source": [
    "from sklearn.tree import DecisionTreeClassifier\n",
    "import matplotlib.pyplot as plt\n",
    "model_depth_9 = DecisionTreeClassifier(max_depth=9, random_state=302)\n",
    "learn_curve(model_depth_9, X, y)\n",
    "plt.title(\"Learning Curve - Decision Tree (max_depth=9)\")\n",
    "plt.show()"
   ]
  },
  {
   "cell_type": "markdown",
   "id": "e8a414c7-eda8-46c1-8486-29fe8e7bb633",
   "metadata": {},
   "source": [
    "## 3.\n",
    "\n",
    "(4.1) Split the dataset 80% / 20% into training and test subsets, using `19716` as the starting random state. Let `tree` be a decision tree classifier with maximum depth 9 (the overfit situation above) and train it using the training subset. Finally, compute its balanced accuracy score on the test set."
   ]
  },
  {
   "cell_type": "code",
   "execution_count": 11,
   "id": "a4c40181-22c7-4116-a7d8-19ff37fe734b",
   "metadata": {
    "deletable": false,
    "nbgrader": {
     "cell_type": "code",
     "checksum": "686dcbedcd94f458d3f4e9cad54e392b",
     "grade": false,
     "grade_id": "tree-answer",
     "locked": false,
     "schema_version": 3,
     "solution": true,
     "task": false
    }
   },
   "outputs": [],
   "source": [
    "tree = None\n",
    "tree_score = None\n",
    "\n",
    "from sklearn.model_selection import train_test_split\n",
    "from sklearn.tree import DecisionTreeClassifier\n",
    "from sklearn.metrics import balanced_accuracy_score\n",
    "\n",
    "X_train, X_test, y_train, y_test = train_test_split(\n",
    "    X, y, test_size=0.2, random_state=19716, stratify=y)\n",
    "\n",
    "tree = DecisionTreeClassifier(max_depth=9, random_state=19716)\n",
    "tree.fit(X_train, y_train)\n",
    "\n",
    "y_pred = tree.predict(X_test)\n",
    "tree_score = balanced_accuracy_score(y_test, y_pred)\n"
   ]
  },
  {
   "cell_type": "code",
   "execution_count": 12,
   "id": "a0dccabf-42b7-4e6a-a3d7-eb92038ace16",
   "metadata": {},
   "outputs": [
    {
     "name": "stdout",
     "output_type": "stream",
     "text": [
      "Tree balanced accuracy is 69.01%\n"
     ]
    }
   ],
   "source": [
    "print(f\"Tree balanced accuracy is {tree_score:.2%}\")"
   ]
  },
  {
   "cell_type": "code",
   "execution_count": 13,
   "id": "da8d3574-8086-4f8a-8015-9cf27eff4e86",
   "metadata": {
    "deletable": false,
    "editable": false,
    "nbgrader": {
     "cell_type": "code",
     "checksum": "02f3c04a7361e766b6353de9f1ef28ea",
     "grade": true,
     "grade_id": "tree-tests",
     "locked": true,
     "points": 3,
     "schema_version": 3,
     "solution": false,
     "task": false
    }
   },
   "outputs": [
    {
     "name": "stdout",
     "output_type": "stream",
     "text": [
      "OK\n"
     ]
    }
   ],
   "source": [
    "# TESTS\n",
    "assert type(tree) == DecisionTreeClassifier, \"tree must be a DT classifier\"\n",
    "assert tree.n_classes_ == 2, \"tree must be trained to 2 classes\"\n",
    "assert 0.65 < tree_score < 0.7, \"incorrect score for the tree\"\n",
    "print(\"OK\")\n"
   ]
  },
  {
   "cell_type": "markdown",
   "id": "933afe09-dfc1-42aa-ae4f-6581e474715f",
   "metadata": {},
   "source": [
    "## 4.\n",
    "\n",
    "(4.3) Repeat step 3 for a random forest consisting of 100 trees with maximum depth 9 and maximum samples and features set to 50%. Use `3383` as the random state for the forest."
   ]
  },
  {
   "cell_type": "code",
   "execution_count": 19,
   "id": "89fddf5a-770f-4fc8-879a-63ae35c46859",
   "metadata": {
    "deletable": false,
    "nbgrader": {
     "cell_type": "code",
     "checksum": "965ba9f9ef2cf72ccb50a8fcfcd00104",
     "grade": false,
     "grade_id": "forest-answer",
     "locked": false,
     "schema_version": 3,
     "solution": true,
     "task": false
    }
   },
   "outputs": [
    {
     "name": "stdout",
     "output_type": "stream",
     "text": [
      "Forest balanced accuracy is 0.6999\n"
     ]
    }
   ],
   "source": [
    "forest = None\n",
    "forest_score = None\n",
    "from sklearn.ensemble import RandomForestClassifier\n",
    "\n",
    "from sklearn.model_selection import train_test_split\n",
    "from sklearn.metrics import balanced_accuracy_score\n",
    "\n",
    "X_train, X_test, y_train, y_test = train_test_split(\n",
    "    X, y, test_size=0.2, random_state=19716, stratify=y)\n",
    "\n",
    "forest = RandomForestClassifier(\n",
    "    n_estimators=100,\n",
    "    max_depth=9,\n",
    "    max_samples=0.5,\n",
    "    max_features=0.5,\n",
    "    random_state=3383\n",
    ")\n",
    "forest.fit(X_train, y_train)\n",
    "\n",
    "forest_pred = forest.predict(X_test)\n",
    "forest_score = balanced_accuracy_score(y_test, forest_pred)\n",
    "print(f\"Forest balanced accuracy is {forest_score:.4f}\")"
   ]
  },
  {
   "cell_type": "code",
   "execution_count": 15,
   "id": "f1cb11a9-4624-4082-97ef-1560c810a0a7",
   "metadata": {},
   "outputs": [
    {
     "name": "stdout",
     "output_type": "stream",
     "text": [
      "Forest balanced accuracy is 69.99%\n"
     ]
    }
   ],
   "source": [
    "print(f\"Forest balanced accuracy is {forest_score:.2%}\")"
   ]
  },
  {
   "cell_type": "code",
   "execution_count": 21,
   "id": "71ea2bae-1981-4763-babd-ff311c9509af",
   "metadata": {
    "deletable": false,
    "editable": false,
    "nbgrader": {
     "cell_type": "code",
     "checksum": "291de96402d197b8a31c6b97e9225f7e",
     "grade": true,
     "grade_id": "forest-tests",
     "locked": true,
     "points": 3,
     "schema_version": 3,
     "solution": false,
     "task": false
    }
   },
   "outputs": [
    {
     "ename": "AssertionError",
     "evalue": "incorrect score for the forest",
     "output_type": "error",
     "traceback": [
      "\u001b[31m---------------------------------------------------------------------------\u001b[39m",
      "\u001b[31mAssertionError\u001b[39m                            Traceback (most recent call last)",
      "\u001b[36mCell\u001b[39m\u001b[36m \u001b[39m\u001b[32mIn[21]\u001b[39m\u001b[32m, line 4\u001b[39m\n\u001b[32m      2\u001b[39m \u001b[38;5;28;01massert\u001b[39;00m \u001b[38;5;28mtype\u001b[39m(forest) == RandomForestClassifier, \u001b[33m\"\u001b[39m\u001b[33mforest must be a RF classifier\u001b[39m\u001b[33m\"\u001b[39m\n\u001b[32m      3\u001b[39m \u001b[38;5;28;01massert\u001b[39;00m forest.n_classes_ == \u001b[32m2\u001b[39m, \u001b[33m\"\u001b[39m\u001b[33mforest must be trained to 2 classes\u001b[39m\u001b[33m\"\u001b[39m\n\u001b[32m----> \u001b[39m\u001b[32m4\u001b[39m \u001b[38;5;28;01massert\u001b[39;00m \u001b[32m0.7\u001b[39m < forest_score < \u001b[32m0.75\u001b[39m, \u001b[33m\"\u001b[39m\u001b[33mincorrect score for the forest\u001b[39m\u001b[33m\"\u001b[39m\n\u001b[32m      5\u001b[39m \u001b[38;5;28mprint\u001b[39m(\u001b[33m\"\u001b[39m\u001b[33mOK\u001b[39m\u001b[33m\"\u001b[39m)\n",
      "\u001b[31mAssertionError\u001b[39m: incorrect score for the forest"
     ]
    }
   ],
   "source": [
    "# TESTS\n",
    "assert type(forest) == RandomForestClassifier, \"forest must be a RF classifier\"\n",
    "assert forest.n_classes_ == 2, \"forest must be trained to 2 classes\"\n",
    "assert 0.7 < forest_score < 0.75, \"incorrect score for the forest\"\n",
    "print(\"OK\")\n"
   ]
  },
  {
   "cell_type": "markdown",
   "id": "3bb7d58e-2892-46e5-ae8f-2b53b47c97a1",
   "metadata": {},
   "source": [
    "## 5.\n",
    "\n",
    "(4.3) Make ROC plots for the `tree` and `forest` classifiers on the test data.\n",
    "\n",
    "The forest's curve should be better than the tree's."
   ]
  },
  {
   "cell_type": "code",
   "execution_count": 22,
   "id": "fad7366d-7ae8-47e8-9bb1-2263248c6178",
   "metadata": {
    "deletable": false,
    "nbgrader": {
     "cell_type": "code",
     "checksum": "f94dedbcdcbf679256062054894dd077",
     "grade": true,
     "grade_id": "roc1-answer",
     "locked": false,
     "points": 2,
     "schema_version": 3,
     "solution": true,
     "task": false
    }
   },
   "outputs": [
    {
     "data": {
      "image/png": "[encoded data removed]",
      "text/plain": [
       "<Figure size 640x480 with 1 Axes>"
      ]
     },
     "metadata": {},
     "output_type": "display_data"
    }
   ],
   "source": [
    "from sklearn.metrics import RocCurveDisplay\n",
    "import matplotlib.pyplot as plt\n",
    "\n",
    "RocCurveDisplay.from_estimator(tree, X_test, y_test)\n",
    "plt.title(\"ROC Curve - Decision Tree\")\n",
    "plt.show()"
   ]
  },
  {
   "cell_type": "code",
   "execution_count": 23,
   "id": "0987cb07-baab-4b21-a5c7-2acda423e94a",
   "metadata": {
    "deletable": false,
    "nbgrader": {
     "cell_type": "code",
     "checksum": "c212a7ec69911eebc6e187d2587fa657",
     "grade": true,
     "grade_id": "roc2-answer",
     "locked": false,
     "points": 2,
     "schema_version": 3,
     "solution": true,
     "task": false
    }
   },
   "outputs": [
    {
     "data": {
      "image/png": "[encoded data removed]",
      "text/plain": [
       "<Figure size 640x480 with 1 Axes>"
      ]
     },
     "metadata": {},
     "output_type": "display_data"
    }
   ],
   "source": [
    "RocCurveDisplay.from_estimator(forest, X_test, y_test)\n",
    "plt.title(\"ROC Curve - Random Forest\")\n",
    "plt.show()"
   ]
  },
  {
   "cell_type": "markdown",
   "id": "3883a715-67dc-4c0d-ae8b-670ab62cca40",
   "metadata": {},
   "source": [
    "## 6.\n",
    "(4.4) Using a stratified k-fold with 5 splits and random state `302`, find cross-validation scores for the `forest` using all the data (not just test or train). They should be fairly uniform."
   ]
  },
  {
   "cell_type": "code",
   "execution_count": null,
   "id": "567dcfda-d38d-41a2-a3c9-9cce2ee81440",
   "metadata": {
    "deletable": false,
    "nbgrader": {
     "cell_type": "code",
     "checksum": "f14b5107305e0309eb00bbbc25b024c8",
     "grade": false,
     "grade_id": "cv-answer",
     "locked": false,
     "schema_version": 3,
     "solution": true,
     "task": false
    }
   },
   "outputs": [],
   "source": [
    "from sklearn.model_selection import StratifiedKFold, cross_validate\n",
    "\n",
    "cv = StratifiedKFold(n_splits=5, shuffle=True, random_state=302)\n",
    "\n",
    "forest = RandomForestClassifier(\n",
    "    n_estimators=100,\n",
    "    max_depth=9,\n",
    "    max_samples=0.5,\n",
    "    max_features=0.5,\n",
    "    random_state=3383\n",
    ")\n",
    "\n",
    "scores = cross_validate(\n",
    "    forest, X, y,\n",
    "    cv=cv,\n",
    "    scoring='balanced_accuracy',\n",
    "    return_train_score=False,\n",
    "    n_jobs=-1\n",
    ")"
   ]
  },
  {
   "cell_type": "code",
   "execution_count": 27,
   "id": "8d0669b4-c1c5-4c6f-865d-5a47c1a79471",
   "metadata": {},
   "outputs": [
    {
     "name": "stdout",
     "output_type": "stream",
     "text": [
      "Validation scores:\n",
      "[0.7147214  0.71539782 0.70932327 0.70805216 0.70185134]\n"
     ]
    }
   ],
   "source": [
    "print(\"Validation scores:\")\n",
    "print( scores[\"test_score\"] )"
   ]
  },
  {
   "cell_type": "code",
   "execution_count": 28,
   "id": "50f67ef7-9660-413a-aa90-110e95dd2646",
   "metadata": {
    "deletable": false,
    "editable": false,
    "nbgrader": {
     "cell_type": "code",
     "checksum": "a56e88275859b2b3a4c5e4ff794900f2",
     "grade": true,
     "grade_id": "cv-tests",
     "locked": true,
     "points": 4,
     "schema_version": 3,
     "solution": false,
     "task": false
    }
   },
   "outputs": [
    {
     "name": "stdout",
     "output_type": "stream",
     "text": [
      "OK\n"
     ]
    }
   ],
   "source": [
    "# TESTS\n",
    "assert type(scores) == dict, \"Result should be a dictionary\"\n",
    "assert (0.7 < scores[\"test_score\"]).all(), \"Some scores are too small\"\n",
    "assert (0.75 > scores[\"test_score\"]).all(), \"Some scores are too big\"\n",
    "print(\"OK\")\n"
   ]
  }
 ],
 "metadata": {
  "kernelspec": {
   "display_name": "Python 3",
   "language": "python",
   "name": "python3"
  },
  "language_info": {
   "codemirror_mode": {
    "name": "ipython",
    "version": 3
   },
   "file_extension": ".py",
   "mimetype": "text/x-python",
   "name": "python",
   "nbconvert_exporter": "python",
   "pygments_lexer": "ipython3",
   "version": "3.12.1"
  }
 },
 "nbformat": 4,
 "nbformat_minor": 5
}
