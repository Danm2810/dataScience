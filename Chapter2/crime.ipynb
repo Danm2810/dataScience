{
 "cells": [
  {
   "cell_type": "code",
   "execution_count": null,
   "id": "d93e486a-2419-4d18-8d4d-83324a2f2524",
   "metadata": {
    "deletable": false,
    "editable": false,
    "nbgrader": {
     "cell_type": "code",
     "checksum": "60d0dc051ffb2a78039a59ddafa02ef1",
     "grade": false,
     "grade_id": "cell-9d6984dbf58ddef5",
     "locked": true,
     "schema_version": 3,
     "solution": false,
     "task": false
    },
    "tags": []
   },
   "outputs": [],
   "source": [
    "import warnings\n",
    "warnings.simplefilter(action='ignore', category=FutureWarning)\n",
    "warnings.simplefilter(action='ignore', category=DeprecationWarning)\n",
    "\n",
    "import pandas as pd\n",
    "import seaborn as sns\n",
    "import numpy as np"
   ]
  },
  {
   "cell_type": "markdown",
   "id": "841055d4-9a56-4b00-809c-22d74418db3f",
   "metadata": {
    "deletable": false,
    "editable": false,
    "nbgrader": {
     "cell_type": "markdown",
     "checksum": "7c82a20f7e49300937df65e86b668b48",
     "grade": false,
     "grade_id": "cell-8b4064e2e46b40a9",
     "locked": true,
     "schema_version": 3,
     "solution": false,
     "task": false
    }
   },
   "source": [
    "This dataset describes arrests for serious offenses in Delaware from 2002 to 2020:"
   ]
  },
  {
   "cell_type": "code",
   "execution_count": null,
   "id": "eadfb4ad-6e3f-4e99-9e77-b579a4e62f6e",
   "metadata": {
    "deletable": false,
    "editable": false,
    "nbgrader": {
     "cell_type": "code",
     "checksum": "8dcf27c7b449ef0bc16564ea13551c5c",
     "grade": false,
     "grade_id": "cell-0144b9a81d8f5d19",
     "locked": true,
     "schema_version": 3,
     "solution": false,
     "task": false
    },
    "tags": []
   },
   "outputs": [],
   "source": [
    "crimes = pd.read_csv(\"Delaware_Crime_Report_Totals.csv\")\n",
    "crimes"
   ]
  },
  {
   "cell_type": "markdown",
   "id": "379c9424-e74b-4145-a394-93166ebf2cd4",
   "metadata": {
    "deletable": false,
    "editable": false,
    "nbgrader": {
     "cell_type": "markdown",
     "checksum": "9f9ad79823d463034bb6cd072bdd0175",
     "grade": false,
     "grade_id": "cell-3a8cf761b364df0c",
     "locked": true,
     "schema_version": 3,
     "solution": false,
     "task": false
    }
   },
   "source": [
    "# 1.\n",
    "(1.6) Let `beaches` be the data frame consisting of the rows from `crimes` where the *Jurisdiction* column is one of \"Bethany Beach\", \"Dewey Beach\", or \"Rehoboth Beach\". (Hint: The `isin` method is quite useful here.)"
   ]
  },
  {
   "cell_type": "code",
   "execution_count": null,
   "id": "67838a16-1202-4892-a27a-aa85b97e5aa1",
   "metadata": {
    "deletable": false,
    "nbgrader": {
     "cell_type": "code",
     "checksum": "7f12620003e214b8b0bc7fae52784a04",
     "grade": false,
     "grade_id": "beaches-answer",
     "locked": false,
     "schema_version": 3,
     "solution": true,
     "task": false
    }
   },
   "outputs": [],
   "source": [
    "beaches = None\n",
    "# YOUR CODE HERE\n",
    "raise NotImplementedError()\n",
    "beaches"
   ]
  },
  {
   "cell_type": "code",
   "execution_count": null,
   "id": "0b0aa90d-8411-4c10-85c6-547233c590ba",
   "metadata": {
    "deletable": false,
    "editable": false,
    "nbgrader": {
     "cell_type": "code",
     "checksum": "e7eb7e79f1bda0c2d18d5d17ecc448ff",
     "grade": true,
     "grade_id": "beaches-test",
     "locked": true,
     "points": 2,
     "schema_version": 3,
     "solution": false,
     "task": false
    }
   },
   "outputs": [],
   "source": [
    "# TESTS\n",
    "assert type(beaches) == pd.DataFrame, \"beaches should be a DataFrame\"\n",
    "assert len(beaches) == 3318, \"beaches should have 3318 rows\"\n",
    "assert np.isclose(beaches[\"Clearance Rate\"].sum(), 72835.75), \"The sum of the Clearance Rate column is incorrect\"\n",
    "print(\"OK\")"
   ]
  },
  {
   "cell_type": "code",
   "execution_count": null,
   "id": "672789ef-0f06-4430-ace9-b389272eaf35",
   "metadata": {
    "deletable": false,
    "editable": false,
    "nbgrader": {
     "cell_type": "code",
     "checksum": "19332f0fcc83011e9432a6ccfbc7ab82",
     "grade": true,
     "grade_id": "beaches-grade",
     "locked": true,
     "points": 2,
     "schema_version": 3,
     "solution": false,
     "task": false
    }
   },
   "outputs": [],
   "source": [
    "# Intentionally blank--do not delete"
   ]
  },
  {
   "cell_type": "markdown",
   "id": "80897ade-eda7-476b-9885-18fa6e6aaf84",
   "metadata": {
    "deletable": false,
    "editable": false,
    "nbgrader": {
     "cell_type": "markdown",
     "checksum": "001a2e63c6492174d171a6577ff278dc",
     "grade": false,
     "grade_id": "cell-62c07d149f3dbfb9",
     "locked": true,
     "schema_version": 3,
     "solution": false,
     "task": false
    }
   },
   "source": [
    "# 2.\n",
    "(2.3) Make a scatterplot of `beaches` showing *Year* on the x axis and *Adult Arrests* on the y axis, using color to indicate the value of *Offense Type* and facet column to indicate the value of *Jurisdiction*."
   ]
  },
  {
   "cell_type": "code",
   "execution_count": null,
   "id": "d57c6904-1188-45f2-afc6-e048cc45a7f7",
   "metadata": {
    "deletable": false,
    "nbgrader": {
     "cell_type": "code",
     "checksum": "19a9a3d0e072cd4396f7906ea488edd8",
     "grade": true,
     "grade_id": "scatter-manual",
     "locked": false,
     "points": 0,
     "schema_version": 3,
     "solution": true,
     "task": false
    }
   },
   "outputs": [],
   "source": [
    "# Result is a plot\n",
    "# YOUR CODE HERE\n",
    "raise NotImplementedError()"
   ]
  },
  {
   "cell_type": "markdown",
   "id": "fa5d724d-79e2-44ed-81d2-2669ee5646a5",
   "metadata": {
    "deletable": false,
    "editable": false,
    "nbgrader": {
     "cell_type": "markdown",
     "checksum": "a05e437e066e6a72e514762dc5f0e70a",
     "grade": false,
     "grade_id": "cell-23acf6fefbfe371e",
     "locked": true,
     "schema_version": 3,
     "solution": false,
     "task": false
    }
   },
   "source": [
    "# 3.\n",
    "(2.3) Make a series indexed by *Year* showing the total number of *Adult Arrests* in which *Main Offense* is \"Prostitution\"."
   ]
  },
  {
   "cell_type": "code",
   "execution_count": null,
   "id": "ef75f752-8cf5-4750-b654-99856c36d335",
   "metadata": {
    "deletable": false,
    "nbgrader": {
     "cell_type": "code",
     "checksum": "898a222f70f0534ba0c8551a30f4b532",
     "grade": false,
     "grade_id": "prost-answer",
     "locked": false,
     "schema_version": 3,
     "solution": true,
     "task": false
    }
   },
   "outputs": [],
   "source": [
    "prost = None\n",
    "# YOUR CODE HERE\n",
    "raise NotImplementedError()\n",
    "print(prost)"
   ]
  },
  {
   "cell_type": "code",
   "execution_count": null,
   "id": "aecc6b75-52dc-4e8c-8256-da3df760a2f3",
   "metadata": {
    "deletable": false,
    "editable": false,
    "nbgrader": {
     "cell_type": "code",
     "checksum": "3eb738cbe6cdead9203e834244402aa7",
     "grade": true,
     "grade_id": "prost-test",
     "locked": true,
     "points": 2,
     "schema_version": 3,
     "solution": false,
     "task": false
    }
   },
   "outputs": [],
   "source": [
    "# TESTS\n",
    "assert type(prost) == pd.Series, \"prost should be a Series\"\n",
    "assert len(prost) == 19, \"prost should have 19 elements\"\n",
    "assert sum(prost) == 7403, \"The sum of prost is incorrect\"\n",
    "print(\"OK\")"
   ]
  },
  {
   "cell_type": "code",
   "execution_count": null,
   "id": "30d16244-f1e3-4657-8736-eea12f22bf9f",
   "metadata": {
    "deletable": false,
    "editable": false,
    "nbgrader": {
     "cell_type": "code",
     "checksum": "cb65c2c66d0d48abf3381596312e86b2",
     "grade": true,
     "grade_id": "prost-grade",
     "locked": true,
     "points": 2,
     "schema_version": 3,
     "solution": false,
     "task": false
    }
   },
   "outputs": [],
   "source": [
    "# Intentionally blank--do not delete"
   ]
  },
  {
   "cell_type": "markdown",
   "id": "b7c4aca5-aa79-46aa-9389-49c46964465e",
   "metadata": {
    "deletable": false,
    "editable": false,
    "nbgrader": {
     "cell_type": "markdown",
     "checksum": "b2ce276310f55c61331397d423070ff5",
     "grade": false,
     "grade_id": "cell-f42b264fa6019b52",
     "locked": true,
     "schema_version": 3,
     "solution": false,
     "task": false
    }
   },
   "source": [
    "# 4.\n",
    "(2.5) Find the correlations between *Adult Arrests* and *Juvenile Arrests* when `crimes` is grouped by *Offense Type*. Which offense type shows the weakest correlation?"
   ]
  },
  {
   "cell_type": "code",
   "execution_count": null,
   "id": "004e5795-f3f2-4de4-bc60-e7d20363696a",
   "metadata": {
    "deletable": false,
    "nbgrader": {
     "cell_type": "code",
     "checksum": "d31ac2dbefcab867658ed4a5a31612c1",
     "grade": false,
     "grade_id": "corr-answer",
     "locked": false,
     "schema_version": 3,
     "solution": true,
     "task": false
    }
   },
   "outputs": [],
   "source": [
    "correlations = None\n",
    "weakest = \"\"\n",
    "\n",
    "# YOUR CODE HERE\n",
    "raise NotImplementedError()\n",
    "\n",
    "print(correlations)\n",
    "print()\n",
    "print(\"Weakest offense type is\", weakest)"
   ]
  },
  {
   "cell_type": "code",
   "execution_count": null,
   "id": "8ef9c70f-2149-424f-be7c-9796837910d3",
   "metadata": {
    "deletable": false,
    "editable": false,
    "nbgrader": {
     "cell_type": "code",
     "checksum": "81cbbdd3b7d14279e84a00c54f71c9cc",
     "grade": true,
     "grade_id": "corr-test",
     "locked": true,
     "points": 2,
     "schema_version": 3,
     "solution": false,
     "task": false
    }
   },
   "outputs": [],
   "source": [
    "# TESTS\n",
    "assert type(correlations) == pd.DataFrame, \"correlations should be a DataFrame\"\n",
    "assert correlations.shape == (8,2), \"correlations should have 8 rows and 2 columns\"\n",
    "assert type(weakest) == str, \"weakest should be a string\"\n",
    "assert len(weakest) > 0, \"weakest should not be an empty string\"\n",
    "print(\"OK\")"
   ]
  },
  {
   "cell_type": "code",
   "execution_count": null,
   "id": "6f47e349-7e30-45c3-8a19-1dfe47218c4b",
   "metadata": {
    "deletable": false,
    "editable": false,
    "nbgrader": {
     "cell_type": "code",
     "checksum": "5e330940b591563a71e795c9e73175b8",
     "grade": true,
     "grade_id": "corr-grade",
     "locked": true,
     "points": 2,
     "schema_version": 3,
     "solution": false,
     "task": false
    }
   },
   "outputs": [],
   "source": [
    "# Intentionally blank--do not delete"
   ]
  }
 ],
 "metadata": {
  "kernelspec": {
   "display_name": "Python 3 (ipykernel)",
   "language": "python",
   "name": "python3"
  },
  "language_info": {
   "codemirror_mode": {
    "name": "ipython",
    "version": 3
   },
   "file_extension": ".py",
   "mimetype": "text/x-python",
   "name": "python",
   "nbconvert_exporter": "python",
   "pygments_lexer": "ipython3",
   "version": "3.11.7"
  }
 },
 "nbformat": 4,
 "nbformat_minor": 5
}
