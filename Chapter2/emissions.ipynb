{
 "cells": [
  {
   "cell_type": "code",
   "execution_count": null,
   "id": "90f58300-13b6-4812-8b19-6253f2f918a4",
   "metadata": {
    "deletable": false,
    "editable": false,
    "nbgrader": {
     "cell_type": "code",
     "checksum": "60d0dc051ffb2a78039a59ddafa02ef1",
     "grade": false,
     "grade_id": "cell-9d6984dbf58ddef5",
     "locked": true,
     "schema_version": 3,
     "solution": false,
     "task": false
    },
    "tags": []
   },
   "outputs": [],
   "source": [
    "import warnings\n",
    "warnings.simplefilter(action='ignore', category=FutureWarning)\n",
    "warnings.simplefilter(action='ignore', category=DeprecationWarning)\n",
    "\n",
    "import pandas as pd\n",
    "import seaborn as sns\n",
    "import numpy as np"
   ]
  },
  {
   "cell_type": "markdown",
   "id": "32d4556e-1b6c-43f7-8463-2593f76e4cbf",
   "metadata": {
    "deletable": false,
    "editable": false,
    "nbgrader": {
     "cell_type": "markdown",
     "checksum": "334a90c0ad17dd372eab57511dec809b",
     "grade": false,
     "grade_id": "cell-178dd772bce52b3a",
     "locked": true,
     "schema_version": 3,
     "solution": false,
     "task": false
    }
   },
   "source": [
    "This dataset contains estimates and projections of greenhouse gas emissions in Delaware:"
   ]
  },
  {
   "cell_type": "code",
   "execution_count": null,
   "id": "82d9dbd2-55a8-4c46-b764-0b66a43d03aa",
   "metadata": {
    "deletable": false,
    "editable": false,
    "nbgrader": {
     "cell_type": "code",
     "checksum": "2bca9354ae1756681ec59c6ebb828141",
     "grade": false,
     "grade_id": "cell-095b84119005895f",
     "locked": true,
     "schema_version": 3,
     "solution": false,
     "task": false
    },
    "tags": []
   },
   "outputs": [],
   "source": [
    "emissions = pd.read_csv(\"Delaware_Greenhouse_Gas_Emissions.csv\").dropna()\n",
    "amount = 'MMTCO2e'\n",
    "emissions"
   ]
  },
  {
   "cell_type": "markdown",
   "id": "6725ac3c-264f-4ba9-bb3b-5f8c7452faf8",
   "metadata": {
    "deletable": false,
    "editable": false,
    "nbgrader": {
     "cell_type": "markdown",
     "checksum": "5d898f4b90b025aeb0e0d565437299b1",
     "grade": false,
     "grade_id": "cell-0dd06b52164e616f",
     "locked": true,
     "schema_version": 3,
     "solution": false,
     "task": false
    }
   },
   "source": [
    "## 1.\n",
    "(1.6) Let `co2` be the frame resulting from selection of the rows in which *Category* is `'Estimate'` and *Gas* is `'CO2'`."
   ]
  },
  {
   "cell_type": "code",
   "execution_count": null,
   "id": "05a7d39a-3bc3-44b7-82b5-190db170126c",
   "metadata": {
    "deletable": false,
    "nbgrader": {
     "cell_type": "code",
     "checksum": "903262a419cea8f3cae0bcbc010d5dbb",
     "grade": false,
     "grade_id": "co2-answer",
     "locked": false,
     "schema_version": 3,
     "solution": true,
     "task": false
    },
    "tags": []
   },
   "outputs": [],
   "source": [
    "co2 = None\n",
    "\n",
    "# YOUR CODE HERE\n",
    "raise NotImplementedError()\n",
    "\n",
    "co2"
   ]
  },
  {
   "cell_type": "code",
   "execution_count": null,
   "id": "e70e2642-5445-4b8c-9cb4-21b2fc911db4",
   "metadata": {
    "deletable": false,
    "editable": false,
    "nbgrader": {
     "cell_type": "code",
     "checksum": "164c618a2c0c5f23f68fe8743fcec17f",
     "grade": true,
     "grade_id": "co2-tests",
     "locked": true,
     "points": 2,
     "schema_version": 3,
     "solution": false,
     "task": false
    },
    "tags": []
   },
   "outputs": [],
   "source": [
    "# TESTS\n",
    "assert type(co2) == pd.DataFrame, \"co2 should be a DataFrame\"\n",
    "assert co2.shape == (406,8), \"co2 should be 406 by 8\"\n",
    "assert all( co2[\"Category\"]==\"Estimate\" ), \"All rows in co2 should have Category=Estimate\"\n",
    "assert all( co2[\"Gas\"]==\"CO2\" ), \"All rows in co2 should have Gas=CO2\"\n",
    "print(\"OK\")"
   ]
  },
  {
   "cell_type": "code",
   "execution_count": null,
   "id": "0f712321-eb5b-4bc3-a86a-2b4457cf2198",
   "metadata": {
    "deletable": false,
    "editable": false,
    "nbgrader": {
     "cell_type": "code",
     "checksum": "0f587c32c30e04572a268df3752ec5fb",
     "grade": true,
     "grade_id": "co2-grade",
     "locked": true,
     "points": 2,
     "schema_version": 3,
     "solution": false,
     "task": false
    },
    "tags": []
   },
   "outputs": [],
   "source": [
    "# Intentionally blank--do not delete"
   ]
  },
  {
   "cell_type": "markdown",
   "id": "ec21449c-aced-4405-9ff9-5c3404db8ac5",
   "metadata": {
    "deletable": false,
    "editable": false,
    "nbgrader": {
     "cell_type": "markdown",
     "checksum": "dc045ba8a10b104be48973ffdaf36646",
     "grade": false,
     "grade_id": "cell-a71e2d26e5467aff",
     "locked": true,
     "schema_version": 3,
     "solution": false,
     "task": false
    }
   },
   "source": [
    "## 2.\n",
    "(2.3) Make a box plot of *MMTCO2e* from `co2`, putting *Economic sectors* on the y axis and separating facet columns according to *Fuel type*."
   ]
  },
  {
   "cell_type": "code",
   "execution_count": null,
   "id": "6f1722d7-f648-43b7-80c5-66b2e47fddec",
   "metadata": {
    "deletable": false,
    "nbgrader": {
     "cell_type": "code",
     "checksum": "587de0844c912f9e07c5e9698b594644",
     "grade": true,
     "grade_id": "boxplot-answer",
     "locked": false,
     "points": 4,
     "schema_version": 3,
     "solution": true,
     "task": false
    },
    "tags": []
   },
   "outputs": [],
   "source": [
    "# Result is a plot\n",
    "# YOUR CODE HERE\n",
    "raise NotImplementedError()"
   ]
  },
  {
   "cell_type": "markdown",
   "id": "9e18ac42-86fb-4255-9300-db87b216440b",
   "metadata": {
    "deletable": false,
    "editable": false,
    "nbgrader": {
     "cell_type": "markdown",
     "checksum": "513e166d3060718921469d42d1bb4e63",
     "grade": false,
     "grade_id": "cell-bac8ce8cfff45e77",
     "locked": true,
     "schema_version": 3,
     "solution": false,
     "task": false
    }
   },
   "source": [
    "## 3.\n",
    "(2.5) Make line plots from `co2` with *Year* on the x axis, *MMTCO2e* on the y axis, colors for *Economic sectors*, and columns for *Fuel type*. (There will be no error bars/ribbons on these.)"
   ]
  },
  {
   "cell_type": "code",
   "execution_count": null,
   "id": "0fbbac75-c143-4d2c-9049-fe8af549a85f",
   "metadata": {
    "deletable": false,
    "nbgrader": {
     "cell_type": "code",
     "checksum": "9da6c99c46614fc7992a7f2e1ae18030",
     "grade": true,
     "grade_id": "lineplot-answer",
     "locked": false,
     "points": 4,
     "schema_version": 3,
     "solution": true,
     "task": false
    },
    "tags": []
   },
   "outputs": [],
   "source": [
    "# Result is a plot\n",
    "# YOUR CODE HERE\n",
    "raise NotImplementedError()"
   ]
  },
  {
   "cell_type": "markdown",
   "id": "3bb211e4-fcab-4d58-95a4-406b66cb114c",
   "metadata": {
    "deletable": false,
    "editable": false,
    "nbgrader": {
     "cell_type": "markdown",
     "checksum": "923d54b4acc99d7e444466af881691e3",
     "grade": false,
     "grade_id": "cell-e85c081c5cc2f4b5",
     "locked": true,
     "schema_version": 3,
     "solution": false,
     "task": false
    },
    "tags": []
   },
   "source": [
    "## 4.\n",
    "(2.6) Here is the correlation between *Year* and emissions of CO2 from `co2`:"
   ]
  },
  {
   "cell_type": "code",
   "execution_count": null,
   "id": "316ee67f-7084-4f7a-afdc-7eb157ae1415",
   "metadata": {
    "deletable": false,
    "editable": false,
    "nbgrader": {
     "cell_type": "code",
     "checksum": "7f86dd503d01a9ca31730d9dab128c5a",
     "grade": false,
     "grade_id": "cell-1c5981c634494c2a",
     "locked": true,
     "schema_version": 3,
     "solution": false,
     "task": false
    },
    "tags": []
   },
   "outputs": [],
   "source": [
    "co2[[\"Year\", \"MMTCO2e\"]].corr()"
   ]
  },
  {
   "cell_type": "markdown",
   "id": "dba7f2c3-f7ea-4809-9560-e90db4d6193b",
   "metadata": {
    "deletable": false,
    "editable": false,
    "nbgrader": {
     "cell_type": "markdown",
     "checksum": "3c346265b19b2513e806904bc904d9f8",
     "grade": false,
     "grade_id": "cell-e69b0e39672c3a4a",
     "locked": true,
     "schema_version": 3,
     "solution": false,
     "task": false
    },
    "tags": []
   },
   "source": [
    "Let `sectorCorr` be the same result but with the correlations grouped by *Economic sectors*. "
   ]
  },
  {
   "cell_type": "code",
   "execution_count": null,
   "id": "f4fdadb0-01f8-40f6-8211-bd136b4d19af",
   "metadata": {
    "deletable": false,
    "nbgrader": {
     "cell_type": "code",
     "checksum": "adc388c018b3993ccfaa92b8a22a68ce",
     "grade": false,
     "grade_id": "corr-answer",
     "locked": false,
     "schema_version": 3,
     "solution": true,
     "task": false
    },
    "tags": []
   },
   "outputs": [],
   "source": [
    "sectorCorr = None\n",
    "# YOUR CODE HERE\n",
    "raise NotImplementedError()\n",
    "sectorCorr"
   ]
  },
  {
   "cell_type": "code",
   "execution_count": null,
   "id": "1268ffff-2dc9-4efb-82ba-712f46b8abf3",
   "metadata": {
    "deletable": false,
    "editable": false,
    "nbgrader": {
     "cell_type": "code",
     "checksum": "b3c19758945d754f69d6855d3f55c51a",
     "grade": true,
     "grade_id": "cell-d840a8053b5fc5b8",
     "locked": true,
     "points": 2,
     "schema_version": 3,
     "solution": false,
     "task": false
    },
    "tags": []
   },
   "outputs": [],
   "source": [
    "# TESTS\n",
    "assert type(sectorCorr) == pd.DataFrame, \"sectorCorr should be a DataFrame\"\n",
    "assert sectorCorr.shape == (10,2), \"sectorCorr should be 10 by 2\"\n",
    "assert sectorCorr.loc[(\"Commercial\",\"Year\"),\"MMTCO2e\"] > 0, \"Correlation between Year and MMTCO2e for Commercial should be positive\"\n",
    "assert sectorCorr.loc[(\"Electric power\",\"Year\"),\"MMTCO2e\"] < 0, \"Correlation between Year and MMTCO2e for Electric power should be negative\"\n",
    "print(\"OK\")"
   ]
  },
  {
   "cell_type": "code",
   "execution_count": null,
   "id": "718b42da-053b-4be5-acc8-46e907156f99",
   "metadata": {
    "deletable": false,
    "editable": false,
    "nbgrader": {
     "cell_type": "code",
     "checksum": "5e330940b591563a71e795c9e73175b8",
     "grade": true,
     "grade_id": "corr-grade",
     "locked": true,
     "points": 2,
     "schema_version": 3,
     "solution": false,
     "task": false
    },
    "tags": []
   },
   "outputs": [],
   "source": [
    "# Intentionally blank--do not delete"
   ]
  }
 ],
 "metadata": {
  "kernelspec": {
   "display_name": "Python 3 (ipykernel)",
   "language": "python",
   "name": "python3"
  },
  "language_info": {
   "codemirror_mode": {
    "name": "ipython",
    "version": 3
   },
   "file_extension": ".py",
   "mimetype": "text/x-python",
   "name": "python",
   "nbconvert_exporter": "python",
   "pygments_lexer": "ipython3",
   "version": "3.11.9"
  }
 },
 "nbformat": 4,
 "nbformat_minor": 5
}
