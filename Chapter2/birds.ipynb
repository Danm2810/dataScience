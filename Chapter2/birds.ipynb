{
 "cells": [
  {
   "cell_type": "code",
   "execution_count": null,
   "id": "fdc2a253-d922-4124-931c-d4a90308d222",
   "metadata": {
    "deletable": false,
    "editable": false,
    "nbgrader": {
     "cell_type": "code",
     "checksum": "b4c226b76daba8a1aae78aad52751933",
     "grade": false,
     "grade_id": "cell-34389c5497ccc8a9",
     "locked": true,
     "schema_version": 3,
     "solution": false,
     "task": false
    },
    "tags": []
   },
   "outputs": [],
   "source": [
    "import warnings\n",
    "warnings.simplefilter(action='ignore', category=FutureWarning)\n",
    "warnings.simplefilter(action='ignore', category=DeprecationWarning)\n",
    "\n",
    "import numpy as np\n",
    "import pandas as pd\n",
    "import seaborn as sns"
   ]
  },
  {
   "cell_type": "markdown",
   "id": "e656f1ec-608e-42ae-b00d-d824a47589b1",
   "metadata": {
    "deletable": false,
    "editable": false,
    "nbgrader": {
     "cell_type": "markdown",
     "checksum": "b0dc190d1620550b2db2a2bac62c3539",
     "grade": false,
     "grade_id": "cell-bb2e51d4cb8c9ddd",
     "locked": true,
     "schema_version": 3,
     "solution": false,
     "task": false
    }
   },
   "source": [
    "The dataset `Aerial_Waterfowl_Survey_Data.csv` shows counts of various species of waterfowl observed during aerial surveys:"
   ]
  },
  {
   "cell_type": "code",
   "execution_count": null,
   "id": "473d4e56-4c7d-4e9a-a7f9-bcf596f82de5",
   "metadata": {
    "deletable": false,
    "editable": false,
    "nbgrader": {
     "cell_type": "code",
     "checksum": "e40c3d69dbd24609e0c25c0b511c3097",
     "grade": false,
     "grade_id": "cell-aef735941ba20718",
     "locked": true,
     "schema_version": 3,
     "solution": false,
     "task": false
    },
    "tags": []
   },
   "outputs": [],
   "source": [
    "birds = pd.read_csv(\"Aerial_Waterfowl_Survey_Data.csv\")\n",
    "birds"
   ]
  },
  {
   "cell_type": "markdown",
   "id": "af4a10eb-93d7-44fa-bbf3-9c3de7025d2e",
   "metadata": {
    "deletable": false,
    "editable": false,
    "nbgrader": {
     "cell_type": "markdown",
     "checksum": "1235a4888081f2cbcf250137d9155905",
     "grade": false,
     "grade_id": "cell-404456cc35ae4faa",
     "locked": true,
     "schema_version": 3,
     "solution": false,
     "task": false
    }
   },
   "source": [
    "## 1.\n",
    "(2.1) Make a data frame called `ducks` for just the species *American Black Duck*, *Mallard*, *Ruddy Duck*, and *Ring-necked Duck*. Make a series called `duckmeans` for the means of those 4 columns."
   ]
  },
  {
   "cell_type": "code",
   "execution_count": null,
   "id": "6b3dc6c4-7547-4614-b0a7-7bab6a2d05e6",
   "metadata": {
    "deletable": false,
    "nbgrader": {
     "cell_type": "code",
     "checksum": "1a43676109dcd0f29ed172b694a54f38",
     "grade": false,
     "grade_id": "ducks-mean",
     "locked": false,
     "schema_version": 3,
     "solution": true,
     "task": false
    },
    "tags": []
   },
   "outputs": [],
   "source": [
    "ducks = None\n",
    "duckmeans = None\n",
    "\n",
    "# YOUR CODE HERE\n",
    "raise NotImplementedError()\n",
    "\n",
    "print(ducks.head(5))\n",
    "print()\n",
    "print(duckmeans)"
   ]
  },
  {
   "cell_type": "code",
   "execution_count": null,
   "id": "501e0c97-a02e-4940-885b-2326746f9dcc",
   "metadata": {
    "deletable": false,
    "editable": false,
    "nbgrader": {
     "cell_type": "code",
     "checksum": "ebc3ac7b97c6cb79972e4354ea923b10",
     "grade": true,
     "grade_id": "ducks-tests",
     "locked": true,
     "points": 2,
     "schema_version": 3,
     "solution": false,
     "task": false
    },
    "tags": []
   },
   "outputs": [],
   "source": [
    "# TESTS\n",
    "assert np.isclose(duckmeans.sum(), 1834.528606356), \"The mean values are incorrect\"\n",
    "assert len(ducks.columns) == 4, \"Wrong number of columns in ducks\"\n",
    "print(\"OK\")"
   ]
  },
  {
   "cell_type": "code",
   "execution_count": null,
   "id": "7bae2051-db94-455d-abdc-1a8840a3f0d1",
   "metadata": {
    "deletable": false,
    "editable": false,
    "nbgrader": {
     "cell_type": "code",
     "checksum": "0b520bc11248243ca9dda46a61d22397",
     "grade": true,
     "grade_id": "ducks-grade",
     "locked": true,
     "points": 2,
     "schema_version": 3,
     "solution": false,
     "task": false
    },
    "tags": []
   },
   "outputs": [],
   "source": [
    "# Intentionally blank--do not delete"
   ]
  },
  {
   "cell_type": "markdown",
   "id": "b2e09ba2-55fb-4968-a293-0a4bbec2f066",
   "metadata": {
    "deletable": false,
    "editable": false,
    "nbgrader": {
     "cell_type": "markdown",
     "checksum": "a24d36eb5e3d77c1d176a2a15bc74f33",
     "grade": false,
     "grade_id": "cell-869d5bfc3921ff69",
     "locked": true,
     "schema_version": 3,
     "solution": false,
     "task": false
    }
   },
   "source": [
    "## 2.\n",
    "(2.1) For the *Canada Goose* column of `birds`, assign `CGmu` the value of the mean, assign `CGsigma` the value of the standard deviation, and let `CGZ` be a series of the z-scores of the column."
   ]
  },
  {
   "cell_type": "code",
   "execution_count": null,
   "id": "142aa2e7-fea5-4098-825c-3078246a0f21",
   "metadata": {
    "deletable": false,
    "nbgrader": {
     "cell_type": "code",
     "checksum": "643752ea61cb3963d0a0e646768cdf80",
     "grade": false,
     "grade_id": "stats-answer",
     "locked": false,
     "schema_version": 3,
     "solution": true,
     "task": false
    },
    "tags": []
   },
   "outputs": [],
   "source": [
    "CGmu = None\n",
    "CGsigma = None\n",
    "CGZ = None\n",
    "\n",
    "# YOUR CODE HERE\n",
    "raise NotImplementedError()\n",
    "\n",
    "print(f\"mean for Canada Goose: {CGmu:.2f}\")\n",
    "print(f\"std for Canada Goose: {CGsigma:.2f}\")"
   ]
  },
  {
   "cell_type": "code",
   "execution_count": null,
   "id": "b3b17081-803f-4c6b-9446-c5986b73f41b",
   "metadata": {
    "deletable": false,
    "editable": false,
    "nbgrader": {
     "cell_type": "code",
     "checksum": "f624373de975f9c84b728e953af7284c",
     "grade": true,
     "grade_id": "cell-fb7bce0cda1d50ca",
     "locked": true,
     "points": 2,
     "schema_version": 3,
     "solution": false,
     "task": false
    },
    "tags": []
   },
   "outputs": [],
   "source": [
    "# TESTS\n",
    "assert np.isclose(CGZ.mean(), 0), \"The mean of CGZ should be near zero\"\n",
    "assert np.isclose(CGZ.std(), 1), \"The standard deviation of CGZ should be near 1\"\n",
    "assert len(CGZ) == birds.shape[0], \"CGZ should have the same number of rows as birds\"\n",
    "assert np.isclose(CGZ.median(), -0.34007213204), \"The CGZ values are incorrect\"\n",
    "print(\"OK\")"
   ]
  },
  {
   "cell_type": "code",
   "execution_count": null,
   "id": "ab60928f-8d9a-4778-8316-d82a352e7eb5",
   "metadata": {
    "deletable": false,
    "editable": false,
    "nbgrader": {
     "cell_type": "code",
     "checksum": "aa2f22f793f3755f64afb6e655cb4347",
     "grade": true,
     "grade_id": "stats-grade",
     "locked": true,
     "points": 2,
     "schema_version": 3,
     "solution": false,
     "task": false
    },
    "tags": []
   },
   "outputs": [],
   "source": [
    "# Intentionally blank--do not delete"
   ]
  },
  {
   "cell_type": "markdown",
   "id": "6e0bfca5-4238-4091-89a4-5926f5e35cd7",
   "metadata": {
    "deletable": false,
    "editable": false,
    "nbgrader": {
     "cell_type": "markdown",
     "checksum": "2de279d0095a0db809101b8bc52d02fb",
     "grade": false,
     "grade_id": "cell-2a1f46fe80c008cc",
     "locked": true,
     "schema_version": 3,
     "solution": false,
     "task": false
    }
   },
   "source": [
    "## 3.\n",
    "(2.1) Let `IQR` be a series of the interquartile ranges of all the columns of *birds* after the 5th, keeping only the values greater than zero."
   ]
  },
  {
   "cell_type": "code",
   "execution_count": null,
   "id": "cb279a41-3da0-457d-b835-919d3a9ddc65",
   "metadata": {
    "deletable": false,
    "nbgrader": {
     "cell_type": "code",
     "checksum": "7b9651e0f6b9c8d573ddc9345c5f6759",
     "grade": false,
     "grade_id": "iqr-answer",
     "locked": false,
     "schema_version": 3,
     "solution": true,
     "task": false
    },
    "tags": []
   },
   "outputs": [],
   "source": [
    "IQR = None\n",
    "\n",
    "# YOUR CODE HERE\n",
    "raise NotImplementedError()\n",
    "IQR"
   ]
  },
  {
   "cell_type": "code",
   "execution_count": null,
   "id": "de6840ea-948e-4389-aa52-5965c0023de8",
   "metadata": {
    "deletable": false,
    "editable": false,
    "nbgrader": {
     "cell_type": "code",
     "checksum": "6ca2fbd08326dc6c570c98769c678b87",
     "grade": true,
     "grade_id": "iqr-tests",
     "locked": true,
     "points": 0,
     "schema_version": 3,
     "solution": false,
     "task": false
    }
   },
   "outputs": [],
   "source": [
    "# TESTS\n",
    "assert type(IQR) == pd.Series, \"IQR should be a pandas Series\"\n",
    "assert np.isclose(IQR.sum(), 14026), \"The sum of IQR values is incorrect\"\n",
    "assert np.isclose(IQR[\"Snow Goose\"], 5900), \"The Snow Goose IQR value is incorrect\"\n",
    "print(\"OK\")"
   ]
  },
  {
   "cell_type": "code",
   "execution_count": null,
   "id": "4987bc3f-b566-468a-8e10-c8f7a1411dbf",
   "metadata": {
    "deletable": false,
    "editable": false,
    "nbgrader": {
     "cell_type": "code",
     "checksum": "5d8a74d0180127fac3793b54f4669209",
     "grade": true,
     "grade_id": "iqr-grade",
     "locked": true,
     "points": 1,
     "schema_version": 3,
     "solution": false,
     "task": false
    },
    "tags": []
   },
   "outputs": [],
   "source": [
    "# Intentionally blank--do not delete"
   ]
  },
  {
   "cell_type": "markdown",
   "id": "5c7d28cb-50de-424e-bdf0-ab70dd735bce",
   "metadata": {
    "deletable": false,
    "editable": false,
    "nbgrader": {
     "cell_type": "markdown",
     "checksum": "ecff59de7897eb19f720a7e64065ea19",
     "grade": false,
     "grade_id": "cell-85ab8e5970a4c206",
     "locked": true,
     "schema_version": 3,
     "solution": false,
     "task": false
    }
   },
   "source": [
    "## 4.\n",
    "(2.2) Plot the empirical CDF of the *Snow Goose* column using only the rows in which *Zone* equals 3."
   ]
  },
  {
   "cell_type": "code",
   "execution_count": null,
   "id": "65d0e260-b779-48c1-8dfb-41f3efabc5c3",
   "metadata": {
    "deletable": false,
    "nbgrader": {
     "cell_type": "code",
     "checksum": "dcc5f8b5dbea03441c4886108dd5ac68",
     "grade": true,
     "grade_id": "ecdf-manual",
     "locked": false,
     "points": 3,
     "schema_version": 3,
     "solution": true,
     "task": false
    },
    "tags": []
   },
   "outputs": [],
   "source": [
    "# Result is a plot\n",
    "# YOUR CODE HERE\n",
    "raise NotImplementedError()"
   ]
  },
  {
   "cell_type": "markdown",
   "id": "cae4cf60-a3c1-45ed-8582-5a5098d2bcf5",
   "metadata": {
    "deletable": false,
    "editable": false,
    "nbgrader": {
     "cell_type": "markdown",
     "checksum": "43eb2024c9f863fdc5e7c064ba88d52d",
     "grade": false,
     "grade_id": "cell-84a1f89197c28222",
     "locked": true,
     "schema_version": 3,
     "solution": false,
     "task": false
    }
   },
   "source": [
    "## 5.\n",
    "(2.2) Plot a histogram with 25 bins for the **positive entries only** in the *Bufflehead* column."
   ]
  },
  {
   "cell_type": "code",
   "execution_count": null,
   "id": "a90b8b0c-3ab2-47b5-a11c-494e70203e7e",
   "metadata": {
    "deletable": false,
    "nbgrader": {
     "cell_type": "code",
     "checksum": "6964f459fa5a6c80188ecdbb7a4258e4",
     "grade": true,
     "grade_id": "hist-manual",
     "locked": false,
     "points": 3,
     "schema_version": 3,
     "solution": true,
     "task": false
    },
    "tags": []
   },
   "outputs": [],
   "source": [
    "# Result is a plot\n",
    "# YOUR CODE HERE\n",
    "raise NotImplementedError()"
   ]
  },
  {
   "cell_type": "markdown",
   "id": "c062d3c8-8057-4249-88d4-6917e1dfa6c2",
   "metadata": {
    "deletable": false,
    "editable": false,
    "nbgrader": {
     "cell_type": "markdown",
     "checksum": "e5f91fbc24293fa7d5338f6c107e8e47",
     "grade": false,
     "grade_id": "cell-bc0fd65972e4a4c0",
     "locked": true,
     "schema_version": 3,
     "solution": false,
     "task": false
    },
    "tags": []
   },
   "source": [
    "## 6.\n",
    "(2.3) Make a series called `canada` of the total number of *Canada Goose* observed in each zone. I.e., the index has the zone numbers, and the values are the total number in each zone."
   ]
  },
  {
   "cell_type": "code",
   "execution_count": null,
   "id": "1c31428f-02b9-4b84-956c-0c902a52c69a",
   "metadata": {
    "deletable": false,
    "nbgrader": {
     "cell_type": "code",
     "checksum": "1a3905537cd0abc350b82e9343239b1f",
     "grade": false,
     "grade_id": "canada-answer",
     "locked": false,
     "schema_version": 3,
     "solution": true,
     "task": false
    },
    "tags": []
   },
   "outputs": [],
   "source": [
    "canada = None\n",
    "# YOUR CODE HERE\n",
    "raise NotImplementedError()\n",
    "\n",
    "print(canada)"
   ]
  },
  {
   "cell_type": "code",
   "execution_count": null,
   "id": "39c6f861-0100-4f20-be1b-fdc0dd20e83a",
   "metadata": {
    "deletable": false,
    "editable": false,
    "nbgrader": {
     "cell_type": "code",
     "checksum": "0581e7dba3045878774e76ad8b8f5890",
     "grade": true,
     "grade_id": "canada-tests",
     "locked": true,
     "points": 2,
     "schema_version": 3,
     "solution": false,
     "task": false
    },
    "tags": []
   },
   "outputs": [],
   "source": [
    "# TESTS\n",
    "assert type(canada) == pd.Series, \"canada should be a pandas Series\"\n",
    "assert len(canada) == 11, \"canada should have 11 values\"\n",
    "assert canada[3.0] == 1968090, \"The value for Zone 3 is incorrect\"\n",
    "print(\"OK\")"
   ]
  },
  {
   "cell_type": "code",
   "execution_count": null,
   "id": "5c6d431e-fd81-4f3c-bc59-60e54babe756",
   "metadata": {
    "deletable": false,
    "editable": false,
    "nbgrader": {
     "cell_type": "code",
     "checksum": "791b6bd2416ab5bbafec3f9dd46f6855",
     "grade": true,
     "grade_id": "canada-grade",
     "locked": true,
     "points": 2,
     "schema_version": 3,
     "solution": false,
     "task": false
    },
    "tags": []
   },
   "outputs": [],
   "source": [
    "# Intentionally blank--do not delete"
   ]
  },
  {
   "cell_type": "markdown",
   "id": "1560db93-299f-4ae4-9bd4-4d7bf8f08980",
   "metadata": {
    "deletable": false,
    "editable": false,
    "nbgrader": {
     "cell_type": "markdown",
     "checksum": "788df555821042fb4cb574d3671ee8b3",
     "grade": false,
     "grade_id": "cell-7da679c2325d5b19",
     "locked": true,
     "schema_version": 3,
     "solution": false,
     "task": false
    },
    "tags": []
   },
   "source": [
    "## 7.\n",
    "\n",
    "(2.3) Make a box plot, grouped by month, of the *Snow Goose* counts for all the years since 2000 (inclusive)."
   ]
  },
  {
   "cell_type": "code",
   "execution_count": null,
   "id": "df054cb0-4ff7-4310-861d-7534ac855459",
   "metadata": {
    "deletable": false,
    "nbgrader": {
     "cell_type": "code",
     "checksum": "59a445747de7b964fbee9b70cf6709fa",
     "grade": true,
     "grade_id": "mallard-plot",
     "locked": false,
     "points": 4,
     "schema_version": 3,
     "solution": true,
     "task": false
    },
    "tags": []
   },
   "outputs": [],
   "source": [
    "# Result is a plot\n",
    "# YOUR CODE HERE\n",
    "raise NotImplementedError()"
   ]
  },
  {
   "cell_type": "markdown",
   "id": "16538bde-40cf-46d9-aff6-29b1e40bf226",
   "metadata": {
    "deletable": false,
    "editable": false,
    "nbgrader": {
     "cell_type": "markdown",
     "checksum": "5c982ab31a2011a8424b56e08448a9e9",
     "grade": false,
     "grade_id": "cell-e6219011837cc64e",
     "locked": true,
     "schema_version": 3,
     "solution": false,
     "task": false
    }
   },
   "source": [
    "## 8.\n",
    "(2.4) Produce code to count the total number of outliers for December in the previous plot and assign to `numOutliersDec`."
   ]
  },
  {
   "cell_type": "code",
   "execution_count": null,
   "id": "93dd6052-a249-47a2-8cf1-1b811787946d",
   "metadata": {
    "deletable": false,
    "nbgrader": {
     "cell_type": "code",
     "checksum": "d0ff9d8d0adf67a24a2d303819356a7a",
     "grade": false,
     "grade_id": "outliers-answer",
     "locked": false,
     "schema_version": 3,
     "solution": true,
     "task": false
    },
    "tags": []
   },
   "outputs": [],
   "source": [
    "numOutliersDec = None\n",
    "# YOUR CODE HERE\n",
    "raise NotImplementedError()\n",
    "\n",
    "print(numOutliersDec)"
   ]
  },
  {
   "cell_type": "code",
   "execution_count": null,
   "id": "ca3e6007-a2d3-46dd-83f9-b6c962a88dad",
   "metadata": {
    "deletable": false,
    "editable": false,
    "nbgrader": {
     "cell_type": "code",
     "checksum": "4396cfcb50fc5e93a8ed64cee70e8d39",
     "grade": true,
     "grade_id": "outliers-test",
     "locked": true,
     "points": 0,
     "schema_version": 3,
     "solution": false,
     "task": false
    }
   },
   "outputs": [],
   "source": [
    "# TESTS\n",
    "assert numOutliersDec > 10, \"There should be more than 10 outliers in December\"\n",
    "assert numOutliersDec < 25, \"There should be fewer than 25 outliers in December\"\n",
    "print(\"OK\")"
   ]
  },
  {
   "cell_type": "code",
   "execution_count": null,
   "id": "242b9179-511f-40d9-8df3-aaf8a4f99890",
   "metadata": {
    "deletable": false,
    "editable": false,
    "nbgrader": {
     "cell_type": "code",
     "checksum": "87cfc79469daa9f8ba6d633307489088",
     "grade": true,
     "grade_id": "outliers-grade",
     "locked": true,
     "points": 4,
     "schema_version": 3,
     "solution": false,
     "task": false
    },
    "tags": []
   },
   "outputs": [],
   "source": [
    "# Intentionally blank--do not delete"
   ]
  },
  {
   "cell_type": "markdown",
   "id": "86538277-dbe6-45b4-a75b-71d9572c965f",
   "metadata": {
    "deletable": false,
    "editable": false,
    "nbgrader": {
     "cell_type": "markdown",
     "checksum": "f73e0045ac6cc8e751a608993f59d3dc",
     "grade": false,
     "grade_id": "cell-7e212e7d9a1b4e61",
     "locked": true,
     "schema_version": 3,
     "solution": false,
     "task": false
    }
   },
   "source": [
    "## 9. \n",
    "(2.5) Create a 4x4 grid of pairwise scatter plots for the `ducks` frame from #1."
   ]
  },
  {
   "cell_type": "code",
   "execution_count": null,
   "id": "2a343c5e-4dfe-44c7-aa54-5d542d4f9971",
   "metadata": {
    "deletable": false,
    "nbgrader": {
     "cell_type": "code",
     "checksum": "985f0637d2aea39dc72b4149e20041da",
     "grade": true,
     "grade_id": "ducks-plot",
     "locked": false,
     "points": 2,
     "schema_version": 3,
     "solution": true,
     "task": false
    },
    "tags": []
   },
   "outputs": [],
   "source": [
    "# Results in a plot\n",
    "\n",
    "# YOUR CODE HERE\n",
    "raise NotImplementedError()"
   ]
  },
  {
   "cell_type": "markdown",
   "id": "3d464991-0e0b-43cd-97ca-59bd98bd6861",
   "metadata": {
    "deletable": false,
    "editable": false,
    "nbgrader": {
     "cell_type": "markdown",
     "checksum": "198eaba79feee84b5f0ac3efdade4588",
     "grade": false,
     "grade_id": "cell-dc810b6f07627b04",
     "locked": true,
     "schema_version": 3,
     "solution": false,
     "task": false
    }
   },
   "source": [
    "## 10.\n",
    "(2.5) Assign to `duckduck` a dataframe of the Pearson correlation coefficients between all pairings of the four species in `ducks`."
   ]
  },
  {
   "cell_type": "code",
   "execution_count": null,
   "id": "3e664218-29be-4333-b6e9-e6974acdb4b4",
   "metadata": {
    "deletable": false,
    "nbgrader": {
     "cell_type": "code",
     "checksum": "21c9dc5e9350c1f35a6d7444a4af8acd",
     "grade": false,
     "grade_id": "duckduck-answer",
     "locked": false,
     "schema_version": 3,
     "solution": true,
     "task": false
    },
    "tags": []
   },
   "outputs": [],
   "source": [
    "duckduck = None\n",
    "# YOUR CODE HERE\n",
    "raise NotImplementedError()\n",
    "\n",
    "duckduck"
   ]
  },
  {
   "cell_type": "code",
   "execution_count": null,
   "id": "20f6db82-4ad1-4afc-974f-8104b30a1058",
   "metadata": {
    "deletable": false,
    "editable": false,
    "nbgrader": {
     "cell_type": "code",
     "checksum": "8e4ed217f4eba65a0cdd39a7e82e0a0b",
     "grade": true,
     "grade_id": "duckduck-tests",
     "locked": true,
     "points": 1,
     "schema_version": 3,
     "solution": false,
     "task": false
    },
    "tags": []
   },
   "outputs": [],
   "source": [
    "# TESTS\n",
    "assert type(duckduck) == pd.DataFrame, \"duckduck should be a DataFrame\"\n",
    "assert duckduck.shape == (4, 4), \"duckduck should be a 4x4 DataFrame\"\n",
    "assert np.isclose(duckduck.loc['Mallard', 'Ruddy Duck'], -0.027620580191), \"A correlation value is incorrect\"\n",
    "print(\"OK\")"
   ]
  },
  {
   "cell_type": "code",
   "execution_count": null,
   "id": "914347f5-6cdf-413d-b17d-de1fb10dc618",
   "metadata": {
    "deletable": false,
    "editable": false,
    "nbgrader": {
     "cell_type": "code",
     "checksum": "dc34984829ec599573f56927757fefe1",
     "grade": true,
     "grade_id": "duckduck-grade",
     "locked": true,
     "points": 2,
     "schema_version": 3,
     "solution": false,
     "task": false
    },
    "tags": []
   },
   "outputs": [],
   "source": [
    "# Intentionally blank--do not delete"
   ]
  },
  {
   "cell_type": "markdown",
   "id": "a7523ac2-f4dd-4f33-84bc-04de34b8a44c",
   "metadata": {
    "deletable": false,
    "editable": false,
    "nbgrader": {
     "cell_type": "markdown",
     "checksum": "6959dd1458e2c80238dba6e96db18619",
     "grade": false,
     "grade_id": "cell-879a681e993aa58f",
     "locked": true,
     "schema_version": 3,
     "solution": false,
     "task": false
    }
   },
   "source": [
    "## 11.\n",
    "(2.5)\n",
    "Repeat the previous problem, but using Spearman coefficients, and call the result `spearduck`."
   ]
  },
  {
   "cell_type": "code",
   "execution_count": null,
   "id": "4f69bd2a-2d0a-4f0e-9e25-80bd3f3ffdf5",
   "metadata": {
    "deletable": false,
    "nbgrader": {
     "cell_type": "code",
     "checksum": "c1ade4cc5aa9b616ef4597fdefa04f9d",
     "grade": false,
     "grade_id": "spearduck-answer",
     "locked": false,
     "schema_version": 3,
     "solution": true,
     "task": false
    },
    "tags": []
   },
   "outputs": [],
   "source": [
    "spearduck = None\n",
    "# YOUR CODE HERE\n",
    "raise NotImplementedError()\n",
    "\n",
    "spearduck"
   ]
  },
  {
   "cell_type": "code",
   "execution_count": null,
   "id": "8ffcaa75-e073-4a2b-959d-9ee84cbc04e0",
   "metadata": {
    "deletable": false,
    "editable": false,
    "nbgrader": {
     "cell_type": "code",
     "checksum": "5ef32883c3c43fedb728c1a2a482b0da",
     "grade": true,
     "grade_id": "spearduck-tests",
     "locked": true,
     "points": 1,
     "schema_version": 3,
     "solution": false,
     "task": false
    },
    "tags": []
   },
   "outputs": [],
   "source": [
    "# TESTS\n",
    "assert type(spearduck) == pd.DataFrame, \"spearduck should be a DataFrame\"\n",
    "assert np.isclose(spearduck.loc['Mallard', 'Ruddy Duck'], 0.0634493133516), \"A correlation value is incorrect\"\n",
    "print(\"OK\")"
   ]
  },
  {
   "cell_type": "code",
   "execution_count": null,
   "id": "a6e24f61-cccd-4c0b-bfa7-6f4dbdfed678",
   "metadata": {
    "deletable": false,
    "editable": false,
    "nbgrader": {
     "cell_type": "code",
     "checksum": "3079dbe6abfeb5bfd8876b81e86b7ed8",
     "grade": true,
     "grade_id": "spearduck-grade",
     "locked": true,
     "points": 2,
     "schema_version": 3,
     "solution": false,
     "task": false
    },
    "tags": []
   },
   "outputs": [],
   "source": [
    "# Intentionally blank--do not delete"
   ]
  }
 ],
 "metadata": {
  "kernelspec": {
   "display_name": "Python 3 (ipykernel)",
   "language": "python",
   "name": "python3"
  },
  "language_info": {
   "codemirror_mode": {
    "name": "ipython",
    "version": 3
   },
   "file_extension": ".py",
   "mimetype": "text/x-python",
   "name": "python",
   "nbconvert_exporter": "python",
   "pygments_lexer": "ipython3",
   "version": "3.11.0"
  },
  "toc-autonumbering": false,
  "toc-showcode": false,
  "toc-showmarkdowntxt": true,
  "vscode": {
   "interpreter": {
    "hash": "1fd682e605b20a63f2f232a48fa9edc200d6bd85c08b844e49eb3f157803234a"
   }
  }
 },
 "nbformat": 4,
 "nbformat_minor": 5
}
