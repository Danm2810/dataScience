{
 "cells": [
  {
   "cell_type": "code",
   "execution_count": 23,
   "id": "fdc2a253-d922-4124-931c-d4a90308d222",
   "metadata": {
    "deletable": false,
    "editable": false,
    "nbgrader": {
     "cell_type": "code",
     "checksum": "b4c226b76daba8a1aae78aad52751933",
     "grade": false,
     "grade_id": "cell-34389c5497ccc8a9",
     "locked": true,
     "schema_version": 3,
     "solution": false,
     "task": false
    },
    "tags": []
   },
   "outputs": [],
   "source": [
    "import warnings\n",
    "warnings.simplefilter(action='ignore', category=FutureWarning)\n",
    "warnings.simplefilter(action='ignore', category=DeprecationWarning)\n",
    "\n",
    "import numpy as np\n",
    "import pandas as pd\n",
    "import seaborn as sns\n",
    "import matplotlib.pyplot as plt"
   ]
  },
  {
   "cell_type": "markdown",
   "id": "e656f1ec-608e-42ae-b00d-d824a47589b1",
   "metadata": {
    "deletable": false,
    "editable": false,
    "nbgrader": {
     "cell_type": "markdown",
     "checksum": "b0dc190d1620550b2db2a2bac62c3539",
     "grade": false,
     "grade_id": "cell-bb2e51d4cb8c9ddd",
     "locked": true,
     "schema_version": 3,
     "solution": false,
     "task": false
    }
   },
   "source": [
    "The dataset `Aerial_Waterfowl_Survey_Data.csv` shows counts of various species of waterfowl observed during aerial surveys:"
   ]
  },
  {
   "cell_type": "code",
   "execution_count": 14,
   "id": "473d4e56-4c7d-4e9a-a7f9-bcf596f82de5",
   "metadata": {
    "deletable": false,
    "editable": false,
    "nbgrader": {
     "cell_type": "code",
     "checksum": "e40c3d69dbd24609e0c25c0b511c3097",
     "grade": false,
     "grade_id": "cell-aef735941ba20718",
     "locked": true,
     "schema_version": 3,
     "solution": false,
     "task": false
    },
    "tags": []
   },
   "outputs": [
    {
     "data": {
      "text/html": [
       "<div>\n",
       "<style scoped>\n",
       "    .dataframe tbody tr th:only-of-type {\n",
       "        vertical-align: middle;\n",
       "    }\n",
       "\n",
       "    .dataframe tbody tr th {\n",
       "        vertical-align: top;\n",
       "    }\n",
       "\n",
       "    .dataframe thead th {\n",
       "        text-align: right;\n",
       "    }\n",
       "</style>\n",
       "<table border=\"1\" class=\"dataframe\">\n",
       "  <thead>\n",
       "    <tr style=\"text-align: right;\">\n",
       "      <th></th>\n",
       "      <th>Year</th>\n",
       "      <th>Month</th>\n",
       "      <th>Time Period</th>\n",
       "      <th>Survey Sequence</th>\n",
       "      <th>Zone</th>\n",
       "      <th>Atlantic Brant</th>\n",
       "      <th>Canada Goose</th>\n",
       "      <th>Snow Goose</th>\n",
       "      <th>Greater White-fronted Goose</th>\n",
       "      <th>American Black Duck</th>\n",
       "      <th>...</th>\n",
       "      <th>White-winged Scoter</th>\n",
       "      <th>Surf Scoter</th>\n",
       "      <th>Black Scoter</th>\n",
       "      <th>Scoters</th>\n",
       "      <th>Bufflehead</th>\n",
       "      <th>Common Goldeneye</th>\n",
       "      <th>Long-tailed Duck</th>\n",
       "      <th>Mute Swan</th>\n",
       "      <th>Tundra Swan</th>\n",
       "      <th>American Coot</th>\n",
       "    </tr>\n",
       "  </thead>\n",
       "  <tbody>\n",
       "    <tr>\n",
       "      <th>0</th>\n",
       "      <td>2019</td>\n",
       "      <td>November</td>\n",
       "      <td>NaN</td>\n",
       "      <td>219.0</td>\n",
       "      <td>1.0</td>\n",
       "      <td>0</td>\n",
       "      <td>2041</td>\n",
       "      <td>0</td>\n",
       "      <td>0</td>\n",
       "      <td>0</td>\n",
       "      <td>...</td>\n",
       "      <td>0</td>\n",
       "      <td>0</td>\n",
       "      <td>0</td>\n",
       "      <td>0</td>\n",
       "      <td>30</td>\n",
       "      <td>0</td>\n",
       "      <td>0</td>\n",
       "      <td>0</td>\n",
       "      <td>0</td>\n",
       "      <td>0</td>\n",
       "    </tr>\n",
       "    <tr>\n",
       "      <th>1</th>\n",
       "      <td>2019</td>\n",
       "      <td>November</td>\n",
       "      <td>NaN</td>\n",
       "      <td>219.0</td>\n",
       "      <td>2.0</td>\n",
       "      <td>0</td>\n",
       "      <td>1381</td>\n",
       "      <td>0</td>\n",
       "      <td>0</td>\n",
       "      <td>42</td>\n",
       "      <td>...</td>\n",
       "      <td>0</td>\n",
       "      <td>0</td>\n",
       "      <td>0</td>\n",
       "      <td>0</td>\n",
       "      <td>0</td>\n",
       "      <td>0</td>\n",
       "      <td>0</td>\n",
       "      <td>7</td>\n",
       "      <td>26</td>\n",
       "      <td>25</td>\n",
       "    </tr>\n",
       "    <tr>\n",
       "      <th>2</th>\n",
       "      <td>2019</td>\n",
       "      <td>November</td>\n",
       "      <td>NaN</td>\n",
       "      <td>219.0</td>\n",
       "      <td>3.0</td>\n",
       "      <td>0</td>\n",
       "      <td>7678</td>\n",
       "      <td>0</td>\n",
       "      <td>0</td>\n",
       "      <td>165</td>\n",
       "      <td>...</td>\n",
       "      <td>0</td>\n",
       "      <td>0</td>\n",
       "      <td>0</td>\n",
       "      <td>0</td>\n",
       "      <td>60</td>\n",
       "      <td>0</td>\n",
       "      <td>0</td>\n",
       "      <td>0</td>\n",
       "      <td>57</td>\n",
       "      <td>0</td>\n",
       "    </tr>\n",
       "    <tr>\n",
       "      <th>3</th>\n",
       "      <td>2019</td>\n",
       "      <td>November</td>\n",
       "      <td>NaN</td>\n",
       "      <td>219.0</td>\n",
       "      <td>4.0</td>\n",
       "      <td>0</td>\n",
       "      <td>6332</td>\n",
       "      <td>0</td>\n",
       "      <td>0</td>\n",
       "      <td>228</td>\n",
       "      <td>...</td>\n",
       "      <td>0</td>\n",
       "      <td>0</td>\n",
       "      <td>0</td>\n",
       "      <td>0</td>\n",
       "      <td>12</td>\n",
       "      <td>0</td>\n",
       "      <td>0</td>\n",
       "      <td>0</td>\n",
       "      <td>0</td>\n",
       "      <td>0</td>\n",
       "    </tr>\n",
       "    <tr>\n",
       "      <th>4</th>\n",
       "      <td>2019</td>\n",
       "      <td>November</td>\n",
       "      <td>NaN</td>\n",
       "      <td>219.0</td>\n",
       "      <td>5.0</td>\n",
       "      <td>0</td>\n",
       "      <td>5439</td>\n",
       "      <td>20000</td>\n",
       "      <td>0</td>\n",
       "      <td>329</td>\n",
       "      <td>...</td>\n",
       "      <td>0</td>\n",
       "      <td>0</td>\n",
       "      <td>0</td>\n",
       "      <td>0</td>\n",
       "      <td>0</td>\n",
       "      <td>0</td>\n",
       "      <td>0</td>\n",
       "      <td>2</td>\n",
       "      <td>163</td>\n",
       "      <td>300</td>\n",
       "    </tr>\n",
       "    <tr>\n",
       "      <th>...</th>\n",
       "      <td>...</td>\n",
       "      <td>...</td>\n",
       "      <td>...</td>\n",
       "      <td>...</td>\n",
       "      <td>...</td>\n",
       "      <td>...</td>\n",
       "      <td>...</td>\n",
       "      <td>...</td>\n",
       "      <td>...</td>\n",
       "      <td>...</td>\n",
       "      <td>...</td>\n",
       "      <td>...</td>\n",
       "      <td>...</td>\n",
       "      <td>...</td>\n",
       "      <td>...</td>\n",
       "      <td>...</td>\n",
       "      <td>...</td>\n",
       "      <td>...</td>\n",
       "      <td>...</td>\n",
       "      <td>...</td>\n",
       "      <td>...</td>\n",
       "    </tr>\n",
       "    <tr>\n",
       "      <th>2040</th>\n",
       "      <td>2021</td>\n",
       "      <td>January</td>\n",
       "      <td>NaN</td>\n",
       "      <td>NaN</td>\n",
       "      <td>7.0</td>\n",
       "      <td>0</td>\n",
       "      <td>4282</td>\n",
       "      <td>16301</td>\n",
       "      <td>0</td>\n",
       "      <td>2650</td>\n",
       "      <td>...</td>\n",
       "      <td>0</td>\n",
       "      <td>0</td>\n",
       "      <td>41</td>\n",
       "      <td>0</td>\n",
       "      <td>0</td>\n",
       "      <td>6</td>\n",
       "      <td>0</td>\n",
       "      <td>0</td>\n",
       "      <td>319</td>\n",
       "      <td>0</td>\n",
       "    </tr>\n",
       "    <tr>\n",
       "      <th>2041</th>\n",
       "      <td>2021</td>\n",
       "      <td>January</td>\n",
       "      <td>NaN</td>\n",
       "      <td>NaN</td>\n",
       "      <td>8.0</td>\n",
       "      <td>0</td>\n",
       "      <td>32</td>\n",
       "      <td>5912</td>\n",
       "      <td>0</td>\n",
       "      <td>233</td>\n",
       "      <td>...</td>\n",
       "      <td>0</td>\n",
       "      <td>0</td>\n",
       "      <td>0</td>\n",
       "      <td>0</td>\n",
       "      <td>27</td>\n",
       "      <td>0</td>\n",
       "      <td>0</td>\n",
       "      <td>0</td>\n",
       "      <td>0</td>\n",
       "      <td>0</td>\n",
       "    </tr>\n",
       "    <tr>\n",
       "      <th>2042</th>\n",
       "      <td>2021</td>\n",
       "      <td>January</td>\n",
       "      <td>NaN</td>\n",
       "      <td>NaN</td>\n",
       "      <td>9.0</td>\n",
       "      <td>675</td>\n",
       "      <td>190</td>\n",
       "      <td>0</td>\n",
       "      <td>0</td>\n",
       "      <td>60</td>\n",
       "      <td>...</td>\n",
       "      <td>0</td>\n",
       "      <td>0</td>\n",
       "      <td>6</td>\n",
       "      <td>0</td>\n",
       "      <td>1480</td>\n",
       "      <td>0</td>\n",
       "      <td>2</td>\n",
       "      <td>0</td>\n",
       "      <td>0</td>\n",
       "      <td>0</td>\n",
       "    </tr>\n",
       "    <tr>\n",
       "      <th>2043</th>\n",
       "      <td>2021</td>\n",
       "      <td>January</td>\n",
       "      <td>NaN</td>\n",
       "      <td>NaN</td>\n",
       "      <td>10.0</td>\n",
       "      <td>500</td>\n",
       "      <td>1392</td>\n",
       "      <td>0</td>\n",
       "      <td>0</td>\n",
       "      <td>102</td>\n",
       "      <td>...</td>\n",
       "      <td>0</td>\n",
       "      <td>0</td>\n",
       "      <td>0</td>\n",
       "      <td>0</td>\n",
       "      <td>181</td>\n",
       "      <td>0</td>\n",
       "      <td>0</td>\n",
       "      <td>0</td>\n",
       "      <td>0</td>\n",
       "      <td>0</td>\n",
       "    </tr>\n",
       "    <tr>\n",
       "      <th>2044</th>\n",
       "      <td>2021</td>\n",
       "      <td>January</td>\n",
       "      <td>NaN</td>\n",
       "      <td>NaN</td>\n",
       "      <td>11.0</td>\n",
       "      <td>0</td>\n",
       "      <td>3096</td>\n",
       "      <td>3800</td>\n",
       "      <td>0</td>\n",
       "      <td>135</td>\n",
       "      <td>...</td>\n",
       "      <td>0</td>\n",
       "      <td>0</td>\n",
       "      <td>0</td>\n",
       "      <td>0</td>\n",
       "      <td>124</td>\n",
       "      <td>0</td>\n",
       "      <td>4</td>\n",
       "      <td>20</td>\n",
       "      <td>957</td>\n",
       "      <td>0</td>\n",
       "    </tr>\n",
       "  </tbody>\n",
       "</table>\n",
       "<p>2045 rows × 37 columns</p>\n",
       "</div>"
      ],
      "text/plain": [
       "      Year     Month Time Period  Survey Sequence  Zone  Atlantic Brant  \\\n",
       "0     2019  November         NaN            219.0   1.0               0   \n",
       "1     2019  November         NaN            219.0   2.0               0   \n",
       "2     2019  November         NaN            219.0   3.0               0   \n",
       "3     2019  November         NaN            219.0   4.0               0   \n",
       "4     2019  November         NaN            219.0   5.0               0   \n",
       "...    ...       ...         ...              ...   ...             ...   \n",
       "2040  2021   January         NaN              NaN   7.0               0   \n",
       "2041  2021   January         NaN              NaN   8.0               0   \n",
       "2042  2021   January         NaN              NaN   9.0             675   \n",
       "2043  2021   January         NaN              NaN  10.0             500   \n",
       "2044  2021   January         NaN              NaN  11.0               0   \n",
       "\n",
       "      Canada Goose  Snow Goose  Greater White-fronted Goose  \\\n",
       "0             2041           0                            0   \n",
       "1             1381           0                            0   \n",
       "2             7678           0                            0   \n",
       "3             6332           0                            0   \n",
       "4             5439       20000                            0   \n",
       "...            ...         ...                          ...   \n",
       "2040          4282       16301                            0   \n",
       "2041            32        5912                            0   \n",
       "2042           190           0                            0   \n",
       "2043          1392           0                            0   \n",
       "2044          3096        3800                            0   \n",
       "\n",
       "      American Black Duck  ...  White-winged Scoter  Surf Scoter  \\\n",
       "0                       0  ...                    0            0   \n",
       "1                      42  ...                    0            0   \n",
       "2                     165  ...                    0            0   \n",
       "3                     228  ...                    0            0   \n",
       "4                     329  ...                    0            0   \n",
       "...                   ...  ...                  ...          ...   \n",
       "2040                 2650  ...                    0            0   \n",
       "2041                  233  ...                    0            0   \n",
       "2042                   60  ...                    0            0   \n",
       "2043                  102  ...                    0            0   \n",
       "2044                  135  ...                    0            0   \n",
       "\n",
       "      Black Scoter  Scoters  Bufflehead  Common Goldeneye  Long-tailed Duck  \\\n",
       "0                0        0          30                 0                 0   \n",
       "1                0        0           0                 0                 0   \n",
       "2                0        0          60                 0                 0   \n",
       "3                0        0          12                 0                 0   \n",
       "4                0        0           0                 0                 0   \n",
       "...            ...      ...         ...               ...               ...   \n",
       "2040            41        0           0                 6                 0   \n",
       "2041             0        0          27                 0                 0   \n",
       "2042             6        0        1480                 0                 2   \n",
       "2043             0        0         181                 0                 0   \n",
       "2044             0        0         124                 0                 4   \n",
       "\n",
       "      Mute Swan  Tundra Swan  American Coot  \n",
       "0             0            0              0  \n",
       "1             7           26             25  \n",
       "2             0           57              0  \n",
       "3             0            0              0  \n",
       "4             2          163            300  \n",
       "...         ...          ...            ...  \n",
       "2040          0          319              0  \n",
       "2041          0            0              0  \n",
       "2042          0            0              0  \n",
       "2043          0            0              0  \n",
       "2044         20          957              0  \n",
       "\n",
       "[2045 rows x 37 columns]"
      ]
     },
     "execution_count": 14,
     "metadata": {},
     "output_type": "execute_result"
    }
   ],
   "source": [
    "birds = pd.read_csv(\"Aerial_Waterfowl_Survey_Data.csv\")\n",
    "birds"
   ]
  },
  {
   "cell_type": "markdown",
   "id": "af4a10eb-93d7-44fa-bbf3-9c3de7025d2e",
   "metadata": {
    "deletable": false,
    "editable": false,
    "nbgrader": {
     "cell_type": "markdown",
     "checksum": "1235a4888081f2cbcf250137d9155905",
     "grade": false,
     "grade_id": "cell-404456cc35ae4faa",
     "locked": true,
     "schema_version": 3,
     "solution": false,
     "task": false
    }
   },
   "source": [
    "## 1.\n",
    "(2.1) Make a data frame called `ducks` for just the species *American Black Duck*, *Mallard*, *Ruddy Duck*, and *Ring-necked Duck*. Make a series called `duckmeans` for the means of those 4 columns."
   ]
  },
  {
   "cell_type": "code",
   "execution_count": null,
   "id": "6b3dc6c4-7547-4614-b0a7-7bab6a2d05e6",
   "metadata": {
    "deletable": false,
    "nbgrader": {
     "cell_type": "code",
     "checksum": "1a43676109dcd0f29ed172b694a54f38",
     "grade": false,
     "grade_id": "ducks-mean",
     "locked": false,
     "schema_version": 3,
     "solution": true,
     "task": false
    },
    "tags": []
   },
   "outputs": [
    {
     "name": "stdout",
     "output_type": "stream",
     "text": [
      "   American Black Duck  Mallard  Ruddy Duck  Ring-necked Duck\n",
      "0                    0       26           0                 0\n",
      "1                   42       32           4                 0\n",
      "2                  165      527          65                 0\n",
      "3                  228      613           0                 0\n",
      "4                  329     1031         250                 0\n",
      "\n",
      "American Black Duck    887.909046\n",
      "Mallard                833.096333\n",
      "Ruddy Duck              80.063081\n",
      "Ring-necked Duck        33.460147\n",
      "dtype: float64\n"
     ]
    }
   ],
   "source": [
    "ducks = None\n",
    "duckmeans = None\n",
    "\n",
    "ducks = birds[[\"American Black Duck\", \"Mallard\", \"Ruddy Duck\", \"Ring-necked Duck\"]]\n",
    "\n",
    "duckmeans = ducks.mean()\n",
    "\n",
    "print(ducks.head(5))\n",
    "print()\n",
    "print(duckmeans)"
   ]
  },
  {
   "cell_type": "code",
   "execution_count": 7,
   "id": "501e0c97-a02e-4940-885b-2326746f9dcc",
   "metadata": {
    "deletable": false,
    "editable": false,
    "nbgrader": {
     "cell_type": "code",
     "checksum": "ebc3ac7b97c6cb79972e4354ea923b10",
     "grade": true,
     "grade_id": "ducks-tests",
     "locked": true,
     "points": 2,
     "schema_version": 3,
     "solution": false,
     "task": false
    },
    "tags": []
   },
   "outputs": [
    {
     "name": "stdout",
     "output_type": "stream",
     "text": [
      "OK\n"
     ]
    }
   ],
   "source": [
    "# TESTS\n",
    "assert np.isclose(duckmeans.sum(), 1834.528606356), \"The mean values are incorrect\"\n",
    "assert len(ducks.columns) == 4, \"Wrong number of columns in ducks\"\n",
    "print(\"OK\")"
   ]
  },
  {
   "cell_type": "code",
   "execution_count": null,
   "id": "7bae2051-db94-455d-abdc-1a8840a3f0d1",
   "metadata": {
    "deletable": false,
    "editable": false,
    "nbgrader": {
     "cell_type": "code",
     "checksum": "0b520bc11248243ca9dda46a61d22397",
     "grade": true,
     "grade_id": "ducks-grade",
     "locked": true,
     "points": 2,
     "schema_version": 3,
     "solution": false,
     "task": false
    },
    "tags": []
   },
   "outputs": [],
   "source": [
    "# Intentionally blank--do not delete"
   ]
  },
  {
   "cell_type": "markdown",
   "id": "b2e09ba2-55fb-4968-a293-0a4bbec2f066",
   "metadata": {
    "deletable": false,
    "editable": false,
    "nbgrader": {
     "cell_type": "markdown",
     "checksum": "a24d36eb5e3d77c1d176a2a15bc74f33",
     "grade": false,
     "grade_id": "cell-869d5bfc3921ff69",
     "locked": true,
     "schema_version": 3,
     "solution": false,
     "task": false
    }
   },
   "source": [
    "## 2.\n",
    "(2.1) For the *Canada Goose* column of `birds`, assign `CGmu` the value of the mean, assign `CGsigma` the value of the standard deviation, and let `CGZ` be a series of the z-scores of the column."
   ]
  },
  {
   "cell_type": "code",
   "execution_count": 8,
   "id": "142aa2e7-fea5-4098-825c-3078246a0f21",
   "metadata": {
    "deletable": false,
    "nbgrader": {
     "cell_type": "code",
     "checksum": "643752ea61cb3963d0a0e646768cdf80",
     "grade": false,
     "grade_id": "stats-answer",
     "locked": false,
     "schema_version": 3,
     "solution": true,
     "task": false
    },
    "tags": []
   },
   "outputs": [
    {
     "name": "stdout",
     "output_type": "stream",
     "text": [
      "mean for Canada Goose: 4621.41\n",
      "std for Canada Goose: 7134.99\n"
     ]
    }
   ],
   "source": [
    "CGmu = None\n",
    "CGsigma = None\n",
    "CGZ = None\n",
    "\n",
    "CGmu = birds[\"Canada Goose\"].mean()\n",
    "CGsigma = birds[\"Canada Goose\"].std()\n",
    "\n",
    "CGZ = (birds[\"Canada Goose\"] - CGmu) / CGsigma\n",
    "\n",
    "print(f\"mean for Canada Goose: {CGmu:.2f}\")\n",
    "print(f\"std for Canada Goose: {CGsigma:.2f}\")"
   ]
  },
  {
   "cell_type": "code",
   "execution_count": 9,
   "id": "b3b17081-803f-4c6b-9446-c5986b73f41b",
   "metadata": {
    "deletable": false,
    "editable": false,
    "nbgrader": {
     "cell_type": "code",
     "checksum": "f624373de975f9c84b728e953af7284c",
     "grade": true,
     "grade_id": "cell-fb7bce0cda1d50ca",
     "locked": true,
     "points": 2,
     "schema_version": 3,
     "solution": false,
     "task": false
    },
    "tags": []
   },
   "outputs": [
    {
     "name": "stdout",
     "output_type": "stream",
     "text": [
      "OK\n"
     ]
    }
   ],
   "source": [
    "# TESTS\n",
    "assert np.isclose(CGZ.mean(), 0), \"The mean of CGZ should be near zero\"\n",
    "assert np.isclose(CGZ.std(), 1), \"The standard deviation of CGZ should be near 1\"\n",
    "assert len(CGZ) == birds.shape[0], \"CGZ should have the same number of rows as birds\"\n",
    "assert np.isclose(CGZ.median(), -0.34007213204), \"The CGZ values are incorrect\"\n",
    "print(\"OK\")"
   ]
  },
  {
   "cell_type": "code",
   "execution_count": null,
   "id": "ab60928f-8d9a-4778-8316-d82a352e7eb5",
   "metadata": {
    "deletable": false,
    "editable": false,
    "nbgrader": {
     "cell_type": "code",
     "checksum": "aa2f22f793f3755f64afb6e655cb4347",
     "grade": true,
     "grade_id": "stats-grade",
     "locked": true,
     "points": 2,
     "schema_version": 3,
     "solution": false,
     "task": false
    },
    "tags": []
   },
   "outputs": [],
   "source": [
    "# Intentionally blank--do not delete"
   ]
  },
  {
   "cell_type": "markdown",
   "id": "6e0bfca5-4238-4091-89a4-5926f5e35cd7",
   "metadata": {
    "deletable": false,
    "editable": false,
    "nbgrader": {
     "cell_type": "markdown",
     "checksum": "2de279d0095a0db809101b8bc52d02fb",
     "grade": false,
     "grade_id": "cell-2a1f46fe80c008cc",
     "locked": true,
     "schema_version": 3,
     "solution": false,
     "task": false
    }
   },
   "source": [
    "## 3.\n",
    "(2.1) Let `IQR` be a series of the interquartile ranges of all the columns of *birds* after the 5th, keeping only the values greater than zero."
   ]
  },
  {
   "cell_type": "code",
   "execution_count": null,
   "id": "cb279a41-3da0-457d-b835-919d3a9ddc65",
   "metadata": {
    "deletable": false,
    "nbgrader": {
     "cell_type": "code",
     "checksum": "7b9651e0f6b9c8d573ddc9345c5f6759",
     "grade": false,
     "grade_id": "iqr-answer",
     "locked": false,
     "schema_version": 3,
     "solution": true,
     "task": false
    },
    "tags": []
   },
   "outputs": [
    {
     "data": {
      "text/plain": [
       "Canada Goose                  5153.0\n",
       "Snow Goose                    5900.0\n",
       "American Black Duck           1153.0\n",
       "Mallard                        798.0\n",
       "Northern Pintail               310.0\n",
       "American Green-winged Teal     522.0\n",
       "Gadwall                         95.0\n",
       "American Wigeon                 20.0\n",
       "Northern Shoveler               50.0\n",
       "Mergansers                       2.0\n",
       "Ruddy Duck                      10.0\n",
       "Bufflehead                      11.0\n",
       "Tundra Swan                      2.0\n",
       "dtype: float64"
      ]
     },
     "execution_count": 10,
     "metadata": {},
     "output_type": "execute_result"
    }
   ],
   "source": [
    "IQR = None\n",
    "\n",
    "birds_subset = birds.iloc[:, 5:]\n",
    "\n",
    "IQR = birds_subset.quantile(0.75) - birds_subset.quantile(0.25)\n",
    "\n",
    "IQR = IQR[IQR > 0]\n",
    "IQR"
   ]
  },
  {
   "cell_type": "code",
   "execution_count": 11,
   "id": "de6840ea-948e-4389-aa52-5965c0023de8",
   "metadata": {
    "deletable": false,
    "editable": false,
    "nbgrader": {
     "cell_type": "code",
     "checksum": "6ca2fbd08326dc6c570c98769c678b87",
     "grade": true,
     "grade_id": "iqr-tests",
     "locked": true,
     "points": 0,
     "schema_version": 3,
     "solution": false,
     "task": false
    }
   },
   "outputs": [
    {
     "name": "stdout",
     "output_type": "stream",
     "text": [
      "OK\n"
     ]
    }
   ],
   "source": [
    "# TESTS\n",
    "assert type(IQR) == pd.Series, \"IQR should be a pandas Series\"\n",
    "assert np.isclose(IQR.sum(), 14026), \"The sum of IQR values is incorrect\"\n",
    "assert np.isclose(IQR[\"Snow Goose\"], 5900), \"The Snow Goose IQR value is incorrect\"\n",
    "print(\"OK\")"
   ]
  },
  {
   "cell_type": "code",
   "execution_count": null,
   "id": "4987bc3f-b566-468a-8e10-c8f7a1411dbf",
   "metadata": {
    "deletable": false,
    "editable": false,
    "nbgrader": {
     "cell_type": "code",
     "checksum": "5d8a74d0180127fac3793b54f4669209",
     "grade": true,
     "grade_id": "iqr-grade",
     "locked": true,
     "points": 1,
     "schema_version": 3,
     "solution": false,
     "task": false
    },
    "tags": []
   },
   "outputs": [],
   "source": [
    "# Intentionally blank--do not delete"
   ]
  },
  {
   "cell_type": "markdown",
   "id": "5c7d28cb-50de-424e-bdf0-ab70dd735bce",
   "metadata": {
    "deletable": false,
    "editable": false,
    "nbgrader": {
     "cell_type": "markdown",
     "checksum": "ecff59de7897eb19f720a7e64065ea19",
     "grade": false,
     "grade_id": "cell-85ab8e5970a4c206",
     "locked": true,
     "schema_version": 3,
     "solution": false,
     "task": false
    }
   },
   "source": [
    "## 4.\n",
    "(2.2) Plot the empirical CDF of the *Snow Goose* column using only the rows in which *Zone* equals 3."
   ]
  },
  {
   "cell_type": "code",
   "execution_count": 13,
   "id": "65d0e260-b779-48c1-8dfb-41f3efabc5c3",
   "metadata": {
    "deletable": false,
    "nbgrader": {
     "cell_type": "code",
     "checksum": "dcc5f8b5dbea03441c4886108dd5ac68",
     "grade": true,
     "grade_id": "ecdf-manual",
     "locked": false,
     "points": 3,
     "schema_version": 3,
     "solution": true,
     "task": false
    },
    "tags": []
   },
   "outputs": [
    {
     "data": {
      "image/png": "[encoded data removed]",
      "text/plain": [
       "<Figure size 800x500 with 1 Axes>"
      ]
     },
     "metadata": {},
     "output_type": "display_data"
    }
   ],
   "source": [
    "import matplotlib.pyplot as plt\n",
    "zone3_data = birds[birds[\"Zone\"] == 3][\"Snow Goose\"]\n",
    "\n",
    "# Sort data for CDF calculation\n",
    "sorted_data = np.sort(zone3_data)\n",
    "n = len(sorted_data)\n",
    "\n",
    "# Compute empirical CDF values\n",
    "ecdf = np.arange(1, n + 1) / n\n",
    "\n",
    "# Plot the empirical CDF\n",
    "plt.figure(figsize=(8, 5))\n",
    "plt.plot(sorted_data, ecdf, marker=\".\", linestyle=\"none\", label=\"Empirical CDF\")\n",
    "plt.xlabel(\"Snow Goose Count\")\n",
    "plt.ylabel(\"Empirical CDF\")\n",
    "plt.title(\"Empirical CDF of Snow Goose Counts (Zone 3)\")\n",
    "plt.grid(True)\n",
    "plt.legend()\n",
    "plt.show()"
   ]
  },
  {
   "cell_type": "markdown",
   "id": "cae4cf60-a3c1-45ed-8582-5a5098d2bcf5",
   "metadata": {
    "deletable": false,
    "editable": false,
    "nbgrader": {
     "cell_type": "markdown",
     "checksum": "43eb2024c9f863fdc5e7c064ba88d52d",
     "grade": false,
     "grade_id": "cell-84a1f89197c28222",
     "locked": true,
     "schema_version": 3,
     "solution": false,
     "task": false
    }
   },
   "source": [
    "## 5.\n",
    "(2.2) Plot a histogram with 25 bins for the **positive entries only** in the *Bufflehead* column."
   ]
  },
  {
   "cell_type": "code",
   "execution_count": 16,
   "id": "a90b8b0c-3ab2-47b5-a11c-494e70203e7e",
   "metadata": {
    "deletable": false,
    "nbgrader": {
     "cell_type": "code",
     "checksum": "6964f459fa5a6c80188ecdbb7a4258e4",
     "grade": true,
     "grade_id": "hist-manual",
     "locked": false,
     "points": 3,
     "schema_version": 3,
     "solution": true,
     "task": false
    },
    "tags": []
   },
   "outputs": [
    {
     "data": {
      "image/png": "[encoded data removed]",
      "text/plain": [
       "<Figure size 800x500 with 1 Axes>"
      ]
     },
     "metadata": {},
     "output_type": "display_data"
    }
   ],
   "source": [
    "import matplotlib.pyplot as plt\n",
    "\n",
    "bufflehead_positive = birds[birds[\"Bufflehead\"] > 0][\"Bufflehead\"]\n",
    "plt.figure(figsize=(8, 5))\n",
    "plt.hist(bufflehead_positive, bins=25, edgecolor=\"black\", alpha=0.7)\n",
    "plt.xlabel(\"Bufflehead Count\")\n",
    "plt.ylabel(\"Frequency\")\n",
    "plt.title(\"Histogram of Positive Bufflehead Counts\")\n",
    "plt.grid(axis=\"y\", linestyle=\"--\", alpha=0.6)\n",
    "plt.show()"
   ]
  },
  {
   "cell_type": "markdown",
   "id": "c062d3c8-8057-4249-88d4-6917e1dfa6c2",
   "metadata": {
    "deletable": false,
    "editable": false,
    "nbgrader": {
     "cell_type": "markdown",
     "checksum": "e5f91fbc24293fa7d5338f6c107e8e47",
     "grade": false,
     "grade_id": "cell-bc0fd65972e4a4c0",
     "locked": true,
     "schema_version": 3,
     "solution": false,
     "task": false
    },
    "tags": []
   },
   "source": [
    "## 6.\n",
    "(2.3) Make a series called `canada` of the total number of *Canada Goose* observed in each zone. I.e., the index has the zone numbers, and the values are the total number in each zone."
   ]
  },
  {
   "cell_type": "code",
   "execution_count": 17,
   "id": "1c31428f-02b9-4b84-956c-0c902a52c69a",
   "metadata": {
    "deletable": false,
    "nbgrader": {
     "cell_type": "code",
     "checksum": "1a3905537cd0abc350b82e9343239b1f",
     "grade": false,
     "grade_id": "canada-answer",
     "locked": false,
     "schema_version": 3,
     "solution": true,
     "task": false
    },
    "tags": []
   },
   "outputs": [
    {
     "name": "stdout",
     "output_type": "stream",
     "text": [
      "Zone\n",
      "1.0      822475\n",
      "2.0      238779\n",
      "3.0     1968090\n",
      "4.0     1215365\n",
      "5.0     2653983\n",
      "6.0     1020605\n",
      "7.0      891267\n",
      "8.0      312775\n",
      "9.0      116060\n",
      "10.0      62120\n",
      "11.0     143104\n",
      "Name: Canada Goose, dtype: int64\n"
     ]
    }
   ],
   "source": [
    "canada = None\n",
    "canada = birds.groupby(\"Zone\")[\"Canada Goose\"].sum()\n",
    "\n",
    "print(canada)"
   ]
  },
  {
   "cell_type": "code",
   "execution_count": 18,
   "id": "39c6f861-0100-4f20-be1b-fdc0dd20e83a",
   "metadata": {
    "deletable": false,
    "editable": false,
    "nbgrader": {
     "cell_type": "code",
     "checksum": "0581e7dba3045878774e76ad8b8f5890",
     "grade": true,
     "grade_id": "canada-tests",
     "locked": true,
     "points": 2,
     "schema_version": 3,
     "solution": false,
     "task": false
    },
    "tags": []
   },
   "outputs": [
    {
     "name": "stdout",
     "output_type": "stream",
     "text": [
      "OK\n"
     ]
    }
   ],
   "source": [
    "# TESTS\n",
    "assert type(canada) == pd.Series, \"canada should be a pandas Series\"\n",
    "assert len(canada) == 11, \"canada should have 11 values\"\n",
    "assert canada[3.0] == 1968090, \"The value for Zone 3 is incorrect\"\n",
    "print(\"OK\")"
   ]
  },
  {
   "cell_type": "code",
   "execution_count": null,
   "id": "5c6d431e-fd81-4f3c-bc59-60e54babe756",
   "metadata": {
    "deletable": false,
    "editable": false,
    "nbgrader": {
     "cell_type": "code",
     "checksum": "791b6bd2416ab5bbafec3f9dd46f6855",
     "grade": true,
     "grade_id": "canada-grade",
     "locked": true,
     "points": 2,
     "schema_version": 3,
     "solution": false,
     "task": false
    },
    "tags": []
   },
   "outputs": [],
   "source": [
    "# Intentionally blank--do not delete"
   ]
  },
  {
   "cell_type": "markdown",
   "id": "1560db93-299f-4ae4-9bd4-4d7bf8f08980",
   "metadata": {
    "deletable": false,
    "editable": false,
    "nbgrader": {
     "cell_type": "markdown",
     "checksum": "788df555821042fb4cb574d3671ee8b3",
     "grade": false,
     "grade_id": "cell-7da679c2325d5b19",
     "locked": true,
     "schema_version": 3,
     "solution": false,
     "task": false
    },
    "tags": []
   },
   "source": [
    "## 7.\n",
    "\n",
    "(2.3) Make a box plot, grouped by month, of the *Snow Goose* counts for all the years since 2000 (inclusive)."
   ]
  },
  {
   "cell_type": "code",
   "execution_count": 19,
   "id": "df054cb0-4ff7-4310-861d-7534ac855459",
   "metadata": {
    "deletable": false,
    "nbgrader": {
     "cell_type": "code",
     "checksum": "59a445747de7b964fbee9b70cf6709fa",
     "grade": true,
     "grade_id": "mallard-plot",
     "locked": false,
     "points": 4,
     "schema_version": 3,
     "solution": true,
     "task": false
    },
    "tags": []
   },
   "outputs": [
    {
     "data": {
      "image/png": "[encoded data removed]",
      "text/plain": [
       "<Figure size 1000x600 with 1 Axes>"
      ]
     },
     "metadata": {},
     "output_type": "display_data"
    }
   ],
   "source": [
    "birds_filtered = birds[birds[\"Year\"] >= 2000]\n",
    "\n",
    "plt.figure(figsize=(10, 6))\n",
    "sns.boxplot(data=birds_filtered, x=\"Month\", y=\"Snow Goose\")\n",
    "\n",
    "plt.xlabel(\"Month\")\n",
    "plt.ylabel(\"Snow Goose Count\")\n",
    "plt.title(\"Box Plot of Snow Goose Counts by Month (2000 and later)\")\n",
    "plt.grid(axis=\"y\", linestyle=\"--\", alpha=0.6)\n",
    "\n",
    "plt.show()"
   ]
  },
  {
   "cell_type": "markdown",
   "id": "16538bde-40cf-46d9-aff6-29b1e40bf226",
   "metadata": {
    "deletable": false,
    "editable": false,
    "nbgrader": {
     "cell_type": "markdown",
     "checksum": "5c982ab31a2011a8424b56e08448a9e9",
     "grade": false,
     "grade_id": "cell-e6219011837cc64e",
     "locked": true,
     "schema_version": 3,
     "solution": false,
     "task": false
    }
   },
   "source": [
    "## 8.\n",
    "(2.4) Produce code to count the total number of outliers for December in the previous plot and assign to `numOutliersDec`."
   ]
  },
  {
   "cell_type": "code",
   "execution_count": 24,
   "id": "93dd6052-a249-47a2-8cf1-1b811787946d",
   "metadata": {
    "deletable": false,
    "nbgrader": {
     "cell_type": "code",
     "checksum": "d0ff9d8d0adf67a24a2d303819356a7a",
     "grade": false,
     "grade_id": "outliers-answer",
     "locked": false,
     "schema_version": 3,
     "solution": true,
     "task": false
    },
    "tags": []
   },
   "outputs": [
    {
     "name": "stdout",
     "output_type": "stream",
     "text": [
      "0\n"
     ]
    }
   ],
   "source": [
    "birds_filtered = birds[birds[\"Year\"] >= 2000]\n",
    "\n",
    "december_data = birds_filtered[birds_filtered[\"Month\"] == 12][\"Snow Goose\"].dropna()\n",
    "\n",
    "Q1 = december_data.quantile(0.25)\n",
    "Q3 = december_data.quantile(0.75)\n",
    "\n",
    "IQR = Q3 - Q1\n",
    "\n",
    "lower_bound = Q1 - 1.5 * IQR\n",
    "upper_bound = Q3 + 1.5 * IQR\n",
    "\n",
    "numOutliersDec = ((december_data < lower_bound) | (december_data > upper_bound)).sum()\n",
    "\n",
    "print(numOutliersDec)"
   ]
  },
  {
   "cell_type": "code",
   "execution_count": null,
   "id": "ca3e6007-a2d3-46dd-83f9-b6c962a88dad",
   "metadata": {
    "deletable": false,
    "editable": false,
    "nbgrader": {
     "cell_type": "code",
     "checksum": "4396cfcb50fc5e93a8ed64cee70e8d39",
     "grade": true,
     "grade_id": "outliers-test",
     "locked": true,
     "points": 0,
     "schema_version": 3,
     "solution": false,
     "task": false
    }
   },
   "outputs": [
    {
     "ename": "AssertionError",
     "evalue": "There should be more than 10 outliers in December",
     "output_type": "error",
     "traceback": [
      "\u001b[0;31m---------------------------------------------------------------------------\u001b[0m",
      "\u001b[0;31mAssertionError\u001b[0m                            Traceback (most recent call last)",
      "Cell \u001b[0;32mIn[25], line 2\u001b[0m\n\u001b[1;32m      1\u001b[0m \u001b[38;5;66;03m# TESTS\u001b[39;00m\n\u001b[0;32m----> 2\u001b[0m \u001b[38;5;28;01massert\u001b[39;00m numOutliersDec \u001b[38;5;241m>\u001b[39m \u001b[38;5;241m10\u001b[39m, \u001b[38;5;124m\"\u001b[39m\u001b[38;5;124mThere should be more than 10 outliers in December\u001b[39m\u001b[38;5;124m\"\u001b[39m\n\u001b[1;32m      3\u001b[0m \u001b[38;5;28;01massert\u001b[39;00m numOutliersDec \u001b[38;5;241m<\u001b[39m \u001b[38;5;241m25\u001b[39m, \u001b[38;5;124m\"\u001b[39m\u001b[38;5;124mThere should be fewer than 25 outliers in December\u001b[39m\u001b[38;5;124m\"\u001b[39m\n\u001b[1;32m      4\u001b[0m \u001b[38;5;28mprint\u001b[39m(\u001b[38;5;124m\"\u001b[39m\u001b[38;5;124mOK\u001b[39m\u001b[38;5;124m\"\u001b[39m)\n",
      "\u001b[0;31mAssertionError\u001b[0m: There should be more than 10 outliers in December"
     ]
    }
   ],
   "source": [
    "# TESTS\n",
    "assert numOutliersDec > 10, \"There should be more than 10 outliers in December\"\n",
    "assert numOutliersDec < 25, \"There should be fewer than 25 outliers in December\"\n",
    "print(\"OK\")"
   ]
  },
  {
   "cell_type": "code",
   "execution_count": null,
   "id": "242b9179-511f-40d9-8df3-aaf8a4f99890",
   "metadata": {
    "deletable": false,
    "editable": false,
    "nbgrader": {
     "cell_type": "code",
     "checksum": "87cfc79469daa9f8ba6d633307489088",
     "grade": true,
     "grade_id": "outliers-grade",
     "locked": true,
     "points": 4,
     "schema_version": 3,
     "solution": false,
     "task": false
    },
    "tags": []
   },
   "outputs": [],
   "source": [
    "# Intentionally blank--do not delete"
   ]
  },
  {
   "cell_type": "markdown",
   "id": "86538277-dbe6-45b4-a75b-71d9572c965f",
   "metadata": {
    "deletable": false,
    "editable": false,
    "nbgrader": {
     "cell_type": "markdown",
     "checksum": "f73e0045ac6cc8e751a608993f59d3dc",
     "grade": false,
     "grade_id": "cell-7e212e7d9a1b4e61",
     "locked": true,
     "schema_version": 3,
     "solution": false,
     "task": false
    }
   },
   "source": [
    "## 9. \n",
    "(2.5) Create a 4x4 grid of pairwise scatter plots for the `ducks` frame from #1."
   ]
  },
  {
   "cell_type": "code",
   "execution_count": 26,
   "id": "2a343c5e-4dfe-44c7-aa54-5d542d4f9971",
   "metadata": {
    "deletable": false,
    "nbgrader": {
     "cell_type": "code",
     "checksum": "985f0637d2aea39dc72b4149e20041da",
     "grade": true,
     "grade_id": "ducks-plot",
     "locked": false,
     "points": 2,
     "schema_version": 3,
     "solution": true,
     "task": false
    },
    "tags": []
   },
   "outputs": [
    {
     "data": {
      "image/png": "[encoded data removed]",
      "text/plain": [
       "<Figure size 1000x1000 with 20 Axes>"
      ]
     },
     "metadata": {},
     "output_type": "display_data"
    }
   ],
   "source": [
    "ducks = birds[[\"American Black Duck\", \"Mallard\", \"Ruddy Duck\", \"Ring-necked Duck\"]]\n",
    "\n",
    "sns.pairplot(ducks)\n",
    "\n",
    "plt.show()"
   ]
  },
  {
   "cell_type": "markdown",
   "id": "3d464991-0e0b-43cd-97ca-59bd98bd6861",
   "metadata": {
    "deletable": false,
    "editable": false,
    "nbgrader": {
     "cell_type": "markdown",
     "checksum": "198eaba79feee84b5f0ac3efdade4588",
     "grade": false,
     "grade_id": "cell-dc810b6f07627b04",
     "locked": true,
     "schema_version": 3,
     "solution": false,
     "task": false
    }
   },
   "source": [
    "## 10.\n",
    "(2.5) Assign to `duckduck` a dataframe of the Pearson correlation coefficients between all pairings of the four species in `ducks`."
   ]
  },
  {
   "cell_type": "code",
   "execution_count": 27,
   "id": "3e664218-29be-4333-b6e9-e6974acdb4b4",
   "metadata": {
    "deletable": false,
    "nbgrader": {
     "cell_type": "code",
     "checksum": "21c9dc5e9350c1f35a6d7444a4af8acd",
     "grade": false,
     "grade_id": "duckduck-answer",
     "locked": false,
     "schema_version": 3,
     "solution": true,
     "task": false
    },
    "tags": []
   },
   "outputs": [
    {
     "name": "stdout",
     "output_type": "stream",
     "text": [
      "                     American Black Duck   Mallard  Ruddy Duck  \\\n",
      "American Black Duck             1.000000  0.675320    0.047833   \n",
      "Mallard                         0.675320  1.000000   -0.027621   \n",
      "Ruddy Duck                      0.047833 -0.027621    1.000000   \n",
      "Ring-necked Duck                0.151984  0.009756   -0.006932   \n",
      "\n",
      "                     Ring-necked Duck  \n",
      "American Black Duck          0.151984  \n",
      "Mallard                      0.009756  \n",
      "Ruddy Duck                  -0.006932  \n",
      "Ring-necked Duck             1.000000  \n"
     ]
    },
    {
     "data": {
      "text/html": [
       "<div>\n",
       "<style scoped>\n",
       "    .dataframe tbody tr th:only-of-type {\n",
       "        vertical-align: middle;\n",
       "    }\n",
       "\n",
       "    .dataframe tbody tr th {\n",
       "        vertical-align: top;\n",
       "    }\n",
       "\n",
       "    .dataframe thead th {\n",
       "        text-align: right;\n",
       "    }\n",
       "</style>\n",
       "<table border=\"1\" class=\"dataframe\">\n",
       "  <thead>\n",
       "    <tr style=\"text-align: right;\">\n",
       "      <th></th>\n",
       "      <th>American Black Duck</th>\n",
       "      <th>Mallard</th>\n",
       "      <th>Ruddy Duck</th>\n",
       "      <th>Ring-necked Duck</th>\n",
       "    </tr>\n",
       "  </thead>\n",
       "  <tbody>\n",
       "    <tr>\n",
       "      <th>American Black Duck</th>\n",
       "      <td>1.000000</td>\n",
       "      <td>0.675320</td>\n",
       "      <td>0.047833</td>\n",
       "      <td>0.151984</td>\n",
       "    </tr>\n",
       "    <tr>\n",
       "      <th>Mallard</th>\n",
       "      <td>0.675320</td>\n",
       "      <td>1.000000</td>\n",
       "      <td>-0.027621</td>\n",
       "      <td>0.009756</td>\n",
       "    </tr>\n",
       "    <tr>\n",
       "      <th>Ruddy Duck</th>\n",
       "      <td>0.047833</td>\n",
       "      <td>-0.027621</td>\n",
       "      <td>1.000000</td>\n",
       "      <td>-0.006932</td>\n",
       "    </tr>\n",
       "    <tr>\n",
       "      <th>Ring-necked Duck</th>\n",
       "      <td>0.151984</td>\n",
       "      <td>0.009756</td>\n",
       "      <td>-0.006932</td>\n",
       "      <td>1.000000</td>\n",
       "    </tr>\n",
       "  </tbody>\n",
       "</table>\n",
       "</div>"
      ],
      "text/plain": [
       "                     American Black Duck   Mallard  Ruddy Duck  \\\n",
       "American Black Duck             1.000000  0.675320    0.047833   \n",
       "Mallard                         0.675320  1.000000   -0.027621   \n",
       "Ruddy Duck                      0.047833 -0.027621    1.000000   \n",
       "Ring-necked Duck                0.151984  0.009756   -0.006932   \n",
       "\n",
       "                     Ring-necked Duck  \n",
       "American Black Duck          0.151984  \n",
       "Mallard                      0.009756  \n",
       "Ruddy Duck                  -0.006932  \n",
       "Ring-necked Duck             1.000000  "
      ]
     },
     "execution_count": 27,
     "metadata": {},
     "output_type": "execute_result"
    }
   ],
   "source": [
    "duckduck = None\n",
    "birds = pd.read_csv(\"Aerial_Waterfowl_Survey_Data.csv\")\n",
    "\n",
    "ducks = birds[[\"American Black Duck\", \"Mallard\", \"Ruddy Duck\", \"Ring-necked Duck\"]]\n",
    "\n",
    "duckduck = ducks.corr()\n",
    "\n",
    "print(duckduck)\n",
    "duckduck"
   ]
  },
  {
   "cell_type": "code",
   "execution_count": 28,
   "id": "20f6db82-4ad1-4afc-974f-8104b30a1058",
   "metadata": {
    "deletable": false,
    "editable": false,
    "nbgrader": {
     "cell_type": "code",
     "checksum": "8e4ed217f4eba65a0cdd39a7e82e0a0b",
     "grade": true,
     "grade_id": "duckduck-tests",
     "locked": true,
     "points": 1,
     "schema_version": 3,
     "solution": false,
     "task": false
    },
    "tags": []
   },
   "outputs": [
    {
     "name": "stdout",
     "output_type": "stream",
     "text": [
      "OK\n"
     ]
    }
   ],
   "source": [
    "# TESTS\n",
    "assert type(duckduck) == pd.DataFrame, \"duckduck should be a DataFrame\"\n",
    "assert duckduck.shape == (4, 4), \"duckduck should be a 4x4 DataFrame\"\n",
    "assert np.isclose(duckduck.loc['Mallard', 'Ruddy Duck'], -0.027620580191), \"A correlation value is incorrect\"\n",
    "print(\"OK\")"
   ]
  },
  {
   "cell_type": "code",
   "execution_count": null,
   "id": "914347f5-6cdf-413d-b17d-de1fb10dc618",
   "metadata": {
    "deletable": false,
    "editable": false,
    "nbgrader": {
     "cell_type": "code",
     "checksum": "dc34984829ec599573f56927757fefe1",
     "grade": true,
     "grade_id": "duckduck-grade",
     "locked": true,
     "points": 2,
     "schema_version": 3,
     "solution": false,
     "task": false
    },
    "tags": []
   },
   "outputs": [],
   "source": [
    "# Intentionally blank--do not delete"
   ]
  },
  {
   "cell_type": "markdown",
   "id": "a7523ac2-f4dd-4f33-84bc-04de34b8a44c",
   "metadata": {
    "deletable": false,
    "editable": false,
    "nbgrader": {
     "cell_type": "markdown",
     "checksum": "6959dd1458e2c80238dba6e96db18619",
     "grade": false,
     "grade_id": "cell-879a681e993aa58f",
     "locked": true,
     "schema_version": 3,
     "solution": false,
     "task": false
    }
   },
   "source": [
    "## 11.\n",
    "(2.5)\n",
    "Repeat the previous problem, but using Spearman coefficients, and call the result `spearduck`."
   ]
  },
  {
   "cell_type": "code",
   "execution_count": 29,
   "id": "4f69bd2a-2d0a-4f0e-9e25-80bd3f3ffdf5",
   "metadata": {
    "deletable": false,
    "nbgrader": {
     "cell_type": "code",
     "checksum": "c1ade4cc5aa9b616ef4597fdefa04f9d",
     "grade": false,
     "grade_id": "spearduck-answer",
     "locked": false,
     "schema_version": 3,
     "solution": true,
     "task": false
    },
    "tags": []
   },
   "outputs": [
    {
     "name": "stdout",
     "output_type": "stream",
     "text": [
      "                     American Black Duck   Mallard  Ruddy Duck  \\\n",
      "American Black Duck             1.000000  0.722257    0.182245   \n",
      "Mallard                         0.722257  1.000000    0.063449   \n",
      "Ruddy Duck                      0.182245  0.063449    1.000000   \n",
      "Ring-necked Duck                0.238072  0.162817    0.141576   \n",
      "\n",
      "                     Ring-necked Duck  \n",
      "American Black Duck          0.238072  \n",
      "Mallard                      0.162817  \n",
      "Ruddy Duck                   0.141576  \n",
      "Ring-necked Duck             1.000000  \n"
     ]
    },
    {
     "data": {
      "text/html": [
       "<div>\n",
       "<style scoped>\n",
       "    .dataframe tbody tr th:only-of-type {\n",
       "        vertical-align: middle;\n",
       "    }\n",
       "\n",
       "    .dataframe tbody tr th {\n",
       "        vertical-align: top;\n",
       "    }\n",
       "\n",
       "    .dataframe thead th {\n",
       "        text-align: right;\n",
       "    }\n",
       "</style>\n",
       "<table border=\"1\" class=\"dataframe\">\n",
       "  <thead>\n",
       "    <tr style=\"text-align: right;\">\n",
       "      <th></th>\n",
       "      <th>American Black Duck</th>\n",
       "      <th>Mallard</th>\n",
       "      <th>Ruddy Duck</th>\n",
       "      <th>Ring-necked Duck</th>\n",
       "    </tr>\n",
       "  </thead>\n",
       "  <tbody>\n",
       "    <tr>\n",
       "      <th>American Black Duck</th>\n",
       "      <td>1.000000</td>\n",
       "      <td>0.722257</td>\n",
       "      <td>0.182245</td>\n",
       "      <td>0.238072</td>\n",
       "    </tr>\n",
       "    <tr>\n",
       "      <th>Mallard</th>\n",
       "      <td>0.722257</td>\n",
       "      <td>1.000000</td>\n",
       "      <td>0.063449</td>\n",
       "      <td>0.162817</td>\n",
       "    </tr>\n",
       "    <tr>\n",
       "      <th>Ruddy Duck</th>\n",
       "      <td>0.182245</td>\n",
       "      <td>0.063449</td>\n",
       "      <td>1.000000</td>\n",
       "      <td>0.141576</td>\n",
       "    </tr>\n",
       "    <tr>\n",
       "      <th>Ring-necked Duck</th>\n",
       "      <td>0.238072</td>\n",
       "      <td>0.162817</td>\n",
       "      <td>0.141576</td>\n",
       "      <td>1.000000</td>\n",
       "    </tr>\n",
       "  </tbody>\n",
       "</table>\n",
       "</div>"
      ],
      "text/plain": [
       "                     American Black Duck   Mallard  Ruddy Duck  \\\n",
       "American Black Duck             1.000000  0.722257    0.182245   \n",
       "Mallard                         0.722257  1.000000    0.063449   \n",
       "Ruddy Duck                      0.182245  0.063449    1.000000   \n",
       "Ring-necked Duck                0.238072  0.162817    0.141576   \n",
       "\n",
       "                     Ring-necked Duck  \n",
       "American Black Duck          0.238072  \n",
       "Mallard                      0.162817  \n",
       "Ruddy Duck                   0.141576  \n",
       "Ring-necked Duck             1.000000  "
      ]
     },
     "execution_count": 29,
     "metadata": {},
     "output_type": "execute_result"
    }
   ],
   "source": [
    "spearduck = None\n",
    "birds = pd.read_csv(\"Aerial_Waterfowl_Survey_Data.csv\")\n",
    "\n",
    "ducks = birds[[\"American Black Duck\", \"Mallard\", \"Ruddy Duck\", \"Ring-necked Duck\"]]\n",
    "\n",
    "spearduck = ducks.corr(method='spearman')\n",
    "\n",
    "print(spearduck)\n",
    "\n",
    "spearduck"
   ]
  },
  {
   "cell_type": "code",
   "execution_count": 30,
   "id": "8ffcaa75-e073-4a2b-959d-9ee84cbc04e0",
   "metadata": {
    "deletable": false,
    "editable": false,
    "nbgrader": {
     "cell_type": "code",
     "checksum": "5ef32883c3c43fedb728c1a2a482b0da",
     "grade": true,
     "grade_id": "spearduck-tests",
     "locked": true,
     "points": 1,
     "schema_version": 3,
     "solution": false,
     "task": false
    },
    "tags": []
   },
   "outputs": [
    {
     "name": "stdout",
     "output_type": "stream",
     "text": [
      "OK\n"
     ]
    }
   ],
   "source": [
    "# TESTS\n",
    "assert type(spearduck) == pd.DataFrame, \"spearduck should be a DataFrame\"\n",
    "assert np.isclose(spearduck.loc['Mallard', 'Ruddy Duck'], 0.0634493133516), \"A correlation value is incorrect\"\n",
    "print(\"OK\")"
   ]
  },
  {
   "cell_type": "code",
   "execution_count": null,
   "id": "a6e24f61-cccd-4c0b-bfa7-6f4dbdfed678",
   "metadata": {
    "deletable": false,
    "editable": false,
    "nbgrader": {
     "cell_type": "code",
     "checksum": "3079dbe6abfeb5bfd8876b81e86b7ed8",
     "grade": true,
     "grade_id": "spearduck-grade",
     "locked": true,
     "points": 2,
     "schema_version": 3,
     "solution": false,
     "task": false
    },
    "tags": []
   },
   "outputs": [],
   "source": [
    "# Intentionally blank--do not delete"
   ]
  }
 ],
 "metadata": {
  "kernelspec": {
   "display_name": "Python 3",
   "language": "python",
   "name": "python3"
  },
  "language_info": {
   "codemirror_mode": {
    "name": "ipython",
    "version": 3
   },
   "file_extension": ".py",
   "mimetype": "text/x-python",
   "name": "python",
   "nbconvert_exporter": "python",
   "pygments_lexer": "ipython3",
   "version": "3.12.1"
  },
  "toc-autonumbering": false,
  "toc-showcode": false,
  "toc-showmarkdowntxt": true
 },
 "nbformat": 4,
 "nbformat_minor": 5
}
